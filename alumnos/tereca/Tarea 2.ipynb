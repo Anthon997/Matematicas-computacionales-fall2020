{
 "cells": [
  {
   "cell_type": "markdown",
   "metadata": {},
   "source": [
    "# Tareas"
   ]
  },
  {
   "cell_type": "markdown",
   "metadata": {},
   "source": [
    "187550 Ana Teresa Calderón Juárez"
   ]
  },
  {
   "cell_type": "markdown",
   "metadata": {},
   "source": [
    "## Problema 1"
   ]
  },
  {
   "cell_type": "markdown",
   "metadata": {},
   "source": [
    "**(a)** Usando **SimPy** demostrar que \n",
    "\n",
    "$$\n",
    "\\frac{\\partial}{\\partial \\beta_j} \\textbf{J}(\\beta) = \\frac{1}{m}\\sum_{i=1}^{m}\\left(\\hat{y}(x^{(i)}) - y(x^{(i)})\\right) \\cdot x^{(i)}_j\n",
    "$$\n",
    "Para el caso de $\\beta_0, \\beta_1$ en $J(\\beta_0,\\beta_1)$."
   ]
  },
  {
   "cell_type": "code",
   "execution_count": 27,
   "metadata": {},
   "outputs": [
    {
     "ename": "TypeError",
     "evalue": "tuple indices must be integers or slices, not Symbol",
     "output_type": "error",
     "traceback": [
      "\u001b[0;31m---------------------------------------------------------------------------\u001b[0m",
      "\u001b[0;31mTypeError\u001b[0m                                 Traceback (most recent call last)",
      "\u001b[0;32m<ipython-input-27-bf48306d78fb>\u001b[0m in \u001b[0;36m<module>\u001b[0;34m\u001b[0m\n\u001b[1;32m      6\u001b[0m \u001b[0my\u001b[0m\u001b[0;34m=\u001b[0m\u001b[0msym\u001b[0m\u001b[0;34m.\u001b[0m\u001b[0msymbols\u001b[0m\u001b[0;34m(\u001b[0m\u001b[0;34m'y:n'\u001b[0m\u001b[0;34m,\u001b[0m\u001b[0mseq\u001b[0m\u001b[0;34m=\u001b[0m\u001b[0;32mTrue\u001b[0m\u001b[0;34m)\u001b[0m\u001b[0;34m\u001b[0m\u001b[0;34m\u001b[0m\u001b[0m\n\u001b[1;32m      7\u001b[0m \u001b[0mb\u001b[0m\u001b[0;34m=\u001b[0m\u001b[0msym\u001b[0m\u001b[0;34m.\u001b[0m\u001b[0msymbols\u001b[0m\u001b[0;34m(\u001b[0m\u001b[0;34m'b:2'\u001b[0m\u001b[0;34m)\u001b[0m\u001b[0;34m\u001b[0m\u001b[0;34m\u001b[0m\u001b[0m\n\u001b[0;32m----> 8\u001b[0;31m \u001b[0mfuncion\u001b[0m\u001b[0;34m=\u001b[0m\u001b[0;34m(\u001b[0m\u001b[0;36m1\u001b[0m\u001b[0;34m/\u001b[0m\u001b[0;36m2\u001b[0m\u001b[0;34m*\u001b[0m\u001b[0mn\u001b[0m\u001b[0;34m)\u001b[0m\u001b[0;34m+\u001b[0m\u001b[0msym\u001b[0m\u001b[0;34m.\u001b[0m\u001b[0msummation\u001b[0m\u001b[0;34m(\u001b[0m\u001b[0;34m(\u001b[0m\u001b[0my\u001b[0m\u001b[0;34m[\u001b[0m\u001b[0mi\u001b[0m\u001b[0;34m]\u001b[0m\u001b[0;34m-\u001b[0m\u001b[0mb\u001b[0m\u001b[0;34m[\u001b[0m\u001b[0;36m0\u001b[0m\u001b[0;34m]\u001b[0m\u001b[0;34m-\u001b[0m\u001b[0mb\u001b[0m\u001b[0;34m[\u001b[0m\u001b[0;36m1\u001b[0m\u001b[0;34m]\u001b[0m\u001b[0;34m*\u001b[0m\u001b[0mx\u001b[0m\u001b[0;34m[\u001b[0m\u001b[0mi\u001b[0m\u001b[0;34m]\u001b[0m\u001b[0;34m)\u001b[0m\u001b[0;34m**\u001b[0m\u001b[0;36m2\u001b[0m\u001b[0;34m,\u001b[0m\u001b[0;34m(\u001b[0m\u001b[0mi\u001b[0m\u001b[0;34m,\u001b[0m\u001b[0;36m0\u001b[0m\u001b[0;34m,\u001b[0m\u001b[0mn\u001b[0m\u001b[0;34m)\u001b[0m\u001b[0;34m)\u001b[0m\u001b[0;34m\u001b[0m\u001b[0;34m\u001b[0m\u001b[0m\n\u001b[0m",
      "\u001b[0;31mTypeError\u001b[0m: tuple indices must be integers or slices, not Symbol"
     ]
    }
   ],
   "source": [
    "import sympy as sym\n",
    "n=sym.symbols('n',integer=True)\n",
    "m=sym.symbols('m',integer=True)\n",
    "i=sym.symbols('i',integer=True)\n",
    "x=sym.symbols('x:n',seq=True)\n",
    "y=sym.symbols('y:n',seq=True)\n",
    "b=sym.symbols('b:2')\n",
    "funcion=(1/2*n)+sym.summation((y[i]-b[0]-b[1]*x[i])**2,(i,0,n))\n"
   ]
  },
  {
   "cell_type": "markdown",
   "metadata": {},
   "source": [
    "## Problema 2"
   ]
  },
  {
   "cell_type": "markdown",
   "metadata": {},
   "source": [
    "Usando el ejemplo de la clase ( i.e. Los archivos `edad.dat` y `altura.dat` contienen las mediciones de las estaturas (en metros) de varios niños entre las edad de 2 y 8 años. Cada _tupla_ de altura y edad, constituyen un ejemplo de entrenamiento $(x^{(i)}, y^{(i)})$ de nuestros datos. Hay $m = 50$ datos para entrenar que usaremos para realizar un modelo de regresión lineal. ) :"
   ]
  },
  {
   "cell_type": "markdown",
   "metadata": {},
   "source": [
    "**(a)** Grafique $\\textbf{J}(\\beta)$ del ejercicio en $3D$ y en una gráfica de contorno. \n",
    "\n",
    "**(b)** Indique con un punto el valor de $\\textbf{J}(\\beta)$ en la última iteración.\n",
    "\n",
    "**(c)** Modifique el _widget_ para mostrar conforme pasan las iteraciones como el valor de $\\textbf{J}(\\beta)$ se acerca al mínimo en la gráfica de contorno.\n",
    "\n",
    "**(d)** Agrega al _widget_ un control para modificar $\\alpha$ (habrá que agregar el entrenamiento del modelo a la función que estás realizando para este _widget_)"
   ]
  },
  {
   "cell_type": "code",
   "execution_count": 41,
   "metadata": {},
   "outputs": [],
   "source": [
    "class RegresionLineal:\n",
    "    def __init__(self, alpha=0.3, max_iters=50, tols=0.001):\n",
    "        \"\"\"\n",
    "        Parámetros.\n",
    "        ---------------\n",
    "        alpha = Learning rate\n",
    "        max_iters = Número máximo de iteraciones\n",
    "        tols = definición de convergencia\n",
    "        \"\"\"\n",
    "        self.alpha = alpha\n",
    "        self.max_iters = max_iters\n",
    "        self.tols = tols\n",
    "        self.breaking_iteration = None\n",
    "        self.historia = {'costo':[], 'beta':[]}  # Con fines de graficación\n",
    "        \n",
    "       \n",
    "        \n",
    "    def gradientDescent(self, x, y):\n",
    "        \"\"\"\n",
    "        Parámetros:\n",
    "        ---------------\n",
    "        x = vector de entrenamiento de features\n",
    "        y = vector de entrenamiento de variable a predecir (target)\n",
    "        \"\"\"    \n",
    "        \n",
    "        # ajustamos el vector de features\n",
    "        unos = np.ones((x.shape[0], 1))\n",
    "        Xt = X.reshape(x.shape[0], 1)\n",
    "        Xt = np.concatenate((unos, Xt), axis=1)\n",
    "        \n",
    "        i = 0\n",
    "        prep_J = 0\n",
    "        m, n = Xt.shape\n",
    "        self.beta = np.zeros(n) \n",
    "        self.betas=[]\n",
    "        \n",
    "        while i < self.max_iters:     \n",
    "            # Actualizamos beta\n",
    "            self.beta = self.beta - self.alpha * self.gradiente(Xt, y)\n",
    "            self.betas.append(self.beta)\n",
    "            J = self.costo(Xt, y)\n",
    "            \n",
    "            if abs(J - prep_J) <= self.tols:\n",
    "                \n",
    "                print('La función convergió con beta: %s en la iteración %i' % ( str(self.beta), i ))\n",
    "                self.breaking_iteration = i\n",
    "                break\n",
    "            else:\n",
    "                prep_J = J\n",
    "            \n",
    "            self.historia['costo'].append(J)\n",
    "            self.historia['beta'].append(self.beta)                \n",
    "            i += 1\n",
    "    \n",
    "    def hipotesis(self, x):\n",
    "        return np.dot(x, self.beta)\n",
    "    \n",
    "    def costo(self, x, y):\n",
    "        m = x.shape[0]\n",
    "        error = self.hipotesis(x) - y\n",
    "        return np.dot(error.T, error) / (2 * m) \n",
    "    \n",
    "    def gradiente(self, x, y):\n",
    "        m = x.shape[0]\n",
    "        error = self.hipotesis(x) - y        \n",
    "        return np.dot(x.T, error) / m "
   ]
  },
  {
   "cell_type": "code",
   "execution_count": 129,
   "metadata": {},
   "outputs": [
    {
     "data": {
      "image/png": "[encoded data removed]",
      "text/plain": [
       "<Figure size 432x288 with 1 Axes>"
      ]
     },
     "metadata": {
      "needs_background": "light"
     },
     "output_type": "display_data"
    }
   ],
   "source": [
    "import matplotlib.pyplot as plt\n",
    "import numpy as np\n",
    "from mpl_toolkits.mplot3d import Axes3D\n",
    "from ipywidgets import interact, fixed, widgets\n",
    "from mpl_toolkits.mplot3d.axes3d import Axes3D\n",
    "from matplotlib import cm\n",
    "\n",
    "X = np.loadtxt('edad.dat')\n",
    "Y = np.loadtxt('altura.dat')\n",
    "\n",
    "r = RegresionLineal(alpha=0.03, max_iters=50, tols=0.0000001)\n",
    "r.gradientDescent(X,Y)\n",
    "r.beta\n",
    "#GRaficar\n",
    "fig = plt.figure()\n",
    "ax = fig.add_subplot(1, 1, 1, projection='3d')\n",
    "X_1=[r.betas[0] for i in r.betas]\n",
    "Y_1=[r.betas[1] for i in r.betas]\n",
    "#modifiqué su funcion para saber en que rangos andaban las betas\n",
    "r.betas\n",
    "#en base a eso cree los nuevos rangos PARA LAS B\n",
    "#B0\n",
    "X_1 = np.arange(0.0,0.050, 0.001)\n",
    "#B1\n",
    "Y_1 = np.arange(0.1, 0.30, 0.001)\n",
    "X_1, Y_1=np.meshgrid(X_1,Y_1)\n",
    "#Ciclo para definir a Z\n",
    "for i in range(50):\n",
    "    if i==0:\n",
    "        Z=((Y[i]-X_1-Y_1*X[i]))**2/100\n",
    "        continue\n",
    "    Z+=((Y[i]-X_1-Y_1*X[i])**2)/100\n",
    "\n",
    "    \n",
    "surf = ax.plot_surface(X_1, Y_1, Z, rstride=1, cstride=1, cmap=cm.jet,\n",
    "        linewidth=0, antialiased=False)\n",
    "\n"
   ]
  },
  {
   "cell_type": "code",
   "execution_count": 134,
   "metadata": {},
   "outputs": [
    {
     "data": {
      "image/png": "[encoded data removed]",
      "text/plain": [
       "<Figure size 432x288 with 1 Axes>"
      ]
     },
     "metadata": {
      "needs_background": "light"
     },
     "output_type": "display_data"
    }
   ],
   "source": [
    "# Representa gráficos 3D pero en contornos...\n",
    "\n",
    "plt.contour(X_1,Y_1,Z ,linewidths=2,cmap=cm.coolwarm);\n"
   ]
  },
  {
   "cell_type": "code",
   "execution_count": null,
   "metadata": {},
   "outputs": [],
   "source": []
  },
  {
   "cell_type": "code",
   "execution_count": 29,
   "metadata": {},
   "outputs": [
    {
     "data": {
      "application/vnd.jupyter.widget-view+json": {
       "model_id": "9a6f46d2188e4cf288d7d79b7652947a",
       "version_major": 2,
       "version_minor": 0
      },
      "text/plain": [
       "interactive(children=(FloatSlider(value=1.0, description='interceptor', max=2.0, step=0.02), FloatSlider(value…"
      ]
     },
     "metadata": {},
     "output_type": "display_data"
    }
   ],
   "source": []
  },
  {
   "cell_type": "code",
   "execution_count": 30,
   "metadata": {},
   "outputs": [
    {
     "name": "stdout",
     "output_type": "stream",
     "text": [
      "La función convergió con beta: [0.73300235 0.06700325] en la iteración 1190\n"
     ]
    }
   ],
   "source": []
  },
  {
   "cell_type": "markdown",
   "metadata": {},
   "source": [
    "## Problema 3"
   ]
  },
  {
   "cell_type": "markdown",
   "metadata": {},
   "source": [
    "**(a)**  Usando los datos de `chirps.txt`"
   ]
  },
  {
   "cell_type": "code",
   "execution_count": 13,
   "metadata": {},
   "outputs": [
    {
     "name": "stdout",
     "output_type": "stream",
     "text": [
      "#Chirps/Second \tTemperature (º F)\r\n",
      "20.0 \t88.6\r\n",
      "16.0 \t71.6\r\n",
      "19.8 \t93.3\r\n",
      "18.4 \t84.3\r\n",
      "17.1 \t80.6\r\n",
      "15.5 \t75.2\r\n",
      "14.7 \t69.7\r\n",
      "15.7 \t71.6\r\n",
      "15.4 \t69.4\r\n",
      "16.3 \t83.3\r\n",
      "15.0 \t79.6\r\n",
      "17.2 \t82.6\r\n",
      "16.0 \t80.6\r\n",
      "17.0 \t83.5\r\n",
      "14.4 \t76.3\r\n"
     ]
    }
   ],
   "source": [
    "%cat chirps.txt"
   ]
  },
  {
   "cell_type": "markdown",
   "metadata": {},
   "source": [
    "Entrenar una regresión lineal. Grafique los datos y el mejor modelo. Explique como llegó a los valores de $\\alpha$. ¿Coinciden con los mostrados en la página web?"
   ]
  },
  {
   "cell_type": "code",
   "execution_count": 15,
   "metadata": {},
   "outputs": [
    {
     "name": "stdout",
     "output_type": "stream",
     "text": [
      "Populating the interactive namespace from numpy and matplotlib\n"
     ]
    },
    {
     "data": {
      "text/plain": [
       "matrix([[22.84898231],\n",
       "        [ 3.410323  ]])"
      ]
     },
     "execution_count": 15,
     "metadata": {},
     "output_type": "execute_result"
    }
   ],
   "source": [
    "%pylab inline\n",
    "import matplotlib.pyplot as plt\n",
    "import numpy as np\n",
    "#Leer el archivo\n",
    "arch=open('chirps.txt','r')\n",
    "tex=arch.read()\n",
    "arch.close()\n",
    "x=[]\n",
    "y=[]\n",
    "X=[]\n",
    "Y=[]\n",
    "#Separar en lista\n",
    "tex = tex.splitlines()\n",
    "#Guardar los datos en listas\n",
    "for i in range(len(tex)):\n",
    "    tmp = tex[i].split(\"\\t\")\n",
    "    if i==0:\n",
    "        continue\n",
    "    y.append(float(tmp[1]))\n",
    "    Y.append(float(tmp[1]))\n",
    "    #Agregar un uno, para que se calcule b0 termino independiente\n",
    "    x.append([1,float(tmp[0])])\n",
    "    X.append(float(tmp[0]))\n",
    "#Convertir en matriz para trabajar con el \n",
    "x=matrix(x)\n",
    "#Se transpone la Y por que esta debe de estar en columna \n",
    "y=matrix(y).T\n",
    "#EL mejor modelo por metodo de mínimos cuadrados ordinarios\n",
    "b=((x.T*x).I)*(x.T*y)\n",
    "b"
   ]
  },
  {
   "cell_type": "code",
   "execution_count": 176,
   "metadata": {},
   "outputs": [
    {
     "data": {
      "image/png": "[encoded data removed]",
      "text/plain": [
       "<Figure size 432x288 with 1 Axes>"
      ]
     },
     "metadata": {
      "needs_background": "light"
     },
     "output_type": "display_data"
    }
   ],
   "source": [
    "#Generación de colores\n",
    "theta = 2 * np.pi * np.random.rand(15)\n",
    "\n",
    "colors = theta\n",
    "#Graficar puntos\n",
    "plt.scatter(X,Y, label=\"data\",c=colors,alpha=0.5, linewidth=.5, linestyle=\"-\",cmap='hsv')\n",
    "#Titulo\n",
    "plt.xlabel('Second')\n",
    "plt.ylabel('Chirps')\n",
    "#Graficar recta\n",
    "plt.plot([14,21],[float(b[0])+14*float(b[1]),float(b[0])+21*float(b[1])],color=\"orange\", linewidth=1.5, linestyle=\":\")\n",
    "plt.grid(True)"
   ]
  },
  {
   "cell_type": "markdown",
   "metadata": {},
   "source": [
    "\n",
    "**NOTA**: Datos obtenidos de [aquí](http://mathbits.com/MathBits/TISection/Statistics2/linearREAL.htm)\n"
   ]
  },
  {
   "cell_type": "markdown",
   "metadata": {},
   "source": [
    "## Problema 4"
   ]
  },
  {
   "cell_type": "markdown",
   "metadata": {},
   "source": [
    "**(a)** Usando los datos del [cuarteto de Anscombe](http://en.wikipedia.org/wiki/Anscombe%27s_quartet) Calcule la regresión lineal ¿Qué sucede?"
   ]
  },
  {
   "cell_type": "code",
   "execution_count": 156,
   "metadata": {},
   "outputs": [
    {
     "name": "stdout",
     "output_type": "stream",
     "text": [
      "[[3.00009091]\n",
      " [0.50009091]] \n",
      "\n",
      " [[3.00090909]\n",
      " [0.5       ]] \n",
      "\n",
      " [[3.00245455]\n",
      " [0.49972727]] \n",
      "\n",
      " [[3.00172727]\n",
      " [0.49990909]]\n",
      "Son iguales, (considerando el error de precisión)\n"
     ]
    }
   ],
   "source": [
    "x1=[10,8,13,9,11,14,6,4,12,7,5]\n",
    "y1=[8.04,6.95,7.58,8.81,8.33,9.96,7.24,4.26,10.84,4.82,5.68]\n",
    "x1=matrix([[1,i] for i in x1])\n",
    "#Se transpone la Y por que esta debe de estar en columna \n",
    "y1=matrix(y1).T\n",
    "#EL mejor modelo por metodo de mínimos cuadrados ordinarios\n",
    "b1=((x1.T*x1).I)*(x1.T*y1)\n",
    "\n",
    "x2=[10,8,13,9,11,14,6,4,12,7,5]\n",
    "y2=[9.14,8.14,8.74,8.77,9.26,8.10,6.13,3.1,9.13,7.26,4.74]\n",
    "x2=matrix([[1,i] for i in x2])\n",
    "#Se transpone la Y por que esta debe de estar en columna \n",
    "y2=matrix(y2).T\n",
    "#EL mejor modelo por metodo de mínimos cuadrados ordinarios\n",
    "b2=((x2.T*x2).I)*(x2.T*y2)\n",
    "\n",
    "x3=[10,8,13,9,11,14,6,4,12,7,5]\n",
    "y3=[7.46,6.77,12.74,7.11,7.81,8.84,6.08,5.39,8.15,6.42,5.73]\n",
    "x3=matrix([[1,i] for i in x3])\n",
    "#Se transpone la Y por que esta debe de estar en columna \n",
    "y3=matrix(y3).T\n",
    "#EL mejor modelo por metodo de mínimos cuadrados ordinarios\n",
    "b3=((x3.T*x3).I)*(x3.T*y3)\n",
    "\n",
    "x4=[8,8,8,8,8,8,8,19,8,8,8]\n",
    "y4=[6.58,5.76,7.71,8.84,8.47,7.04,5.25,12.5,5.56,7.91,6.89]\n",
    "x4=matrix([[1,i] for i in x4])\n",
    "#Se transpone la Y por que esta debe de estar en columna \n",
    "y4=matrix(y4).T\n",
    "#EL mejor modelo por metodo de mínimos cuadrados ordinarios\n",
    "b4=((x4.T*x4).I)*(x4.T*y4)\n",
    "\n",
    "print(b1,'\\n\\n',b2,'\\n\\n',b3,'\\n\\n',b4)\n",
    "print('Son iguales, (considerando el error de precisión)')"
   ]
  },
  {
   "cell_type": "markdown",
   "metadata": {},
   "source": [
    "## Problema 5"
   ]
  },
  {
   "cell_type": "markdown",
   "metadata": {},
   "source": [
    "Use el archivo `radioactive_decay.dat`"
   ]
  },
  {
   "cell_type": "code",
   "execution_count": 9,
   "metadata": {},
   "outputs": [
    {
     "name": "stdout",
     "output_type": "stream",
     "text": [
      "#time   N_(remaining)\r\n",
      "0.0\t10.48\r\n",
      "1.0\t7.54\r\n",
      "2.0\t5.49\r\n",
      "3.0\t4.02\r\n",
      "4.0\t2.74\r\n",
      "5.0\t2.02\r\n",
      "6.0\t1.50\r\n",
      "7.0\t1.09\r\n",
      "8.0\t0.68\r\n",
      "9.0\t0.57\r\n",
      "10.0\t0.37\r\n",
      "11.0\t0.31\r\n",
      "12.0\t0.19\r\n",
      "13.0\t0.15\r\n",
      "14.0\t0.13\r\n",
      "15.0\t0.11\r\n"
     ]
    }
   ],
   "source": [
    "%cat radioactive_decay.txt"
   ]
  },
  {
   "cell_type": "markdown",
   "metadata": {},
   "source": [
    "**(a)** Grafique los datos ¿Qué forma tienen?"
   ]
  },
  {
   "cell_type": "code",
   "execution_count": 16,
   "metadata": {},
   "outputs": [
    {
     "data": {
      "image/png": "[encoded data removed]",
      "text/plain": [
       "<Figure size 432x288 with 1 Axes>"
      ]
     },
     "metadata": {
      "needs_background": "light"
     },
     "output_type": "display_data"
    }
   ],
   "source": [
    "\n",
    "arch=open('radioactive_decay.txt','r')\n",
    "tex=arch.read()\n",
    "arch.close()\n",
    "\n",
    "X=[]\n",
    "Y=[]\n",
    "tex = tex.splitlines()\n",
    "for i in range(len(tex)):\n",
    "    tmp = tex[i].split(\"\\t\")\n",
    "    if i==0:\n",
    "        continue\n",
    "    Y.append(float(tmp[1]))\n",
    "    X.append(float(tmp[0]))\n",
    "#Generación de colores\n",
    "theta = 2 * np.pi * np.random.rand(16)\n",
    "\n",
    "colors = theta\n",
    "#Graficación de puntos \n",
    "plt.scatter(X,Y, label=\"data\",c=colors,alpha=0.5, linewidth=.5, linestyle=\"-\",cmap='hsv')\n",
    "#Titulo ejes\n",
    "plt.xlabel('Time')\n",
    "plt.ylabel('N_remaining')\n",
    "plt.grid(True)"
   ]
  },
  {
   "cell_type": "code",
   "execution_count": 184,
   "metadata": {},
   "outputs": [
    {
     "data": {
      "image/png": "[encoded data removed]",
      "text/plain": [
       "<Figure size 432x288 with 1 Axes>"
      ]
     },
     "metadata": {
      "needs_background": "light"
     },
     "output_type": "display_data"
    }
   ],
   "source": [
    "plt.plot([i for i in range(0,16)],[10.48/i for i in Y],color=\"pink\", linewidth=4, linestyle=\":\")\n",
    "plt.grid(True)\n",
    "#Primera transformacion 10.48/i para que se vea tipo exponencial\n"
   ]
  },
  {
   "cell_type": "markdown",
   "metadata": {},
   "source": [
    "**(b)** ¿Qué transformación se le ocurre para linearizarlos? Explique y grafique de nuevo. Guarde los datos transformados en un archivo llamado `transform_radioactive_decay.txt`"
   ]
  },
  {
   "cell_type": "code",
   "execution_count": 17,
   "metadata": {},
   "outputs": [
    {
     "data": {
      "image/png": "[encoded data removed]",
      "text/plain": [
       "<Figure size 432x288 with 1 Axes>"
      ]
     },
     "metadata": {
      "needs_background": "light"
     },
     "output_type": "display_data"
    }
   ],
   "source": [
    "#Ya que se veia de tipo exponencial le apliqué log10 y queda casi recta\n",
    "Y=[np.log10(10.48/i) for i in Y]\n",
    "#Generación de colores\n",
    "theta = 2 * np.pi * np.random.rand(16)\n",
    "\n",
    "colors = theta\n",
    "#Graficar puntos\n",
    "plt.scatter(X,Y, label=\"data\",c=colors,alpha=0.6, linewidth=.5, linestyle=\"-\",cmap='hsv')\n",
    "plt.xlabel('Second')\n",
    "plt.ylabel('Chirps')\n",
    "plt.grid(True)"
   ]
  },
  {
   "cell_type": "code",
   "execution_count": 145,
   "metadata": {},
   "outputs": [
    {
     "name": "stdout",
     "output_type": "stream",
     "text": [
      "Time \t log10(10.48/N_remaining) \r\n",
      "0.0\t0.0\r\n",
      "1.0\t0.1429899367779338\r\n",
      "2.0\t0.28078893819761597\r\n",
      "3.0\t0.4161352295632379\r\n",
      "4.0\t0.5826107198273198\r\n",
      "5.0\t0.7150099132010841\r\n",
      "6.0\t0.8442700235920266\r\n",
      "7.0\t0.9829347847070842\r\n",
      "8.0\t1.1878523699414716\r\n",
      "9.0\t1.2644864269752165\r\n",
      "10.0\t1.4521595585807128\r\n",
      "11.0\t1.5289995888134351\r\n",
      "12.0\t1.741607681694879\r\n",
      "13.0\t1.8442700235920266\r\n",
      "14.0\t1.906417930340871\r\n",
      "15.0\t1.9789685974894828\r\n"
     ]
    }
   ],
   "source": [
    "file=open('transform_radioactive_decay.txt','w')\n",
    "for i in range(len(X)+1):\n",
    "    if i==0:\n",
    "        file.write('Time \\t log10(10.48/N_remaining) \\n')\n",
    "        continue\n",
    "    file.write(str(X[i-1])+'\\t'+str(Y[i-1])+'\\n')\n",
    "file.close()\n",
    "%cat transform_radioactive_decay.txt"
   ]
  },
  {
   "cell_type": "markdown",
   "metadata": {},
   "source": [
    "**(c)** Aplique la regresión lineal a este conjunto de datos transformado, leyendo los datos del archivo recién creado."
   ]
  },
  {
   "cell_type": "code",
   "execution_count": 192,
   "metadata": {},
   "outputs": [
    {
     "data": {
      "image/png": "[encoded data removed]",
      "text/plain": [
       "<Figure size 432x288 with 1 Axes>"
      ]
     },
     "metadata": {
      "needs_background": "light"
     },
     "output_type": "display_data"
    }
   ],
   "source": [
    "arch=open('transform_radioactive_decay.txt','r')\n",
    "tex=arch.read()\n",
    "arch.close()\n",
    "x=[]\n",
    "y=[]\n",
    "X=[]\n",
    "Y=[]\n",
    "tex = tex.splitlines()\n",
    "for i in range(len(tex)):\n",
    "    tmp = tex[i].split(\"\\t\")\n",
    "    if i==0:\n",
    "        continue\n",
    "    y.append(float(tmp[1]))\n",
    "    Y.append(float(tmp[1]))\n",
    "    x.append([1,float(tmp[0])])\n",
    "    X.append(float(tmp[0]))\n",
    "x=matrix(x)\n",
    "y=matrix(y).T\n",
    "#EL mejor modelo \n",
    "b=((x.T*x).I)*(x.T*y)\n",
    "#Generación de colores\n",
    "theta = 2 * np.pi * np.random.rand(16)\n",
    "\n",
    "colors = theta\n",
    "plt.scatter(X,Y, label=\"data\",c=colors,alpha=0.4, linewidth=1, linestyle=\"-\",cmap='hsv')\n",
    "plt.xlabel('Time')\n",
    "plt.ylabel('log10(10.48/N_remaining)')\n",
    "plt.plot([0,15],[float(b[0])+0*float(b[1]),float(b[0])+15*float(b[1])],color='red',alpha=0.4)\n",
    "plt.grid(True)"
   ]
  },
  {
   "cell_type": "markdown",
   "metadata": {},
   "source": [
    "**(d)** ¿Cuáles son los valores de $\\beta$ que mejor ajustan? ¿Cuáles son el espacio sin transformar? Explique."
   ]
  },
  {
   "cell_type": "code",
   "execution_count": 155,
   "metadata": {},
   "outputs": [
    {
     "name": "stdout",
     "output_type": "stream",
     "text": [
      "0.022954071025364176 0.1375186382240714\n"
     ]
    }
   ],
   "source": [
    "print(float(b[0]),float(b[1]))"
   ]
  },
  {
   "cell_type": "code",
   "execution_count": 135,
   "metadata": {},
   "outputs": [],
   "source": [
    "#Se transformo el espacio por que se asemeja a una funcion ya conocida\n",
    "#Al transformar cada punto de la recta tambien se transfor"
   ]
  },
  {
   "cell_type": "code",
   "execution_count": null,
   "metadata": {},
   "outputs": [],
   "source": []
  }
 ],
 "metadata": {
  "kernelspec": {
   "display_name": "Python 3",
   "language": "python",
   "name": "python3"
  },
  "language_info": {
   "codemirror_mode": {
    "name": "ipython",
    "version": 3
   },
   "file_extension": ".py",
   "mimetype": "text/x-python",
   "name": "python",
   "nbconvert_exporter": "python",
   "pygments_lexer": "ipython3",
   "version": "3.8.5"
  }
 },
 "nbformat": 4,
 "nbformat_minor": 1
}
