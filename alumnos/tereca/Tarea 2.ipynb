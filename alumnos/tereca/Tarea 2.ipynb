{
 "cells": [
  {
   "cell_type": "markdown",
   "metadata": {},
   "source": [
    "# Tareas"
   ]
  },
  {
   "cell_type": "markdown",
   "metadata": {},
   "source": [
    "187550 Ana Teresa Calderón Juárez"
   ]
  },
  {
   "cell_type": "markdown",
   "metadata": {},
   "source": [
    "## Problema 1"
   ]
  },
  {
   "cell_type": "markdown",
   "metadata": {},
   "source": [
    "**(a)** Usando **SimPy** demostrar que \n",
    "\n",
    "$$\n",
    "\\frac{\\partial}{\\partial \\beta_j} \\textbf{J}(\\beta) = \\frac{1}{m}\\sum_{i=1}^{m}\\left(\\hat{y}(x^{(i)}) - y(x^{(i)})\\right) \\cdot x^{(i)}_j\n",
    "$$\n",
    "Para el caso de $\\beta_0, \\beta_1$ en $J(\\beta_0,\\beta_1)$."
   ]
  },
  {
   "cell_type": "code",
   "execution_count": 239,
   "metadata": {},
   "outputs": [
    {
     "data": {
      "text/plain": [
       "(x0a, x0b, x0c, x0d, x0e, x0f, x0g, x0h, x0i, x0j, x0k, x0l, x0m, x0n)"
      ]
     },
     "execution_count": 239,
     "metadata": {},
     "output_type": "execute_result"
    }
   ],
   "source": [
    "import sympy as sym\n",
    "n=sym.symbols('n',integer=True)\n",
    "m=sym.symbols('m')\n",
    "x=sym.symbols('x0:n')\n",
    "x"
   ]
  },
  {
   "cell_type": "markdown",
   "metadata": {},
   "source": [
    "## Problema 2"
   ]
  },
  {
   "cell_type": "markdown",
   "metadata": {},
   "source": [
    "Usando el ejemplo de la clase ( i.e. Los archivos `edad.dat` y `altura.dat` contienen las mediciones de las estaturas (en metros) de varios niños entre las edad de 2 y 8 años. Cada _tupla_ de altura y edad, constituyen un ejemplo de entrenamiento $(x^{(i)}, y^{(i)})$ de nuestros datos. Hay $m = 50$ datos para entrenar que usaremos para realizar un modelo de regresión lineal. ) :"
   ]
  },
  {
   "cell_type": "markdown",
   "metadata": {},
   "source": [
    "**(a)** Grafique $\\textbf{J}(\\beta)$ del ejercicio en $3D$ y en una gráfica de contorno. \n",
    "\n",
    "**(b)** Indique con un punto el valor de $\\textbf{J}(\\beta)$ en la última iteración.\n",
    "\n",
    "**(c)** Modifique el _widget_ para mostrar conforme pasan las iteraciones como el valor de $\\textbf{J}(\\beta)$ se acerca al mínimo en la gráfica de contorno.\n",
    "\n",
    "**(d)** Agrega al _widget_ un control para modificar $\\alpha$ (habrá que agregar el entrenamiento del modelo a la función que estás realizando para este _widget_)"
   ]
  },
  {
   "cell_type": "code",
   "execution_count": 160,
   "metadata": {},
   "outputs": [],
   "source": [
    "arch=open('data/edad.dat','r')\n",
    "tex=arch.read()\n",
    "arch.close()\n",
    "\n",
    "arch1=open('data/altura.dat','r')\n",
    "tex1=arch1.read()\n",
    "arch1.close()"
   ]
  },
  {
   "cell_type": "markdown",
   "metadata": {},
   "source": [
    "## Problema 3"
   ]
  },
  {
   "cell_type": "markdown",
   "metadata": {},
   "source": [
    "**(a)**  Usando los datos de `chirps.txt`"
   ]
  },
  {
   "cell_type": "code",
   "execution_count": 17,
   "metadata": {},
   "outputs": [
    {
     "name": "stdout",
     "output_type": "stream",
     "text": [
      "#Chirps/Second \tTemperature (º F)\r\n",
      "20.0 \t88.6\r\n",
      "16.0 \t71.6\r\n",
      "19.8 \t93.3\r\n",
      "18.4 \t84.3\r\n",
      "17.1 \t80.6\r\n",
      "15.5 \t75.2\r\n",
      "14.7 \t69.7\r\n",
      "15.7 \t71.6\r\n",
      "15.4 \t69.4\r\n",
      "16.3 \t83.3\r\n",
      "15.0 \t79.6\r\n",
      "17.2 \t82.6\r\n",
      "16.0 \t80.6\r\n",
      "17.0 \t83.5\r\n",
      "14.4 \t76.3\r\n"
     ]
    }
   ],
   "source": [
    "%cat data/chirps.txt"
   ]
  },
  {
   "cell_type": "markdown",
   "metadata": {},
   "source": [
    "Entrenar una regresión lineal. Grafique los datos y el mejor modelo. Explique como llegó a los valores de $\\alpha$. ¿Coinciden con los mostrados en la página web?"
   ]
  },
  {
   "cell_type": "code",
   "execution_count": 175,
   "metadata": {},
   "outputs": [
    {
     "name": "stdout",
     "output_type": "stream",
     "text": [
      "Populating the interactive namespace from numpy and matplotlib\n"
     ]
    },
    {
     "data": {
      "text/plain": [
       "matrix([[22.84898231],\n",
       "        [ 3.410323  ]])"
      ]
     },
     "execution_count": 175,
     "metadata": {},
     "output_type": "execute_result"
    }
   ],
   "source": [
    "%pylab inline\n",
    "import matplotlib.pyplot as plt\n",
    "import numpy as np\n",
    "arch=open('data/chirps.txt','r')\n",
    "tex=arch.read()\n",
    "arch.close()\n",
    "x=[]\n",
    "y=[]\n",
    "X=[]\n",
    "Y=[]\n",
    "tex = tex.splitlines()\n",
    "for i in range(len(tex)):\n",
    "    tmp = tex[i].split(\"\\t\")\n",
    "    if i==0:\n",
    "        continue\n",
    "    y.append(float(tmp[1]))\n",
    "    Y.append(float(tmp[1]))\n",
    "    x.append([1,float(tmp[0])])\n",
    "    X.append(float(tmp[0]))\n",
    "x=matrix(x)\n",
    "y=matrix(y).T\n",
    "#EL mejor modelo \n",
    "b=((x.T*x).I)*(x.T*y)\n",
    "b"
   ]
  },
  {
   "cell_type": "code",
   "execution_count": 176,
   "metadata": {},
   "outputs": [
    {
     "data": {
      "image/png": "[encoded data removed]",
      "text/plain": [
       "<Figure size 432x288 with 1 Axes>"
      ]
     },
     "metadata": {
      "needs_background": "light"
     },
     "output_type": "display_data"
    }
   ],
   "source": [
    "#Generación de colores\n",
    "theta = 2 * np.pi * np.random.rand(15)\n",
    "\n",
    "colors = theta\n",
    "plt.scatter(X,Y, label=\"data\",c=colors,alpha=0.5, linewidth=.5, linestyle=\"-\",cmap='hsv')\n",
    "plt.xlabel('Second')\n",
    "plt.ylabel('Chirps')\n",
    "plt.plot([14,21],[float(b[0])+14*float(b[1]),float(b[0])+21*float(b[1])],color=\"orange\", linewidth=1.5, linestyle=\":\")\n",
    "plt.grid(True)"
   ]
  },
  {
   "cell_type": "markdown",
   "metadata": {},
   "source": [
    "\n",
    "**NOTA**: Datos obtenidos de [aquí](http://mathbits.com/MathBits/TISection/Statistics2/linearREAL.htm)\n"
   ]
  },
  {
   "cell_type": "markdown",
   "metadata": {},
   "source": [
    "## Problema 4"
   ]
  },
  {
   "cell_type": "markdown",
   "metadata": {},
   "source": [
    "**(a)** Usando los datos del [cuarteto de Anscombe](http://en.wikipedia.org/wiki/Anscombe%27s_quartet) Calcule la regresión lineal ¿Qué sucede?"
   ]
  },
  {
   "cell_type": "code",
   "execution_count": 156,
   "metadata": {},
   "outputs": [
    {
     "name": "stdout",
     "output_type": "stream",
     "text": [
      "[[3.00009091]\n",
      " [0.50009091]] \n",
      "\n",
      " [[3.00090909]\n",
      " [0.5       ]] \n",
      "\n",
      " [[3.00245455]\n",
      " [0.49972727]] \n",
      "\n",
      " [[3.00172727]\n",
      " [0.49990909]]\n",
      "Son iguales, (considerando el error de precisión)\n"
     ]
    }
   ],
   "source": [
    "x1=[10,8,13,9,11,14,6,4,12,7,5]\n",
    "y1=[8.04,6.95,7.58,8.81,8.33,9.96,7.24,4.26,10.84,4.82,5.68]\n",
    "x1=matrix([[1,i] for i in x1])\n",
    "y1=matrix(y1).T\n",
    "b1=((x1.T*x1).I)*(x1.T*y1)\n",
    "\n",
    "x2=[10,8,13,9,11,14,6,4,12,7,5]\n",
    "y2=[9.14,8.14,8.74,8.77,9.26,8.10,6.13,3.1,9.13,7.26,4.74]\n",
    "x2=matrix([[1,i] for i in x2])\n",
    "y2=matrix(y2).T\n",
    "b2=((x2.T*x2).I)*(x2.T*y2)\n",
    "\n",
    "x3=[10,8,13,9,11,14,6,4,12,7,5]\n",
    "y3=[7.46,6.77,12.74,7.11,7.81,8.84,6.08,5.39,8.15,6.42,5.73]\n",
    "x3=matrix([[1,i] for i in x3])\n",
    "y3=matrix(y3).T\n",
    "b3=((x3.T*x3).I)*(x3.T*y3)\n",
    "\n",
    "x4=[8,8,8,8,8,8,8,19,8,8,8]\n",
    "y4=[6.58,5.76,7.71,8.84,8.47,7.04,5.25,12.5,5.56,7.91,6.89]\n",
    "x4=matrix([[1,i] for i in x4])\n",
    "y4=matrix(y4).T\n",
    "b4=((x4.T*x4).I)*(x4.T*y4)\n",
    "\n",
    "print(b1,'\\n\\n',b2,'\\n\\n',b3,'\\n\\n',b4)\n",
    "print('Son iguales, (considerando el error de precisión)')"
   ]
  },
  {
   "cell_type": "markdown",
   "metadata": {},
   "source": [
    "## Problema 5"
   ]
  },
  {
   "cell_type": "markdown",
   "metadata": {},
   "source": [
    "Use el archivo `radioactive_decay.dat`"
   ]
  },
  {
   "cell_type": "code",
   "execution_count": 108,
   "metadata": {},
   "outputs": [
    {
     "name": "stdout",
     "output_type": "stream",
     "text": [
      "#time   N_(remaining)\r\n",
      "0.0\t10.48\r\n",
      "1.0\t7.54\r\n",
      "2.0\t5.49\r\n",
      "3.0\t4.02\r\n",
      "4.0\t2.74\r\n",
      "5.0\t2.02\r\n",
      "6.0\t1.50\r\n",
      "7.0\t1.09\r\n",
      "8.0\t0.68\r\n",
      "9.0\t0.57\r\n",
      "10.0\t0.37\r\n",
      "11.0\t0.31\r\n",
      "12.0\t0.19\r\n",
      "13.0\t0.15\r\n",
      "14.0\t0.13\r\n",
      "15.0\t0.11\r\n"
     ]
    }
   ],
   "source": [
    "%cat data/radioactive_decay.txt"
   ]
  },
  {
   "cell_type": "markdown",
   "metadata": {},
   "source": [
    "**(a)** Grafique los datos ¿Qué forma tienen?"
   ]
  },
  {
   "cell_type": "code",
   "execution_count": 180,
   "metadata": {},
   "outputs": [
    {
     "data": {
      "image/png": "[encoded data removed]",
      "text/plain": [
       "<Figure size 432x288 with 1 Axes>"
      ]
     },
     "metadata": {
      "needs_background": "light"
     },
     "output_type": "display_data"
    }
   ],
   "source": [
    "\n",
    "arch=open('data/radioactive_decay.txt','r')\n",
    "tex=arch.read()\n",
    "arch.close()\n",
    "\n",
    "X=[]\n",
    "Y=[]\n",
    "tex = tex.splitlines()\n",
    "for i in range(len(tex)):\n",
    "    tmp = tex[i].split(\"\\t\")\n",
    "    if i==0:\n",
    "        continue\n",
    "    Y.append(float(tmp[1]))\n",
    "    X.append(float(tmp[0]))\n",
    "#Generación de colores\n",
    "theta = 2 * np.pi * np.random.rand(16)\n",
    "\n",
    "colors = theta\n",
    "plt.scatter(X,Y, label=\"data\",c=colors,alpha=0.5, linewidth=.5, linestyle=\"-\",cmap='hsv')\n",
    "plt.xlabel('Time')\n",
    "plt.ylabel('N_remaining')\n",
    "plt.grid(True)"
   ]
  },
  {
   "cell_type": "code",
   "execution_count": 184,
   "metadata": {},
   "outputs": [
    {
     "data": {
      "image/png": "[encoded data removed]",
      "text/plain": [
       "<Figure size 432x288 with 1 Axes>"
      ]
     },
     "metadata": {
      "needs_background": "light"
     },
     "output_type": "display_data"
    }
   ],
   "source": [
    "plt.plot([i for i in range(0,16)],[10.48/i for i in Y],color=\"pink\", linewidth=4, linestyle=\":\")\n",
    "plt.grid(True)\n"
   ]
  },
  {
   "cell_type": "markdown",
   "metadata": {},
   "source": [
    "**(b)** ¿Qué transformación se le ocurre para linearizarlos? Explique y grafique de nuevo. Guarde los datos transformados en un archivo llamado `transform_radioactive_decay.txt`"
   ]
  },
  {
   "cell_type": "code",
   "execution_count": 186,
   "metadata": {},
   "outputs": [
    {
     "name": "stderr",
     "output_type": "stream",
     "text": [
      "<ipython-input-186-c4c465dc2a32>:1: RuntimeWarning: divide by zero encountered in double_scalars\n",
      "  Y=[np.log10(10.48/i) for i in Y]\n"
     ]
    },
    {
     "data": {
      "image/png": "[encoded data removed]",
      "text/plain": [
       "<Figure size 432x288 with 1 Axes>"
      ]
     },
     "metadata": {
      "needs_background": "light"
     },
     "output_type": "display_data"
    }
   ],
   "source": [
    "Y=[np.log10(10.48/i) for i in Y]\n",
    "#Generación de colores\n",
    "theta = 2 * np.pi * np.random.rand(16)\n",
    "\n",
    "colors = theta\n",
    "plt.scatter(X,Y, label=\"data\",c=colors,alpha=0.6, linewidth=.5, linestyle=\"-\",cmap='hsv')\n",
    "plt.xlabel('Second')\n",
    "plt.ylabel('Chirps')\n",
    "plt.grid(True)"
   ]
  },
  {
   "cell_type": "code",
   "execution_count": 145,
   "metadata": {},
   "outputs": [
    {
     "name": "stdout",
     "output_type": "stream",
     "text": [
      "Time \t log10(10.48/N_remaining) \r\n",
      "0.0\t0.0\r\n",
      "1.0\t0.1429899367779338\r\n",
      "2.0\t0.28078893819761597\r\n",
      "3.0\t0.4161352295632379\r\n",
      "4.0\t0.5826107198273198\r\n",
      "5.0\t0.7150099132010841\r\n",
      "6.0\t0.8442700235920266\r\n",
      "7.0\t0.9829347847070842\r\n",
      "8.0\t1.1878523699414716\r\n",
      "9.0\t1.2644864269752165\r\n",
      "10.0\t1.4521595585807128\r\n",
      "11.0\t1.5289995888134351\r\n",
      "12.0\t1.741607681694879\r\n",
      "13.0\t1.8442700235920266\r\n",
      "14.0\t1.906417930340871\r\n",
      "15.0\t1.9789685974894828\r\n"
     ]
    }
   ],
   "source": [
    "file=open('transform_radioactive_decay.txt','w')\n",
    "for i in range(len(X)+1):\n",
    "    if i==0:\n",
    "        file.write('Time \\t log10(10.48/N_remaining) \\n')\n",
    "        continue\n",
    "    file.write(str(X[i-1])+'\\t'+str(Y[i-1])+'\\n')\n",
    "file.close()\n",
    "%cat transform_radioactive_decay.txt"
   ]
  },
  {
   "cell_type": "markdown",
   "metadata": {},
   "source": [
    "**(c)** Aplique la regresión lineal a este conjunto de datos transformado, leyendo los datos del archivo recién creado."
   ]
  },
  {
   "cell_type": "code",
   "execution_count": 192,
   "metadata": {},
   "outputs": [
    {
     "data": {
      "image/png": "[encoded data removed]",
      "text/plain": [
       "<Figure size 432x288 with 1 Axes>"
      ]
     },
     "metadata": {
      "needs_background": "light"
     },
     "output_type": "display_data"
    }
   ],
   "source": [
    "arch=open('transform_radioactive_decay.txt','r')\n",
    "tex=arch.read()\n",
    "arch.close()\n",
    "x=[]\n",
    "y=[]\n",
    "X=[]\n",
    "Y=[]\n",
    "tex = tex.splitlines()\n",
    "for i in range(len(tex)):\n",
    "    tmp = tex[i].split(\"\\t\")\n",
    "    if i==0:\n",
    "        continue\n",
    "    y.append(float(tmp[1]))\n",
    "    Y.append(float(tmp[1]))\n",
    "    x.append([1,float(tmp[0])])\n",
    "    X.append(float(tmp[0]))\n",
    "x=matrix(x)\n",
    "y=matrix(y).T\n",
    "#EL mejor modelo \n",
    "b=((x.T*x).I)*(x.T*y)\n",
    "#Generación de colores\n",
    "theta = 2 * np.pi * np.random.rand(16)\n",
    "\n",
    "colors = theta\n",
    "plt.scatter(X,Y, label=\"data\",c=colors,alpha=0.4, linewidth=1, linestyle=\"-\",cmap='hsv')\n",
    "plt.xlabel('Time')\n",
    "plt.ylabel('log10(10.48/N_remaining)')\n",
    "plt.plot([0,15],[float(b[0])+0*float(b[1]),float(b[0])+15*float(b[1])],color='red',alpha=0.4)\n",
    "plt.grid(True)"
   ]
  },
  {
   "cell_type": "markdown",
   "metadata": {},
   "source": [
    "**(d)** ¿Cuáles son los valores de $\\beta$ que mejor ajustan? ¿Cuáles son el espacio sin transformar? Explique."
   ]
  },
  {
   "cell_type": "code",
   "execution_count": 155,
   "metadata": {},
   "outputs": [
    {
     "name": "stdout",
     "output_type": "stream",
     "text": [
      "0.022954071025364176 0.1375186382240714\n"
     ]
    }
   ],
   "source": [
    "print(float(b[0]),float(b[1]))"
   ]
  },
  {
   "cell_type": "code",
   "execution_count": null,
   "metadata": {},
   "outputs": [],
   "source": []
  }
 ],
 "metadata": {
  "kernelspec": {
   "display_name": "Python 3",
   "language": "python",
   "name": "python3"
  },
  "language_info": {
   "codemirror_mode": {
    "name": "ipython",
    "version": 3
   },
   "file_extension": ".py",
   "mimetype": "text/x-python",
   "name": "python",
   "nbconvert_exporter": "python",
   "pygments_lexer": "ipython3",
   "version": "3.8.5"
  }
 },
 "nbformat": 4,
 "nbformat_minor": 1
}
