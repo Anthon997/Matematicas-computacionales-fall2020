{
 "cells": [
  {
   "cell_type": "markdown",
   "metadata": {},
   "source": [
    "**187550 Ana Teresa Calderón Juárez**\n",
    "\n",
    "#   2\n",
    "\n",
    "Cada nuevo término de la secuencia de Fibonacci se genera sumando los dos términos anteriores. Al comenzar con 1 y 2, los primeros 10 términos serán:\n",
    "\n",
    "1, 2, 3, 5, 8, 13, 21, 34, 55, 89, ...\n",
    "\n",
    "Al considerar los términos en la secuencia de Fibonacci cuyos valores no excedan los cuatro millones, encuentre la suma de los términos pares."
   ]
  },
  {
   "cell_type": "code",
   "execution_count": 2,
   "metadata": {},
   "outputs": [
    {
     "name": "stdout",
     "output_type": "stream",
     "text": [
      "La suma de los términos pares de fibonacci que no exeden 4 millones es:  4613732\n"
     ]
    }
   ],
   "source": [
    "a=1\n",
    "b=2\n",
    "sumapar=0\n",
    "# a es el valor inicial de la secuencia\n",
    "# b es el segundo termino de la secuencia \n",
    "# sumapar es la variable que guardará la suma de los números pares\n",
    "# en el ciclo while, se creará cada termino de la secuencia\n",
    "# se pide <=4000000, ya que pide que los términos no exedan 4 millones\n",
    "while b<=4000000:\n",
    "\n",
    "    if b%2==0:\n",
    "        sumapar+=b\n",
    "        # Se pregunta si el término b es multiplo de 2\n",
    "        # si lo es, sumapar aumentará justo b de valor +=\n",
    "        # en caso de que sea impar, no se considera\n",
    "    \n",
    "    b+=a\n",
    "    a=b-a\n",
    "    # cada término se genera a partir de la suma de los anteriores\n",
    "    # dado que a y b son los 2 ultimos terminos considerados (en orden)\n",
    "    # a + b será el siguiente término, el cual lo guardo en b, ya que al inicio consideré a<b\n",
    "    # pero ahora el termino anterior a b=(a+b) es juto b, es decir a -> b -> a+b\n",
    "    # pero como b ya fue modificado, para obtener el original basta con restarle a (que fue lo que se sumo)\n",
    "    # asi, los nuevos términos de fibonacci son a y b (con b el mayor)\n",
    "    \n",
    "# como los valores iniciales osn positivos, cada termino es mayor al anterior\n",
    "# asi, eventualmente alguno será mayor a 4000000, pues estamos tratando con enteros\n",
    "# cuando esto pase, se saldrá del ciclo while\n",
    "# y sumapar solo tendrá la suma de los <=4000000 pares de fibonacci\n",
    "    \n",
    "print('La suma de los términos pares de fibonacci que no exeden 4 millones es: ',sumapar)\n",
    "    "
   ]
  },
  {
   "cell_type": "code",
   "execution_count": null,
   "metadata": {},
   "outputs": [],
   "source": []
  }
 ],
 "metadata": {
  "kernelspec": {
   "display_name": "Python 3",
   "language": "python",
   "name": "python3"
  },
  "language_info": {
   "codemirror_mode": {
    "name": "ipython",
    "version": 3
   },
   "file_extension": ".py",
   "mimetype": "text/x-python",
   "name": "python",
   "nbconvert_exporter": "python",
   "pygments_lexer": "ipython3",
   "version": "3.8.5"
  }
 },
 "nbformat": 4,
 "nbformat_minor": 4
}
