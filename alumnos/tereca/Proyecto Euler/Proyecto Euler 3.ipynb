{
 "cells": [
  {
   "cell_type": "markdown",
   "metadata": {},
   "source": [
    "**187550 Ana Teresa Calderón Juárez**\n",
    "\n",
    "#   3\n",
    "\n",
    "Los factores primos de 13195 son 5, 7, 13 y 29.\n",
    "\n",
    "¿Cuál es el factor primo más grande del número 600851475143?"
   ]
  },
  {
   "cell_type": "code",
   "execution_count": 22,
   "metadata": {},
   "outputs": [
    {
     "name": "stdout",
     "output_type": "stream",
     "text": [
      "Using matplotlib backend: agg\n",
      "Populating the interactive namespace from numpy and matplotlib\n"
     ]
    }
   ],
   "source": [
    "%pylab"
   ]
  },
  {
   "cell_type": "code",
   "execution_count": 70,
   "metadata": {},
   "outputs": [],
   "source": [
    "#Función que verifica si es primo un número entero positivo \n",
    "def esprimo(n):\n",
    "    x=1\n",
    "    for i in range(2,n):\n",
    "        if n%i==0:\n",
    "            x=0\n",
    "            #verificar si un numero menor que el lo divide (del 2 al n-1), si sí, salir y decir que no es primo\n",
    "            break\n",
    "            \n",
    "    #EL 1 no es primo\n",
    "    if n==1:\n",
    "        x=0\n",
    "        \n",
    "    #x=0 no es primo\n",
    "    #x=1 si es primo\n",
    "    return x"
   ]
  },
  {
   "cell_type": "code",
   "execution_count": 71,
   "metadata": {},
   "outputs": [
    {
     "data": {
      "text/plain": [
       "0"
      ]
     },
     "execution_count": 71,
     "metadata": {},
     "output_type": "execute_result"
    }
   ],
   "source": [
    "#Primero verifico que el número no es primo\n",
    "esprimo(600851475143)"
   ]
  },
  {
   "cell_type": "code",
   "execution_count": 69,
   "metadata": {},
   "outputs": [
    {
     "name": "stdout",
     "output_type": "stream",
     "text": [
      "Ingresa un número: 600851475143\n",
      "El mayor número primo es:  6857\n"
     ]
    }
   ],
   "source": [
    "n=int(input('Ingresa un número: '))\n",
    "mayor=1\n",
    "for i in range(2,n):\n",
    "    #Si p|n entonces (n/p)|n, además empiezo a buscar los menores divisores p, que n/p me mandará los mayores divisores\n",
    "    if n%i==0:\n",
    "        #Cada n/i es menor que el anterior ya que i va de menor a mayor \n",
    "        a=int(n/i)\n",
    "        #Se verifica si es primo, si sí, sale y lo imprime\n",
    "        if esprimo(a)==1:\n",
    "            mayor=a\n",
    "            break\n",
    "print ('El mayor número primo es: ', mayor)\n"
   ]
  },
  {
   "cell_type": "code",
   "execution_count": 72,
   "metadata": {},
   "outputs": [
    {
     "name": "stdout",
     "output_type": "stream",
     "text": [
      "EL mayor divisor primo es 6857\n"
     ]
    }
   ],
   "source": [
    "print('EL mayor divisor primo es 6857')"
   ]
  },
  {
   "cell_type": "code",
   "execution_count": null,
   "metadata": {},
   "outputs": [],
   "source": []
  }
 ],
 "metadata": {
  "kernelspec": {
   "display_name": "Python 3",
   "language": "python",
   "name": "python3"
  },
  "language_info": {
   "codemirror_mode": {
    "name": "ipython",
    "version": 3
   },
   "file_extension": ".py",
   "mimetype": "text/x-python",
   "name": "python",
   "nbconvert_exporter": "python",
   "pygments_lexer": "ipython3",
   "version": "3.8.5"
  }
 },
 "nbformat": 4,
 "nbformat_minor": 4
}
