{
 "cells": [
  {
   "cell_type": "markdown",
   "metadata": {},
   "source": [
    "**187550 Ana Teresa Calderón Juárez**\n",
    "\n",
    "#   1\n",
    "\n",
    "Si enumeramos todos los números naturales por debajo de 10 que son múltiplos de 3 o 5, obtenemos 3, 5, 6 y 9. La suma de estos múltiplos es 23.\n",
    "\n",
    "Encuentra la suma de todos los múltiplos de 3 o 5 por debajo de 1000."
   ]
  },
  {
   "cell_type": "code",
   "execution_count": 15,
   "metadata": {},
   "outputs": [
    {
     "name": "stdout",
     "output_type": "stream",
     "text": [
      "La suma de todos los múltiplos de 3 o 5 por debajo de 1000 es:  233168\n"
     ]
    }
   ],
   "source": [
    "# mult es una lista de comprehensión, compuesta por un ciclo for y condicional simple if\n",
    "# El ciclo for toma valores desde i=0 a i=999 de 1 en 1 (gracias al range)\n",
    "# Se añade a la lista i, si su residuo es 0 al dividirse por 3 o 5, es decir, si es múltiplo de 3 o 5\n",
    "# Al caminar una vez por cada número, se evita repeticiones\n",
    "mult=[i for i in range(1000) if i%3==0 or i%5==0]\n",
    "\n",
    "\n",
    "# suma es un entero dado por la función sum, que devuelve la suma de los elementos de mult\n",
    "suma=sum(mult)\n",
    "print ('La suma de todos los múltiplos de 3 o 5 por debajo de 1000 es: ',suma)"
   ]
  }
 ],
 "metadata": {
  "kernelspec": {
   "display_name": "Python 3",
   "language": "python",
   "name": "python3"
  },
  "language_info": {
   "codemirror_mode": {
    "name": "ipython",
    "version": 3
   },
   "file_extension": ".py",
   "mimetype": "text/x-python",
   "name": "python",
   "nbconvert_exporter": "python",
   "pygments_lexer": "ipython3",
   "version": "3.8.5"
  }
 },
 "nbformat": 4,
 "nbformat_minor": 4
}
