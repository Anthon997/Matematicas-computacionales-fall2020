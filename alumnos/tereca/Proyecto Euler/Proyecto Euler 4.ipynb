{
 "cells": [
  {
   "cell_type": "markdown",
   "metadata": {},
   "source": [
    "**187550 Ana Teresa Calderón Juárez**\n",
    "# 4\n",
    "La suma de los números primos por debajo de 10 es 2 + 3 + 5 + 7 = 17.\n",
    "\n",
    "Encuentra la suma de todos los números primos por debajo de dos millones."
   ]
  },
  {
   "cell_type": "code",
   "execution_count": 18,
   "metadata": {},
   "outputs": [
    {
     "name": "stdout",
     "output_type": "stream",
     "text": [
      "La suma de los primos por debajo es  142913828922\n"
     ]
    }
   ],
   "source": [
    "import numpy as np\n",
    "\n",
    "#Sacada de la tarea 1 que entregué\n",
    "#Esta funcion devuelve un arreglo con los numeros primos menores o iguales al argumento\n",
    "\n",
    "#Arreglo de puros TRUES tamaño 2,000,000\n",
    "bool_arr = np.ones((2000000,), dtype=bool)\n",
    "\n",
    "#Por tachar me referiré a poner falso (0) 0,1\n",
    "bool_arr[0:2]=0\n",
    "bool_arr\n",
    "\n",
    "N_max = int(np.sqrt(len(bool_arr)))\n",
    "#Se estan buscando los primos menores a 100\n",
    "#Para que p sea primo, basta verificar que los primos menores o iguales a su raíz no lo dividen\n",
    "\n",
    "\n",
    "\n",
    "for j in range(2, N_max+1):\n",
    "    bool_arr[2*j::j] = False\n",
    "#Se comienza desde el 2j y va a ir amuntando de j en j,llena todos  los múltimos, justo por eso el segundo : esta vacio (sale cuando el multiplo se sale del arreglo)\n",
    "#Si es true, es primo ya que no es multiplo de nadie menor igual a su raiz \n",
    "\n",
    "x=np.array(np.nonzero(bool_arr))\n",
    "#Te devuelve los indices de los que no son cero(quiénes son true, 1) en un arreglo osea los primos\n",
    "\n",
    "print ('La suma de los primos por debajo es ',x.sum())\n",
    "\n",
    "#.sum devuelve la suma de los elemnentos del arreglo\n",
    "        "
   ]
  },
  {
   "cell_type": "code",
   "execution_count": 19,
   "metadata": {},
   "outputs": [
    {
     "name": "stdout",
     "output_type": "stream",
     "text": [
      "142913828922\n"
     ]
    }
   ],
   "source": [
    "print(142913828922)"
   ]
  },
  {
   "cell_type": "code",
   "execution_count": null,
   "metadata": {},
   "outputs": [],
   "source": []
  }
 ],
 "metadata": {
  "kernelspec": {
   "display_name": "Python 3",
   "language": "python",
   "name": "python3"
  },
  "language_info": {
   "codemirror_mode": {
    "name": "ipython",
    "version": 3
   },
   "file_extension": ".py",
   "mimetype": "text/x-python",
   "name": "python",
   "nbconvert_exporter": "python",
   "pygments_lexer": "ipython3",
   "version": "3.8.5"
  }
 },
 "nbformat": 4,
 "nbformat_minor": 4
}
