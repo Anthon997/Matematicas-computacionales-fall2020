{
 "cells": [
  {
   "cell_type": "markdown",
   "metadata": {},
   "source": [
    "## The prime factors of 13195 are 5, 7, 13 and 29.\n",
    "\n",
    "## What is the largest prime factor of the number 600851475143 ?"
   ]
  },
  {
   "cell_type": "code",
   "execution_count": 2,
   "metadata": {},
   "outputs": [],
   "source": [
    "def EsPrimo(numeros): \n",
    "    if numeros < 2:  #Si el numero es menor que dos entonces no es primo\n",
    "        return False\n",
    "    if numeros > 2 and numeros%2 == 0: #Los números pares no son primos excepto el 2\n",
    "        return False\n",
    "    for i in range(2, numeros):  \n",
    "        if numeros%i == 0:  #Aqui vemos si el número es divisible entre cualquier número entre el 1 y el mismo número que queremos saber\n",
    "            return False    #Si es divisible entonces no es primo\n",
    "    return True             #Si pasa las retricciones anteriores entonces el número es primo"
   ]
  },
  {
   "cell_type": "code",
   "execution_count": 19,
   "metadata": {},
   "outputs": [
    {
     "name": "stdout",
     "output_type": "stream",
     "text": [
      "La solución es  6857\n"
     ]
    }
   ],
   "source": [
    "def Solución(NumeroDado): #La función para la solución\n",
    "    listaSolucionesPosibles = [] \n",
    "    for i in range(2, NumeroDado + 1): #Valores donde trabaja i\n",
    "        if i*i < NumeroDado:\n",
    "            if NumeroDado%i==0:            #Aqui vemos si i puede dividir al numero dado\n",
    "                if EsPrimo(i) == True:     #Si i es número primo\n",
    "                    listaSolucionesPosibles.append(i) # Esa i en específico va hacia una lista de posibles soluciones\n",
    "        else: \n",
    "            break\n",
    "    return max(listaSolucionesPosibles)   #De las soluciones posibles agarra la mas grande\n",
    "print(\"La solución es \", Solución(600851475143))"
   ]
  },
  {
   "cell_type": "code",
   "execution_count": null,
   "metadata": {},
   "outputs": [],
   "source": []
  },
  {
   "cell_type": "code",
   "execution_count": null,
   "metadata": {},
   "outputs": [],
   "source": []
  }
 ],
 "metadata": {
  "kernelspec": {
   "display_name": "Python 3",
   "language": "python",
   "name": "python3"
  },
  "language_info": {
   "codemirror_mode": {
    "name": "ipython",
    "version": 3
   },
   "file_extension": ".py",
   "mimetype": "text/x-python",
   "name": "python",
   "nbconvert_exporter": "python",
   "pygments_lexer": "ipython3",
   "version": "3.8.5"
  }
 },
 "nbformat": 4,
 "nbformat_minor": 4
}
