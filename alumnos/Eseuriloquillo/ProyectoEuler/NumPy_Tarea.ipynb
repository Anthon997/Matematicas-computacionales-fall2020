{
 "cells": [
  {
   "cell_type": "markdown",
   "metadata": {},
   "source": [
    "# Ejercicios de NumPy"
   ]
  },
  {
   "cell_type": "code",
   "execution_count": 1,
   "metadata": {},
   "outputs": [
    {
     "name": "stdout",
     "output_type": "stream",
     "text": [
      "Populating the interactive namespace from numpy and matplotlib\n"
     ]
    }
   ],
   "source": [
    "%pylab inline\n",
    "import numpy as np"
   ]
  },
  {
   "cell_type": "markdown",
   "metadata": {},
   "source": [
    "## Problema 1\n",
    "### Crea los siguientes arreglos con los tipos correctos:\n",
    "### Un arreglo de  5×5  cuya diagonal sean  [1.0,2.0,3.0,4.0,5.0] \n",
    "### Un arreglo de  4×4  cuyo último renglón sea  [1,2,3,4]  y el resto sean  0 ."
   ]
  },
  {
   "cell_type": "code",
   "execution_count": 69,
   "metadata": {},
   "outputs": [],
   "source": [
    "arrinicial = np.random.rand(25) #Van a ser 25 números\n",
    "arrinicial[0] = 1.0\n",
    "arrinicial[6] = 2.0 \n",
    "arrinicial[12] = 3.0 #Con esto sustituimos los valores que nos piden en específico\n",
    "arrinicial[18] = 4.0\n",
    "arrinicial[24] = 5.0"
   ]
  },
  {
   "cell_type": "code",
   "execution_count": 70,
   "metadata": {},
   "outputs": [],
   "source": [
    "arr5x5 = arrinicial.reshape(5, 5) #Los ordenamos para que sea 5 * 5"
   ]
  },
  {
   "cell_type": "code",
   "execution_count": 71,
   "metadata": {},
   "outputs": [],
   "source": [
    "arr4x4 = np.zeros((4, 4)) #Llenamos todo de 0s"
   ]
  },
  {
   "cell_type": "code",
   "execution_count": 73,
   "metadata": {},
   "outputs": [],
   "source": [
    "arr4x4[3]= [1, 2, 3, 4] #Sustituimos el último renglon para que sea lo que queremos"
   ]
  },
  {
   "cell_type": "code",
   "execution_count": 74,
   "metadata": {},
   "outputs": [
    {
     "name": "stdout",
     "output_type": "stream",
     "text": [
      "[[1.         0.98627037 0.10521725 0.14855512 0.18482019]\n",
      " [0.09740957 2.         0.89422811 0.70231999 0.90767057]\n",
      " [0.23922312 0.41062334 3.         0.19380221 0.86230776]\n",
      " [0.82877027 0.47284247 0.7131402  4.         0.55144369]\n",
      " [0.23732018 0.81802346 0.13654128 0.7816454  5.        ]]\n",
      "[[0. 0. 0. 0.]\n",
      " [0. 0. 0. 0.]\n",
      " [0. 0. 0. 0.]\n",
      " [1. 2. 3. 4.]]\n"
     ]
    }
   ],
   "source": [
    "print(arr5x5) #Inciso 1\n",
    "print(arr4x4) #Inciso 2"
   ]
  },
  {
   "cell_type": "markdown",
   "metadata": {},
   "source": [
    "## Problema 2\n",
    "### La criba de Eratóstenes"
   ]
  },
  {
   "cell_type": "code",
   "execution_count": 167,
   "metadata": {},
   "outputs": [],
   "source": [
    "bool_arr = np.ones((100,), dtype=bool)"
   ]
  },
  {
   "cell_type": "code",
   "execution_count": 168,
   "metadata": {},
   "outputs": [],
   "source": [
    "bool_arr[0 : 2] = False"
   ]
  },
  {
   "cell_type": "code",
   "execution_count": 171,
   "metadata": {},
   "outputs": [],
   "source": [
    "N_max = int(np.sqrt(len(bool_arr)))\n",
    "for j in range(2, N_max):\n",
    "abool_arr[2*j::j] = False #La neta solo entiendo que multiplicamos por 2 para no agarrar el número y de ahí sacamos los múltiplos haciendolos falsos pero no entiendo la última j en que afecta muy bien"
   ]
  },
  {
   "cell_type": "code",
   "execution_count": 172,
   "metadata": {},
   "outputs": [
    {
     "data": {
      "text/plain": [
       "(array([ 2,  3,  5,  7, 11, 13, 17, 19, 23, 29, 31, 37, 41, 43, 47, 53, 59,\n",
       "        61, 67, 71, 73, 79, 83, 89, 97]),)"
      ]
     },
     "execution_count": 172,
     "metadata": {},
     "output_type": "execute_result"
    }
   ],
   "source": [
    "np.nonzero(bool_arr)"
   ]
  },
  {
   "cell_type": "code",
   "execution_count": 163,
   "metadata": {},
   "outputs": [],
   "source": [
    "def criba_eratostenes(maximo):\n",
    "    bool_arr = np.ones((maximo, ), dtype=bool)\n",
    "    bool_arr[0: 2] = False\n",
    "    N_max = int(np.sqrt(len(bool_arr)))\n",
    "    for j in range(2, N_max):\n",
    "        bool_arr[2*j::j] = False\n",
    "    print(np.nonzero(bool_arr))"
   ]
  },
  {
   "cell_type": "code",
   "execution_count": 164,
   "metadata": {},
   "outputs": [
    {
     "name": "stdout",
     "output_type": "stream",
     "text": [
      "(array([2, 3, 5, 7, 9]),)\n",
      "None\n",
      "(array([ 2,  3,  5,  7, 11, 13, 17, 19, 23, 29, 31, 37, 41, 43, 47, 53, 59,\n",
      "       61, 67, 71, 73, 79, 83, 89, 97]),)\n",
      "None\n",
      "(array([  2,   3,   5,   7,  11,  13,  17,  19,  23,  29,  31,  37,  41,\n",
      "        43,  47,  53,  59,  61,  67,  71,  73,  79,  83,  89,  97, 101,\n",
      "       103, 107, 109, 113, 127, 131, 137, 139, 149, 151, 157, 163, 167,\n",
      "       173, 179, 181, 191, 193, 197, 199]),)\n",
      "None\n"
     ]
    }
   ],
   "source": [
    "print(criba_eratostenes(10))\n",
    "print(criba_eratostenes(100))\n",
    "print(criba_eratostenes(200))"
   ]
  },
  {
   "cell_type": "markdown",
   "metadata": {},
   "source": [
    "## Problema 3\n",
    "### Cubo rubik"
   ]
  },
  {
   "cell_type": "code",
   "execution_count": 176,
   "metadata": {},
   "outputs": [],
   "source": [
    "rubik = np.zeros((6, 3, 3)) #Partimos de puro 0"
   ]
  },
  {
   "cell_type": "code",
   "execution_count": 192,
   "metadata": {},
   "outputs": [],
   "source": [
    "rojo = rubik[0]\n",
    "amarillo = rubik[1]\n",
    "azul = rubik[2] #Con estas funciones agarramos cada una de las caras del cubo\n",
    "verde = rubik[3]\n",
    "blanco = rubik[4]\n",
    "naranja = rubik[5]"
   ]
  },
  {
   "cell_type": "code",
   "execution_count": 193,
   "metadata": {},
   "outputs": [],
   "source": [
    "rojo[:] = 1\n",
    "amarillo[:] = 2\n",
    "azul[:] = 3    #Aqui a cada cara le damos un número que es su color. Cada color tiene su respectivo número\n",
    "verde[:] = 4\n",
    "blanco[:] = 5\n",
    "naranja[:] = 6"
   ]
  },
  {
   "cell_type": "code",
   "execution_count": 194,
   "metadata": {},
   "outputs": [
    {
     "data": {
      "text/plain": [
       "array([[[1., 1., 1.],\n",
       "        [1., 1., 1.],\n",
       "        [1., 1., 1.]],\n",
       "\n",
       "       [[2., 2., 2.],\n",
       "        [2., 2., 2.],\n",
       "        [2., 2., 2.]],\n",
       "\n",
       "       [[3., 3., 3.],\n",
       "        [3., 3., 3.],\n",
       "        [3., 3., 3.]],\n",
       "\n",
       "       [[4., 4., 4.],\n",
       "        [4., 4., 4.],\n",
       "        [4., 4., 4.]],\n",
       "\n",
       "       [[5., 5., 5.],\n",
       "        [5., 5., 5.],\n",
       "        [5., 5., 5.]],\n",
       "\n",
       "       [[6., 6., 6.],\n",
       "        [6., 6., 6.],\n",
       "        [6., 6., 6.]]])"
      ]
     },
     "execution_count": 194,
     "metadata": {},
     "output_type": "execute_result"
    }
   ],
   "source": [
    "rubik #Podemos ver que ningún elemento quedo en 0"
   ]
  },
  {
   "cell_type": "markdown",
   "metadata": {},
   "source": [
    "## Pregunta 4\n",
    "### Sudoku"
   ]
  },
  {
   "cell_type": "code",
   "execution_count": 230,
   "metadata": {},
   "outputs": [],
   "source": [
    "def correcto(arreglo):\n",
    "    if arreglo.ndim == 1: #Que el arreglo sea de dimensión 1\n",
    "        for i in range(1, 10):\n",
    "            if i in arreglo:  #Que esten los números del 1 al 9 en el arreglo\n",
    "                if len(arreglo) == 9: #Que nada mas tenga 9 números\n",
    "                    Correcto = True\n",
    "                else:\n",
    "                    Correcto = False\n",
    "            else:\n",
    "                Correcto = False\n",
    "    else:\n",
    "        Correcto = False\n",
    "    return Correcto"
   ]
  },
  {
   "cell_type": "code",
   "execution_count": 249,
   "metadata": {},
   "outputs": [],
   "source": [
    "def descomponer3x3(arreglo):\n",
    "    if arreglo.shape==(9, 9):\n",
    "        arrordenado = arreglo.resahpe(9, 3, 3) #Aqui tengo problemas porque no se como ordenarlos en los arreglos ahora en 3 x 3\n",
    "    return arrordenado"
   ]
  },
  {
   "cell_type": "code",
   "execution_count": 296,
   "metadata": {},
   "outputs": [],
   "source": [
    "def esSolucion(arreglo):\n",
    "    if arreglo.shape==(9, 9):\n",
    "        for i in range(1, 10):\n",
    "            if correcto(arreglo[i]) == True: #Aquí checamos las filas\n",
    "                if correcto(arreglo[:,i-1:i]) == True: #Aquí checamos las columnas\n",
    "                    sudokudescompuesto = descomponer3x3(arreglo) #Descomponemos lo que tenemos\n",
    "    for j in range(1, 10):\n",
    "        for k in range(0, 10):\n",
    "            if j in sudokudescompuesto[k]: #Checamos que cada cuadro tenga los números del 1 al 9\n",
    "                print(\"Felicidades. El sudoku esta correcto\")\n",
    "            else:\n",
    "                print(\"El sudoku esta mal\")"
   ]
  },
  {
   "cell_type": "markdown",
   "metadata": {},
   "source": [
    "## Problema 5\n",
    "### Gráfiquitas"
   ]
  },
  {
   "cell_type": "code",
   "execution_count": 297,
   "metadata": {},
   "outputs": [
    {
     "ename": "FileNotFoundError",
     "evalue": "[Errno 2] No such file or directory: '/week3/data/sunspots'",
     "output_type": "error",
     "traceback": [
      "\u001b[0;31m---------------------------------------------------------------------------\u001b[0m",
      "\u001b[0;31mFileNotFoundError\u001b[0m                         Traceback (most recent call last)",
      "\u001b[0;32m<ipython-input-297-441a5c854700>\u001b[0m in \u001b[0;36m<module>\u001b[0;34m\u001b[0m\n\u001b[0;32m----> 1\u001b[0;31m \u001b[0marchivo\u001b[0m \u001b[0;34m=\u001b[0m \u001b[0mopen\u001b[0m\u001b[0;34m(\u001b[0m\u001b[0;34m\"/week3/data/sunspots\"\u001b[0m\u001b[0;34m,\u001b[0m \u001b[0;34m\"r\"\u001b[0m\u001b[0;34m)\u001b[0m \u001b[0;31m#No puedo abrir el archivo\u001b[0m\u001b[0;34m\u001b[0m\u001b[0;34m\u001b[0m\u001b[0m\n\u001b[0m",
      "\u001b[0;31mFileNotFoundError\u001b[0m: [Errno 2] No such file or directory: '/week3/data/sunspots'"
     ]
    }
   ],
   "source": [
    "archivo = open(\"/week3/data/sunspots\", \"r\") #No puedo abrir el archivo "
   ]
  },
  {
   "cell_type": "code",
   "execution_count": null,
   "metadata": {},
   "outputs": [],
   "source": []
  },
  {
   "cell_type": "code",
   "execution_count": null,
   "metadata": {},
   "outputs": [],
   "source": []
  }
 ],
 "metadata": {
  "kernelspec": {
   "display_name": "Python 3",
   "language": "python",
   "name": "python3"
  },
  "language_info": {
   "codemirror_mode": {
    "name": "ipython",
    "version": 3
   },
   "file_extension": ".py",
   "mimetype": "text/x-python",
   "name": "python",
   "nbconvert_exporter": "python",
   "pygments_lexer": "ipython3",
   "version": "3.8.5"
  }
 },
 "nbformat": 4,
 "nbformat_minor": 4
}
