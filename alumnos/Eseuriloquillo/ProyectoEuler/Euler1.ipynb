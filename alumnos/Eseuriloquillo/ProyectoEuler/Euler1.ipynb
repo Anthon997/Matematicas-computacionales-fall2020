{
 "cells": [
  {
   "cell_type": "markdown",
   "metadata": {},
   "source": [
    "## If we list all the natural numbers below 10 that are multiples of 3 or 5, we get 3, 5, 6 and 9. The sum of these multiples is 23.\n",
    "\n",
    "## Find the sum of all the multiples of 3 or 5 below 1000.\n"
   ]
  },
  {
   "cell_type": "code",
   "execution_count": 6,
   "metadata": {},
   "outputs": [
    {
     "name": "stdout",
     "output_type": "stream",
     "text": [
      "234168\n"
     ]
    }
   ],
   "source": [
    "SumaDeMultiplos = 0 #Aqui es donde van a estar acumulada la suma de los números que cumplen los requisitos\n",
    "for i in range (0, 1001): #Aquí decimos que cada número que este entre 0 y 1000 pase por el siguiente proceso\n",
    "    if i%3 == 0 or i%5 == 0: \n",
    "        SumaDeMultiplos += i #Decimos en estos dos renglones que los números que sean divisibles entre 3 y 5 sean sumados a donde va a ser acumulada la suma\n",
    "    #No importa que no haya else ya que solo nos importa los números que sean divisibles entre 3 y 5 Los otros no nos importa que les pase\n",
    "print(SumaDeMultiplos) #Aquí mostramos el resultado"
   ]
  },
  {
   "cell_type": "code",
   "execution_count": null,
   "metadata": {},
   "outputs": [],
   "source": []
  }
 ],
 "metadata": {
  "kernelspec": {
   "display_name": "Python 3",
   "language": "python",
   "name": "python3"
  },
  "language_info": {
   "codemirror_mode": {
    "name": "ipython",
    "version": 3
   },
   "file_extension": ".py",
   "mimetype": "text/x-python",
   "name": "python",
   "nbconvert_exporter": "python",
   "pygments_lexer": "ipython3",
   "version": "3.8.5"
  }
 },
 "nbformat": 4,
 "nbformat_minor": 4
}
