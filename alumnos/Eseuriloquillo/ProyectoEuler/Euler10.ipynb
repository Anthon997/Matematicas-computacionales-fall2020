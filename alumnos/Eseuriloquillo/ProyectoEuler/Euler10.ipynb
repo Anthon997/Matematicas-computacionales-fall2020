{
 "cells": [
  {
   "cell_type": "code",
   "execution_count": 16,
   "metadata": {},
   "outputs": [],
   "source": [
    "def OtroIntentoMas(Numero):\n",
    "    ListaDePrimos = []   #Aqui van los numeros primos\n",
    "    ListaDeNoPrimos = [] #Aqui van los numeros que no son primos\n",
    "    SumaDePrimos = 0     #Aqui va a estar acumulada la suma\n",
    "    for i in range(2, Numero + 1):  \n",
    "        if i not in ListaDeNoPrimos: #Si i no esta en la lista de numeros no primos significa que es primo\n",
    "            ListaDePrimos.append(i)  #i lo ponemos en la lista de primos\n",
    "            for j in range(i*i, Numero + 1, i): #Los múltiplos de ese primo no seran primos y por lo tanto los agregamos en la lista de no primos\n",
    "                ListaDeNoPrimos.append(j)  \n",
    "    for k in ListaDePrimos:\n",
    "        SumaDePrimos = SumaDePrimos + k #Sumamos todos los numeros primos\n",
    "    return SumaDePrimos  #Regresamos el total de la suma. El problema es que no jala"
   ]
  },
  {
   "cell_type": "code",
   "execution_count": null,
   "metadata": {},
   "outputs": [],
   "source": [
    "OtroIntentoMas(2000000)"
   ]
  },
  {
   "cell_type": "code",
   "execution_count": 1,
   "metadata": {},
   "outputs": [
    {
     "name": "stdout",
     "output_type": "stream",
     "text": [
      "Populating the interactive namespace from numpy and matplotlib\n"
     ]
    }
   ],
   "source": [
    "%pylab inline\n",
    "import numpy as np"
   ]
  },
  {
   "cell_type": "code",
   "execution_count": 19,
   "metadata": {},
   "outputs": [],
   "source": [
    "def SextoIntento(Numero): #Aunque no parezca ya es mi sexto intento de codigo\n",
    "    Arreglo = np.ones((Numero + 1, ), dtype=bool)  #Ponemos 2 millones de unos\n",
    "    Arreglo[:2] = False  #El 0 y 1 no son primos\n",
    "    Numero = int(np.sqrt(len(Arreglo)))  \n",
    "    for j in range(2, Numero):\n",
    "        Arreglo[j*j::j] = False #Ya entendi esto. Quiere decir que va de j*j hasta que acabe el arreglo cada j veces depende del valor de j en el rango\n",
    "    return sum(np.nonzero(Arreglo)) #Le cambie a lo anterior ya que j*j es algo mas efectivo que 2*j"
   ]
  },
  {
   "cell_type": "code",
   "execution_count": 20,
   "metadata": {},
   "outputs": [
    {
     "data": {
      "text/plain": [
       "142913828922"
      ]
     },
     "execution_count": 20,
     "metadata": {},
     "output_type": "execute_result"
    }
   ],
   "source": [
    "SextoIntento(2000000)"
   ]
  },
  {
   "cell_type": "code",
   "execution_count": null,
   "metadata": {},
   "outputs": [],
   "source": []
  }
 ],
 "metadata": {
  "kernelspec": {
   "display_name": "Python 3",
   "language": "python",
   "name": "python3"
  },
  "language_info": {
   "codemirror_mode": {
    "name": "ipython",
    "version": 3
   },
   "file_extension": ".py",
   "mimetype": "text/x-python",
   "name": "python",
   "nbconvert_exporter": "python",
   "pygments_lexer": "ipython3",
   "version": "3.8.5"
  }
 },
 "nbformat": 4,
 "nbformat_minor": 4
}
