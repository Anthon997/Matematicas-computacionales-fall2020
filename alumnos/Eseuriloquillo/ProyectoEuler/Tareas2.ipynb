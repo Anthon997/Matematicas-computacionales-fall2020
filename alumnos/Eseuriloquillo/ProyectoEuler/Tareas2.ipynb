{
 "cells": [
  {
   "cell_type": "markdown",
   "metadata": {},
   "source": [
    "# Problema 1"
   ]
  },
  {
   "cell_type": "code",
   "execution_count": null,
   "metadata": {},
   "outputs": [],
   "source": []
  },
  {
   "cell_type": "code",
   "execution_count": 37,
   "metadata": {},
   "outputs": [],
   "source": [
    "%matplotlib inline\n",
    "import numpy as np\n",
    "import matplotlib.pyplot as plt"
   ]
  },
  {
   "cell_type": "code",
   "execution_count": 38,
   "metadata": {},
   "outputs": [],
   "source": [
    "from sympy import *"
   ]
  },
  {
   "cell_type": "code",
   "execution_count": 39,
   "metadata": {},
   "outputs": [],
   "source": [
    "init_printing(use_latex='mathjax')"
   ]
  },
  {
   "cell_type": "code",
   "execution_count": 69,
   "metadata": {},
   "outputs": [],
   "source": [
    "x = Symbol('x^i')\n",
    "y = Symbol('y^i')\n",
    "B0 = Symbol('beta_0')\n",
    "B1 = Symbol('beta_1')\n",
    "n = Symbol('n')\n",
    "m = Symbol('m')\n",
    "i = Symbol('i')"
   ]
  },
  {
   "cell_type": "code",
   "execution_count": 70,
   "metadata": {},
   "outputs": [
    {
     "data": {
      "text/latex": [
       "$\\displaystyle \\frac{\\sum_{i=1}^{m} \\left(- \\beta_{0} - \\beta_{1} x^{i} + y^{i}\\right)^{2}}{2 n}$"
      ],
      "text/plain": [
       "  m                      \n",
       " ___                     \n",
       " ╲                       \n",
       "  ╲                     2\n",
       "  ╱   (-β₀ - β₁⋅xⁱ + yⁱ) \n",
       " ╱                       \n",
       " ‾‾‾                     \n",
       "i = 1                    \n",
       "─────────────────────────\n",
       "           2⋅n           "
      ]
     },
     "execution_count": 70,
     "metadata": {},
     "output_type": "execute_result"
    }
   ],
   "source": [
    "J = (1/(2*n))* Sum((y-B0-B1*x)**2, (i, 1, m))\n",
    "J"
   ]
  },
  {
   "cell_type": "code",
   "execution_count": 73,
   "metadata": {},
   "outputs": [
    {
     "data": {
      "text/latex": [
       "$\\displaystyle \\frac{\\sum_{i=1}^{m} \\left(2 \\beta_{0} + 2 \\beta_{1} x^{i} - 2 y^{i}\\right)}{2 n}$"
      ],
      "text/plain": [
       "  m                          \n",
       " ___                         \n",
       " ╲                           \n",
       "  ╲                          \n",
       "  ╱   (2⋅β₀ + 2⋅β₁⋅xⁱ - 2⋅yⁱ)\n",
       " ╱                           \n",
       " ‾‾‾                         \n",
       "i = 1                        \n",
       "─────────────────────────────\n",
       "             2⋅n             "
      ]
     },
     "execution_count": 73,
     "metadata": {},
     "output_type": "execute_result"
    }
   ],
   "source": [
    "J0 = diff(J, B0)\n",
    "J0"
   ]
  },
  {
   "cell_type": "code",
   "execution_count": 74,
   "metadata": {},
   "outputs": [
    {
     "data": {
      "text/latex": [
       "$\\displaystyle \\frac{\\sum_{i=1}^{m} - 2 x^{i} \\left(- \\beta_{0} - \\beta_{1} x^{i} + y^{i}\\right)}{2 n}$"
      ],
      "text/plain": [
       "  m                           \n",
       " ___                          \n",
       " ╲                            \n",
       "  ╲                           \n",
       "  ╱   -2⋅xⁱ⋅(-β₀ - β₁⋅xⁱ + yⁱ)\n",
       " ╱                            \n",
       " ‾‾‾                          \n",
       "i = 1                         \n",
       "──────────────────────────────\n",
       "             2⋅n              "
      ]
     },
     "execution_count": 74,
     "metadata": {},
     "output_type": "execute_result"
    }
   ],
   "source": [
    "J1 = diff(J, B1)\n",
    "J1"
   ]
  },
  {
   "cell_type": "markdown",
   "metadata": {},
   "source": [
    "## Problema 2"
   ]
  },
  {
   "cell_type": "code",
   "execution_count": 76,
   "metadata": {},
   "outputs": [
    {
     "ename": "TypeError",
     "evalue": "'Mul' object is not callable",
     "output_type": "error",
     "traceback": [
      "\u001b[0;31m---------------------------------------------------------------------------\u001b[0m",
      "\u001b[0;31mTypeError\u001b[0m                                 Traceback (most recent call last)",
      "\u001b[0;32m<ipython-input-76-410a948459e0>\u001b[0m in \u001b[0;36m<module>\u001b[0;34m\u001b[0m\n\u001b[1;32m      2\u001b[0m \u001b[0my\u001b[0m \u001b[0;34m=\u001b[0m \u001b[0mnp\u001b[0m\u001b[0;34m.\u001b[0m\u001b[0mloadtxt\u001b[0m\u001b[0;34m(\u001b[0m\u001b[0;34m'data/edad.dat'\u001b[0m\u001b[0;34m)\u001b[0m\u001b[0;34m\u001b[0m\u001b[0;34m\u001b[0m\u001b[0m\n\u001b[1;32m      3\u001b[0m \u001b[0;34m\u001b[0m\u001b[0m\n\u001b[0;32m----> 4\u001b[0;31m \u001b[0mC\u001b[0m \u001b[0;34m=\u001b[0m \u001b[0mJ\u001b[0m\u001b[0;34m(\u001b[0m\u001b[0mB0\u001b[0m\u001b[0;34m,\u001b[0m \u001b[0mB1\u001b[0m\u001b[0;34m)\u001b[0m\u001b[0;34m\u001b[0m\u001b[0;34m\u001b[0m\u001b[0m\n\u001b[0m",
      "\u001b[0;31mTypeError\u001b[0m: 'Mul' object is not callable"
     ]
    }
   ],
   "source": [
    "x = np.loadtxt('data/altura.dat')\n",
    "y = np.loadtxt('data/edad.dat')\n",
    "\n",
    "B = B - "
   ]
  },
  {
   "cell_type": "code",
   "execution_count": null,
   "metadata": {},
   "outputs": [],
   "source": []
  }
 ],
 "metadata": {
  "kernelspec": {
   "display_name": "Python 3",
   "language": "python",
   "name": "python3"
  },
  "language_info": {
   "codemirror_mode": {
    "name": "ipython",
    "version": 3
   },
   "file_extension": ".py",
   "mimetype": "text/x-python",
   "name": "python",
   "nbconvert_exporter": "python",
   "pygments_lexer": "ipython3",
   "version": "3.8.5"
  }
 },
 "nbformat": 4,
 "nbformat_minor": 4
}
