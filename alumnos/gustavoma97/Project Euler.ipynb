{
 "cells": [
  {
   "cell_type": "markdown",
   "metadata": {},
   "source": [
    "# Euler_1"
   ]
  },
  {
   "cell_type": "code",
   "execution_count": 1,
   "metadata": {},
   "outputs": [
    {
     "name": "stdout",
     "output_type": "stream",
     "text": [
      "233168\n"
     ]
    }
   ],
   "source": [
    "a=0\n",
    "for i in range(1,1000):\n",
    "    if i%3==0 or i%5==0:\n",
    "        a+=i\n",
    "    else:\n",
    "        a+=0\n",
    "print(a)"
   ]
  },
  {
   "cell_type": "markdown",
   "metadata": {},
   "source": [
    "# Euler_2"
   ]
  },
  {
   "cell_type": "code",
   "execution_count": 5,
   "metadata": {},
   "outputs": [
    {
     "name": "stdout",
     "output_type": "stream",
     "text": [
      "4613732\n"
     ]
    }
   ],
   "source": [
    "x,y=1,1\n",
    "a=0\n",
    "while x<=4000000:\n",
    "    if x%2==0:\n",
    "        a+=x\n",
    "    x,y=y,x+y  \n",
    "print (a)"
   ]
  },
  {
   "cell_type": "markdown",
   "metadata": {},
   "source": [
    "# Euler_3"
   ]
  },
  {
   "cell_type": "code",
   "execution_count": 29,
   "metadata": {},
   "outputs": [],
   "source": [
    "####################################################################\n",
    "####### NO PROBAR LA FUNCIÓN FINAL CON a!!!!!! CERO EFICIENTE!!!!! #\n",
    "####################################################################\n",
    "\n",
    "\n",
    "a=600851475143\n",
    "\n",
    "\n",
    "\n",
    "\n",
    "\n",
    "def esPrimo(num):\n",
    "    if num < 1:\n",
    "        return False\n",
    "    elif num == 2:\n",
    "        return True\n",
    "    else:\n",
    "        for i in range(2, num):\n",
    "            if num % i == 0:\n",
    "                return False\n",
    "        return True\n",
    "    \n",
    "def divisores(num):\n",
    "    divisores=[]\n",
    "    for i in range(1,num+1):\n",
    "        if num%i == 0:\n",
    "            divisores.append(i)\n",
    "    return(divisores)\n",
    "\n",
    "\n",
    "\n",
    "def max_primo_factor(num):\n",
    "    primos_factores=[]\n",
    "    for i in divisores(num):\n",
    "        if esPrimo(i)==True:\n",
    "            primos_factores.append(i)\n",
    "    return(max(primos_factores))"
   ]
  }
 ],
 "metadata": {
  "kernelspec": {
   "display_name": "Python 3",
   "language": "python",
   "name": "python3"
  },
  "language_info": {
   "codemirror_mode": {
    "name": "ipython",
    "version": 3
   },
   "file_extension": ".py",
   "mimetype": "text/x-python",
   "name": "python",
   "nbconvert_exporter": "python",
   "pygments_lexer": "ipython3",
   "version": "3.8.5"
  }
 },
 "nbformat": 4,
 "nbformat_minor": 4
}
