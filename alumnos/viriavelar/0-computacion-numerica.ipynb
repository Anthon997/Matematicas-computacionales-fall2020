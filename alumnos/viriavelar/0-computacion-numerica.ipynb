{
 "cells": [
  {
   "cell_type": "markdown",
   "metadata": {},
   "source": [
    "# Limitaciones de la computadora"
   ]
  },
  {
   "cell_type": "markdown",
   "metadata": {},
   "source": [
    "En la clase pasada revisamos los tipos de datos numéricos que soporta `python`. En particular `float`,   `integer` y `complex`. Pero todos ellos, al ser expresados en la computadora, pierden algunas de sus propiedades matemáticas *puras*, por así decirlo.\n",
    "\n",
    "Matemáticamente los **enteros** (`integers`) son un conjunto *infinito*  $ \\mathbb{N} =\\{1,2,3,\\ldots\\}$. La computadora es de tamaño *finito*, por lo cual es imposible representar todos esos números en la computadora. El tipo `int` se representa en 4-bytes, es decir en $32$ bits. (**Ejercicio**: ¿Por qué?). El número máximo (a nivel CPU) está dado por $2^{32}$."
   ]
  },
  {
   "cell_type": "code",
   "execution_count": 1,
   "metadata": {},
   "outputs": [
    {
     "data": {
      "text/plain": [
       "21430172143725346418968500981200036211228096234110672148875007767407021022498722449863967576313917162551893458351062936503742905713846280871969155149397149607869135549648461970842149210124742283755908364306092949967163882534797535118331087892154125829142392955373084335320859663305248773674411336138753"
      ]
     },
     "execution_count": 1,
     "metadata": {},
     "output_type": "execute_result"
    }
   ],
   "source": [
    "2**1001+1 #el límite es la memoria de la máquina"
   ]
  },
  {
   "cell_type": "markdown",
   "metadata": {},
   "source": [
    "Pero ya que queremos representar tanto los positivos como los negativos:"
   ]
  },
  {
   "cell_type": "code",
   "execution_count": 2,
   "metadata": {},
   "outputs": [
    {
     "data": {
      "text/plain": [
       "[-2147483648.0, 2147483648.0]"
      ]
     },
     "execution_count": 2,
     "metadata": {},
     "output_type": "execute_result"
    }
   ],
   "source": [
    "[-2**32/2, 2**32/2] "
   ]
  },
  {
   "cell_type": "markdown",
   "metadata": {},
   "source": [
    "El valor exacto del límite superior en tu computadora lo puedes obtener mediante:"
   ]
  },
  {
   "cell_type": "code",
   "execution_count": 3,
   "metadata": {},
   "outputs": [
    {
     "data": {
      "text/plain": [
       "9223372036854775807"
      ]
     },
     "execution_count": 3,
     "metadata": {},
     "output_type": "execute_result"
    }
   ],
   "source": [
    "import sys\n",
    "sys.maxsize"
   ]
  },
  {
   "cell_type": "markdown",
   "metadata": {},
   "source": [
    "¿Por qué crees que es diferente? ¿Tiene que ver con la arquitectura de tu **CPU**? ¿Es de $64$ bits? ¿Entonces cuántos bytes se ocupan para representar un entero?"
   ]
  },
  {
   "cell_type": "markdown",
   "metadata": {},
   "source": [
    "<div class=\"alert alert-info\">\n",
    "**Ejercicio**: En python, para obtener la representación de un número en binario usamos la función `bin`\n",
    "</div>"
   ]
  },
  {
   "cell_type": "code",
   "execution_count": 4,
   "metadata": {},
   "outputs": [
    {
     "data": {
      "text/plain": [
       "'0b1111011'"
      ]
     },
     "execution_count": 4,
     "metadata": {},
     "output_type": "execute_result"
    }
   ],
   "source": [
    "bin(123)"
   ]
  },
  {
   "cell_type": "markdown",
   "metadata": {},
   "source": [
    "Genera una tabla del 0 al 255 con su representación en binario y en decimal. Observa como usamos el `print` para formatear el texto de salida. Usa la ayuda de ipython para entender que hacen los símbolos `%d` y `%s`.  ¿Cuántos caracteres necesitas?"
   ]
  },
  {
   "cell_type": "code",
   "execution_count": 5,
   "metadata": {},
   "outputs": [
    {
     "name": "stdout",
     "output_type": "stream",
     "text": [
      "0 \t 0b0\n",
      "1 \t 0b1\n",
      "2 \t 0b10\n",
      "3 \t 0b11\n",
      "4 \t 0b100\n"
     ]
    }
   ],
   "source": [
    "for i in range(0,5):\n",
    "    print(\"%d \\t %s\" % (i, bin(i)))\n",
    "# como se escribe en binario cada número 0b significa binario"
   ]
  },
  {
   "cell_type": "markdown",
   "metadata": {},
   "source": [
    "El mismo problema de *finitud* se presenta con los flotantes (que tratan de emular a los reales, $\\mathbb{R}$). "
   ]
  },
  {
   "cell_type": "markdown",
   "metadata": {},
   "source": [
    "Recordemos primero ( de sus clases de Cálculo), que cualquier número real $x$, puede ser escrito en términos una *mantisa* y un *exponente* de la siguiente manera $$x = a \\cdot 10^b$$."
   ]
  },
  {
   "cell_type": "markdown",
   "metadata": {},
   "source": [
    "Piensa en esto, cualquier número real, se puede representar con dos números enteros..."
   ]
  },
  {
   "cell_type": "markdown",
   "metadata": {},
   "source": [
    "Si tu **CPU** es de $32$ bits, se utilizan $8$ bytes para guardar un flotante (ya que $2 \\cdot 4$) , si es de $64$ bits se utilizan $16$ bytes."
   ]
  },
  {
   "cell_type": "markdown",
   "metadata": {},
   "source": [
    "El estándar **IEEE-754** para el caso de $32$ bits, divide los $8$ bytes como sigue\n",
    "- 10 bits para el exponente $b$\n",
    "- 54 bits para la mantisa $a$"
   ]
  },
  {
   "cell_type": "markdown",
   "metadata": {},
   "source": [
    "<div class=\"alert alert-info\">\n",
    "**Ejercicio** ¿Cuál es el número flotante más grande y más pequeño que se puede representar?\n",
    "</div>"
   ]
  },
  {
   "cell_type": "markdown",
   "metadata": {},
   "source": [
    "<div class=\"alert alert-info\">\n",
    "**Ejercicio** ¿Cuántos bytes se requieren para representar un número complejo $\\mathbb{C}$? ¿En 32 y en 64 bits?¿Cuáles serán sus limitaciones?\n",
    "</div>"
   ]
  },
  {
   "cell_type": "markdown",
   "metadata": {},
   "source": [
    "El siguiente es un error común (observa la demostración en el pizarrón) :"
   ]
  },
  {
   "cell_type": "raw",
   "metadata": {},
   "source": [
    "x = 0.0\n",
    "while not x == 1.0:\n",
    "    x = x + 0.1\n",
    "    print(\"x=%19.17g\" % (x))"
   ]
  },
  {
   "cell_type": "code",
   "execution_count": null,
   "metadata": {},
   "outputs": [],
   "source": [
    "#loop"
   ]
  },
  {
   "cell_type": "markdown",
   "metadata": {},
   "source": [
    "La salida de los primeros 15 es la siguiente:"
   ]
  },
  {
   "cell_type": "code",
   "execution_count": 6,
   "metadata": {},
   "outputs": [
    {
     "name": "stdout",
     "output_type": "stream",
     "text": [
      "x=0.10000000000000001\n",
      "x=0.20000000000000001\n",
      "x=0.30000000000000004\n",
      "x=0.40000000000000002\n",
      "x=                0.5\n",
      "x=0.59999999999999998\n",
      "x=0.69999999999999996\n",
      "x=0.79999999999999993\n",
      "x=0.89999999999999991\n",
      "x=0.99999999999999989\n",
      "x= 1.0999999999999999\n",
      "x=                1.2\n",
      "x=                1.3\n",
      "x= 1.4000000000000001\n",
      "x= 1.5000000000000002\n"
     ]
    }
   ],
   "source": [
    "x = 0.0\n",
    "for i in range(0,15):\n",
    "    x = x + 0.1\n",
    "    print(\"x=%19.17g\" % (x))"
   ]
  },
  {
   "cell_type": "code",
   "execution_count": null,
   "metadata": {},
   "outputs": [],
   "source": []
  },
  {
   "cell_type": "markdown",
   "metadata": {},
   "source": [
    "**Ejercicio**:¿Qué enseñanza puedes sacar de esto?"
   ]
  },
  {
   "cell_type": "markdown",
   "metadata": {},
   "source": [
    "Existe una manera (entre varias) de resolver el problema:"
   ]
  },
  {
   "cell_type": "code",
   "execution_count": 7,
   "metadata": {},
   "outputs": [
    {
     "name": "stdout",
     "output_type": "stream",
     "text": [
      "x=0.10000000000000001\n",
      "x=0.20000000000000001\n",
      "x=0.30000000000000004\n",
      "x=0.40000000000000002\n",
      "x=                0.5\n",
      "x=0.59999999999999998\n",
      "x=0.69999999999999996\n",
      "x=0.79999999999999993\n",
      "x=0.89999999999999991\n",
      "x=0.99999999999999989\n"
     ]
    }
   ],
   "source": [
    "x = 0.0\n",
    "while abs(x -1.0) > 1e-10:\n",
    "    x = x + 0.1\n",
    "    print (\"x=%19.17g\" % (x))"
   ]
  },
  {
   "cell_type": "markdown",
   "metadata": {},
   "source": [
    "**Ejercicio:** Explica el código."
   ]
  },
  {
   "cell_type": "markdown",
   "metadata": {},
   "source": [
    "# Cálculo simbólico"
   ]
  },
  {
   "cell_type": "markdown",
   "metadata": {},
   "source": [
    "Es posible realizar cálculo simbólico en python (justo como en **Mathematica** o **Maple**) usando el paquete `sympy`. El código siguiente es para imprimir a $\\LaTeX$ la salida de las instrucciones."
   ]
  },
  {
   "cell_type": "code",
   "execution_count": 8,
   "metadata": {},
   "outputs": [],
   "source": [
    "from sympy.interactive import printing\n",
    "printing.init_printing(use_latex=True)"
   ]
  },
  {
   "cell_type": "markdown",
   "metadata": {},
   "source": [
    "En las celdas que siguen, observa el diferente uso de `import` y `from` ¿Cuál es su función? "
   ]
  },
  {
   "cell_type": "code",
   "execution_count": 9,
   "metadata": {},
   "outputs": [],
   "source": [
    "from sympy import Symbol\n",
    "x = Symbol('x')"
   ]
  },
  {
   "cell_type": "code",
   "execution_count": 10,
   "metadata": {},
   "outputs": [
    {
     "data": {
      "image/png": "[encoded data removed]",
      "text/latex": [
       "$\\displaystyle x$"
      ],
      "text/plain": [
       "x"
      ]
     },
     "execution_count": 10,
     "metadata": {},
     "output_type": "execute_result"
    }
   ],
   "source": [
    "x"
   ]
  },
  {
   "cell_type": "code",
   "execution_count": 11,
   "metadata": {},
   "outputs": [
    {
     "data": {
      "text/plain": [
       "sympy.core.symbol.Symbol"
      ]
     },
     "execution_count": 11,
     "metadata": {},
     "output_type": "execute_result"
    }
   ],
   "source": [
    "type(x)"
   ]
  },
  {
   "cell_type": "code",
   "execution_count": 12,
   "metadata": {},
   "outputs": [],
   "source": [
    "y = Symbol('y')"
   ]
  },
  {
   "cell_type": "code",
   "execution_count": 13,
   "metadata": {},
   "outputs": [
    {
     "data": {
      "image/png": "[encoded data removed]",
      "text/latex": [
       "$\\displaystyle x$"
      ],
      "text/plain": [
       "x"
      ]
     },
     "execution_count": 13,
     "metadata": {},
     "output_type": "execute_result"
    }
   ],
   "source": [
    "2*x - x"
   ]
  },
  {
   "cell_type": "code",
   "execution_count": 14,
   "metadata": {},
   "outputs": [
    {
     "data": {
      "image/png": "[encoded data removed]",
      "text/latex": [
       "$\\displaystyle - 10 x y + 2 x + y$"
      ],
      "text/plain": [
       "-10⋅x⋅y + 2⋅x + y"
      ]
     },
     "execution_count": 14,
     "metadata": {},
     "output_type": "execute_result"
    }
   ],
   "source": [
    "x +y +x  - 10*y*x"
   ]
  },
  {
   "cell_type": "code",
   "execution_count": 15,
   "metadata": {},
   "outputs": [
    {
     "data": {
      "image/png": "[encoded data removed]",
      "text/latex": [
       "$\\displaystyle 2 y + 3 z$"
      ],
      "text/plain": [
       "2⋅y + 3⋅z"
      ]
     },
     "execution_count": 15,
     "metadata": {},
     "output_type": "execute_result"
    }
   ],
   "source": [
    "import sympy as sym\n",
    "x,y,z = sym.symbols('x,y,z')\n",
    "x + 2*y + 3*z -x"
   ]
  },
  {
   "cell_type": "markdown",
   "metadata": {},
   "source": [
    "`Sympy` también puede representar tipos numéricos: `Rational` y `Real`"
   ]
  },
  {
   "cell_type": "code",
   "execution_count": 16,
   "metadata": {},
   "outputs": [
    {
     "data": {
      "image/png": "[encoded data removed]",
      "text/latex": [
       "$\\displaystyle \\frac{1}{10}$"
      ],
      "text/plain": [
       "1/10"
      ]
     },
     "execution_count": 16,
     "metadata": {},
     "output_type": "execute_result"
    }
   ],
   "source": [
    "a = sym.Rational(1,10)\n",
    "a"
   ]
  },
  {
   "cell_type": "code",
   "execution_count": 17,
   "metadata": {},
   "outputs": [],
   "source": [
    "b = sym.Rational(45,67)"
   ]
  },
  {
   "cell_type": "code",
   "execution_count": 18,
   "metadata": {},
   "outputs": [
    {
     "data": {
      "image/png": "[encoded data removed]",
      "text/latex": [
       "$\\displaystyle \\frac{9}{134}$"
      ],
      "text/plain": [
       "9/134"
      ]
     },
     "execution_count": 18,
     "metadata": {},
     "output_type": "execute_result"
    }
   ],
   "source": [
    "c = a*b\n",
    "c"
   ]
  },
  {
   "cell_type": "code",
   "execution_count": 19,
   "metadata": {},
   "outputs": [
    {
     "data": {
      "image/png": "[encoded data removed]",
      "text/latex": [
       "$\\displaystyle - \\frac{383}{670}$"
      ],
      "text/plain": [
       "-383 \n",
       "─────\n",
       " 670 "
      ]
     },
     "execution_count": 19,
     "metadata": {},
     "output_type": "execute_result"
    }
   ],
   "source": [
    "d = a-b\n",
    "d"
   ]
  },
  {
   "cell_type": "code",
   "execution_count": 20,
   "metadata": {},
   "outputs": [
    {
     "data": {
      "image/png": "[encoded data removed]",
      "text/latex": [
       "$\\displaystyle \\frac{517}{670}$"
      ],
      "text/plain": [
       "517\n",
       "───\n",
       "670"
      ]
     },
     "execution_count": 20,
     "metadata": {},
     "output_type": "execute_result"
    }
   ],
   "source": [
    "e = a+b\n",
    "e"
   ]
  },
  {
   "cell_type": "code",
   "execution_count": 21,
   "metadata": {},
   "outputs": [
    {
     "data": {
      "image/png": "[encoded data removed]",
      "text/latex": [
       "$\\displaystyle 0.06716417910447761$"
      ],
      "text/plain": [
       "0.06716417910447761"
      ]
     },
     "execution_count": 21,
     "metadata": {},
     "output_type": "execute_result"
    }
   ],
   "source": [
    "float(c)"
   ]
  },
  {
   "cell_type": "code",
   "execution_count": 22,
   "metadata": {},
   "outputs": [
    {
     "data": {
      "image/png": "[encoded data removed]",
      "text/latex": [
       "$\\displaystyle \\frac{9}{134}$"
      ],
      "text/plain": [
       "9/134"
      ]
     },
     "execution_count": 22,
     "metadata": {},
     "output_type": "execute_result"
    }
   ],
   "source": [
    "c"
   ]
  },
  {
   "cell_type": "markdown",
   "metadata": {},
   "source": [
    "Es posible usar el siguiente método para indicarle a python cuántos decimales calcular (aunque no necesariamente se van a usar todos al guardarlo en memoria)."
   ]
  },
  {
   "cell_type": "code",
   "execution_count": 23,
   "metadata": {},
   "outputs": [
    {
     "data": {
      "image/png": "[encoded data removed]",
      "text/latex": [
       "$\\displaystyle 0.0671641791044776$"
      ],
      "text/plain": [
       "0.0671641791044776"
      ]
     },
     "execution_count": 23,
     "metadata": {},
     "output_type": "execute_result"
    }
   ],
   "source": [
    "c.evalf()"
   ]
  },
  {
   "cell_type": "code",
   "execution_count": 24,
   "metadata": {},
   "outputs": [
    {
     "data": {
      "image/png": "[encoded data removed]",
      "text/latex": [
       "$\\displaystyle 0.0671641791044776119402985074627$"
      ],
      "text/plain": [
       "0.0671641791044776119402985074627"
      ]
     },
     "execution_count": 24,
     "metadata": {},
     "output_type": "execute_result"
    }
   ],
   "source": [
    "c.evalf(30)"
   ]
  },
  {
   "cell_type": "code",
   "execution_count": 25,
   "metadata": {},
   "outputs": [],
   "source": [
    "from sympy import *"
   ]
  },
  {
   "cell_type": "code",
   "execution_count": 26,
   "metadata": {},
   "outputs": [
    {
     "data": {
      "image/png": "[encoded data removed]",
      "text/latex": [
       "$\\displaystyle \\cos{\\left(x \\right)}$"
      ],
      "text/plain": [
       "cos(x)"
      ]
     },
     "execution_count": 26,
     "metadata": {},
     "output_type": "execute_result"
    }
   ],
   "source": [
    "diff(sin(x), x) #la segunda te dice respecto a cual se esta derivando"
   ]
  },
  {
   "cell_type": "code",
   "execution_count": 27,
   "metadata": {},
   "outputs": [
    {
     "data": {
      "image/png": "[encoded data removed]",
      "text/latex": [
       "$\\displaystyle 0$"
      ],
      "text/plain": [
       "0"
      ]
     },
     "execution_count": 27,
     "metadata": {},
     "output_type": "execute_result"
    }
   ],
   "source": [
    "diff(sin(x), y)"
   ]
  },
  {
   "cell_type": "code",
   "execution_count": 28,
   "metadata": {},
   "outputs": [
    {
     "data": {
      "image/png": "[encoded data removed]",
      "text/latex": [
       "$\\displaystyle 8 x + 45 y + 3$"
      ],
      "text/plain": [
       "8⋅x + 45⋅y + 3"
      ]
     },
     "execution_count": 28,
     "metadata": {},
     "output_type": "execute_result"
    }
   ],
   "source": [
    "diff(10+3*x+4*x**2+45*x*y, x)"
   ]
  },
  {
   "cell_type": "code",
   "execution_count": 29,
   "metadata": {},
   "outputs": [
    {
     "data": {
      "image/png": "[encoded data removed]",
      "text/latex": [
       "$\\displaystyle 45 y + 11$"
      ],
      "text/plain": [
       "45⋅y + 11"
      ]
     },
     "execution_count": 29,
     "metadata": {},
     "output_type": "execute_result"
    }
   ],
   "source": [
    "diff(10+3*x+4*x**2+45*x*y, x).subs(x, 1) #el segundo en .subs te dice qué número sustituyes en la variable"
   ]
  },
  {
   "cell_type": "code",
   "execution_count": 30,
   "metadata": {},
   "outputs": [
    {
     "data": {
      "image/png": "[encoded data removed]",
      "text/latex": [
       "$\\displaystyle 45$"
      ],
      "text/plain": [
       "45"
      ]
     },
     "execution_count": 30,
     "metadata": {},
     "output_type": "execute_result"
    }
   ],
   "source": [
    "diff(10+3*x+4*x**2+45*x*y, x,y)"
   ]
  },
  {
   "cell_type": "code",
   "execution_count": 31,
   "metadata": {},
   "outputs": [
    {
     "data": {
      "image/png": "[encoded data removed]",
      "text/latex": [
       "$\\displaystyle 8$"
      ],
      "text/plain": [
       "8"
      ]
     },
     "execution_count": 31,
     "metadata": {},
     "output_type": "execute_result"
    }
   ],
   "source": [
    "diff(10+3*x+4*x**2+45*x*y, x,x)"
   ]
  },
  {
   "cell_type": "code",
   "execution_count": 32,
   "metadata": {},
   "outputs": [
    {
     "data": {
      "image/png": "[encoded data removed]",
      "text/latex": [
       "$\\displaystyle \\frac{x^{3}}{3} - \\cos{\\left(x \\right)}$"
      ],
      "text/plain": [
       " 3         \n",
       "x          \n",
       "── - cos(x)\n",
       "3          "
      ]
     },
     "execution_count": 32,
     "metadata": {},
     "output_type": "execute_result"
    }
   ],
   "source": [
    "integrate(x**2 + sin(x), x)"
   ]
  },
  {
   "cell_type": "code",
   "execution_count": 33,
   "metadata": {},
   "outputs": [
    {
     "data": {
      "image/png": "[encoded data removed]",
      "text/latex": [
       "$\\displaystyle \\frac{4}{3} - \\cos{\\left(1 \\right)}$"
      ],
      "text/plain": [
       "4/3 - cos(1)"
      ]
     },
     "execution_count": 33,
     "metadata": {},
     "output_type": "execute_result"
    }
   ],
   "source": [
    "integrate(x**2 + sin(x), (x, 0, 1))"
   ]
  },
  {
   "cell_type": "markdown",
   "metadata": {},
   "source": [
    "<div class=\"alert alert-info\">\n",
    "**Ejercicio:** Resuelva simbólicamente lo siguiente: Se lanza una pelota al aire con una velocidad $v_0$ a un ángulo $\\theta$. La gravedad es $g$. \n",
    "- ¿Cuál es la altura máxima? \n",
    "- ¿Cuál es la distancia máxima?\n",
    "- ¿Cuál es el tiempo de vuelo?\n",
    "- De una respuesta numérica, cuando $v_0 = 10 \\frac{m}{s}$ y $\\theta=\\pi/2$.\n",
    "</div>"
   ]
  },
  {
   "cell_type": "code",
   "execution_count": 44,
   "metadata": {},
   "outputs": [],
   "source": [
    "v0 = Symbol(\"v_0\")\n",
    "g = Symbol(\"g\")\n",
    "theta = Symbol (\"theta\")\n",
    "t = Symbol (\"t\")"
   ]
  },
  {
   "cell_type": "code",
   "execution_count": 55,
   "metadata": {},
   "outputs": [
    {
     "data": {
      "image/png": "[encoded data removed]",
      "text/latex": [
       "$\\displaystyle \\frac{v_{0}^{2} \\sin^{2}{\\left(\\theta \\right)}}{2 g}$"
      ],
      "text/plain": [
       "  2    2   \n",
       "v₀ ⋅sin (θ)\n",
       "───────────\n",
       "    2⋅g    "
      ]
     },
     "execution_count": 55,
     "metadata": {},
     "output_type": "execute_result"
    }
   ],
   "source": [
    "h=v0**2*sin(theta)**2/(2*g)\n",
    "h"
   ]
  },
  {
   "cell_type": "code",
   "execution_count": 56,
   "metadata": {},
   "outputs": [
    {
     "data": {
      "image/png": "[encoded data removed]",
      "text/latex": [
       "$\\displaystyle 5.09683995922528$"
      ],
      "text/plain": [
       "5.09683995922528"
      ]
     },
     "execution_count": 56,
     "metadata": {},
     "output_type": "execute_result"
    }
   ],
   "source": [
    "h.subs(v0,10).subs(theta,pi/2).subs(g,9.81) #altura máxima"
   ]
  },
  {
   "cell_type": "code",
   "execution_count": 57,
   "metadata": {},
   "outputs": [
    {
     "data": {
      "image/png": "[encoded data removed]",
      "text/latex": [
       "$\\displaystyle \\frac{v_{0}^{2} \\sin{\\left(2 \\theta \\right)}}{g}$"
      ],
      "text/plain": [
       "  2         \n",
       "v₀ ⋅sin(2⋅θ)\n",
       "────────────\n",
       "     g      "
      ]
     },
     "execution_count": 57,
     "metadata": {},
     "output_type": "execute_result"
    }
   ],
   "source": [
    "dmax=v0**2*sin(2*theta)/(g)\n",
    "dmax "
   ]
  },
  {
   "cell_type": "code",
   "execution_count": 58,
   "metadata": {},
   "outputs": [
    {
     "data": {
      "image/png": "[encoded data removed]",
      "text/latex": [
       "$\\displaystyle 0$"
      ],
      "text/plain": [
       "0"
      ]
     },
     "execution_count": 58,
     "metadata": {},
     "output_type": "execute_result"
    }
   ],
   "source": [
    "dmax.subs(v0,10).subs(theta,pi/2).subs(g,9.81) #distancia máxima"
   ]
  },
  {
   "cell_type": "code",
   "execution_count": 53,
   "metadata": {},
   "outputs": [
    {
     "data": {
      "image/png": "[encoded data removed]",
      "text/latex": [
       "$\\displaystyle \\frac{2 v_{0} \\sin{\\left(\\theta \\right)}}{g}$"
      ],
      "text/plain": [
       "2⋅v₀⋅sin(θ)\n",
       "───────────\n",
       "     g     "
      ]
     },
     "execution_count": 53,
     "metadata": {},
     "output_type": "execute_result"
    }
   ],
   "source": [
    "t=2*v0*sin(theta)/g\n",
    "t"
   ]
  },
  {
   "cell_type": "code",
   "execution_count": 54,
   "metadata": {},
   "outputs": [
    {
     "data": {
      "image/png": "[encoded data removed]",
      "text/latex": [
       "$\\displaystyle 2.03873598369011$"
      ],
      "text/plain": [
       "2.03873598369011"
      ]
     },
     "execution_count": 54,
     "metadata": {},
     "output_type": "execute_result"
    }
   ],
   "source": [
    "t.subs(v0,10).subs(theta,pi/2).subs(g,9.81) #tiempo de vuelo"
   ]
  },
  {
   "cell_type": "markdown",
   "metadata": {},
   "source": [
    "`Sympy` también permite resolver ecuaciones diferenciales ordinarias (**ODE**, en inglés), usando la función `dsolve`. "
   ]
  },
  {
   "cell_type": "code",
   "execution_count": null,
   "metadata": {},
   "outputs": [],
   "source": [
    "dsolve?"
   ]
  },
  {
   "cell_type": "code",
   "execution_count": null,
   "metadata": {},
   "outputs": [],
   "source": [
    "Function?"
   ]
  },
  {
   "cell_type": "code",
   "execution_count": null,
   "metadata": {},
   "outputs": [],
   "source": [
    "Derivative?"
   ]
  },
  {
   "cell_type": "code",
   "execution_count": null,
   "metadata": {},
   "outputs": [],
   "source": [
    "y = Function('y')\n",
    "x = Symbol('x')\n",
    "y_ = Derivative(y(x), x)"
   ]
  },
  {
   "cell_type": "code",
   "execution_count": null,
   "metadata": {},
   "outputs": [],
   "source": [
    "ode = y_ + 10*y(x) + 3*y(x)**2\n",
    "ode"
   ]
  },
  {
   "cell_type": "code",
   "execution_count": null,
   "metadata": {},
   "outputs": [],
   "source": [
    "sol = dsolve(ode, y(x))\n",
    "sol"
   ]
  },
  {
   "cell_type": "code",
   "execution_count": null,
   "metadata": {},
   "outputs": [],
   "source": [
    "type(sol)"
   ]
  },
  {
   "cell_type": "markdown",
   "metadata": {},
   "source": [
    "<div class=\"alert alert-danger\">\n",
    "Que el tipo sea `Equality` será muy importante cuando querrámos graficar. Manten este hecho en mente.\n",
    "</div>"
   ]
  },
  {
   "cell_type": "code",
   "execution_count": null,
   "metadata": {},
   "outputs": [],
   "source": [
    "sol.rhs"
   ]
  },
  {
   "cell_type": "markdown",
   "metadata": {},
   "source": [
    "<div class=\"alert alert-info\">\n",
    "**Ejercicio** \n",
    "- Demuestra que $y_1 = e^t$ y $y_2 = t e^t$ son soluciones de la **ODE** $y^{''} -2y^{'} + y = 0$. No uses `dsolve`. Recuerda que tienes que definir los *símbolos* $y$ y $t$.\n",
    "- Ahora resuelve usando `dsolve`. Recuerda definir la función.\n",
    "</div>"
   ]
  },
  {
   "cell_type": "markdown",
   "metadata": {},
   "source": [
    "Regularmente al resolver problemas científicos es necesario utilizar aproximaciones en forma de series. `Sympy` también puede hacerlas."
   ]
  },
  {
   "cell_type": "code",
   "execution_count": null,
   "metadata": {},
   "outputs": [],
   "source": [
    "sin(x).series(x,0)"
   ]
  },
  {
   "cell_type": "code",
   "execution_count": null,
   "metadata": {},
   "outputs": [],
   "source": [
    "(exp(x)**2*cos(x)/sin(x)**3).series(x,0)"
   ]
  },
  {
   "cell_type": "markdown",
   "metadata": {},
   "source": [
    "Por último ¿Recuerdas el problema con los flotantes? Pues con `Sympy` se puede resolver."
   ]
  },
  {
   "cell_type": "code",
   "execution_count": null,
   "metadata": {},
   "outputs": [],
   "source": [
    "dx = Rational(1,10)"
   ]
  },
  {
   "cell_type": "code",
   "execution_count": null,
   "metadata": {},
   "outputs": [],
   "source": [
    "x = 0"
   ]
  },
  {
   "cell_type": "code",
   "execution_count": null,
   "metadata": {},
   "outputs": [],
   "source": [
    "while x != 1.0:\n",
    "    x = x+dx\n",
    "    print(\"x=%4s = %3.1f\" % (x, x.evalf()))"
   ]
  },
  {
   "cell_type": "markdown",
   "metadata": {},
   "source": [
    "Pero hacer estos cálculos de manera simbólica es mucho más lento que hacerlo de forma numerica:"
   ]
  },
  {
   "cell_type": "code",
   "execution_count": null,
   "metadata": {},
   "outputs": [],
   "source": [
    "dx_symbolic = Rational(1,10)\n",
    "\n",
    "def bucle_sympy(n):\n",
    "    x = 0\n",
    "    for i in range(n):\n",
    "        x = x + dx_symbolic\n",
    "    return x"
   ]
  },
  {
   "cell_type": "code",
   "execution_count": null,
   "metadata": {},
   "outputs": [],
   "source": [
    "dx = 0.1\n",
    "def bucle_float(n):\n",
    "    x = 0\n",
    "    for i in range(n):\n",
    "        x = x + dx\n",
    "    return x"
   ]
  },
  {
   "cell_type": "code",
   "execution_count": null,
   "metadata": {},
   "outputs": [],
   "source": [
    "n = 100000"
   ]
  },
  {
   "cell_type": "code",
   "execution_count": null,
   "metadata": {},
   "outputs": [],
   "source": [
    "%timeit bucle_sympy(n)"
   ]
  },
  {
   "cell_type": "code",
   "execution_count": null,
   "metadata": {},
   "outputs": [],
   "source": [
    "%timeit bucle_float(n)"
   ]
  },
  {
   "cell_type": "code",
   "execution_count": null,
   "metadata": {},
   "outputs": [],
   "source": []
  }
 ],
 "metadata": {
  "kernelspec": {
   "display_name": "Python 3",
   "language": "python",
   "name": "python3"
  },
  "language_info": {
   "codemirror_mode": {
    "name": "ipython",
    "version": 3
   },
   "file_extension": ".py",
   "mimetype": "text/x-python",
   "name": "python",
   "nbconvert_exporter": "python",
   "pygments_lexer": "ipython3",
   "version": "3.8.5"
  }
 },
 "nbformat": 4,
 "nbformat_minor": 1
}
