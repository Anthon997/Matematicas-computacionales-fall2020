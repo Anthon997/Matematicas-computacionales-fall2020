{
 "cells": [
  {
   "cell_type": "markdown",
   "metadata": {},
   "source": [
    "# **Ejercicios de NumPy**"
   ]
  },
  {
   "cell_type": "code",
   "execution_count": 1,
   "metadata": {},
   "outputs": [
    {
     "name": "stdout",
     "output_type": "stream",
     "text": [
      "Populating the interactive namespace from numpy and matplotlib\n"
     ]
    }
   ],
   "source": [
    "%pylab inline\n",
    "import numpy as np"
   ]
  },
  {
   "cell_type": "markdown",
   "metadata": {},
   "source": [
    "# Pregunta 1"
   ]
  },
  {
   "cell_type": "markdown",
   "metadata": {},
   "source": [
    "Crea los siguientes arreglos con los tipos correctos.\n",
    "\n",
    "\n",
    "* Un arreglo de $5 \\times 5$ cuya diagonal sean $[1.0, 2.0, 3.0, 4.0, 5.0]$ \n",
    "* Un arreglo de $4 \\times 4$ cuyo último renglón sea $[1,2,3,4]$ y el resto sean $0$."
   ]
  },
  {
   "cell_type": "code",
   "execution_count": null,
   "metadata": {},
   "outputs": [],
   "source": []
  },
  {
   "cell_type": "markdown",
   "metadata": {},
   "source": [
    "# Pregunta 2"
   ]
  },
  {
   "cell_type": "markdown",
   "metadata": {},
   "source": [
    "En este ejercicio realizaremos una criba de Eratóstenes\n",
    "**Nota**: Ejercicio basado en el presentado en `C4P`.\n",
    "(a) Crea un arreglo de booleanos de shape (100,), con todos sus elementos True. El índice representa el número."
   ]
  },
  {
   "cell_type": "code",
   "execution_count": 2,
   "metadata": {},
   "outputs": [],
   "source": [
    "bool_arr = np.ones((100,), dtype=bool)"
   ]
  },
  {
   "cell_type": "markdown",
   "metadata": {},
   "source": [
    "(b) \"Tacha\" los elementos 0 y 1.\n",
    "\n",
    "(c) Para cada entero subsiguiente, tacha sus múltiplos. Una manera de hacerlo es el código que se muestra. Explica que hace el código, sobretodo explica que hace el slicing."
   ]
  },
  {
   "cell_type": "code",
   "execution_count": null,
   "metadata": {},
   "outputs": [],
   "source": [
    "N_max = int(np.sqrt(len(bool_arr)))\n",
    "for j in range(2, N_max):\n",
    "    bool_arr[2*j::j] = False"
   ]
  },
  {
   "cell_type": "code",
   "execution_count": null,
   "metadata": {},
   "outputs": [],
   "source": [
    "bool_arr"
   ]
  },
  {
   "cell_type": "markdown",
   "metadata": {},
   "source": [
    "(d) Mira la documentacion de np.nonzero para imprimir todos los números primos.\n",
    "\n",
    "(e) Encapsula lo que acabamos de hacer en una función llamada criba_eratostenes, que reciba como argumento maximo el cual representa el tamaño del array. Muestra el resultado para maximo = {10, 100, 200}, usando un for."
   ]
  },
  {
   "cell_type": "code",
   "execution_count": null,
   "metadata": {},
   "outputs": [],
   "source": []
  },
  {
   "cell_type": "markdown",
   "metadata": {},
   "source": [
    "# Pregunta 3"
   ]
  },
  {
   "cell_type": "markdown",
   "metadata": {},
   "source": [
    "Crea un cubo rubik, partiendo de un arreglo de ceros y usando slicing dibuja cada una de las caras como si estuviera resuelto (cada color un entero a partir del $1$). Muestra con indexing que está resuelto (es decir, imprime las seis caras). ¿Cuántos elementos del arreglo quedaron en $0$?"
   ]
  },
  {
   "cell_type": "code",
   "execution_count": 3,
   "metadata": {
    "collapsed": true
   },
   "outputs": [
    {
     "name": "stdout",
     "output_type": "stream",
     "text": [
      "[[[1 1 1]\n",
      "  [1 1 1]\n",
      "  [1 1 1]]\n",
      "\n",
      " [[2 2 2]\n",
      "  [2 2 2]\n",
      "  [2 2 2]]\n",
      "\n",
      " [[3 3 3]\n",
      "  [3 3 3]\n",
      "  [3 3 3]]\n",
      "\n",
      " [[4 4 4]\n",
      "  [4 4 4]\n",
      "  [4 4 4]]\n",
      "\n",
      " [[5 5 5]\n",
      "  [5 5 5]\n",
      "  [5 5 5]]\n",
      "\n",
      " [[6 6 6]\n",
      "  [6 6 6]\n",
      "  [6 6 6]]]\n"
     ]
    }
   ],
   "source": [
    "cubo=np.zeros((6,3,3)).astype(int)\n",
    "for i in range (6):\n",
    "    cubo[i]=1+i\n",
    "print(cubo)"
   ]
  },
  {
   "cell_type": "markdown",
   "metadata": {},
   "source": [
    "# Pregunta 4"
   ]
  },
  {
   "cell_type": "markdown",
   "metadata": {},
   "source": [
    "El Sudoku es un pasatiempo que consiste en un arreglo $9 \\times 9$ de celdas, con dígitos del 1 al 9, de tal manera que no se repiten valores en cada columna, cada renglón y en cada subarreglo de $3\\times 3$.\n",
    "\n",
    "(a) Crea una función llamada correcto que reciba un array $1d$ de tamaño 9 e indique si está completo o no (i.e. incluye los números del 1 al 9.\n",
    "\n",
    "(b) Crea una función llamada descomponer3x3 que reciba un array de enteros de $9\\times 9$ y lo separe en sus 9 subarreglos $3\\times3$.\n",
    "\n",
    "(c) Crea la función esSolucion que recibe un array de $9\\times 9$ y devuelve si es o no solución del sudoku.\n",
    "\n"
   ]
  },
  {
   "cell_type": "code",
   "execution_count": 9,
   "metadata": {},
   "outputs": [],
   "source": [
    "def correcto(array):\n",
    "    if array.size != 9:\n",
    "        raise Exception('Forma equivocada')\n",
    "        \n",
    "    if sorted(array) == [1,2,3,4,5,6,7,8,9]:\n",
    "        return True\n",
    "    return False\n",
    "\n",
    "def descomponer3x3(array):\n",
    "    if array.shape != (9,9):\n",
    "        raise Exception('Forma equivocada')\n",
    "        \n",
    "    subarreglos = []\n",
    "    for desc_vert in np.vsplit(array,3):\n",
    "        for subarreglo in np.hsplit(desc_vert,3):\n",
    "            subarreglos.append(subarreglo)\n",
    "    return subarreglos\n",
    "\n",
    "def esSolucion(array):\n",
    "    if array.shape != (9,9):\n",
    "        raise Exception('Forma equivocada')\n",
    "    \n",
    "    for row in array:\n",
    "        if not correcto(row):\n",
    "            return False\n",
    "\n",
    "    for col in array.T:\n",
    "        if not correcto(col):\n",
    "            return False\n",
    "    \n",
    "    for subarreglo in descomponer3x3(array):\n",
    "        if not correcto(subarreglo.reshape(9)):\n",
    "            return False\n",
    "    return True"
   ]
  },
  {
   "cell_type": "code",
   "execution_count": 10,
   "metadata": {},
   "outputs": [
    {
     "data": {
      "text/plain": [
       "array([[1., 2., 3., 4., 5., 6., 7., 8., 9.],\n",
       "       [4., 5., 6., 7., 8., 9., 1., 2., 3.],\n",
       "       [7., 8., 9., 1., 2., 3., 4., 5., 6.],\n",
       "       [2., 1., 4., 3., 6., 5., 8., 9., 7.],\n",
       "       [3., 6., 5., 8., 9., 7., 2., 1., 4.],\n",
       "       [8., 9., 7., 2., 1., 4., 3., 6., 5.],\n",
       "       [5., 3., 1., 6., 4., 2., 9., 7., 8.],\n",
       "       [6., 4., 2., 9., 7., 8., 5., 3., 1.],\n",
       "       [9., 7., 8., 5., 3., 1., 6., 4., 2.]])"
      ]
     },
     "execution_count": 10,
     "metadata": {},
     "output_type": "execute_result"
    }
   ],
   "source": [
    "# Función que construye una solución de Sudoku \n",
    "\n",
    "def construye_solucion(arr,row,col):\n",
    "    if col == 9:\n",
    "        col = 0\n",
    "        row = row + 1\n",
    "        if row == 9:\n",
    "            return arr\n",
    "    \n",
    "    for posible_num in range(1,10):\n",
    "        \n",
    "        valid = True\n",
    "        \n",
    "        for num in arr[row,:]:\n",
    "            if num == posible_num:\n",
    "                valid = False\n",
    "                \n",
    "        for num in arr[:, col]:\n",
    "            if num == posible_num:\n",
    "                valid = False\n",
    "                \n",
    "        for num in descomponer3x3(arr)[int(row / 3)*3 + int(col / 3)].reshape(9):\n",
    "            if num == posible_num:\n",
    "                valid = False\n",
    "                \n",
    "        if valid:\n",
    "            arr[row,col] = posible_num\n",
    "            value = construye_solucion(arr, row, col+1)\n",
    "            if value is not None:\n",
    "                return value\n",
    "            arr[row,col] = 0\n",
    "            \n",
    "solucion = construye_solucion(np.zeros((9,9)),0,0)\n",
    "solucion"
   ]
  },
  {
   "cell_type": "code",
   "execution_count": 11,
   "metadata": {},
   "outputs": [
    {
     "data": {
      "text/plain": [
       "True"
      ]
     },
     "execution_count": 11,
     "metadata": {},
     "output_type": "execute_result"
    }
   ],
   "source": [
    "esSolucion(solucion)"
   ]
  },
  {
   "cell_type": "code",
   "execution_count": 170,
   "metadata": {},
   "outputs": [
    {
     "data": {
      "text/plain": [
       "False"
      ]
     },
     "execution_count": 170,
     "metadata": {},
     "output_type": "execute_result"
    }
   ],
   "source": [
    "#Este es un ejemplo de una solución que es falsa, se cambio el último número \n",
    "#de la que está arriba, podemos darnos cuenta que por eso sale false\n",
    "le puedes mover algunos por ahí para ver que la función esSolucion te dice false\n",
    "\n",
    "mala = np.array([[1., 2., 3., 4., 5., 6., 7., 8., 9.],\n",
    "                   [4., 5., 6., 7., 8., 9., 1., 2., 3.],\n",
    "                   [7., 8., 9., 1., 2., 3., 4., 5., 6.],\n",
    "                   [2., 1., 4., 3., 6., 5., 8., 9., 7.],\n",
    "                   [3., 6., 5., 8., 9., 7., 2., 1., 4.],\n",
    "                   [8., 9., 7., 2., 1., 4., 3., 6., 5.],\n",
    "                   [5., 3., 1., 6., 4., 2., 9., 7., 8.],\n",
    "                   [6., 4., 2., 9., 7., 8., 5., 3., 1.],\n",
    "                   [9., 7., 8., 5., 3., 1, 6., 4., 1.]]) #El último era 2 y lo cambie por 1\n",
    "\n",
    "esSolucion(mala)"
   ]
  },
  {
   "cell_type": "markdown",
   "metadata": {},
   "source": [
    "# Pregunta 5"
   ]
  },
  {
   "cell_type": "markdown",
   "metadata": {},
   "source": [
    "Utiliza el archivo sunspots.txt (localizado en la carpeta data), el cual contiene el número de manchas solares por cada mes desde enero de 1749. La primera columna es el mes, el segundo el número de manchas.\n",
    "\n",
    "(a) Escribe el código que lea el archivo y haga una gráfica de las manchas en función del tiempo. Formatea el eje $x$ para que se muestren cada 25 años empezando en $1750$.\n",
    "\n",
    "**NOTA:** La gráfica debe de estar en calidad de publicación"
   ]
  },
  {
   "cell_type": "code",
   "execution_count": null,
   "metadata": {},
   "outputs": [],
   "source": []
  },
  {
   "cell_type": "markdown",
   "metadata": {},
   "source": [
    "(b) Calcula el promedio móvil. Dibújalo sobre el dibujo original."
   ]
  },
  {
   "cell_type": "code",
   "execution_count": null,
   "metadata": {},
   "outputs": [],
   "source": []
  },
  {
   "cell_type": "markdown",
   "metadata": {},
   "source": [
    "# Pregunta 6"
   ]
  },
  {
   "cell_type": "markdown",
   "metadata": {},
   "source": [
    "Utiliza el archivo starts.txt (localizado en la carpeta data), el cual contiene la temperatura y magnitud de varias estrellas en la Vía Lactea. Usa esta información para dibujar un scatter plot del logaritmo del brillo vs. la temperatura (en K). Este diagrama se conoce como diagrama de Hertzsprung-Russell.\n",
    "\n",
    "(a) Lee el archivo y dibuja los datos tal como vienen en el archivo. Agrega etiquetas y formatea la gráfica de tal manera que tenga calidad de publicación.\n",
    "\n",
    "(b) Ahora usa el xlim() y ylim() para que quede de manera correcta el diagrama. Hay regiones donde las estrellas parece que se aglomeran, ve el archivo de wikipedia y agrega anotaciones para explicarlas."
   ]
  },
  {
   "cell_type": "code",
   "execution_count": null,
   "metadata": {},
   "outputs": [],
   "source": []
  }
 ],
 "metadata": {
  "kernelspec": {
   "display_name": "Python 3",
   "language": "python",
   "name": "python3"
  },
  "language_info": {
   "codemirror_mode": {
    "name": "ipython",
    "version": 3
   },
   "file_extension": ".py",
   "mimetype": "text/x-python",
   "name": "python",
   "nbconvert_exporter": "python",
   "pygments_lexer": "ipython3",
   "version": "3.8.5"
  }
 },
 "nbformat": 4,
 "nbformat_minor": 4
}
