{
 "cells": [
  {
   "cell_type": "markdown",
   "metadata": {},
   "source": [
    "# Summation of primes"
   ]
  },
  {
   "cell_type": "markdown",
   "metadata": {},
   "source": [
    "The sum of the primes below 10 is 2 + 3 + 5 + 7 = 17.\n",
    "\n",
    "Find the sum of all the primes below two million."
   ]
  },
  {
   "cell_type": "code",
   "execution_count": 30,
   "metadata": {},
   "outputs": [
    {
     "name": "stdout",
     "output_type": "stream",
     "text": [
      "La suma de todos los números primos menores a 2000000 es:  142913828922\n"
     ]
    }
   ],
   "source": [
    "def SumaPrimos(numero): \n",
    "    sum, primo = 0, [True] * numero                \n",
    "    for i in range(2, numero):                     #Para ver si es primo\n",
    "        if primo[i]:\n",
    "            sum += i                               #Si es primo se va a ir sumando\n",
    "            for n in range(i*i, numero, i):\n",
    "                primo[n] = False\n",
    "    return sum\n",
    "\n",
    "print (\"La suma de todos los números primos menores a 2000000 es: \", SumaPrimos(2000000))"
   ]
  },
  {
   "cell_type": "code",
   "execution_count": null,
   "metadata": {},
   "outputs": [],
   "source": []
  }
 ],
 "metadata": {
  "kernelspec": {
   "display_name": "Python 3",
   "language": "python",
   "name": "python3"
  },
  "language_info": {
   "codemirror_mode": {
    "name": "ipython",
    "version": 3
   },
   "file_extension": ".py",
   "mimetype": "text/x-python",
   "name": "python",
   "nbconvert_exporter": "python",
   "pygments_lexer": "ipython3",
   "version": "3.8.5"
  }
 },
 "nbformat": 4,
 "nbformat_minor": 4
}
