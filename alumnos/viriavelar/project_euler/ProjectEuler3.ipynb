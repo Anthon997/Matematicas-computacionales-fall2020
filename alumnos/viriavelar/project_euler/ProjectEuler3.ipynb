{
 "cells": [
  {
   "cell_type": "markdown",
   "metadata": {},
   "source": [
    "# Largest prime factor"
   ]
  },
  {
   "cell_type": "markdown",
   "metadata": {},
   "source": [
    "The prime factors of 13195 are 5, 7, 13 and 29.\n",
    "\n",
    "What is the largest prime factor of the number 600851475143 ?"
   ]
  },
  {
   "cell_type": "code",
   "execution_count": 1,
   "metadata": {},
   "outputs": [
    {
     "name": "stdout",
     "output_type": "stream",
     "text": [
      "El factor primo más grande del número 600851475143 es: 6857.0\n"
     ]
    }
   ],
   "source": [
    "Original = 600851475143\n",
    "NUMERO = 600851475143\n",
    "minimo = 2                              # Ponemos 2 porque es el número primo más chico\n",
    "for i in range(0,NUMERO):\n",
    "    if minimo >= NUMERO:                # Ponemos esto para que el factor de primo no pase al número original\n",
    "        break\n",
    "    elif NUMERO % minimo == 0:          # Checa si el número es divisible entre el mínimo\n",
    "        NUMERO = NUMERO / minimo\n",
    "    else:\n",
    "        minimo = minimo + 1             # Va checando cada número\n",
    "print (\"El factor primo más grande del número\",Original,\"es:\",str(NUMERO))"
   ]
  },
  {
   "cell_type": "code",
   "execution_count": null,
   "metadata": {},
   "outputs": [],
   "source": []
  }
 ],
 "metadata": {
  "kernelspec": {
   "display_name": "Python 3",
   "language": "python",
   "name": "python3"
  },
  "language_info": {
   "codemirror_mode": {
    "name": "ipython",
    "version": 3
   },
   "file_extension": ".py",
   "mimetype": "text/x-python",
   "name": "python",
   "nbconvert_exporter": "python",
   "pygments_lexer": "ipython3",
   "version": "3.8.5"
  }
 },
 "nbformat": 4,
 "nbformat_minor": 4
}
