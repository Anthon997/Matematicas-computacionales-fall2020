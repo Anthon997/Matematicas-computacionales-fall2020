{
 "cells": [
  {
   "cell_type": "markdown",
   "metadata": {},
   "source": [
    "# CodeCademy Python"
   ]
  },
  {
   "cell_type": "markdown",
   "metadata": {},
   "source": [
    "# Sintaxis\n",
    "\n",
    "tipo de errores: \n",
    "- syntaxError: error de sintaxis del programa, algo está mal escrito\n",
    "- NameError: cuando algo que parece una variable nunca fue declarada anteriormente\n",
    "- ZeroDivisionError: cuando intentas dividir entre 0\n",
    "\n",
    "variables numericas:\n",
    "- integer, float: no necesitas especificar el tipo de variable al declararla, simplemente lo escribes de acorde al tipo que sea.\n",
    "\n",
    "operaciones:\n",
    "- suma,resta,mult,div\n",
    "- div: python convierte los dos argumentos a float antes de hacer la division y da como resultado un float\n",
    "- potencia:**\n",
    "- modulo:%, residuo de division\n",
    "- (+): tambien sirve para concatenar strings\n",
    "- += : agrega un valor a la variable actual y la actualiza, tambien funciona con concatenacion \n",
    "\n",
    "string:\n",
    "- (\"\"\"string\"\"\"): ayuda a tener un string que ocupa multiples lineas\n",
    "\n",
    "casteo:\n",
    "- string(num): convierte a string una variable numerica\n",
    "\n",
    "input:\n",
    "- input(): asigna a una variable el valor que recibe de teclado. tiene que ser --> x = input(\"dame variable\")"
   ]
  },
  {
   "cell_type": "markdown",
   "metadata": {},
   "source": [
    "# Funciones\n",
    "\n",
    "funcion: transforma un input en un output\n",
    "\n",
    "sintaxis: \n",
    "\n",
    "def <nombrefuncion>:\n",
    "    \n",
    "    cuerpo de función\n",
    "    \n",
    "- el cuerpo tiene que tener identación para que se reconozca como parte de la funcion\n",
    "    \n",
    "parametros: variable que pasas a la función para que trabaje con ella\n",
    "- multiples:\n",
    "    - positional: cuando llamas a la funcion pones los valores por orden \n",
    "    - keyword: especificas en la llamada el valor, o cuando defines la funcion especificas un valor constante. No puedes definir por por key y luego por position, solo es al reves.\n",
    "\n",
    "returns:\n",
    "- return <varible>: de este modo se especifica la \n",
    "variable de saida.\n",
    "- multiples: \n",
    "    return <variable1>,<variable2>\n",
    "    - se asignan asi:\n",
    "        variable1,variable2 = function(1,2)\n",
    "\n",
    "scope:\n",
    "- la parte donde puede ser modificada una variable. ya sea solamente dentro de una funcion o globalmente.\n",
    "   "
   ]
  },
  {
   "cell_type": "markdown",
   "metadata": {},
   "source": [
    "# Control Flow\n",
    "\n"
   ]
  },
  {
   "cell_type": "code",
   "execution_count": null,
   "metadata": {},
   "outputs": [],
   "source": []
  }
 ],
 "metadata": {
  "kernelspec": {
   "display_name": "Python 3",
   "language": "python",
   "name": "python3"
  },
  "language_info": {
   "codemirror_mode": {
    "name": "ipython",
    "version": 3
   },
   "file_extension": ".py",
   "mimetype": "text/x-python",
   "name": "python",
   "nbconvert_exporter": "python",
   "pygments_lexer": "ipython3",
   "version": "3.8.5"
  }
 },
 "nbformat": 4,
 "nbformat_minor": 4
}
