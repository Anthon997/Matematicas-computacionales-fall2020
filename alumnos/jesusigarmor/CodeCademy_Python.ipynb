{
 "cells": [
  {
   "cell_type": "markdown",
   "metadata": {},
   "source": [
    "# CodeCademy Python"
   ]
  },
  {
   "cell_type": "markdown",
   "metadata": {},
   "source": [
    "# Sintaxis\n",
    "\n",
    "tipo de errores: \n",
    "- syntaxError: error de sintaxis del programa, algo está mal escrito\n",
    "- NameError: cuando algo que parece una variable nunca fue declarada anteriormente\n",
    "- ZeroDivisionError: cuando intentas dividir entre 0\n",
    "\n",
    "variables numericas:\n",
    "- integer, float: no necesitas especificar el tipo de variable al declararla, simplemente lo escribes de acorde al tipo que sea.\n",
    "\n",
    "operaciones:\n",
    "- suma,resta,mult,div\n",
    "- div: python convierte los dos argumentos a float antes de hacer la division y da como resultado un float\n",
    "- potencia:**\n",
    "- modulo:%, residuo de division\n",
    "- (+): tambien sirve para concatenar strings\n",
    "- += : agrega un valor a la variable actual y la actualiza, tambien funciona con concatenacion \n",
    "\n",
    "string:\n",
    "- (\"\"\"string\"\"\"): ayuda a tener un string que ocupa multiples lineas\n",
    "\n",
    "casteo:\n",
    "- string(num): convierte a string una variable numerica\n"
   ]
  }
 ],
 "metadata": {
  "kernelspec": {
   "display_name": "Python 3",
   "language": "python",
   "name": "python3"
  },
  "language_info": {
   "codemirror_mode": {
    "name": "ipython",
    "version": 3
   },
   "file_extension": ".py",
   "mimetype": "text/x-python",
   "name": "python",
   "nbconvert_exporter": "python",
   "pygments_lexer": "ipython3",
   "version": "3.8.5"
  }
 },
 "nbformat": 4,
 "nbformat_minor": 4
}
