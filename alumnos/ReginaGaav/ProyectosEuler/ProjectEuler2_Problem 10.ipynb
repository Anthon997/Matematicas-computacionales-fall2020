{
 "cells": [
  {
   "cell_type": "markdown",
   "metadata": {},
   "source": [
    "# Problem 10\n",
    "### Sum of primes"
   ]
  },
  {
   "cell_type": "markdown",
   "metadata": {},
   "source": [
    "The sum of the primes below 10 is 2 + 3 + 5 + 7 = 17.\n",
    "\n",
    "Find the sum of all the primes below two million."
   ]
  },
  {
   "cell_type": "code",
   "execution_count": null,
   "metadata": {},
   "outputs": [],
   "source": [
    "# Veamos primero una función que vea si los números son primos. \n",
    "# Es la misma usada en el problema 3\n",
    "def primo(N):\n",
    "    if N < 2:\n",
    "        return False #Los numeros menores a 2 no son primos\n",
    "    if N == 2:\n",
    "        return True #El 2 es primo\n",
    "    if N > 2 and N % 2 == 0:\n",
    "        return False #Con excepcion del 2, los numeros pares no son primos\n",
    "    for i in range(2, N):\n",
    "        if N%i == 0: #Esto es, si N es divisible por un número que esté entre el 2 y él mismo, entonces no es primo\n",
    "            return False\n",
    "    return True #De no cumplirse lo anterior, el número sí es primo\n",
    "\n",
    "primo(19)"
   ]
  },
  {
   "cell_type": "code",
   "execution_count": null,
   "metadata": {},
   "outputs": [],
   "source": [
    "# Una vez verificado que sean primos, veamos la suma de estos. \n",
    "# Esta función depende del límite de la suma, en este caso 2 millones.\n",
    "\n",
    "def suma(lim):\n",
    "    suma = 0\n",
    "    for i in range(2, lim): \n",
    "        if primo(i):\n",
    "            suma += i\n",
    "    return suma\n",
    "\n",
    "print suma(2000000000)"
   ]
  }
 ],
 "metadata": {
  "kernelspec": {
   "display_name": "Python 3",
   "language": "python",
   "name": "python3"
  },
  "language_info": {
   "codemirror_mode": {
    "name": "ipython",
    "version": 3
   },
   "file_extension": ".py",
   "mimetype": "text/x-python",
   "name": "python",
   "nbconvert_exporter": "python",
   "pygments_lexer": "ipython3",
   "version": "3.8.5"
  }
 },
 "nbformat": 4,
 "nbformat_minor": 4
}
