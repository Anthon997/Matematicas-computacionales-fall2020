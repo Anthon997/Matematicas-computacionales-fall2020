{
 "cells": [
  {
   "cell_type": "markdown",
   "metadata": {},
   "source": [
    "# Problem 3\n",
    "### Largest prime factor"
   ]
  },
  {
   "cell_type": "markdown",
   "metadata": {},
   "source": [
    "The prime factors of 13195 are 5, 7, 13 and 29.\n",
    "\n",
    "What is the largest prime factor of the number 600851475143 ?"
   ]
  },
  {
   "cell_type": "code",
   "execution_count": 21,
   "metadata": {},
   "outputs": [
    {
     "data": {
      "text/plain": [
       "False"
      ]
     },
     "execution_count": 21,
     "metadata": {},
     "output_type": "execute_result"
    }
   ],
   "source": [
    "#Veamos primero que efectivamente el número dado (N) es primo\n",
    "def primo(N):\n",
    "    if N < 2:\n",
    "        return False #Los numeros menores a 2 no son primos\n",
    "    if N == 2:\n",
    "        return True #El 2 es primo\n",
    "    if N > 2 and N % 2 == 0:\n",
    "        return False #Con excepcion del 2, los numeros pares no son primos\n",
    "    for i in range(2, N):\n",
    "        if N%i == 0: #Esto es, si N es divisible por un número que esté entre el 2 y él mismo, entonces no es primo\n",
    "            return False\n",
    "    return True #De no cumplirse lo anterior, el número sí es primo\n",
    "\n",
    "primo(600851475143)"
   ]
  },
  {
   "cell_type": "code",
   "execution_count": 19,
   "metadata": {},
   "outputs": [
    {
     "data": {
      "text/plain": [
       "6857"
      ]
     },
     "execution_count": 19,
     "metadata": {},
     "output_type": "execute_result"
    }
   ],
   "source": [
    "# Vimos ya que 600851475143 no es primo, procedemos a buscar el máximo factor primo del número dado (N)\n",
    "# Para esto, definimos la siguiente función\n",
    "# Lo que hace es que recorre todos los posibles factores, empezando con el 2. Si el número dado es divisible entre\n",
    "# el factor, entonces hace la división e intenta con el siguiente factor. Si el resultado de la división es mayor a\n",
    "# uno, entonces vuelve a hacer el proceso. Esto sigue hasta encontrar el mayor factor primo.\n",
    "# Nota: es muy parecido al algoritmo que se enseña en primaria, donde se hace una tabla para dividir entre los \n",
    "# posibles factores primos hasta llegar al uno\n",
    "\n",
    "def max_factor(N):\n",
    "    factor = 2 #Los factores primos empiezan con el 2\n",
    "    while factor < N: \n",
    "        while N % factor == 0: \n",
    "            N /= factor\n",
    "        factor += 1\n",
    "    if (N > 1):\n",
    "        return int(N)\n",
    "    return int(factor)\n",
    "    \n",
    "max_factor(600851475143)"
   ]
  },
  {
   "cell_type": "code",
   "execution_count": null,
   "metadata": {},
   "outputs": [],
   "source": []
  }
 ],
 "metadata": {
  "kernelspec": {
   "display_name": "Python 3",
   "language": "python",
   "name": "python3"
  },
  "language_info": {
   "codemirror_mode": {
    "name": "ipython",
    "version": 3
   },
   "file_extension": ".py",
   "mimetype": "text/x-python",
   "name": "python",
   "nbconvert_exporter": "python",
   "pygments_lexer": "ipython3",
   "version": "3.8.5"
  }
 },
 "nbformat": 4,
 "nbformat_minor": 4
}
