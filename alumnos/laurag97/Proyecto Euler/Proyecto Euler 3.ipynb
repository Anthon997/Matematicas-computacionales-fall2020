{
 "cells": [
  {
   "cell_type": "code",
   "execution_count": 1,
   "metadata": {},
   "outputs": [],
   "source": [
    "##The prime factors of 13195 are 5, 7, 13 and 29.\n",
    "##What is the largest prime factor of the number 600851475143"
   ]
  },
  {
   "cell_type": "code",
   "execution_count": 2,
   "metadata": {},
   "outputs": [],
   "source": [
    "import math"
   ]
  },
  {
   "cell_type": "code",
   "execution_count": 3,
   "metadata": {},
   "outputs": [
    {
     "name": "stdout",
     "output_type": "stream",
     "text": [
      "486847\n",
      "104441\n",
      "59569\n",
      "6857\n",
      "1471\n",
      "839\n",
      "71\n"
     ]
    }
   ],
   "source": [
    "for i in range (int(math.sqrt(600851475143)),1,-1):\n",
    "    if 600851475143 % i ==0:\n",
    "        flag=False\n",
    "        for n in range (int(math.sqrt(i)),1,-1):\n",
    "            if (i%n==0):\n",
    "                flag=True\n",
    "            if(flag!=True):\n",
    "                print(i)\n",
    "                break"
   ]
  },
  {
   "cell_type": "code",
   "execution_count": 6,
   "metadata": {},
   "outputs": [],
   "source": [
    "def max(n):\n",
    "    i=2\n",
    "    while i*i<=n:\n",
    "        while n%i==0:\n",
    "            n/=i\n",
    "        i+=1\n",
    "    if(n>1):\n",
    "        return n\n",
    "    return i"
   ]
  },
  {
   "cell_type": "code",
   "execution_count": 7,
   "metadata": {},
   "outputs": [
    {
     "data": {
      "text/plain": [
       "6857.0"
      ]
     },
     "execution_count": 7,
     "metadata": {},
     "output_type": "execute_result"
    }
   ],
   "source": [
    "max(600851475143)"
   ]
  },
  {
   "cell_type": "code",
   "execution_count": null,
   "metadata": {},
   "outputs": [],
   "source": []
  }
 ],
 "metadata": {
  "kernelspec": {
   "display_name": "Python 3",
   "language": "python",
   "name": "python3"
  },
  "language_info": {
   "codemirror_mode": {
    "name": "ipython",
    "version": 3
   },
   "file_extension": ".py",
   "mimetype": "text/x-python",
   "name": "python",
   "nbconvert_exporter": "python",
   "pygments_lexer": "ipython3",
   "version": "3.7.6"
  }
 },
 "nbformat": 4,
 "nbformat_minor": 4
}
