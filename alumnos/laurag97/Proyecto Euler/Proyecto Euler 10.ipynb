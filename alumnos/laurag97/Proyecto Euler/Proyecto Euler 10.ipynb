{
 "cells": [
  {
   "cell_type": "markdown",
   "metadata": {},
   "source": [
    "# Proyecto Euler 10"
   ]
  },
  {
   "cell_type": "markdown",
   "metadata": {},
   "source": [
    "The sum of the primes below 10 is 2 + 3 + 5 + 7 = 17.\n",
    "\n",
    "Find the sum of all the primes below two million"
   ]
  },
  {
   "cell_type": "code",
   "execution_count": 7,
   "metadata": {},
   "outputs": [
    {
     "name": "stdout",
     "output_type": "stream",
     "text": [
      "[2, 3, 5, 7]\n",
      "La suma de la lista de números primos es:  17\n"
     ]
    }
   ],
   "source": [
    "max=10 #Definimos nuestro número máximo \n",
    "primos=[] #Para poder sumar los primos voy a crear una lista de los números para que sea más fácil manejarlos\n",
    "for n in range (1,max): #Abro un for para que revisemos los valores en un intervalo de 1 al numero máximo (es 10)\n",
    "    contador=0 #Abrimos un contador que nos va  a ayudar como condición para los números a evaluar en el intervalo de arriba\n",
    "    for i in range(2,n//2 +1): #Ahora declaramos un for para que podamos ver entre el número 2 y la mitad +1 del número que estamos evaluando ya que si la mitad no lo dividió, la otra menos.\n",
    "        if (n%i==0): #Ahora ponemos la condición sobre si el número (n) en el intervalo de (2,n/2) es congruente con alguno de estos números entonces \n",
    "            contador=contador+1 #le sumamos 1 al contador para decir que sí ha sido dividio por alguno del intervalo\n",
    "            break #Cuando acabe el ciclo que se rompa\n",
    "    if (contador==0 and n!=1): #Ahora, si el contador es cero quiere decir que no fue dividio por ningúno \n",
    "        primos.append(n) #Ponemos este número en la lista y quedó.\n",
    "print (primos)\n",
    "print (\"La suma de la lista de números primos es: \", sum(primos)) #Sumamos la lista "
   ]
  },
  {
   "cell_type": "code",
   "execution_count": 1,
   "metadata": {},
   "outputs": [
    {
     "name": "stdout",
     "output_type": "stream",
     "text": [
      "[2, 3, 5, 7, 11, 13, 17, 19, 23, 29, 31, 37, 41, 43, 47, 53, 59, 61, 67, 71, 73, 79, 83, 89, 97]\n",
      "La suma de la lista de números primos es:  1060\n"
     ]
    }
   ],
   "source": [
    "max=100\n",
    "primos=[]\n",
    "for n in range (1,max):\n",
    "    contador=0\n",
    "    for i in range(2,n//2 +1):\n",
    "        if (n%i==0):\n",
    "            contador=contador+1\n",
    "            break\n",
    "    if (contador==0 and n!=1):\n",
    "        primos.append(n)\n",
    "print (primos)\n",
    "print (\"La suma de la lista de números primos es: \", sum(primos))"
   ]
  },
  {
   "cell_type": "code",
   "execution_count": null,
   "metadata": {},
   "outputs": [],
   "source": [
    "max=2000000\n",
    "primos=[]\n",
    "for n in range (1,max):\n",
    "    contador=0\n",
    "    for i in range(2,n//2 +1):\n",
    "        if (n%i==0):\n",
    "            contador=contador+1\n",
    "            break\n",
    "    if (contador==0 and n!=1):\n",
    "        primos.append(n)\n",
    "print (primos)\n",
    "print (\"La suma de la lista de números primos es: \", sum(primos))"
   ]
  },
  {
   "cell_type": "code",
   "execution_count": null,
   "metadata": {},
   "outputs": [],
   "source": [
    "#Profe el numero crasheaba mi compu pero sí se debe de poder por los ejemplos de arriba."
   ]
  }
 ],
 "metadata": {
  "kernelspec": {
   "display_name": "Python 3",
   "language": "python",
   "name": "python3"
  },
  "language_info": {
   "codemirror_mode": {
    "name": "ipython",
    "version": 3
   },
   "file_extension": ".py",
   "mimetype": "text/x-python",
   "name": "python",
   "nbconvert_exporter": "python",
   "pygments_lexer": "ipython3",
   "version": "3.8.5"
  }
 },
 "nbformat": 4,
 "nbformat_minor": 4
}
