{
 "cells": [
  {
   "cell_type": "markdown",
   "metadata": {},
   "source": [
    "# Tareas"
   ]
  },
  {
   "cell_type": "markdown",
   "metadata": {},
   "source": [
    "<div class=\"alert alert-warning\">\n",
    "Fecha límite de entrega: 6 de octubre, 2020 23:59\n",
    "</div>"
   ]
  },
  {
   "cell_type": "markdown",
   "metadata": {},
   "source": [
    "## Problema 1"
   ]
  },
  {
   "cell_type": "markdown",
   "metadata": {},
   "source": [
    "**(a)** Usando **SimPy** demostrar que \n",
    "\n",
    "$$\n",
    "\\frac{\\partial}{\\partial \\beta_j} \\textbf{J}(\\beta) = \\frac{1}{m}\\sum_{i=1}^{m}\\left(\\hat{y}(x^{(i)}) - y(x^{(i)})\\right) \\cdot x^{(i)}_j\n",
    "$$"
   ]
  },
  {
   "cell_type": "markdown",
   "metadata": {},
   "source": [
    "$$\\textbf{J}(\\beta_0, \\beta_1) = \\frac{1}{2m}\\sum_{(x^{(i)}, y^{(i)}) \\in X \\times Y} (y^{(i)} - \\hat{y}^{(i)}(x^{(i)}))^2 = \\frac{1}{2m}\\sum_{(x^{(i)}, y^{(i)}) \\in X \\times Y} (y^{(i)} - \\beta_0 - \\beta_1 x^{(i)})^2$$"
   ]
  },
  {
   "cell_type": "markdown",
   "metadata": {},
   "source": [
    "$$\n",
    "\\frac{\\partial}{\\partial \\beta_j} \\textbf{J}(\\beta)= \\frac{1}{2m}\\sum_{(x^{(i)}, y^{(i)}) \\in X \\times Y} 2 (y^{(i)} - \\beta_0 - \\beta_1 x^{(i)}) * (-x^{(i)})$$"
   ]
  },
  {
   "cell_type": "markdown",
   "metadata": {},
   "source": [
    "$$\n",
    "\\frac{\\partial}{\\partial \\beta_j} \\textbf{J}(\\beta)= \\frac{1}{m}\\sum_{(x^{(i)}, y^{(i)}) \\in X \\times Y} (y^{(i)} - \\beta_0 - \\beta_1 x^{(i)}) * (-x^{(i)}) = 0 $$"
   ]
  },
  {
   "cell_type": "markdown",
   "metadata": {},
   "source": [
    "$$ = \\frac{1}{m}\\sum_{(x^{(i)}, y^{(i)}) \\in X \\times Y} (-y^{(i)}(x^{(i)}) + \\beta_0(x^{(i)}) + \\beta_1 x^{(2i)}) *  = 0 $$"
   ]
  },
  {
   "cell_type": "markdown",
   "metadata": {},
   "source": [
    "Nota: Recordar que\n",
    "$$   \\hat{y} = \\hat\\beta_0 - \\hat\\beta_1 x   $$\n",
    "$$   \\hat\\beta_0 = {y} - \\hat\\beta_1 x   $$ \n",
    "$$   {y}=\\hat\\beta_0 + \\hat\\beta_1 x   $$ "
   ]
  },
  {
   "cell_type": "markdown",
   "metadata": {},
   "source": [
    " $$ = \\frac{1}{m}\\sum_{(x^{(i)}, y^{(i)}) \\in X \\times Y} (\\hat{y}(x^{(i)}) - y(x^{(i)})*x^{(i)}_j\n",
    " $$"
   ]
  },
  {
   "cell_type": "markdown",
   "metadata": {},
   "source": [
    "## Problema 2"
   ]
  },
  {
   "cell_type": "markdown",
   "metadata": {},
   "source": [
    "**(a)** Grafique $\\textbf{J}(\\beta)$ del ejercicio en $3D$ y en una gráfica de contorno. \n",
    "\n",
    "**(b)** Indique con un punto el valor de $\\textbf{J}(\\beta)$ en la última iteración.\n",
    "\n",
    "**(c)** Modifique el _widget_ para mostrar conforme pasan las iteraciones como el valor de $\\textbf{J}(\\beta)$ se acerca al mínimo en la gráfica de contorno.\n",
    "\n",
    "**(d)** Agrega al _widget_ un control para modificar $\\alpha$ (habrá que agregar el entrenamiento del modelo a la función que estás realizando para este _widget_)"
   ]
  },
  {
   "cell_type": "code",
   "execution_count": 36,
   "metadata": {},
   "outputs": [
    {
     "name": "stdout",
     "output_type": "stream",
     "text": [
      "[2.0658746, 2.3684087, 2.5399929, 2.5420804, 2.549079, 2.7866882, 2.9116825, 3.035627, 3.1146696, 3.1582389, 3.3275944, 3.3793165, 3.4122006, 3.4215823, 3.5315732, 3.6393002, 3.6732537, 3.9256462, 4.0498646, 4.2483348, 4.3440052, 4.3826531, 4.4230602, 4.6102443, 4.6881183, 4.9777333, 5.0359967, 5.0684536, 5.4161491, 5.4395623, 5.4563207, 5.5698458, 5.6015729, 5.6877617, 5.7215602, 5.8538914, 6.1978026, 6.3510941, 6.4797033, 6.7383791, 6.8637686, 7.0223387, 7.0782373, 7.1514232, 7.4664023, 7.5973874, 7.7440717, 7.7729662, 7.8264514, 7.9306356]\n"
     ]
    }
   ],
   "source": [
    "edat=open(\"edad.dat\",\"r\") #Como no me corrió el código de la clase entonces abrí a la antigua los datos\n",
    "textoedad=edat.read()\n",
    "edat.close()\n",
    "listaedad=textoedad.split('\\n')\n",
    "listaedad.pop()\n",
    "datosedad=[float(n) for n in listaedad ]\n",
    "print(datosedad)"
   ]
  },
  {
   "cell_type": "code",
   "execution_count": 37,
   "metadata": {},
   "outputs": [
    {
     "name": "stdout",
     "output_type": "stream",
     "text": [
      "[0.77918926, 0.91596757, 0.90538354, 0.90566138, 0.9389889, 0.9668474, 0.96436824, 0.91445939, 0.93933944, 0.96074971, 0.89837094, 0.91209739, 0.94238499, 0.96624578, 1.05265, 1.0143791, 0.95969426, 0.96853716, 1.0766065, 1.1454978, 1.0340625, 1.0070009, 0.96683648, 1.0895919, 1.0634462, 1.1237239, 1.0323374, 1.0874452, 1.0702988, 1.1606493, 1.0778037, 1.1069758, 1.0971875, 1.1648603, 1.1411796, 1.0844156, 1.1252493, 1.1168341, 1.1970789, 1.2069462, 1.1251046, 1.1235672, 1.2132829, 1.2522652, 1.2497065, 1.1799706, 1.1897299, 1.3029934, 1.2601134, 1.2562267]\n"
     ]
    }
   ],
   "source": [
    "aldat=open(\"altura.dat\",\"r\")\n",
    "textoaltura=aldat.read()\n",
    "aldat.close()\n",
    "listaltura=textoaltura.split('\\n')\n",
    "listaltura.pop()\n",
    "datosaltura=[float(n) for n in listaltura ]\n",
    "print(datosaltura)"
   ]
  },
  {
   "cell_type": "code",
   "execution_count": 38,
   "metadata": {},
   "outputs": [],
   "source": [
    "XE=np.array(datosedad) #Vamos a trabajar con arreglos en la regresión lineal para evitar estar declarando ciclos\n",
    "YA=np.array(datosaltura)"
   ]
  },
  {
   "cell_type": "code",
   "execution_count": 18,
   "metadata": {},
   "outputs": [],
   "source": [
    "import matplotlib.animation as animation"
   ]
  },
  {
   "cell_type": "code",
   "execution_count": 58,
   "metadata": {},
   "outputs": [],
   "source": [
    "class RegresionLineal:\n",
    "    def __init__(self, alpha=0.3, max_iters=100, tols=0.001):\n",
    "        self.alpha = alpha\n",
    "        self.max_iters = max_iters\n",
    "        self.tols = tols\n",
    "        self.breaking_iteration = None\n",
    "        self.historia = {'costo':[], 'beta':[]}  # Con fines de graficación\n",
    "        \n",
    "    def gradientDescent(self, x, y):\n",
    "        unos = np.ones((x.shape[0], 1))\n",
    "        Xt = X.reshape(x.shape[0], 1)\n",
    "        Xt = np.concatenate((unos, Xt), axis=1)\n",
    "        \n",
    "        i = 0\n",
    "        prep_J = 0\n",
    "        m, n = Xt.shape\n",
    "        self.beta = np.zeros(n) \n",
    "                \n",
    "        while i < self.max_iters:     \n",
    "            # Actualizamos beta\n",
    "            self.beta = self.beta - self.alpha * self.gradiente(Xt, y)\n",
    "            \n",
    "            J = self.costo(Xt, y)\n",
    "            \n",
    "            if abs(J - prep_J) <= self.tols:\n",
    "                print('La función convergió con beta: %s en la iteración %i' % ( str(self.beta), i ))\n",
    "                self.breaking_iteration = i\n",
    "                break\n",
    "            else:\n",
    "                prep_J = J\n",
    "            \n",
    "            self.historia['costo'].append(J)\n",
    "            self.historia['beta'].append(self.beta)                \n",
    "            i += 1\n",
    "    \n",
    "    def hipotesis(self, x):\n",
    "        return np.dot(x, self.beta)\n",
    "    \n",
    "    def costo(self, x, y):\n",
    "        m = x.shape[0]\n",
    "        error = self.hipotesis(x) - y\n",
    "        return np.dot(error.T, error) / (2 * m) \n",
    "    \n",
    "    def gradiente(self, x, y):\n",
    "        m = x.shape[0]\n",
    "        error = self.hipotesis(x) - y        \n",
    "        return np.dot(x.T, error) / m"
   ]
  },
  {
   "cell_type": "code",
   "execution_count": 28,
   "metadata": {},
   "outputs": [],
   "source": [
    "from mpl_toolkits.mplot3d.axes3d import Axes3D\n",
    "from matplotlib import cm "
   ]
  },
  {
   "cell_type": "code",
   "execution_count": 46,
   "metadata": {},
   "outputs": [
    {
     "data": {
      "image/png": "[encoded data removed]",
      "text/plain": [
       "<Figure size 432x288 with 1 Axes>"
      ]
     },
     "metadata": {
      "needs_background": "light"
     },
     "output_type": "display_data"
    }
   ],
   "source": [
    "fig = plt.figure()\n",
    "ax=gca(projection='3d')\n",
    "XE,YA = np.meshgrid(XE,YA)\n",
    "\n",
    "R=np.sqrt(XE**2+ YA**2)\n",
    "Z=np.sin(R)\n",
    "surface=ax.plot_surface(XE,YA,Z)"
   ]
  },
  {
   "cell_type": "code",
   "execution_count": 39,
   "metadata": {},
   "outputs": [],
   "source": [
    "def plotGuess(x, y, interceptor, pendiente):\n",
    "    \n",
    "    modelo = lambda x,b,m: b + m*x # función para graficar el modelo\n",
    "    \n",
    "    plt.scatter(XE,YA, label=\"data\")\n",
    "    plt.plot(XE, modelo(XE, interceptor, pendiente), label='Guess')\n",
    "    plt.xlabel('Edad (yr)')\n",
    "    plt.ylabel('Altura (m)')\n",
    "    plt.legend(loc=\"best\")"
   ]
  },
  {
   "cell_type": "code",
   "execution_count": 45,
   "metadata": {},
   "outputs": [
    {
     "data": {
      "application/vnd.jupyter.widget-view+json": {
       "model_id": "27222fa5189f4a039822d2e41f76abc9",
       "version_major": 2,
       "version_minor": 0
      },
      "text/plain": [
       "interactive(children=(FloatSlider(value=0.0, description='interceptor', max=1.0, step=0.02), FloatSlider(value…"
      ]
     },
     "metadata": {},
     "output_type": "display_data"
    },
    {
     "data": {
      "text/plain": [
       "<function __main__.plotGuess(x, y, interceptor, pendiente)>"
      ]
     },
     "execution_count": 45,
     "metadata": {},
     "output_type": "execute_result"
    }
   ],
   "source": [
    "interact(plotGuess, x=fixed(XE), y=fixed(YA), interceptor=(0,1,0.02), pendiente=(0,0.2, 0.02))"
   ]
  },
  {
   "cell_type": "code",
   "execution_count": null,
   "metadata": {},
   "outputs": [],
   "source": [
    "r = RegresionLineal(alpha=0.03, max_iters=10000, tols=0.0000001)\n",
    "r.gradientDescent(XE, YA)"
   ]
  },
  {
   "cell_type": "code",
   "execution_count": 55,
   "metadata": {},
   "outputs": [],
   "source": [
    "def plotModelo(x,y,rl,iteracion):\n",
    "    modelo = lambda x,b,m: b + m*x # función para graficar el modelo\n",
    "    \n",
    "    _beta = rl.historia['beta'][iteracion]\n",
    "\n",
    "    fig, ax = plt.subplots(1,2, figsize=(10,6))\n",
    "    ax[0].scatter(x,y, label=\"datos\")\n",
    "    ax[0].plot(x, modelo(x, _beta[0], _beta[1]), label=\"int: %1.2f, pen: %1.2f\" % (_beta[0], _beta[1]))\n",
    "    ax[0].set_xlabel('Edad (yr)')\n",
    "    ax[0].set_ylabel('Altura (m)')\n",
    "    ax[0].legend(loc=\"best\")\n",
    "    #ax[0].set_xlim(0, max(x))\n",
    "    #ax[0].set_ylim(0, max(y))\n",
    "    \n",
    "    costo  = rl.historia['costo']\n",
    "    \n",
    "    iteraciones = [i for i in range(0, len(costo))]\n",
    "    ax[1].plot(iteraciones, costo, 'g', label=\"costo\")\n",
    "    ax[1].plot(iteracion, costo[iteracion], 'or', label=\"iteracion\")\n",
    "    ax[1].set_xlabel('Iteraciones')\n",
    "    ax[1].set_ylabel('Costo')\n",
    "    ax[1].legend(loc=\"best\")"
   ]
  },
  {
   "cell_type": "code",
   "execution_count": null,
   "metadata": {},
   "outputs": [],
   "source": [
    "ultima_iteracion = (r.breaking_iteration - 1) if r.breaking_iteration else (r.max_iters - 1)\n",
    "\n",
    "interact(plotModelo, x=fixed(XE), y=fixed(YA), rl=fixed(r), iteracion=(0,ultima_iteracion,10));"
   ]
  },
  {
   "cell_type": "markdown",
   "metadata": {},
   "source": [
    "## Problema 3"
   ]
  },
  {
   "cell_type": "markdown",
   "metadata": {},
   "source": [
    "**(a)**  Usando los datos de `chirps.txt`"
   ]
  },
  {
   "cell_type": "code",
   "execution_count": 3,
   "metadata": {},
   "outputs": [
    {
     "name": "stdout",
     "output_type": "stream",
     "text": [
      "Populating the interactive namespace from numpy and matplotlib\n"
     ]
    }
   ],
   "source": [
    "%pylab inline\n",
    "import numpy as np\n",
    "import matplotlib.pyplot as plt\n",
    "\n",
    "from ipywidgets import interact, fixed, widgets"
   ]
  },
  {
   "cell_type": "code",
   "execution_count": 15,
   "metadata": {},
   "outputs": [
    {
     "name": "stderr",
     "output_type": "stream",
     "text": [
      "UsageError: Line magic function `%cat` not found.\n"
     ]
    }
   ],
   "source": [
    "%cat data/chirps.txt"
   ]
  },
  {
   "cell_type": "markdown",
   "metadata": {},
   "source": [
    "Entrenar una regresión lineal. Grafique los datos y el mejor modelo. Explique como llegó a los valores de $\\alpha$. ¿Coinciden con los mostrados en la página web?"
   ]
  },
  {
   "cell_type": "markdown",
   "metadata": {},
   "source": [
    "\n",
    "**NOTA**: Datos obtenidos de [aquí](http://mathbits.com/MathBits/TISection/Statistics2/linearREAL.htm)\n"
   ]
  },
  {
   "cell_type": "code",
   "execution_count": 47,
   "metadata": {},
   "outputs": [
    {
     "name": "stdout",
     "output_type": "stream",
     "text": [
      "[20.0, 16.0, 19.8, 18.4, 17.1, 15.5, 14.7, 15.7, 15.4, 16.3, 15.0, 17.2, 16.0, 17.0, 14.4]\n",
      "[88.6, 71.6, 93.3, 84.3, 80.6, 75.2, 69.7, 71.6, 69.4, 83.3, 79.6, 82.6, 80.6, 83.5, 76.3]\n"
     ]
    }
   ],
   "source": [
    "datos=open('chirps.txt','r') #En este apartado leeremos los datos de un txt\n",
    "xdatos=[]  #Como a mí se me hace más fácil trabajar con listas entonces vamos a extraer los datos a estas listas\n",
    "ydatos=[]\n",
    "lineas=datos.readlines() \n",
    "for linea in lineas: #Utilizamos el ciclo for para que por cada linea del texto extraiga los valores\n",
    "    x,y = linea.split() #Separamos las líneas x de la y\n",
    "    xdatos.append(float(x)) #Guardamos los datos x en la lista de los datos x\n",
    "    ydatos.append(float(y)) #Guardamos los datos y en la lista de los datos y \n",
    "datos.close()\n",
    "print (xdatos)\n",
    "print (ydatos)"
   ]
  },
  {
   "cell_type": "code",
   "execution_count": 48,
   "metadata": {},
   "outputs": [],
   "source": [
    "X=np.array(xdatos) #Vamos a trabajar con arreglos en la regresión lineal para evitar estar declarando ciclos\n",
    "Y=np.array(ydatos)"
   ]
  },
  {
   "cell_type": "code",
   "execution_count": 49,
   "metadata": {},
   "outputs": [
    {
     "data": {
      "text/plain": [
       "Text(0, 0.5, 'Temperatura (F)')"
      ]
     },
     "execution_count": 49,
     "metadata": {},
     "output_type": "execute_result"
    },
    {
     "data": {
      "image/png": "[encoded data removed]",
      "text/plain": [
       "<Figure size 432x288 with 1 Axes>"
      ]
     },
     "metadata": {
      "needs_background": "light"
     },
     "output_type": "display_data"
    }
   ],
   "source": [
    "plt.scatter(xdatos,ydatos, label=\"data\") #Primero vamos a ver cómo se ven nuestros datos sin la regresión\n",
    "plt.xlabel('Chirps')\n",
    "plt.ylabel('Temperatura (F)')"
   ]
  },
  {
   "cell_type": "code",
   "execution_count": 50,
   "metadata": {},
   "outputs": [
    {
     "name": "stdout",
     "output_type": "stream",
     "text": [
      "15 3.410322999513067 22.848982308066844 0.6922946529147221\n"
     ]
    }
   ],
   "source": [
    "n=len(xdatos)\n",
    "sumx=sum(X)  #Primero sumamos los datos del arreglo de X para obtener el promedio \n",
    "sumy=sum(Y) #Después sumamos los datos del arreglo de Y para igual sacar su promedio\n",
    "promx=sumx/n #De aquí en adelante son puras fórmulas\n",
    "promy=sumy/n \n",
    "sx2=sum((X-promx)**2)\n",
    "sy2=sum((Y-promy)**2)\n",
    "sxy=sum((X-promx)*(Y-promy))\n",
    "b=sxy/sx2 #Para sacar la pendiente beta necesitamos sacar sxy y sx2 (arriba en este código se ve su fórmula)\n",
    "a=promy-(b*promx) #Para sacar el factor beta0 necesitamos utlizar promy=beta0+beta(promx) y despejamos \n",
    "\n",
    "sumx2=sum(X*X)\n",
    "sumy2=sum(Y*Y)\n",
    "sumxy=sum(X*Y)\n",
    "sigmax=np.sqrt(sumx2/n - promx**2)\n",
    "sigmay=np.sqrt(sumy2/n - promy**2)\n",
    "sigmaxy=sumxy/n - promx*promy\n",
    "R2=(sigmaxy/(sigmax*sigmay))**2 #Sacamos R2 para entender la correlación que existen entrelos datos x & y \n",
    "print(n,b,a,R2)"
   ]
  },
  {
   "cell_type": "code",
   "execution_count": 51,
   "metadata": {},
   "outputs": [
    {
     "data": {
      "image/png": "[encoded data removed]",
      "text/plain": [
       "<Figure size 432x288 with 1 Axes>"
      ]
     },
     "metadata": {
      "needs_background": "light"
     },
     "output_type": "display_data"
    }
   ],
   "source": [
    "plt.plot(X,Y,'o', label='Datos') #Graficamos en plot los datos con forma de puntos\n",
    "plt.plot(X, b*X + a, label='Ajuste') #Graficamos ahora la recta por medio de la fórmula y=a+xb\n",
    "plt.xlabel(\"Chirps\") \n",
    "plt.ylabel(\"Temperatura\")\n",
    "plt.title('Regresión Lineal')\n",
    "plt.grid() #Para que se \n",
    "plt.legend(loc=4)\n",
    "plt.show()"
   ]
  },
  {
   "cell_type": "markdown",
   "metadata": {},
   "source": [
    "#### En este modelo podemos observar que a pesar de que los datos parecen estar muy dispersos, existe un alta correlación de los datos, ya que la R2 tiene un valor de 69.22% lo cual indica que casi el 70% de nuestros datos se relacionan entre x & y. Por lo tanto se puede decir que es un buen modelo.\n",
    "\n",
    "Los datos de este modelo son los mismos que los de la página https://www.mathbits.com/MathBits/TISection/Statistics2/linearREAL.htm\n",
    "\n",
    "Retomamos las fórmulas para sacar alpha y beta \n",
    "alpha= Promedio de X - Beta*Promedio de Y\n",
    "Beta= Sxy/Sx2"
   ]
  },
  {
   "cell_type": "code",
   "execution_count": 52,
   "metadata": {},
   "outputs": [],
   "source": [
    "#AHORA VEMOS LA SIMULACIÓN DE ALPHA \n",
    "def plotGuess(x, y, interceptor, pendiente):\n",
    "    \n",
    "    modelo = lambda x,b,m: b + m*x # función para graficar el modelo\n",
    "    \n",
    "    plt.scatter(X,Y, label=\"data\")\n",
    "    plt.plot(X, modelo(X, interceptor, pendiente), label='Guess')\n",
    "    plt.xlabel('Edad (yr)')\n",
    "    plt.ylabel('Altura (m)')\n",
    "    plt.legend(loc=\"best\")"
   ]
  },
  {
   "cell_type": "code",
   "execution_count": 54,
   "metadata": {},
   "outputs": [
    {
     "data": {
      "application/vnd.jupyter.widget-view+json": {
       "model_id": "addc488ff8f8476787d0c32eb4cbcdc9",
       "version_major": 2,
       "version_minor": 0
      },
      "text/plain": [
       "interactive(children=(FloatSlider(value=0.0, description='interceptor', max=1.0, step=0.02), FloatSlider(value…"
      ]
     },
     "metadata": {},
     "output_type": "display_data"
    },
    {
     "data": {
      "text/plain": [
       "<function __main__.plotGuess(x, y, interceptor, pendiente)>"
      ]
     },
     "execution_count": 54,
     "metadata": {},
     "output_type": "execute_result"
    }
   ],
   "source": [
    "interact(plotGuess, x=fixed(X), y=fixed(Y), interceptor=(0,1,0.02), pendiente=(0,22, 0.02))"
   ]
  },
  {
   "cell_type": "markdown",
   "metadata": {},
   "source": [
    "## Problema 4"
   ]
  },
  {
   "cell_type": "markdown",
   "metadata": {},
   "source": [
    "**(a)** Usando los datos del [cuarteto de Anscombe](http://en.wikipedia.org/wiki/Anscombe%27s_quartet) Calcule la regresión lineal ¿Qué sucede?"
   ]
  },
  {
   "cell_type": "code",
   "execution_count": 79,
   "metadata": {},
   "outputs": [],
   "source": [
    "#Primero declaramos los valores, en mi caso en listas:\n",
    "x = [10, 8, 13, 9, 11, 14, 6, 4, 12, 7, 5] \n",
    "y1 = [8.04, 6.95, 7.58, 8.81, 8.33, 9.96, 7.24, 4.26, 10.84, 4.82, 5.68]\n",
    "y2 = [9.14, 8.14, 8.74, 8.77, 9.26, 8.10, 6.13, 3.10, 9.13, 7.26, 4.74]\n",
    "y3 = [7.46, 6.77, 12.74, 7.11, 7.81, 8.84, 6.08, 5.39, 8.15, 6.42, 5.73]\n",
    "x4 = [8, 8, 8, 8, 8, 8, 8, 19, 8, 8, 8]\n",
    "y4 = [6.58, 5.76, 7.71, 8.84, 8.47, 7.04, 5.25, 12.50, 5.56, 7.91, 6.89]"
   ]
  },
  {
   "cell_type": "code",
   "execution_count": 89,
   "metadata": {},
   "outputs": [
    {
     "data": {
      "image/png": "[encoded data removed]",
      "text/plain": [
       "<Figure size 432x288 with 4 Axes>"
      ]
     },
     "metadata": {
      "needs_background": "light"
     },
     "output_type": "display_data"
    }
   ],
   "source": [
    "#Primero graficamos los datos de cada uno para observar su comporatmiento. \n",
    "#Usamos el grid para tener las gráficas más presentables.\n",
    "ax1 = subplot(2, 2, 1)\n",
    "scatter(x,y1)\n",
    "plt.grid()\n",
    "subplot(2, 2, 2, sharex=ax1, sharey=ax1)\n",
    "scatter(x,y2)\n",
    "plt.grid()\n",
    "subplot(2, 2, 3, sharex=ax1, sharey=ax1)\n",
    "scatter(x,y3)\n",
    "plt.grid()\n",
    "subplot(2, 2, 4, sharex=ax1, sharey=ax1)\n",
    "scatter(x4,y4)\n",
    "plt.grid()"
   ]
  },
  {
   "cell_type": "markdown",
   "metadata": {},
   "source": [
    "La recta de la regresión lineal la podemos sacar de 3 formas: \n",
    "1) Haciendo el modelo de cada uno como el inciso anterior \n",
    "2) Con los datos que tiene el link de la página \n",
    "3) Con la libería de linear regression"
   ]
  },
  {
   "cell_type": "code",
   "execution_count": 91,
   "metadata": {},
   "outputs": [],
   "source": [
    "from scipy.stats import linregress"
   ]
  },
  {
   "cell_type": "code",
   "execution_count": 101,
   "metadata": {},
   "outputs": [
    {
     "data": {
      "text/plain": [
       "[<matplotlib.lines.Line2D at 0x1a93dc5c448>]"
      ]
     },
     "execution_count": 101,
     "metadata": {},
     "output_type": "execute_result"
    },
    {
     "data": {
      "image/png": "[encoded data removed]",
      "text/plain": [
       "<Figure size 432x288 with 4 Axes>"
      ]
     },
     "metadata": {
      "needs_background": "light"
     },
     "output_type": "display_data"
    }
   ],
   "source": [
    "xmax=max(x)\n",
    "xmax2=max(x4)\n",
    "ax1 = subplot(2, 2, 1) #Usamos el subplota para que nos muestre todas las gráficas juntas, \n",
    "#entonces son 2 filas x 2 columnas y esta es la gráfica 1 \n",
    "scatter(x,y1) #Queremos que grafique los datos de x,y1 \n",
    "plt.grid() #Ponemos la cuadrícula para hacerlo más presentable\n",
    "pendinte, b , r, p, desv = linregress(x, y1) #Sacamos la regresión lienal con la librería\n",
    "plot([0, xmax], [b, pendinte * xmax + b]) #Graficamos la recta\n",
    "subplot(2, 2, 2, sharex=ax1, sharey=ax1)\n",
    "scatter(x,y2) #Queremos que grafique los datos de x,y2\n",
    "plt.grid()\n",
    "pendinte, b , r, p, desv = linregress(x, y2) #Queremos que grafique los datos de x,y2\n",
    "plot([0, xmax], [b, pendinte * xmax + b])\n",
    "subplot(2, 2, 3, sharex=ax1, sharey=ax1)\n",
    "scatter(x,y3)\n",
    "plt.grid()\n",
    "pendinte, b , r, p, desv = linregress(x, y3) #Queremos que grafique los datos de x,y3\n",
    "plot([0, xmax], [b, pendinte * xmax + b])\n",
    "subplot(2, 2, 4, sharex=ax1, sharey=ax1)\n",
    "scatter(x4,y4)\n",
    "plt.grid()\n",
    "pendinte, b , r, p, desv = linregress(x4, y4) #Queremos que grafique los datos de x4,y4\n",
    "plot([0, xmax2], [b, pendinte * xmax2 + b])"
   ]
  },
  {
   "cell_type": "markdown",
   "metadata": {},
   "source": [
    "Podemos observar que el modelo para cada una de los modelos no es el mejor. En la primera gráfica podemos ver que la recta sí se ajusta bastante a los datos. En la segunda gráfica, al ser curva, este modelo no encaja por ser un modelo lineal. La tercera recta tiene un problema por el dato atípico que está alrededor de (12,15), es por ello que la recta está muy inclinada y no pasa sobre la mayoría de los datos. En la cuarta gráfica está el dato atípico de (20,15) que hace que la recta no pase sobre la mayoría de los datos"
   ]
  },
  {
   "cell_type": "markdown",
   "metadata": {},
   "source": [
    "## Problema 5"
   ]
  },
  {
   "cell_type": "markdown",
   "metadata": {},
   "source": [
    "Use el archivo `radioactive_decay.dat`"
   ]
  },
  {
   "cell_type": "code",
   "execution_count": 102,
   "metadata": {},
   "outputs": [
    {
     "name": "stderr",
     "output_type": "stream",
     "text": [
      "UsageError: Line magic function `%cat` not found.\n"
     ]
    }
   ],
   "source": [
    "%cat data/radioactive_decay.txt"
   ]
  },
  {
   "cell_type": "code",
   "execution_count": 105,
   "metadata": {},
   "outputs": [
    {
     "name": "stdout",
     "output_type": "stream",
     "text": [
      "[0.0, 1.0, 2.0, 3.0, 4.0, 5.0, 6.0, 7.0, 8.0, 9.0, 10.0, 11.0, 12.0, 13.0, 14.0, 15.0]\n",
      "[10.48, 7.54, 5.49, 4.02, 2.74, 2.02, 1.5, 1.09, 0.68, 0.57, 0.37, 0.31, 0.19, 0.15, 0.13, 0.11]\n"
     ]
    }
   ],
   "source": [
    "datos=open('radioactive_decay.txt','r') #En este apartado leeremos los datos de un txt\n",
    "adatos=[]  #Como a mí se me hace más fácil trabajar con listas entonces vamos a extraer los datos a estas listas\n",
    "bdatos=[]\n",
    "lineas=datos.readlines() \n",
    "for linea in lineas: #Utilizamos el ciclo for para que por cada linea del texto extraiga los valores\n",
    "    a,b = linea.split() #Separamos las líneas a de la b\n",
    "    adatos.append(float(a)) #Guardamos los datos x en la lista de los datos a (Tiempo)\n",
    "    bdatos.append(float(b)) #Guardamos los datos y en la lista de los datos b (N)\n",
    "datos.close()\n",
    "print (adatos)\n",
    "print (bdatos)"
   ]
  },
  {
   "cell_type": "markdown",
   "metadata": {},
   "source": [
    "**(a)** Grafique los datos ¿Qué forma tienen?"
   ]
  },
  {
   "cell_type": "code",
   "execution_count": 107,
   "metadata": {},
   "outputs": [
    {
     "data": {
      "text/plain": [
       "Text(0.5, 1.0, 'Gráfica de Datos')"
      ]
     },
     "execution_count": 107,
     "metadata": {},
     "output_type": "execute_result"
    },
    {
     "data": {
      "image/png": "[encoded data removed]",
      "text/plain": [
       "<Figure size 432x288 with 1 Axes>"
      ]
     },
     "metadata": {
      "needs_background": "light"
     },
     "output_type": "display_data"
    }
   ],
   "source": [
    "plt.scatter(adatos,bdatos, label=\"data\") \n",
    "plt.xlabel('Tiempo')\n",
    "plt.ylabel('N')\n",
    "plt.title('Gráfica de Datos')"
   ]
  },
  {
   "cell_type": "markdown",
   "metadata": {},
   "source": [
    "### Esta gráfica es de la forma 1/x por lo tanto no es lineal, es un modelo hiperbólico con ecuación y=a+b/x"
   ]
  },
  {
   "cell_type": "markdown",
   "metadata": {},
   "source": [
    "**(b)** ¿Qué transformación se le ocurre para linearizarlos? Explique y grafique de nuevo. Guarde los datos transformados en un archivo llamado `transform_radioactive_decay.txt`"
   ]
  },
  {
   "cell_type": "markdown",
   "metadata": {},
   "source": [
    "### Para linealizar este modelo utilizaremos una transformación tal que: Y=Y & W=1/X. Por lo tanto el modelo queda como Y=a+bW"
   ]
  },
  {
   "cell_type": "code",
   "execution_count": 118,
   "metadata": {},
   "outputs": [],
   "source": [
    "from math import *"
   ]
  },
  {
   "cell_type": "code",
   "execution_count": 156,
   "metadata": {},
   "outputs": [
    {
     "name": "stdout",
     "output_type": "stream",
     "text": [
      "[0.0, 1.0, 0.5, 0.3333333333333333, 0.25, 0.2, 0.16666666666666666, 0.14285714285714285, 0.125, 0.1111111111111111, 0.1, 0.09090909090909091, 0.08333333333333333, 0.07692307692307693, 0.07142857142857142, 0.06666666666666667]\n"
     ]
    }
   ],
   "source": [
    "tlista=[]\n",
    "for i in range(len(adatos)):\n",
    "    if i!=0:\n",
    "        t=(1/adatos[i])\n",
    "        tlista.append(t)\n",
    "    else:\n",
    "        tlista.append(adatos[i])\n",
    "print (tlista)"
   ]
  },
  {
   "cell_type": "code",
   "execution_count": 157,
   "metadata": {},
   "outputs": [],
   "source": [
    "transf=open('transform_radioactive_decay.txt', 'w')\n",
    "for i in range(len(tlista)):\n",
    "    transf.write(str(tlista[i]) + \" \" + str(bdatos[i]) + \"\\n\")\n",
    "transf.close()"
   ]
  },
  {
   "cell_type": "markdown",
   "metadata": {},
   "source": [
    "**(c)** Aplique la regresión lineal a este conjunto de datos transformado, leyendo los datos del archivo recién creado."
   ]
  },
  {
   "cell_type": "code",
   "execution_count": 158,
   "metadata": {},
   "outputs": [
    {
     "name": "stdout",
     "output_type": "stream",
     "text": [
      "[0.0, 1.0, 0.5, 0.3333333333333333, 0.25, 0.2, 0.16666666666666666, 0.14285714285714285, 0.125, 0.1111111111111111, 0.1, 0.09090909090909091, 0.08333333333333333, 0.07692307692307693, 0.07142857142857142, 0.06666666666666667]\n",
      "[10.48, 7.54, 5.49, 4.02, 2.74, 2.02, 1.5, 1.09, 0.68, 0.57, 0.37, 0.31, 0.19, 0.15, 0.13, 0.11]\n"
     ]
    }
   ],
   "source": [
    "datos=open('transform_radioactive_decay.txt','r') #En este apartado leeremos los datos de un txt\n",
    "mdatos=[]  #Como a mí se me hace más fácil trabajar con listas entonces vamos a extraer los datos a estas listas\n",
    "ndatos=[]\n",
    "lineas=datos.readlines() \n",
    "for linea in lineas: #Utilizamos el ciclo for para que por cada linea del texto extraiga los valores\n",
    "    m,n = linea.split() #Separamos las líneas x de la y\n",
    "    mdatos.append(float(m)) #Guardamos los datos x en la lista de los datos m\n",
    "    ndatos.append(float(n)) #Guardamos los datos y en la lista de los datos n \n",
    "datos.close()\n",
    "print (mdatos)\n",
    "print (ndatos)"
   ]
  },
  {
   "cell_type": "code",
   "execution_count": 159,
   "metadata": {},
   "outputs": [
    {
     "data": {
      "text/plain": [
       "Text(0.5, 1.0, 'Gráfica de Datos')"
      ]
     },
     "execution_count": 159,
     "metadata": {},
     "output_type": "execute_result"
    },
    {
     "data": {
      "image/png": "[encoded data removed]",
      "text/plain": [
       "<Figure size 432x288 with 1 Axes>"
      ]
     },
     "metadata": {
      "needs_background": "light"
     },
     "output_type": "display_data"
    }
   ],
   "source": [
    "plt.scatter(mdatos,ndatos, label=\"data\") \n",
    "plt.xlabel('Tiempo')\n",
    "plt.ylabel('N')\n",
    "plt.title('Gráfica de Datos')"
   ]
  },
  {
   "cell_type": "markdown",
   "metadata": {},
   "source": [
    "### Con este ajuste podemos observar que ya podemos aplicarle un modelo de regresión lineal"
   ]
  },
  {
   "cell_type": "code",
   "execution_count": 185,
   "metadata": {},
   "outputs": [
    {
     "name": "stdout",
     "output_type": "stream",
     "text": [
      "6.301794349439414 1.0299502050202185 0.2499956762478437\n"
     ]
    }
   ],
   "source": [
    "M=np.array(mdatos) #Vamos a trabajar con arreglos en la regresión lineal para evitar estar declarando ciclos\n",
    "N=np.array(ndatos)\n",
    "P=len(mdatos)\n",
    "sumM=sum(M)  #Primero sumamos los datos del arreglo de X para obtener el promedio \n",
    "sumN=sum(N) #Después sumamos los datos del arreglo de Y para igual sacar su promedio\n",
    "promM=sumM/P #De aquí en adelante son puras fórmulas\n",
    "promN=sumN/P \n",
    "sM2=sum((M-promM)**2)\n",
    "sN2=sum((N-promN)**2)\n",
    "sMN=sum((M-promM)*(N-promN))\n",
    "pendiente=sMN/sM2 #Para sacar la pendiente beta necesitamos sacar sxy y sx2 (arriba en este código se ve su fórmula)\n",
    "b1=promN-(pendinte*promM) #Para sacar el factor alpha necesitamos utlizar promy=alpha+beta(promx) y despejamos \n",
    "\n",
    "sumM2=sum(M*M)\n",
    "sumN2=sum(N*N)\n",
    "sumMN=sum(M*N)\n",
    "sigmaM=np.sqrt(sumM2/P - promM**2)\n",
    "sigmaN=np.sqrt(sumN2/P - promN**2)\n",
    "sigmaMN=sumMN/P - promM*promN\n",
    "R02=(sigmaMN/(sigmaM*sigmaN))**2 #Sacamos R2 para entender la correlación que existen entrelos datos x & y \n",
    "print(pendiente,b1,R02)\n"
   ]
  },
  {
   "cell_type": "code",
   "execution_count": 186,
   "metadata": {},
   "outputs": [
    {
     "data": {
      "image/png": "[encoded data removed]",
      "text/plain": [
       "<Figure size 432x288 with 1 Axes>"
      ]
     },
     "metadata": {
      "needs_background": "light"
     },
     "output_type": "display_data"
    }
   ],
   "source": [
    "plt.plot(M,N,'o', label='Datos') #Graficamos en plot los datos con forma de puntos\n",
    "plt.plot(M, pendiente*M + b1, label='Ajuste') #Graficamos ahora la recta por medio de la fórmula y=a+xb\n",
    "plt.xlabel(\"Tiempo\") \n",
    "plt.ylabel(\"N\")\n",
    "plt.title('Regresión Lineal')\n",
    "plt.grid() \n",
    "plt.legend(loc=4)\n",
    "plt.show()"
   ]
  },
  {
   "cell_type": "markdown",
   "metadata": {},
   "source": [
    "**(d)** ¿Cuáles son los valores de $\\beta$ que mejor ajustan? ¿Cuáles son el espacio sin transformar? Explique."
   ]
  },
  {
   "cell_type": "markdown",
   "metadata": {},
   "source": [
    "### Los valores de beta que mejor ajustan al modelo de regresión lineal es con la pendiente= 6.30 y b=1.03 aunque en realidad este modelo no es el mejor para estos datos, dado que aún haciendo la transformación en la gráfica podemos observar que la recta no se ajusta a los datos, tan así que r2 sale muy baja con un 30% de correlación de los datos"
   ]
  }
 ],
 "metadata": {
  "kernelspec": {
   "display_name": "Python 3",
   "language": "python",
   "name": "python3"
  },
  "language_info": {
   "codemirror_mode": {
    "name": "ipython",
    "version": 3
   },
   "file_extension": ".py",
   "mimetype": "text/x-python",
   "name": "python",
   "nbconvert_exporter": "python",
   "pygments_lexer": "ipython3",
   "version": "3.7.6"
  }
 },
 "nbformat": 4,
 "nbformat_minor": 1
}
