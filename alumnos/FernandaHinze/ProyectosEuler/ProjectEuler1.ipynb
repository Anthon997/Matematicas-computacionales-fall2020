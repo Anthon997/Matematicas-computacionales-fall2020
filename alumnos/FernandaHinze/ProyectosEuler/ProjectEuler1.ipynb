{
 "cells": [
  {
   "cell_type": "markdown",
   "metadata": {},
   "source": [
    "# Multiples of 3 and 5"
   ]
  },
  {
   "cell_type": "markdown",
   "metadata": {},
   "source": [
    "If we list all the natural numbers below 10 that are multiples of 3 or 5, we get 3, 5, 6 and 9. The sum of these multiples is 23.\n",
    "\n",
    "Find the sum of all the multiples of 3 or 5 below 1000."
   ]
  },
  {
   "cell_type": "code",
   "execution_count": 37,
   "metadata": {},
   "outputs": [
    {
     "name": "stdout",
     "output_type": "stream",
     "text": [
      "233168\n"
     ]
    }
   ],
   "source": [
    "#Yo se que todos los múltiplos de un número son módulo cero (con ese mismo número). \n",
    "#Busco todos los múltiplos de 3 y 5 con módulos.\n",
    "#Después de prueba y error me di cuenta que si buscaba los múltiplos de 3 y 5 por separado, se sumaban dos veces aquellos números que eran múltiplos de ambos (i.e. 15)\n",
    "#Por la razón anterior uso un \"or\" para evitar la doble suma.\n",
    "\n",
    "suma = 0\n",
    "for x in range (1,1000):\n",
    "    if (x % 3) == 0 or (x % 5) == 0: \n",
    "        numero = x\n",
    "        suma = numero + suma\n",
    "print (suma)    "
   ]
  },
  {
   "cell_type": "code",
   "execution_count": null,
   "metadata": {},
   "outputs": [],
   "source": []
  }
 ],
 "metadata": {
  "kernelspec": {
   "display_name": "Python 3",
   "language": "python",
   "name": "python3"
  },
  "language_info": {
   "codemirror_mode": {
    "name": "ipython",
    "version": 3
   },
   "file_extension": ".py",
   "mimetype": "text/x-python",
   "name": "python",
   "nbconvert_exporter": "python",
   "pygments_lexer": "ipython3",
   "version": "3.8.5"
  }
 },
 "nbformat": 4,
 "nbformat_minor": 4
}
