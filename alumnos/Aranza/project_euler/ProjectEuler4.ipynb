{
 "cells": [
  {
   "cell_type": "markdown",
   "metadata": {},
   "source": [
    "https://projecteuler.net/problem=10\n",
    "# Problem 10\n",
    "### Project Euler (4ta entrega)\n",
    "\n",
    " The sum of the primes below 10 is 2 + 3 + 5 + 7 = 17.\n",
    "\n",
    "Find the sum of all the primes below two million.\n"
   ]
  },
  {
   "cell_type": "code",
   "execution_count": 1,
   "metadata": {},
   "outputs": [
    {
     "name": "stdout",
     "output_type": "stream",
     "text": [
      "Using matplotlib backend: agg\n",
      "Populating the interactive namespace from numpy and matplotlib\n"
     ]
    }
   ],
   "source": [
    "%pylab"
   ]
  },
  {
   "cell_type": "code",
   "execution_count": 2,
   "metadata": {},
   "outputs": [],
   "source": [
    "def primo(n):\n",
    "    for i in range(2,n):\n",
    "        if n % i == 0:\n",
    "            return False\n",
    "    return True"
   ]
  },
  {
   "cell_type": "code",
   "execution_count": null,
   "metadata": {},
   "outputs": [],
   "source": [
    "l = []\n",
    "\n",
    "for i in range(2,2000000):\n",
    "    if primo(i) == True:\n",
    "        l.append(i)\n",
    "print(sum(l))"
   ]
  },
  {
   "cell_type": "markdown",
   "metadata": {},
   "source": [
    "Expliquemos lo que hice suponiendo que se quiere encontrar la suma de los primos menores a 10:\n",
    "    \n",
    "    En la función primo:\n",
    "        Entonces, para cada i = {2,3,4,..., n - 1} voy a verificar que:\n",
    "                Si alguno de los valores que toma i, tengo que i % (n-1) == 0, \n",
    "                entonces NO ES PRIMO. \n",
    "                i.e., si algún valor de los i's divide a n-1, entonces No es primo. \n",
    "       \n",
    "       Regresame True si no lo cumple.\n",
    "\n",
    "    En la siguiente parte:\n",
    "    \n",
    "    Hacemos una lista para meter ahí los valores de los primos.\n",
    "    Para cada número menor al n, {2,3,4,...,n-1}, voy a verificar que sea primo. \n",
    "        Si dada la función primo tengo True, lo meto a la lista.\n",
    "    \n",
    "    Imprimo la suma de los elementos de la lista"
   ]
  },
  {
   "cell_type": "markdown",
   "metadata": {},
   "source": [
    "### OBS\n",
    "\n",
    "Toma muchísimo tiempo que se verifiquen los primos hasta los 2,000,000. Esperé 15 mins y mi compu se estaba calentando horrible.\n",
    "    \n",
    "    Por lo tanto, para que veas que sí funciona el programa, decidí\n",
    "    hacer la criba de Eratóstenes. \n"
   ]
  },
  {
   "cell_type": "code",
   "execution_count": 3,
   "metadata": {},
   "outputs": [
    {
     "name": "stdout",
     "output_type": "stream",
     "text": [
      "[2, 3, 5, 7, 11, 13, 17, 19, 23, 29, 31, 37, 41, 43, 47, 53, 59, 61, 67, 71, 73, 79, 83, 89, 97]\n",
      "1060\n"
     ]
    }
   ],
   "source": [
    "l = []\n",
    "\n",
    "for i in range(2,100):\n",
    "    if primo(i) == True:\n",
    "        l.append(i)\n",
    "print(l)\n",
    "print(sum(l))"
   ]
  },
  {
   "cell_type": "code",
   "execution_count": 4,
   "metadata": {},
   "outputs": [
    {
     "name": "stdout",
     "output_type": "stream",
     "text": [
      "[2, 3, 5, 7]\n",
      "17\n"
     ]
    }
   ],
   "source": [
    "l = []\n",
    "\n",
    "for i in range(2,10):\n",
    "    if primo(i) == True:\n",
    "        l.append(i)\n",
    "print(l)\n",
    "print(sum(l))"
   ]
  }
 ],
 "metadata": {
  "kernelspec": {
   "display_name": "Python 3",
   "language": "python",
   "name": "python3"
  },
  "language_info": {
   "codemirror_mode": {
    "name": "ipython",
    "version": 3
   },
   "file_extension": ".py",
   "mimetype": "text/x-python",
   "name": "python",
   "nbconvert_exporter": "python",
   "pygments_lexer": "ipython3",
   "version": "3.8.5"
  }
 },
 "nbformat": 4,
 "nbformat_minor": 4
}
