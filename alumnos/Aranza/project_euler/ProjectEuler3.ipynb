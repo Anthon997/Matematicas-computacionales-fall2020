{
 "cells": [
  {
   "cell_type": "markdown",
   "metadata": {},
   "source": [
    "### El problema de Euler"
   ]
  },
  {
   "cell_type": "markdown",
   "metadata": {},
   "source": [
    "https://projecteuler.net/problem=3"
   ]
  },
  {
   "cell_type": "markdown",
   "metadata": {},
   "source": [
    "The prime factors of 13195 are 5, 7, 13 and 29.\n",
    "\n",
    "What is the largest prime factor of the number 600851475143 ?"
   ]
  },
  {
   "cell_type": "code",
   "execution_count": 12,
   "metadata": {},
   "outputs": [
    {
     "name": "stdout",
     "output_type": "stream",
     "text": [
      "¿Cuál es el número que se quiere fatorizar? 600851475143\n",
      "[71, 839, 1471, 6857]\n",
      "6857\n"
     ]
    }
   ],
   "source": [
    "l = [] \n",
    "i = 2 \n",
    "n = int(input(\"¿Cuál es el número que se quiere fatorizar? \"))\n",
    "\n",
    "while i <= n:\n",
    "    while n % i == 0:\n",
    "        n = n / i\n",
    "        l.append(i)\n",
    "    i = i + 1\n",
    "\n",
    "primos = [] \n",
    "for i in l: \n",
    "    if i not in primos:  \n",
    "        primos.append(i) \n",
    "        \n",
    "print(primos)\n",
    "print(max(primos))"
   ]
  },
  {
   "cell_type": "markdown",
   "metadata": {},
   "source": [
    "Expliquemos lo que hice:\n",
    "    \n",
    "    Primero hice una lista en la que se meterán todos los elementos que cumplan.\n",
    "    \n",
    "    Dentro del loop, busco que el i que está corriendo divida a n, i si lo divide, lo meto a la lista y definimos a nuestro nuevo n entre i  (lo típico que hacemos cuando factorizamos en papel).\n",
    "    \n",
    "    Así obtenemos nuestra lista de primos.\n",
    "    \n",
    "    Pero, si pongo al 20, me aparece 2 veces 2, ya que 20 = 2·2·5. Entonces hago una nueva lista para que no se repitan los números primos. \n",
    "    \n",
    "    POr último, llamo al número máximo de la lista de los primos. "
   ]
  }
 ],
 "metadata": {
  "kernelspec": {
   "display_name": "Python 3",
   "language": "python",
   "name": "python3"
  },
  "language_info": {
   "codemirror_mode": {
    "name": "ipython",
    "version": 3
   },
   "file_extension": ".py",
   "mimetype": "text/x-python",
   "name": "python",
   "nbconvert_exporter": "python",
   "pygments_lexer": "ipython3",
   "version": "3.8.5"
  }
 },
 "nbformat": 4,
 "nbformat_minor": 4
}
