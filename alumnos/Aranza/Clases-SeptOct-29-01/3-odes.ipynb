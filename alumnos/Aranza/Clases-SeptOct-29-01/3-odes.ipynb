{
 "cells": [
  {
   "cell_type": "code",
   "execution_count": 33,
   "metadata": {},
   "outputs": [],
   "source": [
    "import numpy as np\n",
    "import matplotlib.pyplot as plt\n",
    "import math"
   ]
  },
  {
   "cell_type": "code",
   "execution_count": 16,
   "metadata": {},
   "outputs": [
    {
     "name": "stdout",
     "output_type": "stream",
     "text": [
      "The autoreload extension is already loaded. To reload it, use:\n",
      "  %reload_ext autoreload\n"
     ]
    }
   ],
   "source": [
    "# El código siguiente recarga (reloads) las rutinas externas \n",
    "# cada vez que el código cambia (es útil para \"debuggear\" código externo)\n",
    "\n",
    "%load_ext autoreload\n",
    "%autoreload 2"
   ]
  },
  {
   "cell_type": "markdown",
   "metadata": {},
   "source": [
    "## Método de Euler"
   ]
  },
  {
   "cell_type": "markdown",
   "metadata": {},
   "source": [
    "Si nos permitimos un poco de _sloppiness_, podemos hacer lo siguiente:\n",
    "\n",
    "$$\n",
    "a \\equiv\\frac{dv}{dt}\n",
    "$$\n",
    "\n",
    "$$\n",
    "dv = a dt\n",
    "$$\n",
    "\n",
    "Y reconociendo que tenemos números flotantes con precisión finita:\n",
    "\n",
    "$$\n",
    "\\Delta v = a \\Delta t\n",
    "$$\n",
    "\n",
    "Conociendo la posición inicial $x_i$ y el cambio $\\delta x$ podemos estimar la nueva velocidad:\n",
    "\n",
    "$$\n",
    "v = v_i + a \\Delta t\n",
    "$$\n",
    "\n",
    "Entonces, haciendo recursivos los _pasos_\n",
    "\n",
    "$$\n",
    "v_{i+1} = v_i + \\frac{d}{dt}[v] \\Delta t\n",
    "$$\n",
    "\n",
    "Y podemos hacer lo mismo para la posición:\n",
    "\n",
    "$$\n",
    "x_{i+1} = x_i + \\frac{d}{dt}[x] \\Delta t\n",
    "$$\n",
    "\n",
    "Una representación en imagen del método, se muestra a continuación:"
   ]
  },
  {
   "cell_type": "markdown",
   "metadata": {},
   "source": [
    "<img src=\"images/euler_method.png\">"
   ]
  },
  {
   "cell_type": "markdown",
   "metadata": {},
   "source": [
    "<div class=\"alert alert-warning pull-right\">\n",
    "Imagen de Wikipedia\n",
    "</div>"
   ]
  },
  {
   "cell_type": "markdown",
   "metadata": {},
   "source": [
    "Como se puede apreciar en la figura, la aproximación con el _método de Euler_ va empeorando conforme aumentamos los pasos. Para combatir este error, se pueden disminuir el tamaño del paso, pero como veremos más adelante, esto tiene sus limitaciones."
   ]
  },
  {
   "cell_type": "markdown",
   "metadata": {},
   "source": [
    "## Ejemplo: Caída libre"
   ]
  },
  {
   "cell_type": "markdown",
   "metadata": {},
   "source": [
    "La ecuación de movimiento en caída libre es:\n",
    "\n",
    "$$\n",
    "\\ddot{x} = -g\n",
    "$$\n",
    "\n",
    "donde $g$ es la constante de gravedad."
   ]
  },
  {
   "cell_type": "markdown",
   "metadata": {},
   "source": [
    "El método de Euler sólo funciona con ecuaciones diferenciales de primer orden, pero podemos hacer el siguiente truco:\n",
    "\n",
    "$$ \n",
    "\\dot{x} = v\n",
    "$$\n",
    "$$\n",
    "\\dot{v} = -g\n",
    "$$\n",
    "\n",
    "Por lo que ahora nuestro sistema está descrito por dos ecuaciones lineales acopladas de primer orden."
   ]
  },
  {
   "cell_type": "markdown",
   "metadata": {},
   "source": [
    "El método de Euler nos dice que la solución de estas ecuaciones es:\n",
    "\n",
    "$$\n",
    "x_{i+1} = x_i + \\dot{x} \\Delta t\n",
    "$$\n",
    "\n",
    "$$ \n",
    "v_{i+1} = v_i + \\dot{v} \\Delta t\n",
    "$$"
   ]
  },
  {
   "cell_type": "markdown",
   "metadata": {},
   "source": [
    "El cual se puede escribir como\n",
    "\n",
    "$$\n",
    "y_{i+1} = y_i + \\dot{y} \\Delta t\n",
    "$$\n",
    "\n",
    "donde \n",
    "\n",
    "$$\n",
    "y = \n",
    "\\begin{bmatrix}\n",
    "x \\\\\n",
    "v\n",
    "\\end{bmatrix}\n",
    "$$\n",
    "\n",
    "y\n",
    "\n",
    "$$\n",
    "\\dot{y} = \n",
    "\\begin{bmatrix}\n",
    "v \\\\\n",
    "-g\n",
    "\\end{bmatrix}\n",
    "$$\n"
   ]
  },
  {
   "cell_type": "markdown",
   "metadata": {},
   "source": [
    "En python definimos una función para representar este sistema"
   ]
  },
  {
   "cell_type": "code",
   "execution_count": 17,
   "metadata": {},
   "outputs": [],
   "source": [
    "def caida_libre(estado, sistema):\n",
    "    g0 = estado[1]\n",
    "    g1 = -9.8\n",
    "    \n",
    "    return np.array([g0, g1])"
   ]
  },
  {
   "cell_type": "raw",
   "metadata": {},
   "source": [
    "Sirve esta también porque el cambio es constante"
   ]
  },
  {
   "cell_type": "code",
   "execution_count": 18,
   "metadata": {},
   "outputs": [],
   "source": [
    "def caida_libre(estado):\n",
    "    g0 = estado[1]\n",
    "    g1 = -9.8\n",
    "    \n",
    "    return np.array([g0, g1])"
   ]
  },
  {
   "cell_type": "code",
   "execution_count": 19,
   "metadata": {},
   "outputs": [],
   "source": [
    "def euler(y, t, dt, derivadas):\n",
    "    y_next = y + derivadas(y, t)*dt\n",
    "    return y_next"
   ]
  },
  {
   "cell_type": "code",
   "execution_count": 20,
   "metadata": {},
   "outputs": [],
   "source": [
    "N = 1000 # número de pasos\n",
    "\n",
    "x0 = 0.0  # posición inicial\n",
    "\n",
    "v0 = 0.0  # velocidad inicial\n",
    "\n",
    "g = -9.8 # aceleración de la gravedad en la tierra\n",
    "\n",
    "tau = 3.0 # tiempo de la simulación/tiempo que corra\n",
    " \n",
    "dt = tau/(float)(N-1)  # tamaño del paso"
   ]
  },
  {
   "cell_type": "code",
   "execution_count": 21,
   "metadata": {},
   "outputs": [],
   "source": [
    "time = np.linspace(0, tau, N)"
   ]
  },
  {
   "cell_type": "code",
   "execution_count": 22,
   "metadata": {},
   "outputs": [],
   "source": [
    "y = np.zeros([N,2])\n",
    "\n",
    "y[0,0] = x0\n",
    "y[0,1] = v0"
   ]
  },
  {
   "cell_type": "code",
   "execution_count": 23,
   "metadata": {},
   "outputs": [
    {
     "name": "stdout",
     "output_type": "stream",
     "text": [
      "[[0. 0.]\n",
      " [0. 0.]\n",
      " [0. 0.]\n",
      " ...\n",
      " [0. 0.]\n",
      " [0. 0.]\n",
      " [0. 0.]]\n"
     ]
    }
   ],
   "source": [
    "print(y)"
   ]
  },
  {
   "cell_type": "code",
   "execution_count": 24,
   "metadata": {},
   "outputs": [
    {
     "ename": "TypeError",
     "evalue": "caida_libre() takes 1 positional argument but 2 were given",
     "output_type": "error",
     "traceback": [
      "\u001b[0;31m---------------------------------------------------------------------------\u001b[0m",
      "\u001b[0;31mTypeError\u001b[0m                                 Traceback (most recent call last)",
      "\u001b[0;32m<ipython-input-24-e9a1fcf96d36>\u001b[0m in \u001b[0;36m<module>\u001b[0;34m\u001b[0m\n\u001b[1;32m      1\u001b[0m \u001b[0;32mfor\u001b[0m \u001b[0mj\u001b[0m \u001b[0;32min\u001b[0m \u001b[0mrange\u001b[0m\u001b[0;34m(\u001b[0m\u001b[0mN\u001b[0m\u001b[0;34m-\u001b[0m\u001b[0;36m1\u001b[0m\u001b[0;34m)\u001b[0m\u001b[0;34m:\u001b[0m\u001b[0;34m\u001b[0m\u001b[0;34m\u001b[0m\u001b[0m\n\u001b[0;32m----> 2\u001b[0;31m     \u001b[0my\u001b[0m\u001b[0;34m[\u001b[0m\u001b[0mj\u001b[0m\u001b[0;34m+\u001b[0m\u001b[0;36m1\u001b[0m\u001b[0;34m]\u001b[0m \u001b[0;34m=\u001b[0m \u001b[0meuler\u001b[0m\u001b[0;34m(\u001b[0m\u001b[0my\u001b[0m\u001b[0;34m[\u001b[0m\u001b[0mj\u001b[0m\u001b[0;34m]\u001b[0m\u001b[0;34m,\u001b[0m \u001b[0mtime\u001b[0m\u001b[0;34m[\u001b[0m\u001b[0mj\u001b[0m\u001b[0;34m]\u001b[0m\u001b[0;34m,\u001b[0m \u001b[0mdt\u001b[0m\u001b[0;34m,\u001b[0m \u001b[0mcaida_libre\u001b[0m\u001b[0;34m)\u001b[0m\u001b[0;34m\u001b[0m\u001b[0;34m\u001b[0m\u001b[0m\n\u001b[0m",
      "\u001b[0;32m<ipython-input-19-2ca74d85dd01>\u001b[0m in \u001b[0;36meuler\u001b[0;34m(y, t, dt, derivadas)\u001b[0m\n\u001b[1;32m      1\u001b[0m \u001b[0;32mdef\u001b[0m \u001b[0meuler\u001b[0m\u001b[0;34m(\u001b[0m\u001b[0my\u001b[0m\u001b[0;34m,\u001b[0m \u001b[0mt\u001b[0m\u001b[0;34m,\u001b[0m \u001b[0mdt\u001b[0m\u001b[0;34m,\u001b[0m \u001b[0mderivadas\u001b[0m\u001b[0;34m)\u001b[0m\u001b[0;34m:\u001b[0m\u001b[0;34m\u001b[0m\u001b[0;34m\u001b[0m\u001b[0m\n\u001b[0;32m----> 2\u001b[0;31m     \u001b[0my_next\u001b[0m \u001b[0;34m=\u001b[0m \u001b[0my\u001b[0m \u001b[0;34m+\u001b[0m \u001b[0mderivadas\u001b[0m\u001b[0;34m(\u001b[0m\u001b[0my\u001b[0m\u001b[0;34m,\u001b[0m \u001b[0mt\u001b[0m\u001b[0;34m)\u001b[0m\u001b[0;34m*\u001b[0m\u001b[0mdt\u001b[0m\u001b[0;34m\u001b[0m\u001b[0;34m\u001b[0m\u001b[0m\n\u001b[0m\u001b[1;32m      3\u001b[0m     \u001b[0;32mreturn\u001b[0m \u001b[0my_next\u001b[0m\u001b[0;34m\u001b[0m\u001b[0;34m\u001b[0m\u001b[0m\n",
      "\u001b[0;31mTypeError\u001b[0m: caida_libre() takes 1 positional argument but 2 were given"
     ]
    }
   ],
   "source": [
    "for j in range(N-1):\n",
    "    y[j+1] = euler(y[j], time[j], dt, caida_libre)"
   ]
  },
  {
   "cell_type": "code",
   "execution_count": 13,
   "metadata": {},
   "outputs": [
    {
     "data": {
      "text/plain": [
       "<matplotlib.legend.Legend at 0x7f1f3123cbe0>"
      ]
     },
     "execution_count": 13,
     "metadata": {},
     "output_type": "execute_result"
    },
    {
     "data": {
      "image/png": "[encoded data removed]",
      "text/plain": [
       "<Figure size 432x288 with 1 Axes>"
      ]
     },
     "metadata": {
      "needs_background": "light"
     },
     "output_type": "display_data"
    }
   ],
   "source": [
    "xdata = [y[j,0] for j in range(N)]\n",
    "vdata = [y[j,1] for j in range(N)]\n",
    "\n",
    "plt.plot(time, xdata, label=\"pos\")\n",
    "plt.plot(time, vdata, label=\"vel\")\n",
    "plt.xlabel(\"tiempo\")\n",
    "plt.ylabel(\"posicion, velocidad\")\n",
    "plt.legend(loc=\"best\")"
   ]
  },
  {
   "cell_type": "markdown",
   "metadata": {},
   "source": [
    "En el caso de la caída libre, es posible obtener una solución exacta:\n",
    "\n",
    "$$\n",
    "x(t) = x_i + v_i t + \\frac{1}{2}g t^2\n",
    "$$\n",
    "$$\n",
    "v(t) = v_i + gt\n",
    "$$"
   ]
  },
  {
   "cell_type": "code",
   "execution_count": 25,
   "metadata": {},
   "outputs": [
    {
     "data": {
      "text/plain": [
       "<matplotlib.legend.Legend at 0x7f1f3116bb50>"
      ]
     },
     "execution_count": 25,
     "metadata": {},
     "output_type": "execute_result"
    },
    {
     "data": {
      "image/png": "[encoded data removed]",
      "text/plain": [
       "<Figure size 432x288 with 1 Axes>"
      ]
     },
     "metadata": {
      "needs_background": "light"
     },
     "output_type": "display_data"
    }
   ],
   "source": [
    "xt = lambda x_i, v_i, a, t: x_i + v_i*a + 0.5*a*t**2\n",
    "vt = lambda v_i, a, t: v_i + a*t\n",
    "\n",
    "plt.plot(time, xt(x0, v0, g, time), label=\"pos exacta\")\n",
    "plt.plot(time, vt(v0, g, time), label=\"vel exacta\")\n",
    "plt.plot(time, xdata, label=\"pos\")\n",
    "plt.plot(time, vdata, label=\"vel\")\n",
    "plt.legend(loc=\"best\")"
   ]
  },
  {
   "cell_type": "markdown",
   "metadata": {},
   "source": [
    "Al parecer en este caso no hay error (_perceptible_) en la diferenciación."
   ]
  },
  {
   "cell_type": "markdown",
   "metadata": {},
   "source": [
    "## Ejemplo: Péndulo simple"
   ]
  },
  {
   "cell_type": "markdown",
   "metadata": {},
   "source": [
    "La ecuación de movimiento del péndulo es la siguiente:\n",
    "\n",
    "$$\n",
    "\\frac{d^2\\theta}{dt^2} = -\\frac{g}{l}\\sin\\theta\n",
    "$$\n",
    "\n",
    "donde $\\theta$ es el ángulo medido desde la vertical, $g$ es la aceleración debida a la gravedad y $l$ es la longitud del péndulo."
   ]
  },
  {
   "cell_type": "markdown",
   "metadata": {},
   "source": [
    "Esta ecuación es **no lineal** y la revisitaremos cuando veamos caos. "
   ]
  },
  {
   "cell_type": "markdown",
   "metadata": {},
   "source": [
    "Es posible linearizarla para el caso cuando $\\theta$ es pequeño, en este caso $\\sin\\theta \\approx \\theta$\n",
    "\n",
    "$$\n",
    "\\frac{d^2\\theta}{dt^2} \\approx -\\frac{g}{l}\\theta\n",
    "$$"
   ]
  },
  {
   "cell_type": "markdown",
   "metadata": {},
   "source": [
    "Esta ecuación de segundo orden se puede transformar en un sistema de ecuaciones de primer orden haciendo:\n",
    "\n",
    "$$\n",
    "\\dot\\theta = \\omega\n",
    "$$\n",
    "\n",
    "$$\n",
    "\\dot\\omega = - \\frac{g}{l}\\theta\n",
    "$$"
   ]
  },
  {
   "cell_type": "markdown",
   "metadata": {},
   "source": [
    "Una cantidad importante es la frecuencia\n",
    "\n",
    "$$\n",
    "\\Omega = \\sqrt\\frac{g}{l}\n",
    "$$\n",
    "\n",
    "y su inverso el periodo\n",
    "\n",
    "$$\n",
    "T = \\frac{2\\pi}{\\Omega}\n",
    "$$"
   ]
  },
  {
   "cell_type": "markdown",
   "metadata": {},
   "source": [
    "La energía total exacta $E$ del péndulo es:\n",
    "\n",
    "$$\n",
    "E = \\frac{1}{2} m l^2 \\omega^2 + m g l (1-\\cos\\theta)\n",
    "$$\n",
    "\n",
    "y en nuestra aproximación $\\cos \\theta \\approx 1 - \\theta^2/2$, entonces\n",
    "\n",
    "$$\n",
    "E \\approx \\frac{1}{2}ml^2\\left ( \\omega^2 + \\frac{g}{l}\\theta^2\\right )\n",
    "$$"
   ]
  },
  {
   "cell_type": "markdown",
   "metadata": {},
   "source": [
    "Estamos definiendo la energía para poder evaluar el error de nuestro método de resolución de ecuaciones diferenciales."
   ]
  },
  {
   "cell_type": "markdown",
   "metadata": {},
   "source": [
    "La ecuación del péndulo, en nuestra aproximación, tiene una solución analítica:\n",
    "\n",
    "$$\n",
    "\\theta(t) = \\theta_i\\cos(\\Omega t) + \\frac{\\omega_i}{\\Omega} \\sin(\\Omega t)\n",
    "$$"
   ]
  },
  {
   "cell_type": "code",
   "execution_count": 63,
   "metadata": {},
   "outputs": [],
   "source": [
    "masa = 1.0 # En kilogramos\n",
    "longitud = 1.0 # En metros\n",
    "g = 9.8 # m/s^2\n",
    "\n",
    "Omega = np.sqrt(g/longitud)\n",
    "periodo = 2*np.pi/Omega"
   ]
  },
  {
   "cell_type": "code",
   "execution_count": 64,
   "metadata": {},
   "outputs": [],
   "source": [
    "def energia_pendulo(theta, omega, m = masa, g = g, l = longitud):\n",
    "    return 0.5*m*l**2 * (omega**2 + (g/l)*theta**2)"
   ]
  },
  {
   "cell_type": "markdown",
   "metadata": {},
   "source": [
    "<div class=\"alert alert-info\">\n",
    "**Ejercicio:** Define una función `pendulo_analitico` que calcule en función del tiempo la posición del péndulo\n",
    "</div>\n",
    "<div class=\"alert alert-info\">\n",
    "**Ejercicio:** Grafica la solución analítica, con condiciones $\\theta_i = 0.2$ y $\\omega_i = 0$.\n",
    "</div>"
   ]
  },
  {
   "cell_type": "code",
   "execution_count": 28,
   "metadata": {},
   "outputs": [],
   "source": [
    "from sympy import Symbol\n",
    "from sympy import *\n",
    "t = Symbol('t')\n",
    "omega = Symbol('Ω')\n",
    "theta = Symbol('𝜃')"
   ]
  },
  {
   "cell_type": "code",
   "execution_count": 65,
   "metadata": {},
   "outputs": [],
   "source": [
    "def pendulo_analitico(omega, wi, thetai, t):\n",
    "    return thetai * math.cos(omega*t) + float(wi/omega)*math.sin(omega*t)"
   ]
  },
  {
   "cell_type": "code",
   "execution_count": 69,
   "metadata": {},
   "outputs": [],
   "source": [
    "def pendulo_analitico(omega, wi, thetai, t):\n",
    "    return math.cos(t) "
   ]
  },
  {
   "cell_type": "code",
   "execution_count": 70,
   "metadata": {},
   "outputs": [
    {
     "ename": "TypeError",
     "evalue": "only size-1 arrays can be converted to Python scalars",
     "output_type": "error",
     "traceback": [
      "\u001b[0;31m---------------------------------------------------------------------------\u001b[0m",
      "\u001b[0;31mTypeError\u001b[0m                                 Traceback (most recent call last)",
      "\u001b[0;32m<ipython-input-70-1be073a97369>\u001b[0m in \u001b[0;36m<module>\u001b[0;34m\u001b[0m\n\u001b[0;32m----> 1\u001b[0;31m \u001b[0mpendulo_analitico\u001b[0m\u001b[0;34m(\u001b[0m\u001b[0mOmega\u001b[0m\u001b[0;34m,\u001b[0m \u001b[0;36m0\u001b[0m\u001b[0;34m,\u001b[0m \u001b[0;36m0.2\u001b[0m\u001b[0;34m,\u001b[0m \u001b[0mtiempo\u001b[0m\u001b[0;34m)\u001b[0m\u001b[0;34m\u001b[0m\u001b[0;34m\u001b[0m\u001b[0m\n\u001b[0m",
      "\u001b[0;32m<ipython-input-69-136d318a192a>\u001b[0m in \u001b[0;36mpendulo_analitico\u001b[0;34m(omega, wi, thetai, t)\u001b[0m\n\u001b[1;32m      1\u001b[0m \u001b[0;32mdef\u001b[0m \u001b[0mpendulo_analitico\u001b[0m\u001b[0;34m(\u001b[0m\u001b[0momega\u001b[0m\u001b[0;34m,\u001b[0m \u001b[0mwi\u001b[0m\u001b[0;34m,\u001b[0m \u001b[0mthetai\u001b[0m\u001b[0;34m,\u001b[0m \u001b[0mt\u001b[0m\u001b[0;34m)\u001b[0m\u001b[0;34m:\u001b[0m\u001b[0;34m\u001b[0m\u001b[0;34m\u001b[0m\u001b[0m\n\u001b[0;32m----> 2\u001b[0;31m     \u001b[0;32mreturn\u001b[0m \u001b[0mmath\u001b[0m\u001b[0;34m.\u001b[0m\u001b[0mcos\u001b[0m\u001b[0;34m(\u001b[0m\u001b[0mt\u001b[0m\u001b[0;34m)\u001b[0m\u001b[0;34m\u001b[0m\u001b[0;34m\u001b[0m\u001b[0m\n\u001b[0m",
      "\u001b[0;31mTypeError\u001b[0m: only size-1 arrays can be converted to Python scalars"
     ]
    }
   ],
   "source": [
    "pendulo_analitico(Omega, 0, 0.2, tiempo)"
   ]
  },
  {
   "cell_type": "code",
   "execution_count": 71,
   "metadata": {},
   "outputs": [
    {
     "ename": "TypeError",
     "evalue": "only size-1 arrays can be converted to Python scalars",
     "output_type": "error",
     "traceback": [
      "\u001b[0;31m---------------------------------------------------------------------------\u001b[0m",
      "\u001b[0;31mTypeError\u001b[0m                                 Traceback (most recent call last)",
      "\u001b[0;32m<ipython-input-71-bcaefe23e445>\u001b[0m in \u001b[0;36m<module>\u001b[0;34m\u001b[0m\n\u001b[1;32m      7\u001b[0m \u001b[0mtiempo\u001b[0m \u001b[0;34m=\u001b[0m \u001b[0mnp\u001b[0m\u001b[0;34m.\u001b[0m\u001b[0mlinspace\u001b[0m\u001b[0;34m(\u001b[0m\u001b[0;36m0\u001b[0m\u001b[0;34m,\u001b[0m \u001b[0mtau\u001b[0m\u001b[0;34m,\u001b[0m \u001b[0mnum\u001b[0m\u001b[0;34m=\u001b[0m\u001b[0mN\u001b[0m\u001b[0;34m)\u001b[0m\u001b[0;34m\u001b[0m\u001b[0;34m\u001b[0m\u001b[0m\n\u001b[1;32m      8\u001b[0m \u001b[0;34m\u001b[0m\u001b[0m\n\u001b[0;32m----> 9\u001b[0;31m \u001b[0mplt\u001b[0m\u001b[0;34m.\u001b[0m\u001b[0mplot\u001b[0m\u001b[0;34m(\u001b[0m\u001b[0mtiempo\u001b[0m\u001b[0;34m,\u001b[0m \u001b[0mpendulo_analitico\u001b[0m\u001b[0;34m(\u001b[0m\u001b[0mOmega\u001b[0m\u001b[0;34m,\u001b[0m \u001b[0;36m0\u001b[0m\u001b[0;34m,\u001b[0m \u001b[0;36m0.2\u001b[0m\u001b[0;34m,\u001b[0m \u001b[0mtiempo\u001b[0m\u001b[0;34m)\u001b[0m\u001b[0;34m)\u001b[0m\u001b[0;34m\u001b[0m\u001b[0;34m\u001b[0m\u001b[0m\n\u001b[0m",
      "\u001b[0;32m<ipython-input-69-136d318a192a>\u001b[0m in \u001b[0;36mpendulo_analitico\u001b[0;34m(omega, wi, thetai, t)\u001b[0m\n\u001b[1;32m      1\u001b[0m \u001b[0;32mdef\u001b[0m \u001b[0mpendulo_analitico\u001b[0m\u001b[0;34m(\u001b[0m\u001b[0momega\u001b[0m\u001b[0;34m,\u001b[0m \u001b[0mwi\u001b[0m\u001b[0;34m,\u001b[0m \u001b[0mthetai\u001b[0m\u001b[0;34m,\u001b[0m \u001b[0mt\u001b[0m\u001b[0;34m)\u001b[0m\u001b[0;34m:\u001b[0m\u001b[0;34m\u001b[0m\u001b[0;34m\u001b[0m\u001b[0m\n\u001b[0;32m----> 2\u001b[0;31m     \u001b[0;32mreturn\u001b[0m \u001b[0mmath\u001b[0m\u001b[0;34m.\u001b[0m\u001b[0mcos\u001b[0m\u001b[0;34m(\u001b[0m\u001b[0mt\u001b[0m\u001b[0;34m)\u001b[0m\u001b[0;34m\u001b[0m\u001b[0;34m\u001b[0m\u001b[0m\n\u001b[0m",
      "\u001b[0;31mTypeError\u001b[0m: only size-1 arrays can be converted to Python scalars"
     ]
    }
   ],
   "source": [
    "tau = 5*periodo\n",
    "\n",
    "N = 100\n",
    "\n",
    "dt = tau/(float)(N-1) \n",
    "\n",
    "tiempo = np.linspace(0, tau, num=N)\n",
    "\n",
    "plt.plot(tiempo, pendulo_analitico(Omega, 0, 0.2, tiempo))"
   ]
  },
  {
   "cell_type": "code",
   "execution_count": 37,
   "metadata": {},
   "outputs": [],
   "source": [
    "def pendulo_lineal(estado, tiempo, g=g, l=longitud):\n",
    "    g0 = estado[1]\n",
    "    g1 = -g/l*estado[0]\n",
    "    return np.array([g0, g1])"
   ]
  },
  {
   "cell_type": "code",
   "execution_count": 49,
   "metadata": {},
   "outputs": [],
   "source": [
    "tau = 5*periodo\n",
    "\n",
    "N = 100\n",
    "\n",
    "dt = tau/(float)(N-1) \n",
    "\n",
    "tiempo = np.linspace(0, tau, num=N)\n",
    "\n",
    "y = np.zeros([N,2])"
   ]
  },
  {
   "cell_type": "code",
   "execution_count": 39,
   "metadata": {},
   "outputs": [],
   "source": [
    "y[0,0] = 0.2\n",
    "y[0,1] = 0.0"
   ]
  },
  {
   "cell_type": "code",
   "execution_count": 40,
   "metadata": {},
   "outputs": [],
   "source": [
    "def pendulo_lineal_euler(y, tiempo, dt):\n",
    "\n",
    "    for j in range(N-1):\n",
    "        y[j+1] = euler(y[j], tiempo[j], dt, pendulo_lineal)\n",
    "\n",
    "        \n",
    "    theta = np.array([y[j,0] for j in range(N)])\n",
    "    omega = np.array([y[j,1] for j in range(N)])\n",
    "    \n",
    "    return theta, omega"
   ]
  },
  {
   "cell_type": "code",
   "execution_count": 41,
   "metadata": {},
   "outputs": [],
   "source": [
    "theta_euler, omega_euler = pendulo_lineal_euler(y, tiempo, dt)"
   ]
  },
  {
   "cell_type": "code",
   "execution_count": 21,
   "metadata": {},
   "outputs": [
    {
     "data": {
      "text/plain": [
       "<matplotlib.legend.Legend at 0x7f7b90050d90>"
      ]
     },
     "execution_count": 21,
     "metadata": {},
     "output_type": "execute_result"
    },
    {
     "data": {
      "image/png": "[encoded data removed]",
      "text/plain": [
       "<Figure size 576x432 with 1 Axes>"
      ]
     },
     "metadata": {
      "needs_background": "light"
     },
     "output_type": "display_data"
    }
   ],
   "source": [
    "plt.figure(1, figsize=(8,6))\n",
    "plt.plot(tiempo, theta_euler, label=\"theta\")\n",
    "plt.plot(tiempo, omega_euler, label=\"omega\")\n",
    "plt.xlabel(r\"t (s)\")\n",
    "plt.ylabel(r\"theta (rads),$\\quad\\omega$\")\n",
    "plt.legend(loc=\"best\")"
   ]
  },
  {
   "cell_type": "markdown",
   "metadata": {},
   "source": [
    "<div class=\"alert alert-info\">\n",
    "**Ejercicio:** Agrega en esta gráfica la solución analítica.\n",
    "</div>"
   ]
  },
  {
   "cell_type": "markdown",
   "metadata": {},
   "source": [
    "Mmmm... Creo que no se ve bien esto ¿Cómo se ve la energía?"
   ]
  },
  {
   "cell_type": "code",
   "execution_count": 50,
   "metadata": {},
   "outputs": [
    {
     "data": {
      "text/plain": [
       "<matplotlib.legend.Legend at 0x7f1f30ea1b50>"
      ]
     },
     "execution_count": 50,
     "metadata": {},
     "output_type": "execute_result"
    },
    {
     "data": {
      "image/png": "[encoded data removed]",
      "text/plain": [
       "<Figure size 576x432 with 1 Axes>"
      ]
     },
     "metadata": {
      "needs_background": "light"
     },
     "output_type": "display_data"
    }
   ],
   "source": [
    "plt.figure(1, figsize=(8,6))\n",
    "plt.plot(tiempo, energia_pendulo(theta_euler, omega_euler), marker='o', linestyle='None', color='red', label=\"Energia\")\n",
    "plt.xlabel(r\"t (s)\")\n",
    "plt.ylabel(r\"Energia (J)\")\n",
    "plt.legend(loc=\"best\")"
   ]
  },
  {
   "cell_type": "markdown",
   "metadata": {},
   "source": [
    "<div class=\"alert alert-info\">\n",
    "**Ejercicio**: ¿Por qué está mal la energía?\n",
    "</div>\n",
    "<div class=\"alert alert-info\">\n",
    "**Ejercicio**: Agrega un _widget_ para ver el número de paso $N$ (entre $1,000$ y $30,000$) ¿Qué sucede con la energia?\n",
    "</div>"
   ]
  },
  {
   "cell_type": "markdown",
   "metadata": {},
   "source": [
    "### Mejorando el código"
   ]
  },
  {
   "cell_type": "markdown",
   "metadata": {},
   "source": [
    "Podemos mejorar el codigo si definimos los siguientes métodos:"
   ]
  },
  {
   "cell_type": "code",
   "execution_count": 44,
   "metadata": {},
   "outputs": [],
   "source": [
    "class Pendulo:\n",
    "    \n",
    "    def __init__(self, masa, longitud, gravedad):\n",
    "        self.masa = masa\n",
    "        self.longitud = longitud\n",
    "        self.gravedad = gravedad\n",
    "      \n",
    "        self.Omega = np.sqrt(g/longitud)\n",
    "        self.period = 2*np.pi/Omega\n",
    "\n",
    "        \n",
    "    def theta(self):\n",
    "        return self.trajectory[:,0]\n",
    "    \n",
    "    def omega(self):\n",
    "        return self.trajectory[:,1]\n",
    "    \n",
    "    def plot(self):\n",
    "        fig, ax = plt.subplots(3,1, figsize=(10,8), sharex = True)\n",
    "\n",
    "        ax[0].plot(self.tau, self.theta(), label=\"theta\", color=\"blue\")\n",
    "        ax[1].plot(self.tau, self.omega(), label=\"omega\", color=\"green\")\n",
    "        ax[2].plot(self.tau, self.energy(),  marker='o', linestyle='None', color='red', label=\"Energia\")\n",
    "\n",
    "        ax[0].set_ylabel(\"Theta (rads)\")\n",
    "        ax[0].set_xlabel(\"tiempo (s)\")\n",
    "\n",
    "        ax[1].set_ylabel(\"Omega (rads/s)\")\n",
    "        ax[1].set_xlabel(\"tiempo (s)\")\n",
    "\n",
    "        ax[2].set_ylabel(\"Energia (J)\")\n",
    "        ax[2].set_xlabel(\"tiempo (s)\")\n",
    "    \n",
    "    def initial_conditions(self, theta_i, omega_i):\n",
    "        self.theta_i = theta_i\n",
    "        self.omega_i = omega_i\n",
    "        \n",
    "    def dynamics(self, state, t):\n",
    "        g0 = state[1]\n",
    "        g1 = -self.gravedad/self.longitud*state[0]\n",
    "        return np.array([g0, g1])\n",
    "        \n",
    "    def energy(self):\n",
    "        return 0.5*self.masa*self.longitud**2 * (self.omega()**2 + (self.gravedad/self.longitud)*self.theta()**2)\n",
    "        \n",
    "    def integrate(self, num_steps, t_i, t_f, method):\n",
    "        \n",
    "        self.tau, self.dt = np.linspace(t_i, t_f, num=num_steps, retstep=True)\n",
    "        self.trajectory = np.zeros([num_steps, 2])\n",
    "        self.trajectory[0,0] = self.theta_i\n",
    "        self.trajectory[0,1] = self.omega_i\n",
    "        \n",
    "        for j in range(N-1):\n",
    "            self.trajectory[j+1] = method(self.trajectory[j], self.tau[j], self.dt, self.dynamics)        "
   ]
  },
  {
   "cell_type": "markdown",
   "metadata": {},
   "source": [
    "#### Ejemplo de uso"
   ]
  },
  {
   "cell_type": "code",
   "execution_count": 45,
   "metadata": {},
   "outputs": [],
   "source": [
    "p = Pendulo(masa = 1.0, longitud = 1.0, gravedad = 9.8)\n",
    "p.initial_conditions(theta_i=0.2, omega_i=0.0)"
   ]
  },
  {
   "cell_type": "code",
   "execution_count": 46,
   "metadata": {},
   "outputs": [],
   "source": [
    "N = 100\n",
    "tiempo_inicial = 0.0\n",
    "tiempo_final = 5*p.period"
   ]
  },
  {
   "cell_type": "code",
   "execution_count": 47,
   "metadata": {},
   "outputs": [],
   "source": [
    "p.integrate(N, tiempo_inicial, tiempo_final, euler)"
   ]
  },
  {
   "cell_type": "code",
   "execution_count": 48,
   "metadata": {},
   "outputs": [
    {
     "data": {
      "image/png": "[encoded data removed]",
      "text/plain": [
       "<Figure size 720x576 with 3 Axes>"
      ]
     },
     "metadata": {
      "needs_background": "light"
     },
     "output_type": "display_data"
    }
   ],
   "source": [
    "p.plot()"
   ]
  },
  {
   "cell_type": "markdown",
   "metadata": {},
   "source": [
    "## Métodos de Runge-Kutta"
   ]
  },
  {
   "cell_type": "code",
   "execution_count": 81,
   "metadata": {},
   "outputs": [],
   "source": [
    "def RK2(y, t, dt, derivadas):\n",
    "    k0 = dt*derivadas(y, t)\n",
    "    k1 = dt*derivadas(y + k0, t + dt)\n",
    "    y_next = y + 0.5*(k0 + k1)\n",
    "    \n",
    "    return y_next"
   ]
  },
  {
   "cell_type": "code",
   "execution_count": 82,
   "metadata": {},
   "outputs": [],
   "source": [
    "p2 = Pendulo(masa = 1.0, longitud = 1.0, gravedad = 9.8)\n",
    "p2.initial_conditions(theta_i=0.2, omega_i=0.0)"
   ]
  },
  {
   "cell_type": "code",
   "execution_count": 83,
   "metadata": {},
   "outputs": [],
   "source": [
    "N = 100\n",
    "tiempo_inicial = 0.0\n",
    "tiempo_final = 5*p2.period"
   ]
  },
  {
   "cell_type": "code",
   "execution_count": 84,
   "metadata": {},
   "outputs": [
    {
     "data": {
      "image/png": "[encoded data removed]",
      "text/plain": [
       "<Figure size 720x576 with 3 Axes>"
      ]
     },
     "metadata": {
      "needs_background": "light"
     },
     "output_type": "display_data"
    }
   ],
   "source": [
    "p2.integrate(N, tiempo_inicial, tiempo_final, RK2)\n",
    "p2.plot()"
   ]
  },
  {
   "cell_type": "markdown",
   "metadata": {},
   "source": [
    "<div class=\"alert alert-info\">\n",
    "**Ejercicio**: Crea una imagen donde se muestre la $\\theta$ calculada con el método de Euler, RK2 y analítica. ¿Qué observas?\n",
    "</div>"
   ]
  },
  {
   "cell_type": "code",
   "execution_count": 85,
   "metadata": {},
   "outputs": [],
   "source": [
    "plt.figure(figsize = (10,8), dpi = 80)\n",
    "plt.subplot(1,1,1)\n",
    "\n",
    "plt.plot(p2.tau, p2.theta(), label = \"RK2\", color = \"blue\")\n",
    "plt.plot(p.tau, p.theta(), label = \"Euler\", color = \"green\")\n",
    "plt.plot(tiempo, pendulo)"
   ]
  },
  {
   "cell_type": "markdown",
   "metadata": {},
   "source": [
    "### Soluciones"
   ]
  },
  {
   "cell_type": "markdown",
   "metadata": {},
   "source": [
    "<img src=\"images/ScreenShot1.png\"/>"
   ]
  },
  {
   "cell_type": "raw",
   "metadata": {},
   "source": [
    "plt.plot(p2.trajectory[:,0], label='rk4') ",
    "plt.plot(p.trajectory[:,0], label='euler') ",
    "plt.plot(pendulo_analitico(p.tau), label='true') ",
    "plt.xlabel(r\"t (s)\") ",
    "plt.ylabel(r\"theta\") ",
    "plt.legend(loc=\"best\") "
   ]
  },
  {
   "cell_type": "markdown",
   "metadata": {},
   "source": [
    "<img src=\"images/ScreenShot2.png\"/>"
   ]
  },
  {
   "cell_type": "markdown",
   "metadata": {},
   "source": [
    "<img src=\"images/ScreenShot3.png\"/>"
   ]
  },
  {
   "cell_type": "markdown",
   "metadata": {},
   "source": [
    "## Diagrama de fase"
   ]
  },
  {
   "cell_type": "code",
   "execution_count": 89,
   "metadata": {},
   "outputs": [
    {
     "data": {
      "text/plain": [
       "Text(0, 0.5, 'omega (rads/s)')"
      ]
     },
     "execution_count": 89,
     "metadata": {},
     "output_type": "execute_result"
    },
    {
     "data": {
      "image/png": "[encoded data removed]",
      "text/plain": [
       "<Figure size 432x288 with 1 Axes>"
      ]
     },
     "metadata": {
      "needs_background": "light"
     },
     "output_type": "display_data"
    }
   ],
   "source": [
    "plt.plot(p.theta(), p.omega())\n",
    "plt.xlabel(\"theta (rads)\")\n",
    "plt.ylabel(\"omega (rads/s)\")"
   ]
  },
  {
   "cell_type": "code",
   "execution_count": 90,
   "metadata": {},
   "outputs": [
    {
     "data": {
      "text/plain": [
       "Text(0, 0.5, 'omega (rads/s)')"
      ]
     },
     "execution_count": 90,
     "metadata": {},
     "output_type": "execute_result"
    },
    {
     "data": {
      "image/png": "[encoded data removed]",
      "text/plain": [
       "<Figure size 432x288 with 1 Axes>"
      ]
     },
     "metadata": {
      "needs_background": "light"
     },
     "output_type": "display_data"
    }
   ],
   "source": [
    "plt.plot(p2.theta(), p2.omega())\n",
    "plt.xlabel(\"theta (rads)\")\n",
    "plt.ylabel(\"omega (rads/s)\")"
   ]
  },
  {
   "cell_type": "markdown",
   "metadata": {},
   "source": [
    "<div class=\"alert alert-info\">\n",
    "**Ejercicio**: Agregue el método para dibujar el diagrama de fase a la clase `Pendulo`\n",
    "</div>"
   ]
  },
  {
   "cell_type": "markdown",
   "metadata": {},
   "source": [
    "<div class=\"alert alert-info\">\n",
    "**Ejercicio**: Cree un archivo `pendulo_linealizado.py` y guarde ahí la clase. Cárguelo a la sesión.\n",
    "</div>"
   ]
  },
  {
   "cell_type": "markdown",
   "metadata": {},
   "source": [
    "<div class=\"alert alert-info\">\n",
    "**Ejercicio**: Modifique el método `dynamics` para el caso en que no está linealizado el péndulo, i.e.\n",
    "\n",
    "$$\n",
    "\\ddot\\theta = -\\frac{g}{l} \\sin\\theta\n",
    "$$\n",
    "\n",
    "Grafique los diagramas con el método Runge - Kutta de 2do Orden. Guardelo en el archivo `pendulo_real.py`\n",
    "</div>"
   ]
  },
  {
   "cell_type": "markdown",
   "metadata": {},
   "source": [
    "<div class=\"alert alert-info\">\n",
    "**Ejercicio**: Modifique el método `dynamics` para el caso en que no está linealizado el péndulo, exista un amortiguamiento y ademas haya una fuerza externa, como se muestra en la siguiente ecuación.\n",
    "\n",
    "$$\n",
    "\\ddot\\theta = -\\frac{g}{l} \\sin\\theta - \\beta\\dot\\theta + A \\cos(\\omega t)\n",
    "$$\n",
    "\n",
    "Grafique los diagramas con el método Runge - Kutta de 2do Orden. Guárdelo en el archivo `pendulo_actuado.py`\n",
    "</div>"
   ]
  },
  {
   "cell_type": "markdown",
   "metadata": {},
   "source": [
    "## Métodos de Scipy"
   ]
  },
  {
   "cell_type": "markdown",
   "metadata": {},
   "source": [
    "`Scipy` implementa una rutina que resuelve ecuaciones diferenciales, `odeint()` del paquete `scipy.integrate`."
   ]
  },
  {
   "cell_type": "code",
   "execution_count": null,
   "metadata": {},
   "outputs": [],
   "source": [
    "import numpy as np\n",
    "import matplotlib.pyplot as plt\n",
    "from scipy.integrate import odeint"
   ]
  },
  {
   "cell_type": "code",
   "execution_count": null,
   "metadata": {},
   "outputs": [],
   "source": [
    "odeint?"
   ]
  },
  {
   "cell_type": "markdown",
   "metadata": {},
   "source": [
    "Como puedes observar se puede invocar con la función `dynamics`, un arreglo que represente el estado inicial y un `array` de tiempos (en lugar de un _time step_)."
   ]
  },
  {
   "cell_type": "markdown",
   "metadata": {},
   "source": [
    "### Ejemplo: Péndulo con resorte"
   ]
  },
  {
   "cell_type": "markdown",
   "metadata": {},
   "source": [
    "una masa $m$ está sujeta a un resorte con constante elástica $k$, el resorte a su vez está pegado al techo. La longitud del resorte sin deformar es $L_0$, y el ángulo respecto a la vertical es $\\theta$.  Usando ecuaciones de [Euler-Lagrange](http://en.wikipedia.org/wiki/Euler%E2%80%93Lagrange_equation), se encuentra que las ecuaciones de movimiento son:"
   ]
  },
  {
   "cell_type": "markdown",
   "metadata": {},
   "source": [
    "$$\n",
    "\\ddot{L} = (L_0 + L)\\dot{\\theta}^2 - \\frac{k}{m}L + g \\cos\\theta\n",
    "$$\n",
    "\n",
    "$$\n",
    "\\ddot\\theta = - \\frac{1}{L_0+L} \\left[ g\\sin\\theta + 2\\dot{L}\\dot{\\theta}\\right]\n",
    "$$"
   ]
  },
  {
   "cell_type": "markdown",
   "metadata": {},
   "source": [
    "<div class=\"alert alert-info\">\n",
    "**Ejercicio** Escribe este par de ecuaciones como un sistema de ecuaciones de primer orden\n",
    "</div>"
   ]
  },
  {
   "cell_type": "code",
   "execution_count": null,
   "metadata": {},
   "outputs": [],
   "source": [
    "N = 1000\n",
    "\n",
    "# Constantes\n",
    "L_0 = 1.0\n",
    "L = 1.0\n",
    "v_i = 0.0\n",
    "theta_i = 0.3\n",
    "omega_i = 0.0\n",
    "\n",
    "k = 3.5 # COnstante del resorte en N/m\n",
    "m = 0.2 # masa en kilogramos\n",
    "g = 9.8 # Constante de gravedad terrestre, en m/s^2"
   ]
  },
  {
   "cell_type": "code",
   "execution_count": null,
   "metadata": {},
   "outputs": [],
   "source": [
    "# Estado inicial\n",
    "y = np.zeros([4])\n",
    "y"
   ]
  },
  {
   "cell_type": "code",
   "execution_count": null,
   "metadata": {},
   "outputs": [],
   "source": [
    "# Estado inicial\n",
    "y[0] = L\n",
    "y[1] = v_i\n",
    "y[2] = theta_i\n",
    "y[3] = omega_i"
   ]
  },
  {
   "cell_type": "code",
   "execution_count": null,
   "metadata": {},
   "outputs": [],
   "source": [
    "y"
   ]
  },
  {
   "cell_type": "code",
   "execution_count": null,
   "metadata": {},
   "outputs": [],
   "source": [
    "time = np.linspace(0,25,N)"
   ]
  },
  {
   "cell_type": "markdown",
   "metadata": {},
   "source": [
    "<div class=\"alert alert-info\">\n",
    "**Ejercicio** Escribe el sistema de ecuaciones en el método `pendulo_con_resorte(estado, tiempo)`\n",
    "</div>"
   ]
  },
  {
   "cell_type": "code",
   "execution_count": null,
   "metadata": {},
   "outputs": [],
   "source": [
    "def pendulo_con_resorte(estado, tiempo):\n",
    "    g0 = 0\n",
    "    g1 = 0\n",
    "    g2 = 0\n",
    "    g3 = 0\n",
    "    return np.array([g0,g1,g2,g3])"
   ]
  },
  {
   "cell_type": "code",
   "execution_count": null,
   "metadata": {},
   "outputs": [],
   "source": [
    "solucion = odeint(func=pendulo_con_resorte, y0 = y, t = time)"
   ]
  },
  {
   "cell_type": "markdown",
   "metadata": {},
   "source": [
    "Dibujaremos el movimiento en el espacio físico euclídeo 2D $(x, y)$, para esto, necesitamos convertir a estas coordenadas en lugar usando las fórmulas trigonométricas."
   ]
  },
  {
   "cell_type": "code",
   "execution_count": null,
   "metadata": {},
   "outputs": [],
   "source": [
    "xdata = (L_0 + solucion[:,0])*np.sin(solucion[:,2])\n",
    "ydata = -(L_0 + solucion[:,0])*np.cos(solucion[:,2])"
   ]
  },
  {
   "cell_type": "code",
   "execution_count": null,
   "metadata": {},
   "outputs": [],
   "source": [
    "plt.plot(xdata, ydata, 'r-')\n",
    "plt.xlabel(\"Posicion Horizontal\")\n",
    "plt.ylabel(\"Posicion Vertical\")"
   ]
  },
  {
   "cell_type": "markdown",
   "metadata": {},
   "source": [
    "<div class=\"alert alert-info\">\n",
    "**Ejercicio**: Dibuja respecto al tiempo el valor de $L$ y de $\\theta$.\n",
    "</div>"
   ]
  },
  {
   "cell_type": "markdown",
   "metadata": {},
   "source": [
    "<div class=\"alert alert-info\">\n",
    "**Ejercicio** Resuelve el péndulo amortiguado, grafica en el espacio euclídeo y también la posición respecto al tiempo. La ecuación del péndulo amortiguado es:\n",
    "\n",
    "$$\n",
    "\\ddot\\theta = - \\frac{g}{L}\\sin\\theta -b\\dot\\theta + \\beta\\cos(\\omega t)\n",
    "$$\n",
    "</div>"
   ]
  }
 ],
 "metadata": {
  "kernelspec": {
   "display_name": "Python 3",
   "language": "python",
   "name": "python3"
  },
  "language_info": {
   "codemirror_mode": {
    "name": "ipython",
    "version": 3
   },
   "file_extension": ".py",
   "mimetype": "text/x-python",
   "name": "python",
   "nbconvert_exporter": "python",
   "pygments_lexer": "ipython3",
   "version": "3.8.5"
  }
 },
 "nbformat": 4,
 "nbformat_minor": 1
}
