{
 "cells": [
  {
   "cell_type": "markdown",
   "metadata": {},
   "source": [
    "# Tarea Regresión Lineal"
   ]
  },
  {
   "cell_type": "code",
   "execution_count": 2,
   "metadata": {},
   "outputs": [
    {
     "name": "stdout",
     "output_type": "stream",
     "text": [
      "Populating the interactive namespace from numpy and matplotlib\n"
     ]
    }
   ],
   "source": [
    "%pylab inline\n",
    "import numpy as np\n",
    "import matplotlib.pyplot as plt\n",
    "from sympy import Symbol\n",
    "from sympy import *\n",
    "from ipywidgets import interact, fixed, widgets"
   ]
  },
  {
   "cell_type": "markdown",
   "metadata": {},
   "source": [
    "https://pythonforundergradengineers.com/sympy-expressions-and-equations.html\n",
    "http://research.iac.es/sieinvens/python-course/source/sympy.html"
   ]
  },
  {
   "cell_type": "markdown",
   "metadata": {},
   "source": [
    "## Problema 1"
   ]
  },
  {
   "cell_type": "markdown",
   "metadata": {},
   "source": [
    "**(a)** Usando **SimPy** demostrar que \n",
    "\n",
    "$$\n",
    "\\frac{\\partial}{\\partial \\beta_j} \\textbf{J}(\\beta) = \\frac{1}{m}\\sum_{i=1}^{m}\\left(\\hat{y}(x^{(i)}) - y(x^{(i)})\\right) \\cdot x^{(i)}_j\n",
    "$$"
   ]
  },
  {
   "cell_type": "raw",
   "metadata": {},
   "source": [
    "Tenemos que demostrar, usando derivadas parciales, que la función J (función de costo)"
   ]
  },
  {
   "cell_type": "markdown",
   "metadata": {},
   "source": [
    "$$ \\textbf{J}(\\beta_0, \\beta_1) = \\frac{1}{2n}\\sum_{(x^{(i)}, y^{(i)}) \\in X \\times Y} (y^{(i)} - \\hat{y}^{(i)}(x^{(i)}))^2 = \\frac{1}{2n}\\sum_{(x^{(i)}, y^{(i)}) \\in X \\times Y} (y^{(i)} - \\beta_0 - \\beta_1 x^{(i)})^2$$"
   ]
  },
  {
   "cell_type": "markdown",
   "metadata": {},
   "source": [
    "$$\n",
    "\\hat{\\textbf{y}} = \\mathbf\\beta_0 + \\mathbf\\beta_1 \\textbf{x}\n",
    "$$"
   ]
  },
  {
   "cell_type": "raw",
   "metadata": {},
   "source": [
    "Supongamos que las sumas que se presentan a continuación denotan lo mismo."
   ]
  },
  {
   "cell_type": "markdown",
   "metadata": {},
   "source": [
    "$$ \\sum_{(x^{(i)}, y^{(i)}) \\in X \\times Y} = \\sum_{i = 1}^{n} $$"
   ]
  },
  {
   "cell_type": "code",
   "execution_count": 25,
   "metadata": {},
   "outputs": [],
   "source": [
    "J = Function(\"J\")\n",
    "b0 = Symbol(\"beta0\")\n",
    "b1 = Symbol(\"beta1\")\n",
    "b = Symbol(\"beta\")\n",
    "n = Symbol (\"n\")\n",
    "y = Symbol (\"y\")\n",
    "i = Symbol (\"i\")\n",
    "x = Symbol (\"x\")\n",
    "k = Symbol (\"k\")\n",
    "j = Symbol (\"j\")\n",
    "\n",
    "a = 1 / (2*n)\n",
    "suma = Sum((y**(i)- b0 - b1*x**(i))**2,(j,1,k))\n",
    "eq = Eq(J(b0,b1), a * suma)"
   ]
  },
  {
   "cell_type": "code",
   "execution_count": 26,
   "metadata": {},
   "outputs": [
    {
     "data": {
      "text/latex": [
       "$\\displaystyle J{\\left(\\beta_{0},\\beta_{1} \\right)} = \\frac{\\sum_{j=1}^{k} \\left(- \\beta_{0} - \\beta_{1} x^{i} + y^{i}\\right)^{2}}{2 n}$"
      ],
      "text/plain": [
       "Eq(J(beta0, beta1), Sum((-beta0 - beta1*x**i + y**i)**2, (j, 1, k))/(2*n))"
      ]
     },
     "execution_count": 26,
     "metadata": {},
     "output_type": "execute_result"
    }
   ],
   "source": [
    "eq"
   ]
  },
  {
   "cell_type": "code",
   "execution_count": 30,
   "metadata": {},
   "outputs": [
    {
     "data": {
      "text/latex": [
       "$\\displaystyle \\frac{\\partial}{\\partial \\beta_{0}} J{\\left(\\beta_{0},\\beta_{1} \\right)} = \\frac{k \\left(\\beta_{0} + \\beta_{1} x^{i} - y^{i}\\right)}{n}$"
      ],
      "text/plain": [
       "Eq(Derivative(J(beta0, beta1), beta0), k*(beta0 + beta1*x**i - y**i)/n)"
      ]
     },
     "execution_count": 30,
     "metadata": {},
     "output_type": "execute_result"
    }
   ],
   "source": []
  },
  {
   "cell_type": "code",
   "execution_count": 45,
   "metadata": {},
   "outputs": [],
   "source": [
    "Derivative?"
   ]
  },
  {
   "cell_type": "code",
   "execution_count": 28,
   "metadata": {},
   "outputs": [],
   "source": [
    "parcialb0 = Eq(Derivative(eq.lhs,b0),Derivative(eq.rhs,b0))"
   ]
  },
  {
   "cell_type": "markdown",
   "metadata": {},
   "source": [
    "## Problema 2"
   ]
  },
  {
   "cell_type": "code",
   "execution_count": 3,
   "metadata": {},
   "outputs": [],
   "source": [
    "import matplotlib.pyplot as plt"
   ]
  },
  {
   "cell_type": "markdown",
   "metadata": {},
   "source": [
    "**(a)** Grafique $\\textbf{J}(\\beta)$ del ejercicio en $3D$ y en una gráfica de contorno. \n",
    "\n"
   ]
  },
  {
   "cell_type": "markdown",
   "metadata": {},
   "source": [
    "**(b)** Indique con un punto el valor de $\\textbf{J}(\\beta)$ en la última iteración."
   ]
  },
  {
   "cell_type": "markdown",
   "metadata": {},
   "source": [
    "**(c)** Modifique el _widget_ para mostrar conforme pasan las iteraciones como el valor de $\\textbf{J}(\\beta)$ se acerca al mínimo en la gráfica de contorno."
   ]
  },
  {
   "cell_type": "markdown",
   "metadata": {},
   "source": [
    "**(d)** Agrega al _widget_ un control para modificar $\\alpha$ (habrá que agregar el entrenamiento del modelo a la función que estás realizando para este _widget_)"
   ]
  },
  {
   "cell_type": "markdown",
   "metadata": {},
   "source": [
    "## Problema 3"
   ]
  },
  {
   "cell_type": "markdown",
   "metadata": {},
   "source": [
    "**(a)**  Usando los datos de `chirps.txt`"
   ]
  },
  {
   "cell_type": "code",
   "execution_count": 5,
   "metadata": {},
   "outputs": [
    {
     "name": "stdout",
     "output_type": "stream",
     "text": [
      "#Chirps/Second \tTemperature (º F)\r\n",
      "20.0 \t88.6\r\n",
      "16.0 \t71.6\r\n",
      "19.8 \t93.3\r\n",
      "18.4 \t84.3\r\n",
      "17.1 \t80.6\r\n",
      "15.5 \t75.2\r\n",
      "14.7 \t69.7\r\n",
      "15.7 \t71.6\r\n",
      "15.4 \t69.4\r\n",
      "16.3 \t83.3\r\n",
      "15.0 \t79.6\r\n",
      "17.2 \t82.6\r\n",
      "16.0 \t80.6\r\n",
      "17.0 \t83.5\r\n",
      "14.4 \t76.3\r\n"
     ]
    }
   ],
   "source": [
    "%cat Data/chirps.txt"
   ]
  },
  {
   "cell_type": "raw",
   "metadata": {},
   "source": [
    "Los datos se ven así"
   ]
  },
  {
   "cell_type": "code",
   "execution_count": 175,
   "metadata": {},
   "outputs": [
    {
     "data": {
      "text/plain": [
       "Text(0, 0.5, 'Temperature')"
      ]
     },
     "execution_count": 175,
     "metadata": {},
     "output_type": "execute_result"
    },
    {
     "data": {
      "image/png": "[encoded data removed]",
      "text/plain": [
       "<Figure size 600x400 with 1 Axes>"
      ]
     },
     "metadata": {
      "needs_background": "light"
     },
     "output_type": "display_data"
    }
   ],
   "source": [
    "X, Y = np.loadtxt('Data/chirps.txt', unpack = True, dtype = float, delimiter=' ', usecols = [0,1])\n",
    "plt.figure(dpi=100)\n",
    "plt.subplot(1, 1, 1)\n",
    "\n",
    "plt.scatter(X, Y, color = (.23, .8, .88), alpha = .5, label = 'Chirps')\n",
    "plt.legend(loc = 'upper left')\n",
    "plt.xlabel('Chirps/Second')\n",
    "plt.ylabel('Temperature')"
   ]
  },
  {
   "cell_type": "markdown",
   "metadata": {},
   "source": [
    "Entrenar una regresión lineal. Grafique los datos y el mejor modelo. Explique como llegó a los valores de $\\alpha$. ¿Coinciden con los mostrados en la página web?"
   ]
  },
  {
   "cell_type": "code",
   "execution_count": 204,
   "metadata": {},
   "outputs": [
    {
     "name": "stdout",
     "output_type": "stream",
     "text": [
      "La función convergió con beta: [22.26350136  3.44531603] en la iteración 123659\n"
     ]
    }
   ],
   "source": [
    "chirps = RegresionLineal(alpha=0.003, max_iters=1000000, tols=0.0000001)\n",
    "chirps.gradientDescent(X, Y)"
   ]
  },
  {
   "cell_type": "code",
   "execution_count": 205,
   "metadata": {},
   "outputs": [
    {
     "data": {
      "image/png": "[encoded data removed]",
      "text/plain": [
       "<Figure size 600x400 with 1 Axes>"
      ]
     },
     "metadata": {
      "needs_background": "light"
     },
     "output_type": "display_data"
    }
   ],
   "source": [
    "plotModelo(X,Y,chirps,123000)"
   ]
  },
  {
   "cell_type": "markdown",
   "metadata": {},
   "source": [
    "<img src=\"Data/Reg.png\"/>"
   ]
  },
  {
   "cell_type": "markdown",
   "metadata": {},
   "source": [
    "\n",
    "**NOTA**: Datos obtenidos de [aquí](http://mathbits.com/MathBits/TISection/Statistics2/linearREAL.htm)\n"
   ]
  },
  {
   "cell_type": "markdown",
   "metadata": {},
   "source": [
    "## Problema 4"
   ]
  },
  {
   "cell_type": "markdown",
   "metadata": {},
   "source": [
    "**(a)** Usando los datos del [cuarteto de Anscombe](http://en.wikipedia.org/wiki/Anscombe%27s_quartet) Calcule la regresión lineal ¿Qué sucede?"
   ]
  },
  {
   "cell_type": "code",
   "execution_count": 49,
   "metadata": {},
   "outputs": [
    {
     "name": "stdout",
     "output_type": "stream",
     "text": [
      "Overwriting cuarteto.txt\n"
     ]
    }
   ],
   "source": [
    "%%file cuarteto.txt\n",
    "10.0\t8.04\t10.0\t9.14\t10.0\t7.46\t8.0\t6.58\n",
    "8.0\t6.95\t8.0\t8.14\t8.0\t6.77\t8.0\t5.76\n",
    "13.0\t7.58\t13.0\t8.74\t13.0\t12.74\t8.0\t7.71\n",
    "9.0\t8.81\t9.0\t8.77\t9.0\t7.11\t8.0\t8.84\n",
    "11.0\t8.33\t11.0\t9.26\t11.0\t7.81\t8.0\t8.47\n",
    "14.0\t9.96\t14.0\t8.10\t14.0\t8.84\t8.0\t7.04\n",
    "6.0\t7.24\t6.0\t6.13\t6.0\t6.08\t8.0\t5.25\n",
    "4.0\t4.26\t4.0\t3.10\t4.0\t5.39\t19.0\t12.50\n",
    "12.0\t10.84\t12.0\t9.13\t12.0\t8.15\t8.0\t5.56\n",
    "7.0\t4.82\t7.0\t7.26\t7.0\t6.42\t8.0\t7.91\n",
    "5.0\t5.68\t5.0\t4.74\t5.0\t5.73\t8.0\t6.89"
   ]
  },
  {
   "cell_type": "code",
   "execution_count": 64,
   "metadata": {},
   "outputs": [
    {
     "data": {
      "text/plain": [
       "<matplotlib.legend.Legend at 0x7fc496716280>"
      ]
     },
     "execution_count": 64,
     "metadata": {},
     "output_type": "execute_result"
    },
    {
     "data": {
      "image/png": "[encoded data removed]",
      "text/plain": [
       "<Figure size 1000x600 with 4 Axes>"
      ]
     },
     "metadata": {
      "needs_background": "light"
     },
     "output_type": "display_data"
    }
   ],
   "source": [
    "x1, y1, x2, y2, x3, y3, x4, y4 = np.loadtxt('Data/cuarteto.txt', unpack = True, dtype = float, delimiter='\t', usecols = [0,1,2,3,4,5,6,7])\n",
    "fig, ax = plt.subplots(2,2, figsize=(10,6), dpi = 100)\n",
    "\n",
    "ax[0,0].scatter(x1,y1, label ='I', color = 'green') \n",
    "ax[0,1].scatter(x2,y2, label = 'II', color = 'red') \n",
    "ax[1,0].scatter(x3,y3, label = 'III', color = 'yellow')\n",
    "ax[1,1].scatter(x4,y4, label = 'IV')\n",
    "\n",
    "ax[0,0].legend(loc = 'upper left')\n",
    "ax[0,1].legend(loc = 'upper left')\n",
    "ax[1,0].legend(loc = 'upper left')\n",
    "ax[1,1].legend(loc = 'upper left')\n"
   ]
  },
  {
   "cell_type": "code",
   "execution_count": 202,
   "metadata": {},
   "outputs": [
    {
     "name": "stdout",
     "output_type": "stream",
     "text": [
      "La función convergió con beta: [2.94731748 0.50531651] en la iteración 12292\n"
     ]
    }
   ],
   "source": [
    "I = RegresionLineal(alpha=0.003, max_iters=100000, tols=0.0000001)\n",
    "I.gradientDescent(x1, y1)"
   ]
  },
  {
   "cell_type": "code",
   "execution_count": 203,
   "metadata": {},
   "outputs": [
    {
     "data": {
      "image/png": "[encoded data removed]",
      "text/plain": [
       "<Figure size 600x400 with 1 Axes>"
      ]
     },
     "metadata": {
      "needs_background": "light"
     },
     "output_type": "display_data"
    }
   ],
   "source": [
    "plotModelo(x1,y1,I,12200)"
   ]
  },
  {
   "cell_type": "code",
   "execution_count": 200,
   "metadata": {},
   "outputs": [
    {
     "name": "stdout",
     "output_type": "stream",
     "text": [
      "La función convergió con beta: [2.9481381  0.50522536] en la iteración 12293\n"
     ]
    }
   ],
   "source": [
    "II = RegresionLineal(alpha=0.003, max_iters=100000, tols=0.0000001)\n",
    "II.gradientDescent(x2, y2)"
   ]
  },
  {
   "cell_type": "code",
   "execution_count": 201,
   "metadata": {},
   "outputs": [
    {
     "data": {
      "image/png": "[encoded data removed]",
      "text/plain": [
       "<Figure size 600x400 with 1 Axes>"
      ]
     },
     "metadata": {
      "needs_background": "light"
     },
     "output_type": "display_data"
    }
   ],
   "source": [
    "plotModelo(x2,y2,II,12200)"
   ]
  },
  {
   "cell_type": "code",
   "execution_count": 194,
   "metadata": {},
   "outputs": [
    {
     "name": "stdout",
     "output_type": "stream",
     "text": [
      "La función convergió con beta: [2.94967268 0.50495371] en la iteración 12294\n"
     ]
    }
   ],
   "source": [
    "III = RegresionLineal(alpha=0.003, max_iters=100000, tols=0.0000001)\n",
    "III.gradientDescent(x3, y3)"
   ]
  },
  {
   "cell_type": "code",
   "execution_count": 196,
   "metadata": {},
   "outputs": [
    {
     "data": {
      "image/png": "[encoded data removed]",
      "text/plain": [
       "<Figure size 600x400 with 1 Axes>"
      ]
     },
     "metadata": {
      "needs_background": "light"
     },
     "output_type": "display_data"
    }
   ],
   "source": [
    "plotModelo(x3,y3,III,12200)"
   ]
  },
  {
   "cell_type": "code",
   "execution_count": 198,
   "metadata": {},
   "outputs": [
    {
     "name": "stdout",
     "output_type": "stream",
     "text": [
      "La función convergió con beta: [2.94895873 0.50513421] en la iteración 12294\n"
     ]
    }
   ],
   "source": [
    "IV = RegresionLineal(alpha=0.003, max_iters=100000, tols=0.0000001)\n",
    "IV.gradientDescent(x4, y4)"
   ]
  },
  {
   "cell_type": "code",
   "execution_count": 199,
   "metadata": {},
   "outputs": [
    {
     "data": {
      "image/png": "[encoded data removed]",
      "text/plain": [
       "<Figure size 600x400 with 1 Axes>"
      ]
     },
     "metadata": {
      "needs_background": "light"
     },
     "output_type": "display_data"
    }
   ],
   "source": [
    "plotModelo(x4,y4,IV,12200)"
   ]
  },
  {
   "cell_type": "markdown",
   "metadata": {},
   "source": [
    "## Problema 5"
   ]
  },
  {
   "cell_type": "markdown",
   "metadata": {},
   "source": [
    "Use el archivo `radioactive_decay.dat`"
   ]
  },
  {
   "cell_type": "code",
   "execution_count": 34,
   "metadata": {},
   "outputs": [
    {
     "name": "stdout",
     "output_type": "stream",
     "text": [
      "#time   N_(remaining)\r\n",
      "0.0 10.48\r\n",
      "1.0 7.54\r\n",
      "2.0 5.49\r\n",
      "3.0 4.02\r\n",
      "4.0 2.74\r\n",
      "5.0 2.02\r\n",
      "6.0 1.50\r\n",
      "7.0 1.09\r\n",
      "8.0 0.68\r\n",
      "9.0 0.57\r\n",
      "10.0 0.37\r\n",
      "11.0 0.31\r\n",
      "12.0 0.19\r\n",
      "13.0 0.15\r\n",
      "14.0 0.13\r\n",
      "15.0 0.11\r\n"
     ]
    }
   ],
   "source": [
    "%cat Data/radioactive_decay.txt"
   ]
  },
  {
   "cell_type": "markdown",
   "metadata": {},
   "source": [
    "**(a)** Grafique los datos ¿Qué forma tienen?"
   ]
  },
  {
   "cell_type": "code",
   "execution_count": 149,
   "metadata": {},
   "outputs": [
    {
     "data": {
      "text/plain": [
       "Text(0, 0.5, 'N_(remaining)')"
      ]
     },
     "execution_count": 149,
     "metadata": {},
     "output_type": "execute_result"
    },
    {
     "data": {
      "image/png": "[encoded data removed]",
      "text/plain": [
       "<Figure size 600x400 with 1 Axes>"
      ]
     },
     "metadata": {
      "needs_background": "light"
     },
     "output_type": "display_data"
    }
   ],
   "source": [
    "time, remain = np.loadtxt('Data/radioactive_decay.txt', unpack = True, dtype = float, delimiter=' ', usecols = [0,1])\n",
    "plt.figure(dpi=100)\n",
    "plt.subplot(1, 1, 1)\n",
    "\n",
    "plt.scatter(time, remain, color = (.23, .8, .88), alpha = .8)\n",
    "plt.xlabel('Time')\n",
    "plt.ylabel('N_(remaining)')"
   ]
  },
  {
   "cell_type": "code",
   "execution_count": 150,
   "metadata": {},
   "outputs": [
    {
     "name": "stdout",
     "output_type": "stream",
     "text": [
      "La función convergió con beta: [ 6.43577297 -0.54728535] en la iteración 7016\n"
     ]
    }
   ],
   "source": [
    "radio = RegresionLineal(alpha=0.003, max_iters=10000, tols=0.0000001)\n",
    "radio.gradientDescent(time,remain)"
   ]
  },
  {
   "cell_type": "code",
   "execution_count": 151,
   "metadata": {},
   "outputs": [
    {
     "data": {
      "image/png": "[encoded data removed]",
      "text/plain": [
       "<Figure size 600x400 with 1 Axes>"
      ]
     },
     "metadata": {
      "needs_background": "light"
     },
     "output_type": "display_data"
    }
   ],
   "source": [
    "plotModelo(time,remain,radio,7000)"
   ]
  },
  {
   "cell_type": "markdown",
   "metadata": {},
   "source": [
    "**(b)** ¿Qué transformación se le ocurre para linearizarlos? Explique y grafique de nuevo. Guarde los datos transformados en un archivo llamado `transform_radioactive_decay.txt`"
   ]
  },
  {
   "cell_type": "code",
   "execution_count": 152,
   "metadata": {},
   "outputs": [
    {
     "data": {
      "text/plain": [
       "<matplotlib.collections.PathCollection at 0x7fc495ada820>"
      ]
     },
     "execution_count": 152,
     "metadata": {},
     "output_type": "execute_result"
    },
    {
     "data": {
      "image/png": "[encoded data removed]",
      "text/plain": [
       "<Figure size 432x288 with 1 Axes>"
      ]
     },
     "metadata": {
      "needs_background": "light"
     },
     "output_type": "display_data"
    }
   ],
   "source": [
    "ln_remain = np.log(remain)\n",
    "plt.scatter(time, ln_remain)"
   ]
  },
  {
   "cell_type": "code",
   "execution_count": 158,
   "metadata": {},
   "outputs": [],
   "source": [
    "datos = list(zip(time, ln_remain))"
   ]
  },
  {
   "cell_type": "code",
   "execution_count": 159,
   "metadata": {},
   "outputs": [
    {
     "data": {
      "text/plain": [
       "[(0.0, 2.349468678892896),\n",
       " (1.0, 2.020222182019865),\n",
       " (2.0, 1.7029282555214393),\n",
       " (3.0, 1.3912819026309295),\n",
       " (4.0, 1.007957920399979),\n",
       " (5.0, 0.7030975114131134),\n",
       " (6.0, 0.4054651081081644),\n",
       " (7.0, 0.08617769624105241),\n",
       " (8.0, -0.3856624808119846),\n",
       " (9.0, -0.5621189181535413),\n",
       " (10.0, -0.9942522733438669),\n",
       " (11.0, -1.171182981502945),\n",
       " (12.0, -1.6607312068216509),\n",
       " (13.0, -1.8971199848858813),\n",
       " (14.0, -2.0402208285265546),\n",
       " (15.0, -2.2072749131897207)]"
      ]
     },
     "execution_count": 159,
     "metadata": {},
     "output_type": "execute_result"
    }
   ],
   "source": [
    "datos"
   ]
  },
  {
   "cell_type": "code",
   "execution_count": 161,
   "metadata": {},
   "outputs": [],
   "source": [
    "np.savetxt(\"transform_radioactive_decay.txt\", datos, delimiter=\" \")"
   ]
  },
  {
   "cell_type": "markdown",
   "metadata": {},
   "source": [
    "**(c)** Aplique la regresión lineal a este conjunto de datos transformado, leyendo los datos del archivo recién creado."
   ]
  },
  {
   "cell_type": "code",
   "execution_count": 164,
   "metadata": {},
   "outputs": [
    {
     "data": {
      "text/plain": [
       "Text(0, 0.5, 'N_(remaining)')"
      ]
     },
     "execution_count": 164,
     "metadata": {},
     "output_type": "execute_result"
    },
    {
     "data": {
      "image/png": "[encoded data removed]",
      "text/plain": [
       "<Figure size 600x400 with 1 Axes>"
      ]
     },
     "metadata": {
      "needs_background": "light"
     },
     "output_type": "display_data"
    }
   ],
   "source": [
    "time, remains = np.loadtxt('Data/transform_radioactive_decay.txt', unpack = True, dtype = float, delimiter=' ', usecols = [0,1])\n",
    "plt.figure(dpi=100)\n",
    "plt.subplot(1, 1, 1)\n",
    "\n",
    "plt.scatter(time, remains, color = (.23, .8, .88), alpha = .8)\n",
    "plt.xlabel('Time')\n",
    "plt.ylabel('N_(remaining)')"
   ]
  },
  {
   "cell_type": "code",
   "execution_count": 165,
   "metadata": {},
   "outputs": [
    {
     "name": "stdout",
     "output_type": "stream",
     "text": [
      "La función convergió con beta: [ 2.27548901 -0.31459673] en la iteración 5755\n"
     ]
    }
   ],
   "source": [
    "radios = RegresionLineal(alpha=0.003, max_iters=10000, tols=0.0000001)\n",
    "radios.gradientDescent(time,remains)"
   ]
  },
  {
   "cell_type": "code",
   "execution_count": 171,
   "metadata": {},
   "outputs": [
    {
     "data": {
      "image/png": "[encoded data removed]",
      "text/plain": [
       "<Figure size 600x400 with 1 Axes>"
      ]
     },
     "metadata": {
      "needs_background": "light"
     },
     "output_type": "display_data"
    }
   ],
   "source": [
    "plotModelo(time,remains,radios,5500)"
   ]
  },
  {
   "cell_type": "markdown",
   "metadata": {},
   "source": [
    "**(d)** ¿Cuáles son los valores de $\\beta$ que mejor ajustan? ¿Cuáles son el espacio sin transformar? Explique."
   ]
  },
  {
   "cell_type": "code",
   "execution_count": null,
   "metadata": {},
   "outputs": [],
   "source": []
  },
  {
   "cell_type": "code",
   "execution_count": 74,
   "metadata": {},
   "outputs": [],
   "source": [
    "class RegresionLineal:\n",
    "    def __init__(self, alpha = 0.3, max_iters = 100, tols = 0.001):\n",
    "        \"\"\"\n",
    "        Parámetros.\n",
    "        ---------------\n",
    "        alpha = Learning rate\n",
    "        max_iters = Número máximo de iteraciones\n",
    "        tols = definición de convergencia\n",
    "    Vamos a ir iterando hasta que lleguemos al punto\n",
    "    Si me paso de un número de iteraciones para, porque dejarás de hacerlo bien\n",
    "    Tolerancia, el más cerca de cero que aceptarás.\n",
    "        \n",
    "        \"\"\"\n",
    "        \n",
    "        # Características de la clase\n",
    "        # Historia es para llevar un track\n",
    "        # HERRAMIENTAS PARA DEFINIR CÓMO TRABAJARÁ EL ALGORTIMO\n",
    "        \n",
    "        self.alpha = alpha\n",
    "        self.max_iters = max_iters\n",
    "        self.tols = tols\n",
    "        self.breaking_iteration = None\n",
    "        self.historia = {'costo':[], 'beta':[]}  # Con fines de graficación\n",
    "        \n",
    "        \n",
    "    ## EMPIEZA EL ALGORITMO\n",
    "    \n",
    "    def gradientDescent(self, x, y):\n",
    "        \"\"\"\n",
    "    Definimos el descenso en gradiente con el par de vectores\n",
    "        ¿Qué podemos hacer como validación de x y y?\n",
    "        Parámetros:\n",
    "        ---------------\n",
    "        x = vector de entrenamiento de features\n",
    "        y = vector de entrenamiento de variable a predecir (target)\n",
    "        \"\"\"    \n",
    "        \n",
    "        # ajustamos el vector de features\n",
    "        # Hacemos una función de ceros\n",
    "        # Hacemos un vector vertical\n",
    "        # Concatenamos los unos para hacer los betas\n",
    "        # y  = beta0 x0 + beta1 x1... Hacemos esto vertical\n",
    "        # y = (beta 0, beta 1)T ...\n",
    "        \n",
    "        unos = np.ones((x.shape[0], 1))\n",
    "        Xt = x.reshape(x.shape[0], 1)\n",
    "        Xt = np.concatenate((unos, Xt), axis=1)\n",
    "        \n",
    "        i = 0\n",
    "        prep_J = 0\n",
    "        m, n = Xt.shape\n",
    "        # self beta es serie de ceros. \n",
    "        self.beta = np.zeros(n) \n",
    "        \n",
    "        # No nos pasemos del máximo de iteraciones\n",
    "        while i < self.max_iters:     \n",
    "            # Actualizamos beta y le restamos alfa veces el gradiente\n",
    "            # (1)\n",
    "            self.beta = self.beta - self.alpha * self.gradiente(Xt, y)\n",
    "            \n",
    "        #Sacamos el costo en general (2)\n",
    "            J = self.costo(Xt, y)\n",
    "            \n",
    "            # Qué tanto nos interesa la presición\n",
    "            # Convergencia se checa aquí. Mientras J - prep_J no llegue a la tolerancia.\n",
    "        \n",
    "            if abs(J - prep_J) <= self.tols:\n",
    "                print('La función convergió con beta: %s en la iteración %i' % ( str(self.beta), i ))\n",
    "                self.breaking_iteration = i\n",
    "                break\n",
    "            else:\n",
    "                prep_J = J\n",
    "        # Hay de 2, o llegamos a la máxima iteración o llegamos a casi a self.tols\n",
    "        # Mientras más presición se pida, más se va a tardar\n",
    "        \n",
    "           #Actualizo \n",
    "            self.historia['costo'].append(J)\n",
    "            self.historia['beta'].append(self.beta)                \n",
    "            i += 1\n",
    "    \n",
    "    def hipotesis(self, x):\n",
    "        return np.dot(x, self.beta)\n",
    "    \n",
    "    \n",
    "    # Aquí se calcula el costo\n",
    "    def costo(self, x, y):\n",
    "        m = x.shape[0]\n",
    "        error = self.hipotesis(x) - y\n",
    "        return np.dot(error.T, error) / (2 * m) \n",
    "    \n",
    "    def gradiente(self, x, y):\n",
    "        m = x.shape[0]\n",
    "        error = self.hipotesis(x) - y        \n",
    "        return np.dot(x.T, error) / m    "
   ]
  },
  {
   "cell_type": "code",
   "execution_count": 87,
   "metadata": {},
   "outputs": [],
   "source": [
    "def plotModelo(x,y,rl,iteracion):\n",
    "    modelo = lambda x,b,m: b + m*x # función para graficar el modelo\n",
    "    \n",
    "    _beta = rl.historia['beta'][iteracion]\n",
    "\n",
    "    plt.figure(dpi=100)\n",
    "    plt.subplot(1, 1, 1)\n",
    "    \n",
    "    plt.scatter(x,y, label=\"datos\")\n",
    "    plt.plot(x, modelo(x, _beta[0], _beta[1]), label=\"int: %1.2f, pen: %1.2f\" % (_beta[0], _beta[1]))"
   ]
  },
  {
   "cell_type": "code",
   "execution_count": 102,
   "metadata": {},
   "outputs": [],
   "source": [
    "def plotGuess(x, y, interceptor, pendiente):\n",
    "    \n",
    "    modelo = lambda x,b,m: b + m*x # función para graficar el modelo\n",
    "    \n",
    "    plt.scatter(x,y, label = \"data\")\n",
    "    plt.plot(x, modelo(x, interceptor, pendiente), label = 'Guess')"
   ]
  },
  {
   "cell_type": "code",
   "execution_count": 118,
   "metadata": {},
   "outputs": [
    {
     "data": {
      "image/png": "[encoded data removed]",
      "text/plain": [
       "<Figure size 432x288 with 1 Axes>"
      ]
     },
     "metadata": {
      "needs_background": "light"
     },
     "output_type": "display_data"
    }
   ],
   "source": [
    "plotGuess(x1, y1, 4.5, .35)"
   ]
  },
  {
   "cell_type": "markdown",
   "metadata": {},
   "source": [
    "# "
   ]
  }
 ],
 "metadata": {
  "kernelspec": {
   "display_name": "Python 3",
   "language": "python",
   "name": "python3"
  },
  "language_info": {
   "codemirror_mode": {
    "name": "ipython",
    "version": 3
   },
   "file_extension": ".py",
   "mimetype": "text/x-python",
   "name": "python",
   "nbconvert_exporter": "python",
   "pygments_lexer": "ipython3",
   "version": "3.8.5"
  }
 },
 "nbformat": 4,
 "nbformat_minor": 4
}
