{
 "cells": [
  {
   "cell_type": "markdown",
   "metadata": {},
   "source": [
    "# Ejercicios de NumPy "
   ]
  },
  {
   "cell_type": "code",
   "execution_count": 3,
   "metadata": {},
   "outputs": [
    {
     "name": "stdout",
     "output_type": "stream",
     "text": [
      "Populating the interactive namespace from numpy and matplotlib\n"
     ]
    }
   ],
   "source": [
    "%pylab inline\n",
    "import numpy as np"
   ]
  },
  {
   "cell_type": "markdown",
   "metadata": {},
   "source": [
    "## Pregunta 1"
   ]
  },
  {
   "cell_type": "markdown",
   "metadata": {},
   "source": [
    "Crea los siguientes arreglos con los tipos correctos. "
   ]
  },
  {
   "cell_type": "markdown",
   "metadata": {},
   "source": [
    "- Un arreglo de $5 \\times 5$ cuya diagonal sean $[2.0, 3.0, 4.0, 5.0]$\n",
    "- Un arreglo de $4 \\times 4$ cuyo último renglón sea $[1,2,3,4]$ y el resto sean $0$."
   ]
  },
  {
   "cell_type": "code",
   "execution_count": 4,
   "metadata": {},
   "outputs": [
    {
     "name": "stdout",
     "output_type": "stream",
     "text": [
      "[[1. 0. 0. 0. 0.]\n",
      " [0. 2. 0. 0. 0.]\n",
      " [0. 0. 3. 0. 0.]\n",
      " [0. 0. 0. 4. 0.]\n",
      " [0. 0. 0. 0. 5.]]\n"
     ]
    }
   ],
   "source": [
    "arr = np.eye(5)\n",
    "\n",
    "for i in range(5):\n",
    "    arr[i, i] = i + 1\n",
    "    \n",
    "print(arr)"
   ]
  },
  {
   "cell_type": "code",
   "execution_count": 5,
   "metadata": {},
   "outputs": [
    {
     "name": "stdout",
     "output_type": "stream",
     "text": [
      "[[0. 0. 0. 0.]\n",
      " [0. 0. 0. 0.]\n",
      " [0. 0. 0. 0.]\n",
      " [1. 2. 3. 4.]]\n"
     ]
    }
   ],
   "source": [
    "arr1 = np.zeros((4,4))\n",
    "\n",
    "arr1[3] = [1,2,3,4]\n",
    "\n",
    "print(arr1)"
   ]
  },
  {
   "cell_type": "markdown",
   "metadata": {},
   "source": [
    "## Pregunta 2"
   ]
  },
  {
   "cell_type": "markdown",
   "metadata": {},
   "source": [
    "En este ejercicio realizaremos una [**criba de Eratóstenes**](http://en.wikipedia.org/wiki/Sieve_of_Eratosthenes)"
   ]
  },
  {
   "cell_type": "markdown",
   "metadata": {},
   "source": [
    "(a) Crea un arreglo de booleanos de **shape** `(100,)`, con todos sus elementos `True`.  El índice representa el número."
   ]
  },
  {
   "cell_type": "code",
   "execution_count": 6,
   "metadata": {},
   "outputs": [
    {
     "name": "stdout",
     "output_type": "stream",
     "text": [
      "[ True  True  True  True  True  True  True  True  True  True  True  True\n",
      "  True  True  True  True  True  True  True  True  True  True  True  True\n",
      "  True  True  True  True  True  True  True  True  True  True  True  True\n",
      "  True  True  True  True  True  True  True  True  True  True  True  True\n",
      "  True  True  True  True  True  True  True  True  True  True  True  True\n",
      "  True  True  True  True  True  True  True  True  True  True  True  True\n",
      "  True  True  True  True  True  True  True  True  True  True  True  True\n",
      "  True  True  True  True  True  True  True  True  True  True  True  True\n",
      "  True  True  True  True]\n"
     ]
    }
   ],
   "source": [
    "bool_arr = np.ones((100), dtype=bool)\n",
    "print(bool_arr)"
   ]
  },
  {
   "cell_type": "markdown",
   "metadata": {},
   "source": [
    "(b) \"Tacha\" los elementos `0` y `1`."
   ]
  },
  {
   "cell_type": "code",
   "execution_count": 7,
   "metadata": {},
   "outputs": [
    {
     "name": "stdout",
     "output_type": "stream",
     "text": [
      "[ True  True]\n"
     ]
    }
   ],
   "source": [
    "#Hacemos un slicing\n",
    "bool_arr_slice = bool_arr[0:2]\n",
    "print(bool_arr_slice)"
   ]
  },
  {
   "cell_type": "code",
   "execution_count": 8,
   "metadata": {},
   "outputs": [
    {
     "name": "stdout",
     "output_type": "stream",
     "text": [
      "[False False]\n"
     ]
    }
   ],
   "source": [
    "#Hacemos los 2 primeros elementos 'Falso' haciendo un slicing\n",
    "bool_arr_slice[0:2] = np.logical_not(bool_arr_slice)\n",
    "print(bool_arr_slice)"
   ]
  },
  {
   "cell_type": "code",
   "execution_count": 9,
   "metadata": {},
   "outputs": [
    {
     "name": "stdout",
     "output_type": "stream",
     "text": [
      "[False False  True  True  True  True  True  True  True  True  True  True\n",
      "  True  True  True  True  True  True  True  True  True  True  True  True\n",
      "  True  True  True  True  True  True  True  True  True  True  True  True\n",
      "  True  True  True  True  True  True  True  True  True  True  True  True\n",
      "  True  True  True  True  True  True  True  True  True  True  True  True\n",
      "  True  True  True  True  True  True  True  True  True  True  True  True\n",
      "  True  True  True  True  True  True  True  True  True  True  True  True\n",
      "  True  True  True  True  True  True  True  True  True  True  True  True\n",
      "  True  True  True  True]\n"
     ]
    }
   ],
   "source": [
    "print(bool_arr)"
   ]
  },
  {
   "cell_type": "markdown",
   "metadata": {},
   "source": [
    "(c) Para cada entero subsiguiente, tacha sus múltiplos. Una manera de hacerlo es el código que se muestra. Explica que hace el código, sobretodo explica que hace el *slicing*."
   ]
  },
  {
   "cell_type": "code",
   "execution_count": 10,
   "metadata": {},
   "outputs": [],
   "source": [
    "N_max = int(np.sqrt(len(bool_arr)))\n",
    "\n",
    "# Vayamos de adentro hacia afuera.\n",
    "# len(bool_arr) = nos dice la longitud del arreglo\n",
    "# np.sqrt(...) = saca la raíz de la longitux del arreglo\n",
    "# int(...) = convertimos a entero la raíz\n",
    "\n",
    "# Con lo que concluímos que 'N_max es el máximo calor que tomarán los múltiplos'\n",
    "# print(N_max) = 10\n",
    "\n",
    "for j in range(2, N_max):\n",
    "\n",
    "# Esto nos dice que la j irá desde el número 2, porque ya \"tachamos\" el 0 y 1\n",
    "# y que llegará a uno antes del máximo (= 10)\n",
    "\n",
    "    bool_arr[2*j::j] = False\n",
    "\n",
    "# Tenemos un slicing, en el que [2*j::j] nos dice que:\n",
    "    # va a comenzar en el j*2 (para que no se elimine el primo)\n",
    "    # va a terminar el recorrido en toda la lista\n",
    "    # va a ir 'saltando' de j en j \n",
    "    # los va a convertir en False\n",
    "    # es decir, va a hacer los múltiplos de j False"
   ]
  },
  {
   "cell_type": "code",
   "execution_count": 11,
   "metadata": {},
   "outputs": [
    {
     "data": {
      "text/plain": [
       "array([False, False,  True,  True, False,  True, False,  True, False,\n",
       "       False, False,  True, False,  True, False, False, False,  True,\n",
       "       False,  True, False, False, False,  True, False, False, False,\n",
       "       False, False,  True, False,  True, False, False, False, False,\n",
       "       False,  True, False, False, False,  True, False,  True, False,\n",
       "       False, False,  True, False, False, False, False, False,  True,\n",
       "       False, False, False, False, False,  True, False,  True, False,\n",
       "       False, False, False, False,  True, False, False, False,  True,\n",
       "       False,  True, False, False, False, False, False,  True, False,\n",
       "       False, False,  True, False, False, False, False, False,  True,\n",
       "       False, False, False, False, False, False, False,  True, False,\n",
       "       False])"
      ]
     },
     "execution_count": 11,
     "metadata": {},
     "output_type": "execute_result"
    }
   ],
   "source": [
    "bool_arr"
   ]
  },
  {
   "cell_type": "markdown",
   "metadata": {},
   "source": [
    "(d) Mira la documentacion de `np.nonzero` para imprimir todos los números primos."
   ]
  },
  {
   "cell_type": "code",
   "execution_count": 12,
   "metadata": {},
   "outputs": [],
   "source": [
    "np.nonzero?\n",
    "# Regresa los índices de los elementos que NO son cero(0)"
   ]
  },
  {
   "cell_type": "code",
   "execution_count": 13,
   "metadata": {},
   "outputs": [
    {
     "data": {
      "text/plain": [
       "(array([ 2,  3,  5,  7, 11, 13, 17, 19, 23, 29, 31, 37, 41, 43, 47, 53, 59,\n",
       "        61, 67, 71, 73, 79, 83, 89, 97]),)"
      ]
     },
     "execution_count": 13,
     "metadata": {},
     "output_type": "execute_result"
    }
   ],
   "source": [
    "np.nonzero(bool_arr)"
   ]
  },
  {
   "cell_type": "markdown",
   "metadata": {},
   "source": [
    "(e) Encapsula lo que acabamos de hacer en una función llamada `criba_eratostenes`, que reciba como argumento `maximo` el cual representa el tamaño del `array`. Muestra el resultado para `maximo = {10, 100, 200}`, usando un `for`."
   ]
  },
  {
   "cell_type": "code",
   "execution_count": 14,
   "metadata": {},
   "outputs": [],
   "source": [
    "def criba_eratostenes(max):\n",
    "    bool_arr = np.ones((max), dtype=bool)\n",
    "    bool_arr_slice = bool_arr[0:2]\n",
    "    bool_arr_slice[0:2] = np.logical_not(bool_arr_slice)\n",
    "    N_max = int(np.sqrt(len(bool_arr)))\n",
    "    \n",
    "    for j in range(2, N_max):\n",
    "        bool_arr[2*j::j] = False\n",
    "    return np.nonzero(bool_arr)"
   ]
  },
  {
   "cell_type": "code",
   "execution_count": 15,
   "metadata": {},
   "outputs": [
    {
     "data": {
      "text/plain": [
       "[(array([2, 3, 5, 7, 9]),),\n",
       " (array([ 2,  3,  5,  7, 11, 13, 17, 19, 23, 29, 31, 37, 41, 43, 47, 53, 59,\n",
       "         61, 67, 71, 73, 79, 83, 89, 97]),),\n",
       " (array([  2,   3,   5,   7,  11,  13,  17,  19,  23,  29,  31,  37,  41,\n",
       "          43,  47,  53,  59,  61,  67,  71,  73,  79,  83,  89,  97, 101,\n",
       "         103, 107, 109, 113, 127, 131, 137, 139, 149, 151, 157, 163, 167,\n",
       "         173, 179, 181, 191, 193, 197, 199]),)]"
      ]
     },
     "execution_count": 15,
     "metadata": {},
     "output_type": "execute_result"
    }
   ],
   "source": [
    "l = [10,100,200]\n",
    "\n",
    "[criba_eratostenes(i) for i in l]"
   ]
  },
  {
   "cell_type": "code",
   "execution_count": 16,
   "metadata": {},
   "outputs": [
    {
     "name": "stdout",
     "output_type": "stream",
     "text": [
      "(array([2, 3, 5, 7, 9]),)\n",
      "(array([ 2,  3,  5,  7, 11, 13, 17, 19, 23, 29, 31, 37, 41, 43, 47, 53, 59,\n",
      "       61, 67, 71, 73, 79, 83, 89, 97]),)\n",
      "(array([  2,   3,   5,   7,  11,  13,  17,  19,  23,  29,  31,  37,  41,\n",
      "        43,  47,  53,  59,  61,  67,  71,  73,  79,  83,  89,  97, 101,\n",
      "       103, 107, 109, 113, 127, 131, 137, 139, 149, 151, 157, 163, 167,\n",
      "       173, 179, 181, 191, 193, 197, 199]),)\n"
     ]
    }
   ],
   "source": [
    "l = [10,100,200]\n",
    "\n",
    "for i in l:\n",
    "    print(criba_eratostenes(i))"
   ]
  },
  {
   "cell_type": "markdown",
   "metadata": {},
   "source": [
    "## Pregunta 3"
   ]
  },
  {
   "cell_type": "markdown",
   "metadata": {},
   "source": [
    "Crea un [cubo rubik](http://en.wikipedia.org/wiki/Rubik%27s_Cube), partiendo de un arreglo de ceros y usando *slicing* dibuja cada una de las caras como si estuviera resuelto (cada color un entero a partir del $1$). Muestra con *indexing* que está resuelto (es decir, imprime las seis caras). ¿Cuántos elementos del arreglo quedaron en $0$?"
   ]
  },
  {
   "cell_type": "code",
   "execution_count": 24,
   "metadata": {},
   "outputs": [
    {
     "name": "stdout",
     "output_type": "stream",
     "text": [
      "[[[0 0 0]\n",
      "  [0 0 0]\n",
      "  [0 0 0]]\n",
      "\n",
      " [[0 0 0]\n",
      "  [0 0 0]\n",
      "  [0 0 0]]\n",
      "\n",
      " [[0 0 0]\n",
      "  [0 0 0]\n",
      "  [0 0 0]]\n",
      "\n",
      " [[0 0 0]\n",
      "  [0 0 0]\n",
      "  [0 0 0]]\n",
      "\n",
      " [[0 0 0]\n",
      "  [0 0 0]\n",
      "  [0 0 0]]\n",
      "\n",
      " [[0 0 0]\n",
      "  [0 0 0]\n",
      "  [0 0 0]]]\n"
     ]
    }
   ],
   "source": [
    "cubo = np.zeros((6,3,3)).astype(int)\n",
    "print(cubo)"
   ]
  },
  {
   "cell_type": "code",
   "execution_count": 18,
   "metadata": {},
   "outputs": [
    {
     "name": "stdout",
     "output_type": "stream",
     "text": [
      "1\n",
      "2\n",
      "3\n",
      "4\n",
      "5\n",
      "6\n"
     ]
    }
   ],
   "source": [
    "# IDEA\n",
    "for i in list(range(1,7)):\n",
    "    print(i)"
   ]
  },
  {
   "cell_type": "code",
   "execution_count": 32,
   "metadata": {},
   "outputs": [
    {
     "name": "stdout",
     "output_type": "stream",
     "text": [
      "[[[1 1 1]\n",
      "  [1 1 1]\n",
      "  [1 1 1]]\n",
      "\n",
      " [[2 2 2]\n",
      "  [2 2 2]\n",
      "  [2 2 2]]\n",
      "\n",
      " [[3 3 3]\n",
      "  [3 3 3]\n",
      "  [3 3 3]]\n",
      "\n",
      " [[4 4 4]\n",
      "  [4 4 4]\n",
      "  [4 4 4]]\n",
      "\n",
      " [[5 5 5]\n",
      "  [5 5 5]\n",
      "  [5 5 5]]\n",
      "\n",
      " [[6 6 6]\n",
      "  [6 6 6]\n",
      "  [6 6 6]]]\n"
     ]
    }
   ],
   "source": [
    "for i in range(len(cubo)):\n",
    "    cubo[i:] = i + 1\n",
    "print(cubo)"
   ]
  },
  {
   "cell_type": "code",
   "execution_count": 20,
   "metadata": {},
   "outputs": [],
   "source": [
    "# Ningún elemento quedó en cero ya que se le asignó un entero a partir de 1 (range(1,7))"
   ]
  },
  {
   "cell_type": "markdown",
   "metadata": {},
   "source": [
    "## Pregunta 4"
   ]
  },
  {
   "cell_type": "markdown",
   "metadata": {},
   "source": [
    "El **Sudoku** es un pasatiempo que consiste en un arreglo  $9 \\times 9$ de celdas, con dígitos del 1 al 9, de tal manera que no se repiten valores en cada columna, cada renglón y en cada subarreglo de $3\\times 3$."
   ]
  },
  {
   "cell_type": "markdown",
   "metadata": {},
   "source": [
    "(a) Crea una función llamada `correcto` que reciba un `array` $1d$ de tamaño 9 e indique si está completo o no (i.e. incluye los números del 1 al 9."
   ]
  },
  {
   "cell_type": "code",
   "execution_count": 35,
   "metadata": {},
   "outputs": [],
   "source": [
    "def correcto(arreglo):\n",
    "    if len(arreglo) == 9:\n",
    "        for i in range(1,10):\n",
    "            if i not in arreglo:\n",
    "                return 'No contiene range(1,10)'\n",
    "        else:\n",
    "            return True\n",
    "    else:\n",
    "        return 'No tiene el tamaño adecuado'"
   ]
  },
  {
   "cell_type": "code",
   "execution_count": 36,
   "metadata": {},
   "outputs": [
    {
     "name": "stdout",
     "output_type": "stream",
     "text": [
      "True\n",
      "No contiene range(1,10)\n",
      "No tiene el tamaño adecuado\n"
     ]
    }
   ],
   "source": [
    "arreglo = np.arange(1,10)\n",
    "arreglo1 = np.arange(3,12)\n",
    "arreglo2 = np.arange(5,100)\n",
    "\n",
    "print(correcto(arreglo))\n",
    "print(correcto(arreglo1))\n",
    "print(correcto(arreglo2))"
   ]
  },
  {
   "cell_type": "markdown",
   "metadata": {},
   "source": [
    "(b) Crea una función llamada `descomponer3x3` que reciba un `array` de enteros de $9\\times 9$ y lo separe en sus 9 subarreglos $3\\times3$."
   ]
  },
  {
   "cell_type": "code",
   "execution_count": 37,
   "metadata": {},
   "outputs": [],
   "source": [
    "def descomponer3x3(arreglo): \n",
    "    desarreglo = np.reshape(arreglo,(9,3,3))\n",
    "    return desarreglo"
   ]
  },
  {
   "cell_type": "markdown",
   "metadata": {},
   "source": [
    "(c) Crea la función `esSolucion` que recibe un `array` de $9\\times 9$ y devuelve si es o no solución del sudoku."
   ]
  },
  {
   "cell_type": "code",
   "execution_count": 91,
   "metadata": {},
   "outputs": [],
   "source": [
    "def esSolucion(sudoku):\n",
    "    f = []    \n",
    "    c = []\n",
    "    \n",
    "    # Notemos primero que sudoku es una lista que tiene 9 sublistas con 9 elementos cada sublista\n",
    "    # Checamos primero que toda sublista en la lista 'sudoku' se cumpla la función correcto. Filas y columnas. \n",
    "    \n",
    "    print('Filas')\n",
    "    print('\\n')\n",
    "    for i in sudoku:\n",
    "        print(i)\n",
    "        print(correcto(i))\n",
    "        f.append(correcto(i))\n",
    "        \n",
    "        # Metemos el resultado de correcto en la lista de las filas\n",
    "        # Imprimimos cada fila que se checa y el resultado de correcto\n",
    "            \n",
    "    print('\\n')\n",
    "    print('Columnas')\n",
    "    print('\\n')\n",
    "    \n",
    "    # Checamos que toda columna en la lista 'sudoku' cumpla la función correcto\n",
    "    \n",
    "    for i in range(9):\n",
    "        print((sudoku[:,i]))\n",
    "        print(correcto(sudoku[:,i]))\n",
    "        c.append(correcto(sudoku[:,i]))\n",
    "\n",
    "    # Metemos el resultado de correcto en la lista de las columnas\n",
    "    # Imprimimos cada columna que se checa y el resultado de correcto\n",
    "\n",
    "    zipped = list(zip(c, f))\n",
    "    \n",
    "    #Hacemos un zip, ya que bastará que una de las entradas sea distinta a True para que no sea solución\n",
    "\n",
    "    for (i,j) in zipped:\n",
    "        if (i,j) == (True,True):\n",
    "            return 'Es solución'\n",
    "        else:\n",
    "            return 'No es solución'"
   ]
  },
  {
   "cell_type": "code",
   "execution_count": 92,
   "metadata": {},
   "outputs": [
    {
     "name": "stdout",
     "output_type": "stream",
     "text": [
      "[[5 6 2 9 8 1 3 4 7]\n",
      " [5 7 9 2 8 1 3 6 4]\n",
      " [7 1 4 5 3 9 8 2 6]\n",
      " [8 7 2 6 9 1 3 5 4]\n",
      " [6 8 1 2 7 3 9 5 4]\n",
      " [7 2 9 1 8 4 6 5 3]\n",
      " [9 5 7 4 6 2 8 1 3]\n",
      " [9 2 5 4 1 6 7 8 3]\n",
      " [8 3 4 2 1 7 5 9 6]]\n"
     ]
    }
   ],
   "source": [
    "# Programa para hacer listas random de sudoku 9x9\n",
    "sudok = []\n",
    "for i in range(0,9):\n",
    "    lista = list(range(1,10)) \n",
    "    random.shuffle(lista)\n",
    "    sudok.append(lista)\n",
    "sudoku = array(sudok)\n",
    "print(sudoku)"
   ]
  },
  {
   "cell_type": "code",
   "execution_count": 93,
   "metadata": {},
   "outputs": [
    {
     "name": "stdout",
     "output_type": "stream",
     "text": [
      "Filas\n",
      "\n",
      "\n",
      "[5 6 2 9 8 1 3 4 7]\n",
      "True\n",
      "[5 7 9 2 8 1 3 6 4]\n",
      "True\n",
      "[7 1 4 5 3 9 8 2 6]\n",
      "True\n",
      "[8 7 2 6 9 1 3 5 4]\n",
      "True\n",
      "[6 8 1 2 7 3 9 5 4]\n",
      "True\n",
      "[7 2 9 1 8 4 6 5 3]\n",
      "True\n",
      "[9 5 7 4 6 2 8 1 3]\n",
      "True\n",
      "[9 2 5 4 1 6 7 8 3]\n",
      "True\n",
      "[8 3 4 2 1 7 5 9 6]\n",
      "True\n",
      "\n",
      "\n",
      "Columnas\n",
      "\n",
      "\n",
      "[5 5 7 8 6 7 9 9 8]\n",
      "No contiene range(1,10)\n",
      "[6 7 1 7 8 2 5 2 3]\n",
      "No contiene range(1,10)\n",
      "[2 9 4 2 1 9 7 5 4]\n",
      "No contiene range(1,10)\n",
      "[9 2 5 6 2 1 4 4 2]\n",
      "No contiene range(1,10)\n",
      "[8 8 3 9 7 8 6 1 1]\n",
      "No contiene range(1,10)\n",
      "[1 1 9 1 3 4 2 6 7]\n",
      "No contiene range(1,10)\n",
      "[3 3 8 3 9 6 8 7 5]\n",
      "No contiene range(1,10)\n",
      "[4 6 2 5 5 5 1 8 9]\n",
      "No contiene range(1,10)\n",
      "[7 4 6 4 4 3 3 3 6]\n",
      "No contiene range(1,10)\n"
     ]
    },
    {
     "data": {
      "text/plain": [
       "'No es solución'"
      ]
     },
     "execution_count": 93,
     "metadata": {},
     "output_type": "execute_result"
    }
   ],
   "source": [
    "esSolucion(sudoku)"
   ]
  },
  {
   "cell_type": "code",
   "execution_count": 94,
   "metadata": {},
   "outputs": [],
   "source": [
    "# Verifiquemos que sí funciona cuando sí es solución\n",
    "sudoku = array([[1,2,3,4,5,6,7,8,9],\n",
    "               [2,3,4,5,6,7,8,9,1],\n",
    "               [3,4,5,6,7,8,9,1,2],\n",
    "               [4,5,6,7,8,9,1,2,3],\n",
    "               [5,6,7,8,9,1,2,3,4],\n",
    "               [6,7,8,9,1,2,3,4,5],\n",
    "               [7,8,9,1,2,3,4,5,6],\n",
    "               [8,9,1,2,3,4,5,6,7],\n",
    "               [9,1,2,3,4,5,6,7,8]])"
   ]
  },
  {
   "cell_type": "code",
   "execution_count": 95,
   "metadata": {},
   "outputs": [
    {
     "name": "stdout",
     "output_type": "stream",
     "text": [
      "Filas\n",
      "\n",
      "\n",
      "[1 2 3 4 5 6 7 8 9]\n",
      "True\n",
      "[2 3 4 5 6 7 8 9 1]\n",
      "True\n",
      "[3 4 5 6 7 8 9 1 2]\n",
      "True\n",
      "[4 5 6 7 8 9 1 2 3]\n",
      "True\n",
      "[5 6 7 8 9 1 2 3 4]\n",
      "True\n",
      "[6 7 8 9 1 2 3 4 5]\n",
      "True\n",
      "[7 8 9 1 2 3 4 5 6]\n",
      "True\n",
      "[8 9 1 2 3 4 5 6 7]\n",
      "True\n",
      "[9 1 2 3 4 5 6 7 8]\n",
      "True\n",
      "\n",
      "\n",
      "Columnas\n",
      "\n",
      "\n",
      "[1 2 3 4 5 6 7 8 9]\n",
      "True\n",
      "[2 3 4 5 6 7 8 9 1]\n",
      "True\n",
      "[3 4 5 6 7 8 9 1 2]\n",
      "True\n",
      "[4 5 6 7 8 9 1 2 3]\n",
      "True\n",
      "[5 6 7 8 9 1 2 3 4]\n",
      "True\n",
      "[6 7 8 9 1 2 3 4 5]\n",
      "True\n",
      "[7 8 9 1 2 3 4 5 6]\n",
      "True\n",
      "[8 9 1 2 3 4 5 6 7]\n",
      "True\n",
      "[9 1 2 3 4 5 6 7 8]\n",
      "True\n"
     ]
    },
    {
     "data": {
      "text/plain": [
       "'Es solución'"
      ]
     },
     "execution_count": 95,
     "metadata": {},
     "output_type": "execute_result"
    }
   ],
   "source": [
    "esSolucion(sudoku)"
   ]
  },
  {
   "cell_type": "markdown",
   "metadata": {},
   "source": [
    "## Pregunta 5"
   ]
  },
  {
   "cell_type": "markdown",
   "metadata": {},
   "source": [
    "Utiliza el archivo `sunspots.txt` (localizado en la carpeta `data`), el cual contiene el número de manchas solares por cada mes desde enero de 1749. La primera columna es el mes, el segundo el número de manchas."
   ]
  },
  {
   "cell_type": "code",
   "execution_count": 98,
   "metadata": {},
   "outputs": [],
   "source": [
    "import matplotlib.pyplot as plt"
   ]
  },
  {
   "cell_type": "markdown",
   "metadata": {},
   "source": [
    "(a) Escribe el código que lea el archivo y haga una gráfica de las manchas en función del tiempo. Formatea el eje $x$ para que se muestren cada 25 años empezando en $1750$. "
   ]
  },
  {
   "cell_type": "code",
   "execution_count": 111,
   "metadata": {},
   "outputs": [
    {
     "name": "stdout",
     "output_type": "stream",
     "text": [
      "Populating the interactive namespace from numpy and matplotlib\n"
     ]
    },
    {
     "data": {
      "image/png": "[encoded data removed]",
      "text/plain": [
       "<Figure size 1000x600 with 1 Axes>"
      ]
     },
     "metadata": {
      "needs_background": "light"
     },
     "output_type": "display_data"
    }
   ],
   "source": [
    "%pylab inline \n",
    "import numpy as np\n",
    "import matplotlib.pyplot as plt\n",
    "\n",
    "\n",
    "archivo = np.loadtxt('Data/sunspots.txt', dtype=float, delimiter='\\t')\n",
    "plt.figure(figsize=(10, 6), dpi=100)\n",
    "\n",
    "# Creamos un subplot en malla de 1x1\n",
    "plt.subplot(1, 1, 1)\n",
    "\n",
    "\n",
    "X = np.arange(1749,2020,25)\n"
   ]
  },
  {
   "cell_type": "code",
   "execution_count": null,
   "metadata": {},
   "outputs": [],
   "source": [
    "X = X.astype(int)\n",
    "plt.xticks(X)\n",
    "\n",
    "Y=[]\n",
    "for i in range(0,len(archivo), 12*25):\n",
    "    Y.append(archivo[i,1])\n",
    "\n",
    "plt.plot(X, Y, color=\"blue\", linewidth=3.0, linestyle=\"-\", label=\"casos\")\n",
    "plt.title(\"Manchas solares\", fontsize=40)\n",
    "plt.xlabel('Años', fontsize=20)\n",
    "plt.ylabel('Número de manchas', fontsize=20)\n",
    "\n",
    "plt.legend(loc='upper left')\n",
    "\n",
    "\n",
    "xmax= X[np.argmax(Y)]\n",
    "ymax= max(Y)\n",
    "\n",
    "xmin=X[np.argmin(Y)]\n",
    "ymin=min(Y)\n",
    "\n",
    "\n",
    "plt.annotate(r'Máximo ',\n",
    "        xy=(xmax, ymax), xycoords='data',\n",
    "        xytext=(+30, -10), textcoords='offset points', fontsize=16,\n",
    "            arrowprops=dict(arrowstyle=\"->\", connectionstyle=\"arc3,rad=.2\"))\n",
    "\n",
    "plt.annotate(r'Mínimo',\n",
    "        xy=(xmin, ymin), xycoords='data',\n",
    "        xytext=(+20, +20), textcoords='offset points', fontsize=16,\n",
    "            arrowprops=dict(arrowstyle=\"->\", connectionstyle=\"arc3,rad=.2\"))"
   ]
  },
  {
   "cell_type": "markdown",
   "metadata": {},
   "source": [
    "<div class=\"alert alert-warning\">\n",
    "**NOTA:** La gráfica debe de estar en calidad de publicación.\n",
    "</div>"
   ]
  },
  {
   "cell_type": "markdown",
   "metadata": {},
   "source": [
    "(b) Calcula el [promedio móvil](http://en.wikipedia.org/wiki/Moving_average). Dibújalo sobre el dibujo original."
   ]
  },
  {
   "cell_type": "markdown",
   "metadata": {},
   "source": [
    "## Pregunta 6"
   ]
  },
  {
   "cell_type": "markdown",
   "metadata": {},
   "source": [
    "Utiliza el archivo `starts.txt` (localizado en la carpeta `data`), el cual contiene la temperatura y magnitud de varias estrellas en la Vía Lactea.  Usa esta información para dibujar un **scatter plot** del logaritmo del brillo vs. la temperatura (en **K**). Este diagrama se conoce como diagrama de [Hertzsprung-Russell](http://en.wikipedia.org/wiki/Hertzsprung%E2%80%93Russell_diagram). "
   ]
  },
  {
   "cell_type": "markdown",
   "metadata": {},
   "source": [
    "(a) Lee el archivo y dibuja los datos tal como vienen en el archivo. Agrega etiquetas y formatea la gráfica de tal manera que tenga calidad de publicación."
   ]
  },
  {
   "cell_type": "markdown",
   "metadata": {},
   "source": [
    "(b) Ahora usa el `xlim()` y  `ylim()` para que quede de manera correcta el diagrama. Hay regiones donde las estrellas parece que se aglomeran, ve el archivo de [wikipedia]( http://en.wikipedia.org/wiki/Hertzsprung%E2%80%93Russell_diagram) y agrega anotaciones para explicarlas.\n"
   ]
  },
  {
   "cell_type": "code",
   "execution_count": null,
   "metadata": {},
   "outputs": [],
   "source": []
  }
 ],
 "metadata": {
  "kernelspec": {
   "display_name": "Python 3",
   "language": "python",
   "name": "python3"
  },
  "language_info": {
   "codemirror_mode": {
    "name": "ipython",
    "version": 3
   },
   "file_extension": ".py",
   "mimetype": "text/x-python",
   "name": "python",
   "nbconvert_exporter": "python",
   "pygments_lexer": "ipython3",
   "version": "3.8.5"
  }
 },
 "nbformat": 4,
 "nbformat_minor": 4
}
