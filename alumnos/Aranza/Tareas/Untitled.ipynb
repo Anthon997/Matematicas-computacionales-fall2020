{
 "cells": [
  {
   "cell_type": "markdown",
   "metadata": {},
   "source": [
    "(a) Crea una función llamada `correcto` que reciba un `array` $1d$ de tamaño 9 e indique si está completo o no (i.e. incluye los números del 1 al 9."
   ]
  },
  {
   "cell_type": "code",
   "execution_count": 15,
   "metadata": {},
   "outputs": [
    {
     "name": "stdout",
     "output_type": "stream",
     "text": [
      "Populating the interactive namespace from numpy and matplotlib\n"
     ]
    }
   ],
   "source": [
    "import numpy as np\n",
    "%pylab inline"
   ]
  },
  {
   "cell_type": "code",
   "execution_count": 161,
   "metadata": {},
   "outputs": [],
   "source": [
    "def correcto(arreglo):\n",
    "    if len(arreglo) == 9:\n",
    "        for i in range(1,10):\n",
    "            if i not in arreglo:\n",
    "                return 'No contiene range(1,10)'\n",
    "        else:\n",
    "            return True\n",
    "    else:\n",
    "        return 'No tiene el tamaño adecuado'"
   ]
  },
  {
   "cell_type": "code",
   "execution_count": 162,
   "metadata": {},
   "outputs": [
    {
     "name": "stdout",
     "output_type": "stream",
     "text": [
      "True\n",
      "No contiene range(1,10)\n",
      "No tiene el tamaño adecuado\n"
     ]
    }
   ],
   "source": [
    "arreglo = np.arange(1,10)\n",
    "arreglo1 = np.arange(3,12)\n",
    "arreglo2 = np.arange(5,100)\n",
    "\n",
    "print(correcto(arreglo))\n",
    "print(correcto(arreglo1))\n",
    "print(correcto(arreglo2))"
   ]
  },
  {
   "cell_type": "markdown",
   "metadata": {},
   "source": [
    "(b) Crea una función llamada `descomponer3x3` que reciba un `array` de enteros de $9\\times 9$ y lo separe en sus 9 subarreglos $3\\times3$."
   ]
  },
  {
   "cell_type": "code",
   "execution_count": 40,
   "metadata": {},
   "outputs": [],
   "source": [
    "def descomponer3x3(arreglo): \n",
    "    desarreglo = np.reshape(arreglo,(9,3,3))\n",
    "    return desarreglo"
   ]
  },
  {
   "cell_type": "code",
   "execution_count": 44,
   "metadata": {},
   "outputs": [
    {
     "data": {
      "text/plain": [
       "array([[[4, 1, 6],\n",
       "        [7, 3, 8],\n",
       "        [9, 5, 2]],\n",
       "\n",
       "       [[9, 7, 3],\n",
       "        [1, 4, 2],\n",
       "        [5, 6, 8]],\n",
       "\n",
       "       [[8, 3, 4],\n",
       "        [5, 9, 6],\n",
       "        [2, 1, 7]],\n",
       "\n",
       "       [[6, 3, 2],\n",
       "        [8, 5, 4],\n",
       "        [1, 7, 9]],\n",
       "\n",
       "       [[5, 8, 6],\n",
       "        [9, 3, 7],\n",
       "        [1, 2, 4]],\n",
       "\n",
       "       [[5, 8, 2],\n",
       "        [4, 3, 6],\n",
       "        [9, 7, 1]],\n",
       "\n",
       "       [[4, 8, 6],\n",
       "        [3, 5, 7],\n",
       "        [2, 9, 1]],\n",
       "\n",
       "       [[9, 1, 7],\n",
       "        [5, 2, 4],\n",
       "        [6, 8, 3]],\n",
       "\n",
       "       [[4, 9, 6],\n",
       "        [7, 3, 5],\n",
       "        [8, 1, 2]]])"
      ]
     },
     "execution_count": 44,
     "metadata": {},
     "output_type": "execute_result"
    }
   ],
   "source": [
    "descomponer3x3(sudoku)"
   ]
  },
  {
   "cell_type": "code",
   "execution_count": 53,
   "metadata": {},
   "outputs": [
    {
     "ename": "TypeError",
     "evalue": "list indices must be integers or slices, not tuple",
     "output_type": "error",
     "traceback": [
      "\u001b[0;31m---------------------------------------------------------------------------\u001b[0m",
      "\u001b[0;31mTypeError\u001b[0m                                 Traceback (most recent call last)",
      "\u001b[0;32m<ipython-input-53-2e0893178880>\u001b[0m in \u001b[0;36m<module>\u001b[0;34m\u001b[0m\n\u001b[1;32m      8\u001b[0m \u001b[0;34m\u001b[0m\u001b[0m\n\u001b[1;32m      9\u001b[0m \u001b[0;32mfor\u001b[0m \u001b[0mi\u001b[0m \u001b[0;32min\u001b[0m \u001b[0mrange\u001b[0m\u001b[0;34m(\u001b[0m\u001b[0;36m9\u001b[0m\u001b[0;34m)\u001b[0m\u001b[0;34m:\u001b[0m\u001b[0;34m\u001b[0m\u001b[0;34m\u001b[0m\u001b[0m\n\u001b[0;32m---> 10\u001b[0;31m     \u001b[0mcorrect\u001b[0m \u001b[0;34m=\u001b[0m \u001b[0mcorrecto\u001b[0m\u001b[0;34m(\u001b[0m\u001b[0msudoku\u001b[0m\u001b[0;34m[\u001b[0m\u001b[0;34m:\u001b[0m\u001b[0;34m,\u001b[0m\u001b[0mi\u001b[0m\u001b[0;34m]\u001b[0m\u001b[0;34m)\u001b[0m\u001b[0;34m\u001b[0m\u001b[0;34m\u001b[0m\u001b[0m\n\u001b[0m\u001b[1;32m     11\u001b[0m     \u001b[0;32mif\u001b[0m \u001b[0;32mnot\u001b[0m \u001b[0mcorrect\u001b[0m\u001b[0;34m:\u001b[0m\u001b[0;34m\u001b[0m\u001b[0;34m\u001b[0m\u001b[0m\n\u001b[1;32m     12\u001b[0m         \u001b[0mprint\u001b[0m\u001b[0;34m(\u001b[0m\u001b[0;34m'no'\u001b[0m\u001b[0;34m)\u001b[0m\u001b[0;34m\u001b[0m\u001b[0;34m\u001b[0m\u001b[0m\n",
      "\u001b[0;31mTypeError\u001b[0m: list indices must be integers or slices, not tuple"
     ]
    }
   ],
   "source": [
    "lv = []\n",
    "for i in sudoku:\n",
    "    if correcto(i) == True:\n",
    "        lv.append(i)\n",
    "    else:\n",
    "        print('NO está correcta la fila', i)\n",
    "    descomponer3x3(sudoku)\n",
    "    \n",
    "for i in range(9):\n",
    "    correct = correcto(sudoku[:,i])\n",
    "    if not correct: \n",
    "        print('no')\n",
    "    \n",
    "    \n",
    "print(list(lv))\n",
    "print(descomponer3x3(sudoku))"
   ]
  },
  {
   "cell_type": "raw",
   "metadata": {},
   "source": [
    "for i in sudoku:\n",
    "    for j in range(len(i)):\n",
    "        unaDimension.astype(int)\n",
    "        correct = correcto(unaDimension)\n",
    "        print(unaDimension)"
   ]
  },
  {
   "cell_type": "code",
   "execution_count": 78,
   "metadata": {},
   "outputs": [
    {
     "name": "stdout",
     "output_type": "stream",
     "text": [
      "[0, 1, 2, 3, 4, 5, 6, 7, 8, 0, 1, 2, 3, 4, 5, 6, 7, 8, 0, 1, 2, 3, 4, 5, 6, 7, 8, 0, 1, 2, 3, 4, 5, 6, 7, 8, 0, 1, 2, 3, 4, 5, 6, 7, 8, 0, 1, 2, 3, 4, 5, 6, 7, 8, 0, 1, 2, 3, 4, 5, 6, 7, 8, 0, 1, 2, 3, 4, 5, 6, 7, 8, 0, 1, 2, 3, 4, 5, 6, 7, 8]\n"
     ]
    }
   ],
   "source": [
    "\n",
    "\n",
    "for i in sudoku:\n",
    "    if correcto(i) == True:\n",
    "        correct = correcto(i)\n",
    "    else:\n",
    "        return False\n",
    "\n",
    "for i in range(9):\n",
    "    correct = correcto(Sudoku[i,:])\n",
    "    else:\n",
    "        return False\n",
    "    \n",
    "for i in range(9):\n",
    "    correct = correcto(sudoku[i,:])\n",
    "    else:\n",
    "        return False\n",
    "\n"
   ]
  },
  {
   "cell_type": "code",
   "execution_count": 219,
   "metadata": {},
   "outputs": [],
   "source": [
    "def esSolucion(sudoku):\n",
    "    f = []    \n",
    "    c = []\n",
    "    # Notemos primero que sudoku es una lista que tiene 9 sublistas con 9 elementos cada sublista\n",
    "    # Checamos primero que toda sublista en la lista 'sudoku' se cumpla la función correcto\n",
    "    \n",
    "    for i in sudoku:\n",
    "        print(i)\n",
    "        print(correcto(i))\n",
    "        if correcto(i) == True:\n",
    "            ok = correcto(i)\n",
    "            if not ok:\n",
    "                return False\n",
    "    \n",
    "    print('\\n')\n",
    "    print('Columnas')\n",
    "    print('\\n')\n",
    "    \n",
    "    # Checamos que toda columna en la lista 'sudoku' cumpla la función correcto\n",
    "    \n",
    "    for i in range(9):\n",
    "        print((sudoku[:,i]))\n",
    "        print(correcto(sudoku[:,i]))\n",
    "        oka = correcto(sudoku[:,i])\n",
    "        if not oka:\n",
    "            return False\n",
    "       \n"
   ]
  },
  {
   "cell_type": "code",
   "execution_count": 256,
   "metadata": {},
   "outputs": [],
   "source": [
    "def esSolucion(sudoku):\n",
    "    f = []    \n",
    "    c = []\n",
    "    # Notemos primero que sudoku es una lista que tiene 9 sublistas con 9 elementos cada sublista\n",
    "    # Checamos primero que toda sublista en la lista 'sudoku' se cumpla la función correcto\n",
    "    \n",
    "    for i in sudoku:\n",
    "        print(i)\n",
    "        print(correcto(i))\n",
    "        f.append(correcto(i))\n",
    "            \n",
    "    print('\\n')\n",
    "    print('Columnas')\n",
    "    print('\\n')\n",
    "    \n",
    "    # Checamos que toda columna en la lista 'sudoku' cumpla la función correcto\n",
    "    \n",
    "    for i in range(9):\n",
    "        print((sudoku[:,i]))\n",
    "        print(correcto(sudoku[:,i]))\n",
    "        c.append(correcto(sudoku[:,i]))\n",
    "\n",
    "    print('\\n')\n",
    "    print(c)\n",
    "    print('\\n')    \n",
    "    print(f)\n",
    "    print('\\n')\n",
    "    zipped = list(zip(c, f))\n",
    "    print(zipped)\n",
    "    \n",
    "    for (i,j) in zipped:\n",
    "        if (i,j) != (True,True):\n",
    "            return 'No es solución'\n",
    "        else:\n",
    "            return 'Es solución'\n",
    "        "
   ]
  },
  {
   "cell_type": "code",
   "execution_count": 257,
   "metadata": {},
   "outputs": [],
   "source": [
    "sudoku =array([[5, 4, 9, 8, 7, 3, 2, 1, 6],\n",
    "               [6, 1, 3, 9, 2, 5, 7, 4, 8],\n",
    "               [8, 7, 2, 1, 4, 6, 3, 5, 9],\n",
    "               [2, 3, 1, 5, 9, 4, 8, 6, 7],\n",
    "               [4, 6, 7, 3, 8, 1, 9, 2, 5],\n",
    "               [9, 5, 8, 7, 6, 2, 4, 3, 1],\n",
    "               [7, 2, 5, 6, 3, 9, 1, 8, 4],\n",
    "               [3, 9, 6, 4, 1, 8, 5, 7, 2],\n",
    "               [1, 8, 4, 2, 5, 7, 6, 9, 3]])"
   ]
  },
  {
   "cell_type": "code",
   "execution_count": 258,
   "metadata": {},
   "outputs": [
    {
     "name": "stdout",
     "output_type": "stream",
     "text": [
      "[5 4 9 8 7 3 2 1 6]\n",
      "True\n",
      "[6 1 3 9 2 5 7 4 8]\n",
      "True\n",
      "[8 7 2 1 4 6 3 5 9]\n",
      "True\n",
      "[2 3 1 5 9 4 8 6 7]\n",
      "True\n",
      "[4 6 7 3 8 1 9 2 5]\n",
      "True\n",
      "[9 5 8 7 6 2 4 3 1]\n",
      "True\n",
      "[7 2 5 6 3 9 1 8 4]\n",
      "True\n",
      "[3 9 6 4 1 8 5 7 2]\n",
      "True\n",
      "[1 8 4 2 5 7 6 9 3]\n",
      "True\n",
      "\n",
      "\n",
      "Columnas\n",
      "\n",
      "\n",
      "[5 6 8 2 4 9 7 3 1]\n",
      "True\n",
      "[4 1 7 3 6 5 2 9 8]\n",
      "True\n",
      "[9 3 2 1 7 8 5 6 4]\n",
      "True\n",
      "[8 9 1 5 3 7 6 4 2]\n",
      "True\n",
      "[7 2 4 9 8 6 3 1 5]\n",
      "True\n",
      "[3 5 6 4 1 2 9 8 7]\n",
      "True\n",
      "[2 7 3 8 9 4 1 5 6]\n",
      "True\n",
      "[1 4 5 6 2 3 8 7 9]\n",
      "True\n",
      "[6 8 9 7 5 1 4 2 3]\n",
      "True\n",
      "\n",
      "\n",
      "[True, True, True, True, True, True, True, True, True]\n",
      "\n",
      "\n",
      "[True, True, True, True, True, True, True, True, True]\n",
      "[(True, True), (True, True), (True, True), (True, True), (True, True), (True, True), (True, True), (True, True), (True, True)]\n"
     ]
    },
    {
     "data": {
      "text/plain": [
       "'Es solución'"
      ]
     },
     "execution_count": 258,
     "metadata": {},
     "output_type": "execute_result"
    }
   ],
   "source": [
    "esSolucion(sudoku)"
   ]
  },
  {
   "cell_type": "code",
   "execution_count": 217,
   "metadata": {},
   "outputs": [
    {
     "name": "stdout",
     "output_type": "stream",
     "text": [
      "[[2 9 8 7 3 6 1 4 5]\n",
      " [2 5 3 7 6 8 1 4 9]\n",
      " [2 6 1 9 3 8 4 7 5]\n",
      " [3 9 2 4 5 8 1 7 6]\n",
      " [3 1 6 9 8 4 7 5 2]\n",
      " [1 4 3 9 6 7 8 2 5]\n",
      " [2 1 9 8 4 5 7 6 3]\n",
      " [1 4 3 9 7 8 2 6 5]\n",
      " [9 2 8 1 4 7 3 5 6]]\n"
     ]
    }
   ],
   "source": [
    "sudok = []\n",
    "for i in range(0,9):\n",
    "    lista = list(range(1,10)) \n",
    "    random.shuffle(lista)\n",
    "    sudok.append(lista)\n",
    "sudoku = array(sudok)\n",
    "print(sudoku)"
   ]
  },
  {
   "cell_type": "code",
   "execution_count": 108,
   "metadata": {},
   "outputs": [],
   "source": [
    "def esSolucion(sudoku):\n",
    "    for i in range(9):\n",
    "        print(sudoku[:,i])\n",
    "        correct = correcto(sudoku[:,i])\n",
    "        if not correct:\n",
    "            return False"
   ]
  },
  {
   "cell_type": "code",
   "execution_count": 28,
   "metadata": {},
   "outputs": [
    {
     "ename": "SyntaxError",
     "evalue": "invalid syntax (<ipython-input-28-6b639795863a>, line 3)",
     "output_type": "error",
     "traceback": [
      "\u001b[0;36m  File \u001b[0;32m\"<ipython-input-28-6b639795863a>\"\u001b[0;36m, line \u001b[0;32m3\u001b[0m\n\u001b[0;31m    if sorted(list(set(i)) != sorted(i):\u001b[0m\n\u001b[0m                                       ^\u001b[0m\n\u001b[0;31mSyntaxError\u001b[0m\u001b[0;31m:\u001b[0m invalid syntax\n"
     ]
    }
   ],
   "source": []
  },
  {
   "cell_type": "code",
   "execution_count": null,
   "metadata": {},
   "outputs": [],
   "source": [
    "def esSolucion(array):\n",
    "    lv = []\n",
    "    for i in sudoku:\n",
    "        print(i)\n",
    "        if correcto(i) == True:\n",
    "            print('si')\n",
    "            lv.append(descomponer3x3(i))\n",
    "        else:\n",
    "            print('no')\n",
    "    print(lv)"
   ]
  },
  {
   "cell_type": "code",
   "execution_count": null,
   "metadata": {},
   "outputs": [],
   "source": [
    "def check_sudoku(arreglo):\n",
    "    \n",
    "    for fila in arreglo:\n",
    "        if sorted(list(set(fila))) != sorted(fila):\n",
    "            return False\n",
    "    # check the cols\n",
    "    cols = []\n",
    "    for columna in range(len(arreglo)):\n",
    "        for columna in arreglo:\n",
    "            cols = [fila[columna]]\n",
    "        # set will get unique values, its converted to list so you can compare\n",
    "        # it's sorted so the comparison is done correctly.\n",
    "        if sorted(list(set(cols))) != sorted(cols):\n",
    "            return False\n",
    "        cols = []\n",
    "    # if you get past all the false checks return True\n",
    "    return True"
   ]
  },
  {
   "cell_type": "code",
   "execution_count": null,
   "metadata": {},
   "outputs": [],
   "source": [
    "check_sudoku(sudoku)"
   ]
  },
  {
   "cell_type": "code",
   "execution_count": null,
   "metadata": {},
   "outputs": [],
   "source": []
  },
  {
   "cell_type": "code",
   "execution_count": null,
   "metadata": {},
   "outputs": [],
   "source": [
    "descomponer3x3(sudoku)"
   ]
  },
  {
   "cell_type": "markdown",
   "metadata": {},
   "source": [
    "(c) Crea la función `esSolucion` que recibe un `array` de $9\\times 9$ y devuelve si es o no solución del sudoku."
   ]
  },
  {
   "cell_type": "code",
   "execution_count": null,
   "metadata": {},
   "outputs": [],
   "source": [
    "v = []\n",
    "    for i in array:\n",
    "        if correcto(i) == True:\n",
    "            sudoku3 = descomponer3x3(i)\n",
    "            lv.append(sudoku3)\n",
    "        else:\n",
    "            print('Está incorrecto')\n",
    "    print(lv)"
   ]
  },
  {
   "cell_type": "code",
   "execution_count": null,
   "metadata": {},
   "outputs": [],
   "source": [
    "esSolucion(sudoku)"
   ]
  },
  {
   "cell_type": "code",
   "execution_count": null,
   "metadata": {},
   "outputs": [],
   "source": []
  }
 ],
 "metadata": {
  "kernelspec": {
   "display_name": "Python 3",
   "language": "python",
   "name": "python3"
  },
  "language_info": {
   "codemirror_mode": {
    "name": "ipython",
    "version": 3
   },
   "file_extension": ".py",
   "mimetype": "text/x-python",
   "name": "python",
   "nbconvert_exporter": "python",
   "pygments_lexer": "ipython3",
   "version": "3.8.5"
  }
 },
 "nbformat": 4,
 "nbformat_minor": 4
}
