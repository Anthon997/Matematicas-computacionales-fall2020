{
 "cells": [
  {
   "cell_type": "markdown",
   "metadata": {},
   "source": [
    "# Métodos de Monte Carlo"
   ]
  },
  {
   "cell_type": "markdown",
   "metadata": {},
   "source": [
    "Es el nombre que se le da a las técnicas que utilizan generación de métodos aleatorios para resolver problemas en la computadora."
   ]
  },
  {
   "cell_type": "markdown",
   "metadata": {},
   "source": [
    "# Números aleatorios"
   ]
  },
  {
   "cell_type": "markdown",
   "metadata": {},
   "source": [
    "¿Qué es _random_ ?¿Existe?"
   ]
  },
  {
   "cell_type": "markdown",
   "metadata": {},
   "source": [
    "Las personas batallan mucho para generar aleatoriedad por si mismas."
   ]
  },
  {
   "cell_type": "markdown",
   "metadata": {},
   "source": [
    "Las computadoras son máquinas deterministas."
   ]
  },
  {
   "cell_type": "markdown",
   "metadata": {},
   "source": [
    "Usaremos **números pseudo aleatorios**."
   ]
  },
  {
   "cell_type": "markdown",
   "metadata": {},
   "source": [
    "\n",
    "**Ejercicio** Programa el generador aleatorio de tipo [_linear congruential_](http://en.wikipedia.org/wiki/Linear_congruential_generator):\n",
    "    \n",
    "$$x_{n+1} = (a x_n + b) \\mod c$$\n",
    "\n",
    "Para que sea más fácil, utiliza el concepto de [`generators`](http://anandology.com/python-practice-book/iterators.html) de **Python**\n",
    "\n",
    "\n",
    "\n",
    "\n",
    "<div class=\"alert alert-info\">\n",
    " **Ejercicio** ¿Cuál es la secuencia?\n",
    "</div>\n",
    "\n",
    "<div class=\"alert alert-info\">\n",
    "**Ejercicio**  ¿De qué longitud es la secuencia? ¿Está relacionada con el valor de $c$? ¿Cómo?\n",
    "</div>\n",
    "\n"
   ]
  },
  {
   "cell_type": "code",
   "execution_count": 2,
   "metadata": {},
   "outputs": [
    {
     "name": "stdout",
     "output_type": "stream",
     "text": [
      "Populating the interactive namespace from numpy and matplotlib\n"
     ]
    }
   ],
   "source": [
    "%pylab inline\n",
    "import numpy as np\n",
    "import matplotlib.pyplot as plt"
   ]
  },
  {
   "cell_type": "code",
   "execution_count": 3,
   "metadata": {},
   "outputs": [],
   "source": [
    "def pseudo_random_number_generator(seed, a, b, c):\n",
    "    yield 1"
   ]
  },
  {
   "cell_type": "markdown",
   "metadata": {},
   "source": [
    "<div class=\"alert alert-info\">\n",
    "**Ejercicio** En los 70's fuéron muy populares los coeficientes [**RANDU**](http://en.wikipedia.org/wiki/RANDU), pero se demostró que fallaban miserablemente las pruebas de aleatoriedad, en particular los tripletes de números consecutivos caen en uno de 15 planos paralelos... Dibuja los primeros 100,000 tripletes y reproduce la imagen de la wikipedia.\n",
    "</div>"
   ]
  },
  {
   "cell_type": "markdown",
   "metadata": {},
   "source": [
    "Afortunadamente (por lo menos para los fines de este curso) `python` incluye un generador llamado [**Mersenne Twister**](http://en.wikipedia.org/wiki/Mersenne_twister), el cual podemos usar si importamos la biblioteca `random`"
   ]
  },
  {
   "cell_type": "code",
   "execution_count": 4,
   "metadata": {},
   "outputs": [],
   "source": [
    "import random"
   ]
  },
  {
   "cell_type": "markdown",
   "metadata": {},
   "source": [
    "# Integración de Monte Carlo"
   ]
  },
  {
   "cell_type": "markdown",
   "metadata": {},
   "source": [
    "Una técnica de **Monte Carlo** es la integración, el algoritmo es muy simple:\n",
    "\n",
    "_Recuerda que la integración devuelve el_ **área** _de una figura._\n",
    "\n",
    "1. Rodea el objeto al cual le quieres calcular el área con una figura de la cual conozcas el área (un rectángulo si es de dos dimensiones) y\n",
    "2. Genera un número muy grande de puntos al azar dentro de la figura de la cual conoces el área.\n",
    "3. El área del objeto es aproximadamente la fracción de puntos que cayeron dentro del objeto multiplicada por el área del objeto que la rodea."
   ]
  },
  {
   "cell_type": "markdown",
   "metadata": {},
   "source": [
    "### Ejemplo: Calcular el volumen de una esfera de radio $r = 1$"
   ]
  },
  {
   "cell_type": "markdown",
   "metadata": {},
   "source": [
    "Podemos usar la simetría del problema y concentrarnos en un cuadrante y luego multiplicar por $8$ el resultado. Usemos como figura que conocemos un cubo de lado $1$.\n"
   ]
  },
  {
   "cell_type": "code",
   "execution_count": 5,
   "metadata": {},
   "outputs": [],
   "source": [
    "volumen_cubo = 1 * 1 * 1\n",
    "\n",
    "N = 1000000\n",
    "count = 0\n",
    "for j in range(N):\n",
    "    point = np.array([random.random(), random.random(), random.random()])  # Un punto al azar, random() genera valores entre 0-1\n",
    "    if sum(point**2) < 1:  # x^2 + y^2 + z^2 < 1 ¿Esta dentro?\n",
    "        count = count + 1\n",
    "        \n",
    "fraccion = float(count)/float(N)\n",
    "\n",
    "volumen = fraccion * volumen_cubo\n",
    "\n",
    "# Nos concentramos en solamente un cuadrante, entonces hacemos por ocho\n",
    "# ya que en 3d tenemos 8 cuadrantes\n",
    "volumen_esfera = volumen * 8    "
   ]
  },
  {
   "cell_type": "code",
   "execution_count": 9,
   "metadata": {},
   "outputs": [
    {
     "name": "stdout",
     "output_type": "stream",
     "text": [
      "523455\n"
     ]
    }
   ],
   "source": [
    "# Del millón de puntos al azar en 3D que pedimos que hiciera, solamente\n",
    "print(count)\n",
    "# cumpieron con la propiedad de que x^2 + y^2 + z^2 < 1 "
   ]
  },
  {
   "cell_type": "code",
   "execution_count": 17,
   "metadata": {},
   "outputs": [
    {
     "data": {
      "text/plain": [
       "'52.3455%'"
      ]
     },
     "execution_count": 17,
     "metadata": {},
     "output_type": "execute_result"
    }
   ],
   "source": [
    "# i.e. ese fue el porcentaje de los puntos que sí cumplieron.\n",
    "str((fraccion * 100)) + str(\"%\")"
   ]
  },
  {
   "cell_type": "code",
   "execution_count": 19,
   "metadata": {},
   "outputs": [
    {
     "name": "stdout",
     "output_type": "stream",
     "text": [
      "0.523455\n"
     ]
    }
   ],
   "source": [
    "# Tenemos el volumen en solamente un cuadrante\n",
    "print(volumen)"
   ]
  },
  {
   "cell_type": "markdown",
   "metadata": {},
   "source": [
    "El volumen de la esfera se puede calcular analiticamente y es igual a \n",
    "\n",
    "$$\n",
    "V = \\frac{4}{3} \\pi r^3\n",
    "$$"
   ]
  },
  {
   "cell_type": "code",
   "execution_count": 20,
   "metadata": {},
   "outputs": [
    {
     "data": {
      "text/plain": [
       "4.18764"
      ]
     },
     "execution_count": 20,
     "metadata": {},
     "output_type": "execute_result"
    }
   ],
   "source": [
    "# Volumen en 3d\n",
    "volumen_esfera"
   ]
  },
  {
   "cell_type": "code",
   "execution_count": 21,
   "metadata": {},
   "outputs": [
    {
     "data": {
      "text/plain": [
       "4.1887902047863905"
      ]
     },
     "execution_count": 21,
     "metadata": {},
     "output_type": "execute_result"
    }
   ],
   "source": [
    "# Podemos compararlo directamente con la fórmula en una esfera de r = 1\n",
    "volumen = (4.0/3)*math.pi \n",
    "volumen"
   ]
  },
  {
   "cell_type": "code",
   "execution_count": null,
   "metadata": {},
   "outputs": [],
   "source": [
    "# Podemos notar que la diferencia es casi nula."
   ]
  },
  {
   "cell_type": "markdown",
   "metadata": {},
   "source": [
    "<div class=\"alert alert-info\">\n",
    "**Ejercicio** Calcula \n",
    "\n",
    "$$\n",
    "I = \\int_0^\\pi \\sin x dx\n",
    "$$\n",
    "\n",
    "Usando técnicas de Monte Carlo. Compara con el resultado analítico.\n",
    "</div>"
   ]
  },
  {
   "cell_type": "code",
   "execution_count": 3,
   "metadata": {},
   "outputs": [
    {
     "data": {
      "text/plain": [
       "[<matplotlib.lines.Line2D at 0x7fd5025b2f10>]"
      ]
     },
     "execution_count": 3,
     "metadata": {},
     "output_type": "execute_result"
    },
    {
     "data": {
      "image/png": "[encoded data removed]",
      "text/plain": [
       "<Figure size 432x288 with 1 Axes>"
      ]
     },
     "metadata": {
      "needs_background": "light"
     },
     "output_type": "display_data"
    }
   ],
   "source": [
    "# Queremos integrar esto en 3d\n",
    "X = np.linspace(0,math.pi)\n",
    "Y = np.sin(X)\n",
    "plot(X,Y)"
   ]
  },
  {
   "cell_type": "code",
   "execution_count": 4,
   "metadata": {},
   "outputs": [],
   "source": [
    "area_rectangulo = math.pi\n",
    "\n",
    "N = 1000000\n",
    "count = 0\n",
    "for j in range(N):\n",
    "    point = np.array([random.random(), random.random()*math.pi])  # Un punto al azar, random() genera valores entre 0-1\n",
    "    if point[0] < math.sin(point[1]):   \n",
    "        count = count + 1\n",
    "        \n",
    "fraccion = float(count)/float(N)\n",
    "\n",
    "area = fraccion * area_rectangulo"
   ]
  },
  {
   "cell_type": "code",
   "execution_count": 5,
   "metadata": {},
   "outputs": [
    {
     "data": {
      "text/plain": [
       "0.63633"
      ]
     },
     "execution_count": 5,
     "metadata": {},
     "output_type": "execute_result"
    }
   ],
   "source": [
    "fraccion"
   ]
  },
  {
   "cell_type": "markdown",
   "metadata": {},
   "source": [
    "<div class=\"alert alert-info\">\n",
    "**Ejercicio** Encuentra el volumen de la intersección de una esfera y un cilindro. La esfera tiene $r = 1$ y está centrada en el origen. El cilindro tiene radio $r = 0.5$ y su eje es perpendicular al eje $x$ y pasa por el punto $(0.5, 0, 0)$.\n",
    "</div>"
   ]
  },
  {
   "cell_type": "code",
   "execution_count": 6,
   "metadata": {},
   "outputs": [
    {
     "data": {
      "text/plain": [
       "1.999089653258793"
      ]
     },
     "execution_count": 6,
     "metadata": {},
     "output_type": "execute_result"
    }
   ],
   "source": [
    "area"
   ]
  },
  {
   "cell_type": "code",
   "execution_count": 48,
   "metadata": {},
   "outputs": [],
   "source": [
    "area_rectangulo = math.pi\n",
    "l = []\n",
    "l2 = []\n",
    "\n",
    "N = 10\n",
    "count = 0\n",
    "for j in range(N):\n",
    "    point = np.array([random.random(), random.random()*math.pi])  # Un punto al azar, random() genera valores entre 0-1\n",
    "    l.append(point)\n",
    "    if point[0] < math.sin(point[1]):   # x^2 + y^2 + z^2 < 1 ¿Esta dentro?\n",
    "        count = count + 1\n",
    "        l2.append(point)\n",
    "        \n",
    "fraccion = float(count)/float(N)\n",
    "\n",
    "area = fraccion * area_rectangulo"
   ]
  },
  {
   "cell_type": "code",
   "execution_count": 49,
   "metadata": {},
   "outputs": [
    {
     "name": "stdout",
     "output_type": "stream",
     "text": [
      "[array([0.2463907 , 2.18767948]), array([0.98567164, 0.97080516]), array([0.75115031, 0.21359533]), array([0.0323732 , 2.20001051]), array([0.34704014, 1.8151533 ]), array([0.21422362, 1.38105689]), array([0.70171626, 0.05427224]), array([0.92060521, 0.06514031]), array([0.03584912, 2.04870023]), array([0.42105568, 0.26355258])]\n"
     ]
    }
   ],
   "source": [
    "print(l)"
   ]
  },
  {
   "cell_type": "code",
   "execution_count": 50,
   "metadata": {},
   "outputs": [
    {
     "name": "stdout",
     "output_type": "stream",
     "text": [
      "[array([0.2463907 , 2.18767948]), array([0.0323732 , 2.20001051]), array([0.34704014, 1.8151533 ]), array([0.21422362, 1.38105689]), array([0.03584912, 2.04870023])]\n"
     ]
    }
   ],
   "source": [
    "print(l2)"
   ]
  },
  {
   "cell_type": "code",
   "execution_count": 51,
   "metadata": {},
   "outputs": [
    {
     "data": {
      "text/plain": [
       "1.5707963267948966"
      ]
     },
     "execution_count": 51,
     "metadata": {},
     "output_type": "execute_result"
    }
   ],
   "source": [
    "area"
   ]
  }
 ],
 "metadata": {
  "kernelspec": {
   "display_name": "Python 3",
   "language": "python",
   "name": "python3"
  },
  "language_info": {
   "codemirror_mode": {
    "name": "ipython",
    "version": 3
   },
   "file_extension": ".py",
   "mimetype": "text/x-python",
   "name": "python",
   "nbconvert_exporter": "python",
   "pygments_lexer": "ipython3",
   "version": "3.8.5"
  }
 },
 "nbformat": 4,
 "nbformat_minor": 1
}
