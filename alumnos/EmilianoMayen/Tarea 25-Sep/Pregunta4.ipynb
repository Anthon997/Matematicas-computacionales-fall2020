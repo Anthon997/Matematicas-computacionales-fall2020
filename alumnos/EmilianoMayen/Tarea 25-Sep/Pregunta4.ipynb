{
 "cells": [
  {
   "cell_type": "code",
   "execution_count": 1,
   "metadata": {},
   "outputs": [],
   "source": [
    "import numpy as np"
   ]
  },
  {
   "cell_type": "code",
   "execution_count": 2,
   "metadata": {},
   "outputs": [],
   "source": [
    "#Creamos una lista y a esta le añadimos un True si algun elemento del arreglo que proporcionamos es el número\n",
    "#en el que se encuentra el ciclo for, si no es el caso, regresa un False. \n",
    "#El ciclo for corre del numero 1 al 9 y si todos los elementos de la lista son True,\n",
    "#entonces el arreglo tiene a todos los numeros del 1 al 9.\n",
    "#Si estacondicion se cumple y además se cumple que el arreglo tenga 9 elementos, la función nos regresa un True\n",
    "\n",
    "def correcto(arr):\n",
    "    lista2=[]\n",
    "    for i in range(1,10):\n",
    "        lista2.append(np.any(arr==i))\n",
    "    if (all(lista2) and arr.size==9):\n",
    "        return True\n",
    "    else:\n",
    "        return False"
   ]
  },
  {
   "cell_type": "code",
   "execution_count": 3,
   "metadata": {},
   "outputs": [],
   "source": [
    "#Tomamos un arreglo de 9x9 y lo descomponemos en 9 subarreglos de 3x3 que corresponden a partes difernetes del arrgelo\n",
    "\n",
    "def descomponer3x3(arreglo):\n",
    "    subarreglo1=arreglo[:3,:3]\n",
    "    subarreglo2=arreglo[:3,3:6]\n",
    "    subarreglo3=arreglo[:3,6:9]\n",
    "    subarreglo4=arreglo[3:6,:3]\n",
    "    subarreglo5=arreglo[3:6,3:6]\n",
    "    subarreglo6=arreglo[3:6,6:9]\n",
    "    subarreglo7=arreglo[6:9,:3]\n",
    "    subarreglo8=arreglo[6:9,3:6]\n",
    "    subarreglo9=arreglo[6:9,6:9]"
   ]
  },
  {
   "cell_type": "code",
   "execution_count": 6,
   "metadata": {},
   "outputs": [],
   "source": [
    "def esSolucion(d):\n",
    "    \n",
    "    #Volvi a definir la funcion de descomponer porque por alguna razon no me deja usarla dentro de esSolucion :(\n",
    "    sub1=d[:3,:3]\n",
    "    sub2=d[:3,3:6]\n",
    "    sub3=d[:3,6:9]\n",
    "    sub4=d[3:6,:3]\n",
    "    sub5=d[3:6,3:6]\n",
    "    sub6=d[3:6,6:9]\n",
    "    sub7=d[6:9,:3]\n",
    "    sub8=d[6:9,3:6]\n",
    "    sub9=d[6:9,6:9]\n",
    "    z=[]\n",
    "    m=[]\n",
    "    n=[]\n",
    "    \n",
    "    #Si cada renglon y cada columna del arreglo 9x9 cumple las condiciones de la funcion correcto, las listas z y m \n",
    "    #solo tendran elementos True\n",
    "    for i in range(9):\n",
    "        z.append(correcto(d[i]))\n",
    "        m.append(correcto(d[:,i]))\n",
    "    \n",
    "    #Si cada subarreglo 3x3 del arreglo 9x9 cumple las condiciones de la funcion correcto, la lista n solo tendra elementos True\n",
    "    n.append(correcto(sub1))\n",
    "    n.append(correcto(sub2))\n",
    "    n.append(correcto(sub3))\n",
    "    n.append(correcto(sub4))\n",
    "    n.append(correcto(sub5))\n",
    "    n.append(correcto(sub6))\n",
    "    n.append(correcto(sub7))\n",
    "    n.append(correcto(sub8))\n",
    "    n.append(correcto(sub9))\n",
    "    \n",
    "    #Si las listas z,m,n solo tienen elementos True, quiere decir que el arreglo 9x9 es una solucion de Sudoku\n",
    "    if (all(z) and all(m) and all(n)):\n",
    "        return True\n",
    "    else:\n",
    "        return False   "
   ]
  }
 ],
 "metadata": {
  "kernelspec": {
   "display_name": "Python 3",
   "language": "python",
   "name": "python3"
  },
  "language_info": {
   "codemirror_mode": {
    "name": "ipython",
    "version": 3
   },
   "file_extension": ".py",
   "mimetype": "text/x-python",
   "name": "python",
   "nbconvert_exporter": "python",
   "pygments_lexer": "ipython3",
   "version": "3.8.5"
  }
 },
 "nbformat": 4,
 "nbformat_minor": 4
}
