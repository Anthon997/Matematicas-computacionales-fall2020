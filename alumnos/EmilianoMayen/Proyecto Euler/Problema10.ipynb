{
 "cells": [
  {
   "cell_type": "code",
   "execution_count": 1,
   "metadata": {},
   "outputs": [],
   "source": [
    "import numpy as np"
   ]
  },
  {
   "cell_type": "markdown",
   "metadata": {},
   "source": [
    "## Podemos usar el algoritmo de la pregunta 2 de la tarea, la criba de Eratóstenes."
   ]
  },
  {
   "cell_type": "code",
   "execution_count": 10,
   "metadata": {},
   "outputs": [],
   "source": [
    "# Creamos un arreglo tipo bool de 2,000,000\n",
    "\n",
    "bool_arr = np.ones((2000000,), dtype=bool)\n",
    "bool_arr[0]=False\n",
    "bool_arr[1]=False"
   ]
  },
  {
   "cell_type": "code",
   "execution_count": 19,
   "metadata": {},
   "outputs": [],
   "source": [
    "N_max = int(np.sqrt(len(bool_arr)))\n",
    "for j in range(2, N_max):\n",
    "    bool_arr[2*j::j] = False\n",
    "# Hacemos que los índices que son números primos tengan un True y todos los demás False"
   ]
  },
  {
   "cell_type": "code",
   "execution_count": 20,
   "metadata": {},
   "outputs": [],
   "source": [
    "arr=np.nonzero(bool_arr)\n",
    "\n",
    "# El arreglo arr ahora tiene como elementos los índices en los que bool_arr tenia True,\n",
    "# es decir, sus elementos son los números primos menores a 2,000,000"
   ]
  },
  {
   "cell_type": "code",
   "execution_count": 21,
   "metadata": {},
   "outputs": [
    {
     "name": "stdout",
     "output_type": "stream",
     "text": [
      "La suma de los números primos menores a 2,000,000 es: 142913828922\n"
     ]
    }
   ],
   "source": [
    "print(\"La suma de los números primos menores a 2,000,000 es: \"+str(np.sum(arr)))"
   ]
  }
 ],
 "metadata": {
  "kernelspec": {
   "display_name": "Python 3",
   "language": "python",
   "name": "python3"
  },
  "language_info": {
   "codemirror_mode": {
    "name": "ipython",
    "version": 3
   },
   "file_extension": ".py",
   "mimetype": "text/x-python",
   "name": "python",
   "nbconvert_exporter": "python",
   "pygments_lexer": "ipython3",
   "version": "3.8.5"
  }
 },
 "nbformat": 4,
 "nbformat_minor": 4
}
