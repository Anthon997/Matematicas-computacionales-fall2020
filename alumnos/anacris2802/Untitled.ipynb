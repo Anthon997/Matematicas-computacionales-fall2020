{
 "cells": [
  {
   "cell_type": "code",
   "execution_count": 1,
   "metadata": {},
   "outputs": [],
   "source": [
    "##Demostración\n",
    "\n",
    "from sympy import *"
   ]
  },
  {
   "cell_type": "code",
   "execution_count": 25,
   "metadata": {},
   "outputs": [
    {
     "data": {
      "text/latex": [
       "$\\displaystyle X_{1} \\beta_{1} + \\beta_{0} + \\epsilon$"
      ],
      "text/plain": [
       "X_1*beta_1 + beta_0 + epsilon"
      ]
     },
     "execution_count": 25,
     "metadata": {},
     "output_type": "execute_result"
    }
   ],
   "source": [
    "b0, b1, b0h, b1h=symbols('beta_0 beta_1 betahat_0 betahat_1 ')\n",
    "xi,X1, Y, yi, e, xm, ym, i, n=symbols('x_i X_1 Y y_i epsilon xbar ybar i n')\n",
    "\n",
    "Y=b0+b1*X1+e\n",
    "#epsilon representa la diferencia entre el valor ajustado por la recta y el valor real. \n",
    "Y"
   ]
  },
  {
   "cell_type": "code",
   "execution_count": 27,
   "metadata": {},
   "outputs": [
    {
     "data": {
      "text/latex": [
       "$\\displaystyle \\frac{\\sum_{i=i}^{n} \\left(x_{i} - \\bar{x}\\right) \\left(y_{i} - \\bar{y}\\right)}{\\sum_{i=i}^{n} \\left(x_{i} - \\bar{x}\\right)^{2}}$"
      ],
      "text/plain": [
       "Sum((x_i - xbar)*(y_i - ybar), (i, i, n))/Sum((x_i - xbar)**2, (i, i, n))"
      ]
     },
     "execution_count": 27,
     "metadata": {},
     "output_type": "execute_result"
    }
   ],
   "source": [
    "# b0h y b1h son estimaciones de b0 y b1 respectivamente\n",
    "b1h=(Sum((xi-xm)*(yi-ym),(i,i,n)))/(Sum((xi-xm)**2,(i,i,n)))\n",
    "b1h"
   ]
  },
  {
   "cell_type": "code",
   "execution_count": 30,
   "metadata": {},
   "outputs": [
    {
     "data": {
      "text/latex": [
       "$\\displaystyle - \\frac{\\bar{x} \\sum_{i=i}^{n} \\left(x_{i} - \\bar{x}\\right) \\left(y_{i} - \\bar{y}\\right)}{\\sum_{i=i}^{n} \\left(x_{i} - \\bar{x}\\right)^{2}} + \\bar{y}$"
      ],
      "text/plain": [
       "-xbar*Sum((x_i - xbar)*(y_i - ybar), (i, i, n))/Sum((x_i - xbar)**2, (i, i, n)) + ybar"
      ]
     },
     "execution_count": 30,
     "metadata": {},
     "output_type": "execute_result"
    }
   ],
   "source": [
    "b0h=ym-b1h*xm\n",
    "b0h"
   ]
  },
  {
   "cell_type": "code",
   "execution_count": null,
   "metadata": {},
   "outputs": [],
   "source": [
    "j=Function('J')\n",
    "j()"
   ]
  }
 ],
 "metadata": {
  "kernelspec": {
   "display_name": "Python 3",
   "language": "python",
   "name": "python3"
  },
  "language_info": {
   "codemirror_mode": {
    "name": "ipython",
    "version": 3
   },
   "file_extension": ".py",
   "mimetype": "text/x-python",
   "name": "python",
   "nbconvert_exporter": "python",
   "pygments_lexer": "ipython3",
   "version": "3.8.5"
  }
 },
 "nbformat": 4,
 "nbformat_minor": 4
}
