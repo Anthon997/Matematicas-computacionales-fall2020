{
 "cells": [
  {
   "cell_type": "markdown",
   "metadata": {},
   "source": [
    "# **Ejercicios de NumPy**"
   ]
  },
  {
   "cell_type": "code",
   "execution_count": 1,
   "metadata": {},
   "outputs": [
    {
     "name": "stdout",
     "output_type": "stream",
     "text": [
      "Populating the interactive namespace from numpy and matplotlib\n"
     ]
    }
   ],
   "source": [
    "%pylab inline\n",
    "import numpy as np"
   ]
  },
  {
   "cell_type": "markdown",
   "metadata": {},
   "source": [
    "## Pregunta 1\n",
    "Crea los siguientes arreglos con los tipos correctos.\n",
    "\n",
    "Un arreglo de $5 \\times 5$ cuya diagonal sean $[2.0, 3.0, 4.0, 5.0]$\n",
    "Un arreglo de $4 \\times 4$ cuyo último renglón sea $[1,2,3,4]$ y el resto sean $0$."
   ]
  },
  {
   "cell_type": "code",
   "execution_count": 34,
   "metadata": {},
   "outputs": [
    {
     "name": "stdout",
     "output_type": "stream",
     "text": [
      "Diagonal: [1.0,2.0,3.0,4.0,5.0]  \n",
      "[[1. 0. 0. 0. 0.]\n",
      " [0. 2. 0. 0. 0.]\n",
      " [0. 0. 3. 0. 0.]\n",
      " [0. 0. 0. 4. 0.]\n",
      " [1. 0. 0. 0. 5.]]\n"
     ]
    }
   ],
   "source": [
    "arr = np.array([1.0,0.0,0.0,0.0,0.0,0.0,2.0,0.0,0.0,0.0,0.0,0.0,3.0,0.0,0.0,0.0,0.0,0.0,4.0,0.0,1.0,0.0,0.0,0.0,5.0]).reshape((5,5))\n",
    "print('Diagonal: [1.0,2.0,3.0,4.0,5.0]  ')\n",
    "print(arr)"
   ]
  },
  {
   "cell_type": "code",
   "execution_count": 35,
   "metadata": {},
   "outputs": [
    {
     "name": "stdout",
     "output_type": "stream",
     "text": [
      "Último renglón:   [1,2,3,4] \n",
      "[[0 0 0 0]\n",
      " [0 0 0 0]\n",
      " [0 0 0 0]\n",
      " [1 2 3 4]]\n"
     ]
    }
   ],
   "source": [
    "arr = np.array([0,0,0,0,0,0,0,0,0,0,0,0,1,2,3,4]).reshape((4,4))\n",
    "print('Último renglón:   [1,2,3,4] ')\n",
    "print(arr)"
   ]
  },
  {
   "cell_type": "markdown",
   "metadata": {},
   "source": [
    "# Pregunta 2\n",
    "En este ejercicio realizaremos una criba de Eratóstenes\n",
    "\n",
    "(a) Crea un arreglo de booleanos de shape (100,), con todos sus elementos True. El índice representa el número."
   ]
  },
  {
   "cell_type": "code",
   "execution_count": 36,
   "metadata": {},
   "outputs": [],
   "source": [
    "bool_arr = np.ones((100,), dtype=bool)"
   ]
  },
  {
   "cell_type": "markdown",
   "metadata": {},
   "source": [
    "\n",
    "(b) \"Tacha\" los elementos 0 y 1.\n",
    "\n",
    "(c) Para cada entero subsiguiente, tacha sus múltiplos. Una manera de hacerlo es el código que se muestra. Explica que hace el código, sobretodo explica que hace el slicing."
   ]
  },
  {
   "cell_type": "code",
   "execution_count": 8,
   "metadata": {},
   "outputs": [],
   "source": [
    "N_max = int(np.sqrt(len(bool_arr)))\n",
    "for j in range(2, N_max):\n",
    "    bool_arr[2*j::j] = False"
   ]
  },
  {
   "cell_type": "code",
   "execution_count": 9,
   "metadata": {},
   "outputs": [
    {
     "data": {
      "text/plain": [
       "array([ True,  True,  True,  True, False,  True, False,  True, False,\n",
       "       False, False,  True, False,  True, False, False, False,  True,\n",
       "       False,  True, False, False, False,  True, False, False, False,\n",
       "       False, False,  True, False,  True, False, False, False, False,\n",
       "       False,  True, False, False, False,  True, False,  True, False,\n",
       "       False, False,  True, False, False, False, False, False,  True,\n",
       "       False, False, False, False, False,  True, False,  True, False,\n",
       "       False, False, False, False,  True, False, False, False,  True,\n",
       "       False,  True, False, False, False, False, False,  True, False,\n",
       "       False, False,  True, False, False, False, False, False,  True,\n",
       "       False, False, False, False, False, False, False,  True, False,\n",
       "       False])"
      ]
     },
     "execution_count": 9,
     "metadata": {},
     "output_type": "execute_result"
    }
   ],
   "source": [
    "bool_arr"
   ]
  },
  {
   "cell_type": "markdown",
   "metadata": {},
   "source": [
    "\n",
    "(d) Mira la documentacion de np.nonzero para imprimir todos los números primos.\n",
    "\n",
    "(e) Encapsula lo que acabamos de hacer en una función llamada criba_eratostenes, que reciba como argumento maximo el cual representa el tamaño del array. Muestra el resultado para maximo = {10, 100, 200}, usando un for."
   ]
  },
  {
   "cell_type": "code",
   "execution_count": null,
   "metadata": {},
   "outputs": [],
   "source": []
  },
  {
   "cell_type": "markdown",
   "metadata": {},
   "source": [
    "# Pregunta 3\n",
    "Crea un cubo rubik, partiendo de un arreglo de ceros y usando slicing dibuja cada una de las caras como si estuviera resuelto (cada color un entero a partir del $1$). Muestra con indexing que está resuelto (es decir, imprime las seis caras). ¿Cuántos elementos del arreglo quedaron en $0$?"
   ]
  },
  {
   "cell_type": "code",
   "execution_count": 74,
   "metadata": {},
   "outputs": [
    {
     "name": "stdout",
     "output_type": "stream",
     "text": [
      "Los elementos que quedaron en 0 fueron solo los de 1 sala cara del cubo\n",
      "[[[0. 0. 0.]\n",
      "  [0. 0. 0.]\n",
      "  [0. 0. 0.]]\n",
      "\n",
      " [[1. 1. 1.]\n",
      "  [1. 1. 1.]\n",
      "  [1. 1. 1.]]\n",
      "\n",
      " [[2. 2. 2.]\n",
      "  [2. 2. 2.]\n",
      "  [2. 2. 2.]]\n",
      "\n",
      " [[3. 3. 3.]\n",
      "  [3. 3. 3.]\n",
      "  [3. 3. 3.]]\n",
      "\n",
      " [[4. 4. 4.]\n",
      "  [4. 4. 4.]\n",
      "  [4. 4. 4.]]\n",
      "\n",
      " [[5. 5. 5.]\n",
      "  [5. 5. 5.]\n",
      "  [5. 5. 5.]]]\n"
     ]
    }
   ],
   "source": [
    "arr = np.zeros(54)\n",
    "arr.shape = (6,3,3)\n",
    "for i in range(1,6):\n",
    "    arr[i]=i\n",
    "\n",
    "print('Los elementos que quedaron en 0 fueron solo los de 1 sala cara del cubo')\n",
    "print(arr)\n"
   ]
  },
  {
   "cell_type": "markdown",
   "metadata": {},
   "source": [
    "# Pregunta 4\n",
    "El Sudoku es un pasatiempo que consiste en un arreglo $9 \\times 9$ de celdas, con dígitos del 1 al 9, de tal manera que no se repiten valores en cada columna, cada renglón y en cada subarreglo de $3\\times 3$.\n",
    "\n",
    "(a) Crea una función llamada correcto que reciba un array $1d$ de tamaño 9 e indique si está completo o no (i.e. incluye los números del 1 al 9.\n",
    "\n",
    "(b) Crea una función llamada descomponer3x3 que reciba un array de enteros de $9\\times 9$ y lo separe en sus 9 subarreglos $3\\times3$.\n",
    "\n",
    "(c) Crea la función esSolucion que recibe un array de $9\\times 9$ y devuelve si es o no solución del sudoku."
   ]
  },
  {
   "cell_type": "code",
   "execution_count": 94,
   "metadata": {},
   "outputs": [
    {
     "name": "stdout",
     "output_type": "stream",
     "text": [
      "Verificación de que la función \"correcto\" funcione:\n",
      "Arreglo bueno:  True\n",
      "Arreglo malo (tamaño incorrecto):  False\n",
      "Arreglo malo (números incorrectos):  False\n",
      "\n",
      "\n",
      "\n",
      "Verificación de que la función \"descomponer3x3\" funcione:\n"
     ]
    },
    {
     "data": {
      "text/plain": [
       "(array([[1, 1, 1],\n",
       "        [1, 1, 1],\n",
       "        [1, 1, 1]]),\n",
       " array([[2, 2, 2],\n",
       "        [2, 2, 2],\n",
       "        [2, 2, 2]]),\n",
       " array([[3, 3, 3],\n",
       "        [3, 3, 3],\n",
       "        [3, 3, 3]]),\n",
       " array([[4, 4, 4],\n",
       "        [4, 4, 4],\n",
       "        [4, 4, 4]]),\n",
       " array([[5, 5, 5],\n",
       "        [5, 5, 5],\n",
       "        [5, 5, 5]]),\n",
       " array([[6, 6, 6],\n",
       "        [6, 6, 6],\n",
       "        [6, 6, 6]]),\n",
       " array([[7, 7, 7],\n",
       "        [7, 7, 7],\n",
       "        [7, 7, 7]]),\n",
       " array([[8, 8, 8],\n",
       "        [8, 8, 8],\n",
       "        [8, 8, 8]]),\n",
       " array([[9, 9, 9],\n",
       "        [9, 9, 9],\n",
       "        [9, 9, 9]]))"
      ]
     },
     "execution_count": 94,
     "metadata": {},
     "output_type": "execute_result"
    }
   ],
   "source": [
    "#Se crea la función para verificar si el array de tamaño 9 está correcto\n",
    "def correcto(arr):\n",
    "    lista = [1,2,3,4,5,6,7,8,9]\n",
    "    #Se verifica que sea del tamaño correcto\n",
    "    if len(arr)!=9:\n",
    "        return False\n",
    "    #Se verifica que todos los números esten correctos\n",
    "    for element in lista:\n",
    "        if element not in arr:\n",
    "            return False\n",
    "    return True\n",
    "\n",
    "#se verifica qeu funcione:\n",
    "print('Verificación de que la función \"correcto\" funcione:')\n",
    "arrCorr=np.arange(1,10)\n",
    "arrM1=np.arange(0,10)\n",
    "arrM2=np.arange(1,11)\n",
    "\n",
    "print('Arreglo bueno: ',correcto(arrCorr))\n",
    "print('Arreglo malo (tamaño incorrecto): ',correcto(arrM1))\n",
    "print('Arreglo malo (números incorrectos): ',correcto(arrM2))\n",
    "\n",
    "\n",
    "#Se crea la función descomponer3x3 que recibe una array de 9x9 y lo separa en subarreglos de 3x3\n",
    "def descomponer3x3(arr):\n",
    "    arr_slice1 = arr[0][0:3]\n",
    "    arr_slice2 = arr[1][0:3]\n",
    "    arr_slice3 = arr[2][0:3]\n",
    "    arr1=np.array([arr_slice1,arr_slice2,arr_slice3]).reshape(3,3)\n",
    "    \n",
    "    arr_slice1 = arr[0][3:6]\n",
    "    arr_slice2 = arr[1][3:6]\n",
    "    arr_slice3 = arr[2][3:6]\n",
    "    arr2=np.array([arr_slice1,arr_slice2,arr_slice3]).reshape(3,3)\n",
    "    \n",
    "    arr_slice1 = arr[0][6:9]\n",
    "    arr_slice2 = arr[1][6:9]\n",
    "    arr_slice3 = arr[2][6:9]\n",
    "    arr3=np.array([arr_slice1,arr_slice2,arr_slice3]).reshape(3,3)\n",
    "    \n",
    "    arr_slice1 = arr[3][0:3]\n",
    "    arr_slice2 = arr[4][0:3]\n",
    "    arr_slice3 = arr[5][0:3]\n",
    "    arr4=np.array([arr_slice1,arr_slice2,arr_slice3]).reshape(3,3)\n",
    "    \n",
    "    arr_slice1 = arr[3][3:6]\n",
    "    arr_slice2 = arr[4][3:6]\n",
    "    arr_slice3 = arr[5][3:6]\n",
    "    arr5=np.array([arr_slice1,arr_slice2,arr_slice3]).reshape(3,3)\n",
    "    \n",
    "    arr_slice1 = arr[3][6:9]\n",
    "    arr_slice2 = arr[4][6:9]\n",
    "    arr_slice3 = arr[5][6:9]\n",
    "    arr6=np.array([arr_slice1,arr_slice2,arr_slice3]).reshape(3,3)\n",
    "\n",
    "    arr_slice1 = arr[6][0:3]\n",
    "    arr_slice2 = arr[7][0:3]\n",
    "    arr_slice3 = arr[8][0:3]\n",
    "    arr7=np.array([arr_slice1,arr_slice2,arr_slice3]).reshape(3,3)\n",
    "    \n",
    "    arr_slice1 = arr[6][3:6]\n",
    "    arr_slice2 = arr[7][3:6]\n",
    "    arr_slice3 = arr[8][3:6]\n",
    "    arr8=np.array([arr_slice1,arr_slice2,arr_slice3]).reshape(3,3)\n",
    "    \n",
    "    arr_slice1 = arr[6][6:9]\n",
    "    arr_slice2 = arr[7][6:9]\n",
    "    arr_slice3 = arr[8][6:9]    \n",
    "    arr9=np.array([arr_slice1,arr_slice2,arr_slice3]).reshape(3,3)\n",
    "    \n",
    "    return arr1,arr2,arr3,arr4,arr5,arr6,arr7,arr8,arr9\n",
    "\n",
    "\n",
    "#se verifica que la función descomponga el arreglo:\n",
    "print('\\n')\n",
    "print('\\nVerificación de que la función \"descomponer3x3\" funcione:')\n",
    "arr = np.array([1,1,1,2,2,2,3,3,3,1,1,1,2,2,2,3,3,3,1,1,1,2,2,2,3,3,3,4,4,4,5,5,5,6,6,6,4,4,4,5,5,5,6,6,6,4,4,4,5,5,5,6,6,6,7,7,7,8,8,8,9,9,9,7,7,7,8,8,8,9,9,9,7,7,7,8,8,8,9,9,9]).reshape((9,9))\n",
    "descomponer3x3(arr)"
   ]
  },
  {
   "cell_type": "markdown",
   "metadata": {},
   "source": [
    "# Pregunta 5\n",
    "Utiliza el archivo sunspots.txt (localizado en la carpeta data), el cual contiene el número de manchas solares por cada mes desde enero de 1749. La primera columna es el mes, el segundo el número de manchas.\n",
    "\n",
    "(a) Escribe el código que lea el archivo y haga una gráfica de las manchas en función del tiempo. Formatea el eje $x$ para que se muestren cada 25 años empezando en $1750$.# \n",
    "\n",
    "(b) Calcula el promedio móvil. Dibújalo sobre el dibujo original.    (gráfica en calidad de publicación)"
   ]
  },
  {
   "cell_type": "code",
   "execution_count": null,
   "metadata": {},
   "outputs": [],
   "source": []
  },
  {
   "cell_type": "markdown",
   "metadata": {},
   "source": [
    "# Pregunta 6\n",
    "Utiliza el archivo starts.txt (localizado en la carpeta data), el cual contiene la temperatura y magnitud de varias estrellas en la Vía Lactea. Usa esta información para dibujar un scatter plot del logaritmo del brillo vs. la temperatura (en K). Este diagrama se conoce como diagrama de Hertzsprung-Russell.\n",
    "\n",
    "(a) Lee el archivo y dibuja los datos tal como vienen en el archivo. Agrega etiquetas y formatea la gráfica de tal manera que tenga calidad de publicación.\n",
    "\n",
    "(b) Ahora usa el xlim() y ylim() para que quede de manera correcta el diagrama. Hay regiones donde las estrellas parece que se aglomeran, ve el archivo de wikipedia y agrega anotaciones para explicarlas."
   ]
  },
  {
   "cell_type": "code",
   "execution_count": null,
   "metadata": {},
   "outputs": [],
   "source": []
  }
 ],
 "metadata": {
  "kernelspec": {
   "display_name": "Python 3",
   "language": "python",
   "name": "python3"
  },
  "language_info": {
   "codemirror_mode": {
    "name": "ipython",
    "version": 3
   },
   "file_extension": ".py",
   "mimetype": "text/x-python",
   "name": "python",
   "nbconvert_exporter": "python",
   "pygments_lexer": "ipython3",
   "version": "3.8.5"
  }
 },
 "nbformat": 4,
 "nbformat_minor": 4
}
