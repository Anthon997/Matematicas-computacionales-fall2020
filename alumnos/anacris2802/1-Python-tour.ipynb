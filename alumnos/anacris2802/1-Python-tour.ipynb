{
 "cells": [
  {
   "cell_type": "markdown",
   "metadata": {},
   "source": [
    "# Tour de Python"
   ]
  },
  {
   "cell_type": "code",
   "execution_count": 1,
   "metadata": {},
   "outputs": [
    {
     "name": "stdout",
     "output_type": "stream",
     "text": [
      "Hola ¿cómo estás?\n"
     ]
    }
   ],
   "source": [
    "print(\"Hola ¿cómo estás?\")"
   ]
  },
  {
   "cell_type": "code",
   "execution_count": 3,
   "metadata": {},
   "outputs": [
    {
     "ename": "NameError",
     "evalue": "name 'i' is not defined",
     "output_type": "error",
     "traceback": [
      "\u001b[0;31m---------------------------------------------------------------------------\u001b[0m",
      "\u001b[0;31mNameError\u001b[0m                                 Traceback (most recent call last)",
      "\u001b[0;32m<ipython-input-3-397d543883c5>\u001b[0m in \u001b[0;36m<module>\u001b[0;34m\u001b[0m\n\u001b[0;32m----> 1\u001b[0;31m \u001b[0mi\u001b[0m\u001b[0;34m\u001b[0m\u001b[0;34m\u001b[0m\u001b[0m\n\u001b[0m",
      "\u001b[0;31mNameError\u001b[0m: name 'i' is not defined"
     ]
    }
   ],
   "source": [
    "i"
   ]
  },
  {
   "cell_type": "code",
   "execution_count": 4,
   "metadata": {},
   "outputs": [
    {
     "name": "stdout",
     "output_type": "stream",
     "text": [
      "/home/jovyan/Matematicas-computacionales-fall2020/alumnos/anacris2802\r\n"
     ]
    }
   ],
   "source": [
    "!pwd"
   ]
  },
  {
   "cell_type": "code",
   "execution_count": 1,
   "metadata": {},
   "outputs": [
    {
     "name": "stdout",
     "output_type": "stream",
     "text": [
      "    AAABCEEIIIMMNNNORRSST\n"
     ]
    }
   ],
   "source": [
    "def sort_string(s):\n",
    "    s=sorted(s)\n",
    "    print(''.join(s))\n",
    "\n",
    "sort_string('MI NOMBRE ES ANA CRISTINA')"
   ]
  },
  {
   "cell_type": "code",
   "execution_count": 16,
   "metadata": {},
   "outputs": [
    {
     "name": "stdout",
     "output_type": "stream",
     "text": [
      "Capitalizada:  Anita lava la tina\n",
      "minúsculas:  anita lava la tina\n",
      "MAYÚSCULAS:  ANITA LAVA LA TINA\n",
      "Sin_espacios:  anitalavalatina\n"
     ]
    }
   ],
   "source": [
    "cadena='anita lava la tina'\n",
    "cadena1=cadena.capitalize()\n",
    "cadena2=cadena.lower()\n",
    "cadena3=cadena.upper()\n",
    "cadena4=cadena.replace(\" \",\"\")\n",
    "\n",
    "print('Capitalizada: ',cadena1)\n",
    "print('minúsculas: ',cadena2)\n",
    "print('MAYÚSCULAS: ',cadena3)\n",
    "print('Sin_espacios: ',cadena4)"
   ]
  },
  {
   "cell_type": "code",
   "execution_count": 21,
   "metadata": {},
   "outputs": [
    {
     "name": "stdout",
     "output_type": "stream",
     "text": [
      "13\n",
      "Es impar\n"
     ]
    }
   ],
   "source": [
    "a=int(input())\n",
    "if (a%2)==0 :\n",
    "    print('Es par')\n",
    "else :\n",
    "    print('Es impar')\n"
   ]
  },
  {
   "cell_type": "code",
   "execution_count": 25,
   "metadata": {},
   "outputs": [
    {
     "name": "stdout",
     "output_type": "stream",
     "text": [
      "1.6448340718480652\n"
     ]
    }
   ],
   "source": [
    "suma=float(0)\n",
    "for i in range(1,10001):\n",
    "    suma+=((1/i)**2)\n",
    "\n",
    "print(suma)"
   ]
  },
  {
   "cell_type": "code",
   "execution_count": null,
   "metadata": {},
   "outputs": [],
   "source": []
  }
 ],
 "metadata": {
  "kernelspec": {
   "display_name": "Python 3",
   "language": "python",
   "name": "python3"
  },
  "language_info": {
   "codemirror_mode": {
    "name": "ipython",
    "version": 3
   },
   "file_extension": ".py",
   "mimetype": "text/x-python",
   "name": "python",
   "nbconvert_exporter": "python",
   "pygments_lexer": "ipython3",
   "version": "3.8.5"
  }
 },
 "nbformat": 4,
 "nbformat_minor": 4
}
