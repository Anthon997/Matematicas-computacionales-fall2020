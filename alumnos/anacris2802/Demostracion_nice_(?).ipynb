{
 "cells": [
  {
   "cell_type": "code",
   "execution_count": 43,
   "metadata": {},
   "outputs": [
    {
     "data": {
      "text/latex": [
       "$\\displaystyle Y{\\left({x}_{i} \\right)}$"
      ],
      "text/plain": [
       "Y(x[i])"
      ]
     },
     "execution_count": 43,
     "metadata": {},
     "output_type": "execute_result"
    }
   ],
   "source": [
    "\n",
    "from sympy import *\n",
    "\n",
    "b0, b1=symbols('beta_0 beta_1')\n",
    "x=Symbol('x')\n",
    "Y=Function('Y')(Indexed(x,i))\n",
    "Y"
   ]
  },
  {
   "cell_type": "code",
   "execution_count": 48,
   "metadata": {},
   "outputs": [
    {
     "data": {
      "text/latex": [
       "$\\displaystyle \\beta_{0} + \\beta_{1} {x}_{i}$"
      ],
      "text/plain": [
       "beta_0 + beta_1*x[i]"
      ]
     },
     "execution_count": 48,
     "metadata": {},
     "output_type": "execute_result"
    }
   ],
   "source": [
    "y,xi=symbols('y x_i')\n",
    "Y=b0+b1*Indexed(x,i)\n",
    "Y"
   ]
  },
  {
   "cell_type": "code",
   "execution_count": 49,
   "metadata": {},
   "outputs": [
    {
     "data": {
      "text/latex": [
       "$\\displaystyle J{\\left(\\beta_{0},\\beta_{1} \\right)}$"
      ],
      "text/plain": [
       "J(beta_0, beta_1)"
      ]
     },
     "execution_count": 49,
     "metadata": {},
     "output_type": "execute_result"
    }
   ],
   "source": [
    "J=Function('J')(b0,b1)\n",
    "J"
   ]
  },
  {
   "cell_type": "code",
   "execution_count": 50,
   "metadata": {},
   "outputs": [
    {
     "data": {
      "text/latex": [
       "$\\displaystyle \\frac{\\sum_{i=1}^{m} \\left(\\beta_{0} + \\beta_{1} {x}_{i} - {y}_{i}\\right)^{2}}{2 m}$"
      ],
      "text/plain": [
       "Sum((beta_0 + beta_1*x[i] - y[i])**2, (i, 1, m))/(2*m)"
      ]
     },
     "execution_count": 50,
     "metadata": {},
     "output_type": "execute_result"
    }
   ],
   "source": [
    "m, i=symbols('m i')\n",
    "yi \n",
    "\n",
    "J=(1/(2*m))*(Sum((Y-Indexed(y,i))**2,(i,1,m)))\n",
    "J\n"
   ]
  },
  {
   "cell_type": "code",
   "execution_count": 68,
   "metadata": {},
   "outputs": [
    {
     "data": {
      "text/latex": [
       "$\\displaystyle \\frac{\\sum_{i=1}^{m} \\left(2 \\beta_{0} + 2 \\beta_{1} {x}_{i} - 2 {y}_{i}\\right)}{2 m}$"
      ],
      "text/plain": [
       "Sum(2*beta_0 + 2*beta_1*x[i] - 2*y[i], (i, 1, m))/(2*m)"
      ]
     },
     "execution_count": 68,
     "metadata": {},
     "output_type": "execute_result"
    }
   ],
   "source": [
    "diff(J,b0)"
   ]
  },
  {
   "cell_type": "code",
   "execution_count": 69,
   "metadata": {},
   "outputs": [
    {
     "data": {
      "text/latex": [
       "$\\displaystyle \\frac{\\sum_{i=1}^{m} 2 \\left(\\beta_{0} + \\beta_{1} {x}_{i} - {y}_{i}\\right) {x}_{i}}{2 m}$"
      ],
      "text/plain": [
       "Sum(2*(beta_0 + beta_1*x[i] - y[i])*x[i], (i, 1, m))/(2*m)"
      ]
     },
     "execution_count": 69,
     "metadata": {},
     "output_type": "execute_result"
    }
   ],
   "source": [
    "\n",
    "diff(J,b1)"
   ]
  },
  {
   "cell_type": "code",
   "execution_count": null,
   "metadata": {},
   "outputs": [],
   "source": []
  },
  {
   "cell_type": "code",
   "execution_count": null,
   "metadata": {},
   "outputs": [],
   "source": [
    "#https://medium.com/@aprendizaje.maq/regresi%C3%B3n-lineal-con-gradiente-descendente-c3b5ca97e27c"
   ]
  },
  {
   "cell_type": "code",
   "execution_count": null,
   "metadata": {},
   "outputs": [],
   "source": []
  },
  {
   "cell_type": "code",
   "execution_count": null,
   "metadata": {},
   "outputs": [],
   "source": []
  }
 ],
 "metadata": {
  "kernelspec": {
   "display_name": "Python 3",
   "language": "python",
   "name": "python3"
  },
  "language_info": {
   "codemirror_mode": {
    "name": "ipython",
    "version": 3
   },
   "file_extension": ".py",
   "mimetype": "text/x-python",
   "name": "python",
   "nbconvert_exporter": "python",
   "pygments_lexer": "ipython3",
   "version": "3.8.5"
  }
 },
 "nbformat": 4,
 "nbformat_minor": 4
}
