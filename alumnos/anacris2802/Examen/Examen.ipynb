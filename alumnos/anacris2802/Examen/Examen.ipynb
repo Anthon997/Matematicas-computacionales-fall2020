{
 "cells": [
  {
   "cell_type": "markdown",
   "metadata": {},
   "source": [
    "# Examen \n",
    "\n",
    "## Problema 1\n",
    "(a) Usando Simpy, declara las funciones:$$\n",
    "y(x) = \\sin(x)\n",
    "$$\n",
    "\n",
    "$$\n",
    "z(x) = \\cos(x)\n",
    "$$$$\n",
    "w(x) = \\frac{1}{\\cos(x) + \\sin(2x)}\n",
    "$$\n"
   ]
  },
  {
   "cell_type": "code",
   "execution_count": 26,
   "metadata": {},
   "outputs": [
    {
     "data": {
      "text/latex": [
       "$\\displaystyle y{\\left(x \\right)}$"
      ],
      "text/plain": [
       "y(x)"
      ]
     },
     "execution_count": 26,
     "metadata": {},
     "output_type": "execute_result"
    }
   ],
   "source": [
    "from sympy import *\n",
    "import numpy as np\n",
    "import matplotlib.pyplot as plt\n",
    "\n",
    "#Se crean las funciones\n",
    "\n",
    "x=Symbol('x')\n",
    "y=Function('y')(x)\n",
    "y"
   ]
  },
  {
   "cell_type": "code",
   "execution_count": 27,
   "metadata": {},
   "outputs": [
    {
     "data": {
      "text/latex": [
       "$\\displaystyle \\sin{\\left(x \\right)}$"
      ],
      "text/plain": [
       "sin(x)"
      ]
     },
     "execution_count": 27,
     "metadata": {},
     "output_type": "execute_result"
    }
   ],
   "source": [
    "y=sin(x)\n",
    "y"
   ]
  },
  {
   "cell_type": "code",
   "execution_count": 28,
   "metadata": {},
   "outputs": [
    {
     "data": {
      "text/latex": [
       "$\\displaystyle z{\\left(x \\right)}$"
      ],
      "text/plain": [
       "z(x)"
      ]
     },
     "execution_count": 28,
     "metadata": {},
     "output_type": "execute_result"
    }
   ],
   "source": [
    "z=Function('z')(x)\n",
    "z"
   ]
  },
  {
   "cell_type": "code",
   "execution_count": 29,
   "metadata": {},
   "outputs": [
    {
     "data": {
      "text/latex": [
       "$\\displaystyle \\cos{\\left(x \\right)}$"
      ],
      "text/plain": [
       "cos(x)"
      ]
     },
     "execution_count": 29,
     "metadata": {},
     "output_type": "execute_result"
    }
   ],
   "source": [
    "z=cos(x)\n",
    "z"
   ]
  },
  {
   "cell_type": "code",
   "execution_count": 30,
   "metadata": {},
   "outputs": [
    {
     "data": {
      "text/latex": [
       "$\\displaystyle w{\\left(x \\right)}$"
      ],
      "text/plain": [
       "w(x)"
      ]
     },
     "execution_count": 30,
     "metadata": {},
     "output_type": "execute_result"
    }
   ],
   "source": [
    "w=Function('w')(x)\n",
    "w"
   ]
  },
  {
   "cell_type": "code",
   "execution_count": 31,
   "metadata": {},
   "outputs": [
    {
     "data": {
      "text/latex": [
       "$\\displaystyle \\frac{1}{\\sin{\\left(2 x \\right)} + \\cos{\\left(x \\right)}}$"
      ],
      "text/plain": [
       "1/(sin(2*x) + cos(x))"
      ]
     },
     "execution_count": 31,
     "metadata": {},
     "output_type": "execute_result"
    }
   ],
   "source": [
    "w=1/(cos(x)+sin(2*x))\n",
    "w"
   ]
  },
  {
   "cell_type": "markdown",
   "metadata": {},
   "source": [
    "(b) Obtén la derivada de $g(x)$\n",
    "\n",
    "$$\n",
    "g(x) = y(x)*z(x)\n",
    "$$\n"
   ]
  },
  {
   "cell_type": "code",
   "execution_count": 32,
   "metadata": {},
   "outputs": [
    {
     "data": {
      "text/latex": [
       "$\\displaystyle g{\\left(x \\right)}$"
      ],
      "text/plain": [
       "g(x)"
      ]
     },
     "execution_count": 32,
     "metadata": {},
     "output_type": "execute_result"
    }
   ],
   "source": [
    "#Se declara la nueva función g\n",
    "g=Function('g')(x)\n",
    "g"
   ]
  },
  {
   "cell_type": "code",
   "execution_count": 33,
   "metadata": {},
   "outputs": [
    {
     "data": {
      "text/latex": [
       "$\\displaystyle \\sin{\\left(x \\right)} \\cos{\\left(x \\right)}$"
      ],
      "text/plain": [
       "sin(x)*cos(x)"
      ]
     },
     "execution_count": 33,
     "metadata": {},
     "output_type": "execute_result"
    }
   ],
   "source": [
    "g=(y*z)\n",
    "g"
   ]
  },
  {
   "cell_type": "code",
   "execution_count": 34,
   "metadata": {},
   "outputs": [
    {
     "data": {
      "text/latex": [
       "$\\displaystyle - \\sin^{2}{\\left(x \\right)} + \\cos^{2}{\\left(x \\right)}$"
      ],
      "text/plain": [
       "-sin(x)**2 + cos(x)**2"
      ]
     },
     "execution_count": 34,
     "metadata": {},
     "output_type": "execute_result"
    }
   ],
   "source": [
    "#Se calcula la derivada\n",
    "diff(g)"
   ]
  },
  {
   "cell_type": "markdown",
   "metadata": {},
   "source": [
    "(c) Grafica $w(x)$ en el rango $[0,1]$\n",
    "\n"
   ]
  },
  {
   "cell_type": "code",
   "execution_count": 93,
   "metadata": {},
   "outputs": [
    {
     "data": {
      "text/plain": [
       "(0.0, 1.0)"
      ]
     },
     "execution_count": 93,
     "metadata": {},
     "output_type": "execute_result"
    },
    {
     "data": {
      "image/png": "[encoded data removed]",
      "text/plain": [
       "<Figure size 640x480 with 1 Axes>"
      ]
     },
     "metadata": {
      "needs_background": "light"
     },
     "output_type": "display_data"
    }
   ],
   "source": [
    "#Se crea el array X  para X\n",
    "X = np.linspace(0, 1, 100, endpoint=True)\n",
    "\n",
    "#Se crea una lista para agregar los valores de la función w(x)\n",
    "w_lis=[]\n",
    "\n",
    "#Mediante un for, se agregan a la lista los valores de w(x) sustituyendo los valores de X\n",
    "for i in X:\n",
    "    w_lis.append(w.subs(x,i))\n",
    "    \n",
    "#Se crea la gráfica\n",
    "plt.figure(figsize=(8, 6), dpi=80)\n",
    "plt.plot(X, w_lis, color=\"c\", linewidth=2.5, linestyle=\"-\", label=\"w(x)\")\n",
    "plt.legend(loc='best')\n",
    "plt.title('Función w(x)')\n",
    "plt.xlim(0,1)\n",
    "plt.ylim(0,1)"
   ]
  },
  {
   "cell_type": "markdown",
   "metadata": {},
   "source": [
    "(d) Integra de manera indefinida $w(x)$ y luego evalúala desde $0$ a $1$.\n",
    "\n"
   ]
  },
  {
   "cell_type": "code",
   "execution_count": 36,
   "metadata": {},
   "outputs": [
    {
     "data": {
      "text/latex": [
       "$\\displaystyle \\int \\frac{1}{\\sin{\\left(2 x \\right)} + \\cos{\\left(x \\right)}}\\, dx$"
      ],
      "text/plain": [
       "Integral(1/(sin(2*x) + cos(x)), x)"
      ]
     },
     "execution_count": 36,
     "metadata": {},
     "output_type": "execute_result"
    }
   ],
   "source": [
    "integrate(w,x)"
   ]
  },
  {
   "cell_type": "code",
   "execution_count": 37,
   "metadata": {},
   "outputs": [
    {
     "data": {
      "text/latex": [
       "$\\displaystyle \\int\\limits_{0}^{1} \\frac{1}{\\sin{\\left(2 x \\right)} + \\cos{\\left(x \\right)}}\\, dx$"
      ],
      "text/plain": [
       "Integral(1/(sin(2*x) + cos(x)), (x, 0, 1))"
      ]
     },
     "execution_count": 37,
     "metadata": {},
     "output_type": "execute_result"
    }
   ],
   "source": [
    "integrate(w,(x,0,1))"
   ]
  },
  {
   "cell_type": "code",
   "execution_count": 38,
   "metadata": {},
   "outputs": [
    {
     "data": {
      "text/latex": [
       "$\\displaystyle \\frac{\\sin^{2}{\\left(x \\right)}}{2}$"
      ],
      "text/plain": [
       "sin(x)**2/2"
      ]
     },
     "execution_count": 38,
     "metadata": {},
     "output_type": "execute_result"
    }
   ],
   "source": [
    "#La integral pasado no la resulve Python, así que ahora se intenta con g(x)\n",
    "integrate(g,x)"
   ]
  },
  {
   "cell_type": "code",
   "execution_count": 39,
   "metadata": {},
   "outputs": [
    {
     "data": {
      "text/latex": [
       "$\\displaystyle \\frac{\\sin^{2}{\\left(1 \\right)}}{2}$"
      ],
      "text/plain": [
       "sin(1)**2/2"
      ]
     },
     "execution_count": 39,
     "metadata": {},
     "output_type": "execute_result"
    }
   ],
   "source": [
    "integrate(g,(x,0,1))"
   ]
  },
  {
   "cell_type": "markdown",
   "metadata": {},
   "source": [
    "(e) ¿Cuál es el límite de $y(x), z(x), g(x)$ y $w(x)$ cuando $x \\to 0$.?\n"
   ]
  },
  {
   "cell_type": "code",
   "execution_count": 40,
   "metadata": {},
   "outputs": [
    {
     "data": {
      "text/latex": [
       "$\\displaystyle 0$"
      ],
      "text/plain": [
       "0"
      ]
     },
     "execution_count": 40,
     "metadata": {},
     "output_type": "execute_result"
    }
   ],
   "source": [
    "#Límite de y(x)\n",
    "limit(y,x,0)"
   ]
  },
  {
   "cell_type": "code",
   "execution_count": 41,
   "metadata": {},
   "outputs": [
    {
     "data": {
      "text/latex": [
       "$\\displaystyle 1$"
      ],
      "text/plain": [
       "1"
      ]
     },
     "execution_count": 41,
     "metadata": {},
     "output_type": "execute_result"
    }
   ],
   "source": [
    "#Límite de z(x)\n",
    "limit(z,x,0)"
   ]
  },
  {
   "cell_type": "code",
   "execution_count": 42,
   "metadata": {},
   "outputs": [
    {
     "data": {
      "text/latex": [
       "$\\displaystyle 1$"
      ],
      "text/plain": [
       "1"
      ]
     },
     "execution_count": 42,
     "metadata": {},
     "output_type": "execute_result"
    }
   ],
   "source": [
    "#Límite de w(x)\n",
    "limit(w,x,0)"
   ]
  },
  {
   "cell_type": "markdown",
   "metadata": {},
   "source": [
    "\n",
    "(f) Expanda $y(x)$ y $z(x)$ hasta 3 orden en serie de Taylor."
   ]
  },
  {
   "cell_type": "code",
   "execution_count": 43,
   "metadata": {},
   "outputs": [
    {
     "data": {
      "text/latex": [
       "$\\displaystyle - \\frac{\\left(- a + x\\right)^{3} \\cos{\\left(a \\right)}}{6} - \\frac{\\left(- a + x\\right)^{2} \\sin{\\left(a \\right)}}{2} + \\left(- a + x\\right) \\cos{\\left(a \\right)} + \\sin{\\left(x \\right)}$"
      ],
      "text/plain": [
       "-(-a + x)**3*cos(a)/6 - (-a + x)**2*sin(a)/2 + (-a + x)*cos(a) + sin(x)"
      ]
     },
     "execution_count": 43,
     "metadata": {},
     "output_type": "execute_result"
    }
   ],
   "source": [
    "#Serie de Taylor de y(x)\n",
    "a=Symbol('a')\n",
    "\n",
    "p1=((diff(y,x)).subs(x,a))*(x-a)\n",
    "\n",
    "p2=(((diff(diff(y,x))).subs(x,a))*((x-a)**2))/2\n",
    "\n",
    "p3=(((diff(diff(diff(y,x)))).subs(x,a))*((x-a)**3))/(factorial(3))\n",
    "\n",
    "polTay_y=y+p1+p2+p3\n",
    "polTay_y"
   ]
  },
  {
   "cell_type": "code",
   "execution_count": 44,
   "metadata": {},
   "outputs": [
    {
     "data": {
      "text/latex": [
       "$\\displaystyle - \\frac{x^{3}}{6} + x + \\sin{\\left(x \\right)}$"
      ],
      "text/plain": [
       "-x**3/6 + x + sin(x)"
      ]
     },
     "execution_count": 44,
     "metadata": {},
     "output_type": "execute_result"
    }
   ],
   "source": [
    "#con a=0\n",
    "simplify(polTay_y.subs(a,0))"
   ]
  },
  {
   "cell_type": "code",
   "execution_count": 45,
   "metadata": {},
   "outputs": [
    {
     "data": {
      "text/latex": [
       "$\\displaystyle \\frac{\\left(- a + x\\right)^{3} \\sin{\\left(a \\right)}}{6} - \\frac{\\left(- a + x\\right)^{2} \\cos{\\left(a \\right)}}{2} - \\left(- a + x\\right) \\sin{\\left(a \\right)} + \\sin{\\left(x \\right)}$"
      ],
      "text/plain": [
       "(-a + x)**3*sin(a)/6 - (-a + x)**2*cos(a)/2 - (-a + x)*sin(a) + sin(x)"
      ]
     },
     "execution_count": 45,
     "metadata": {},
     "output_type": "execute_result"
    }
   ],
   "source": [
    "#Serie de Taylor de z(x)\n",
    "\n",
    "p1=((diff(z,x)).subs(x,a))*(x-a)\n",
    "\n",
    "p2=(((diff(diff(z,x))).subs(x,a))*((x-a)**2))/2\n",
    "\n",
    "p3=(((diff(diff(diff(z,x)))).subs(x,a))*((x-a)**3))/(factorial(3))\n",
    "\n",
    "polTay_z=y+p1+p2+p3\n",
    "polTay_z"
   ]
  },
  {
   "cell_type": "code",
   "execution_count": 46,
   "metadata": {},
   "outputs": [
    {
     "data": {
      "text/latex": [
       "$\\displaystyle - \\frac{x^{2}}{2} + \\sin{\\left(x \\right)}$"
      ],
      "text/plain": [
       "-x**2/2 + sin(x)"
      ]
     },
     "execution_count": 46,
     "metadata": {},
     "output_type": "execute_result"
    }
   ],
   "source": [
    "#con a=0\n",
    "simplify(polTay_z.subs(a,0))"
   ]
  },
  {
   "cell_type": "markdown",
   "metadata": {},
   "source": [
    "## Problema 2\n",
    "\n",
    "### El atractor de Rössler esta descrito por el siguiente conjunto de ecuaciones:\n",
    "\n",
    "$$\n",
    "\\frac{dx}{dt} = -y -z\n",
    "$$$$\n",
    "\\frac{dy}{dt} = x + ay\n",
    "$$$$\n",
    "\\frac{dz}{dt} = b + z(x-c)\n",
    "$$\n"
   ]
  },
  {
   "cell_type": "markdown",
   "metadata": {},
   "source": [
    "(a) Resuelva las ecuaciones numéricamente para\n",
    "\n",
    "$$\n",
    "a=0.13 \\quad b=0.2 \\quad c=6.5 \n",
    "$$\n",
    "y condiciones iniciales\n",
    "\n",
    "$$\n",
    "x(0)=0 \\quad y(0)=0 \\quad z(0)=0 \n",
    "$$\n",
    "use el método de Runge-Kutta de 2do orden.\n",
    "\n"
   ]
  },
  {
   "cell_type": "code",
   "execution_count": 47,
   "metadata": {},
   "outputs": [],
   "source": [
    "#Se implementan las constantes y los arreglos necesarios\n",
    "\n",
    "\n",
    "N = 1000 # número de pasos\n",
    "\n",
    "tau = 25.0 # tiempo de la simulación\n",
    "\n",
    "dt = tau/(float)(N-1)  # tamaño del paso\n",
    "\n",
    "time = np.linspace(0, tau, N)\n",
    "\n",
    "y = np.zeros([N,3])   #estado\n",
    "\n",
    "a=0.13\n",
    "b=0.2\n",
    "c=6.5\n",
    "\n",
    "\n",
    "#RK2\n",
    "def RK2(y, t, dt, derivadas):\n",
    "    k0 = dt*derivadas(y, t)\n",
    "    k1 = dt*derivadas(y + k0, t + dt)\n",
    "    y_next = y + 0.5*(k0 + k1)\n",
    "    \n",
    "    return y_next\n",
    "\n",
    "\n",
    "#atractor de Rössler\n",
    "def Rossler(estado,tiempo):\n",
    "    g0=-estado[1]-estado[2]\n",
    "    g1=estado[0]+a*estado[1]\n",
    "    g2=b+(estado[2])*(estado[0]-c)\n",
    "    return np.array([g0, g1,g2])\n",
    "    \n",
    "\n",
    "\n",
    "#Condiciones iniciales\n",
    "y[0,0] = 0\n",
    "y[0,1] = 0\n",
    "y[0,2] = 0\n",
    "\n",
    "\n",
    "for j in range(N-1):\n",
    "    y[j+1] = RK2(y[j], time[j], dt, Rossler)\n",
    "    \n"
   ]
  },
  {
   "cell_type": "markdown",
   "metadata": {},
   "source": [
    "(b) Muestra en una gráfica el comportamiento de las soluciones en el tiempo (i.e. grafica $x(t)$, $y(t)$ y $z(t)$).\n"
   ]
  },
  {
   "cell_type": "code",
   "execution_count": 48,
   "metadata": {},
   "outputs": [
    {
     "data": {
      "text/plain": [
       "Text(0.5, 0, 'tiempo (s)')"
      ]
     },
     "execution_count": 48,
     "metadata": {},
     "output_type": "execute_result"
    },
    {
     "data": {
      "image/png": "[encoded data removed]",
      "text/plain": [
       "<Figure size 800x480 with 1 Axes>"
      ]
     },
     "metadata": {
      "needs_background": "light"
     },
     "output_type": "display_data"
    }
   ],
   "source": [
    "plt.figure(figsize=(10, 6), dpi=80)\n",
    "plt.plot(time,y[:,0], color=\"b\", linewidth=2.5, label='x(t)')\n",
    "plt.plot(time,y[:,1], color=\"y\", linewidth=2.5, label='y(t)')\n",
    "plt.plot(time,y[:,2], color=\"m\", linewidth=2.5, label='z(t)')\n",
    "\n",
    "plt.legend(loc='best')\n",
    "plt.title('soluciones en el tiempo')\n",
    "plt.xlabel('tiempo (s)')"
   ]
  },
  {
   "cell_type": "markdown",
   "metadata": {},
   "source": [
    "\n",
    "(c) Muestra como se ve el atractor de Rössler en 3D (i.e. en el espacio)."
   ]
  },
  {
   "cell_type": "code",
   "execution_count": 98,
   "metadata": {},
   "outputs": [
    {
     "ename": "ValueError",
     "evalue": "Argument Z must be 2-dimensional.",
     "output_type": "error",
     "traceback": [
      "\u001b[0;31m--------------------------------------------------------------------\u001b[0m",
      "\u001b[0;31mValueError\u001b[0m                         Traceback (most recent call last)",
      "\u001b[0;32m<ipython-input-98-224470a5de87>\u001b[0m in \u001b[0;36m<module>\u001b[0;34m\u001b[0m\n\u001b[1;32m     31\u001b[0m \u001b[0mZ\u001b[0m\u001b[0;34m=\u001b[0m\u001b[0;34m(\u001b[0m\u001b[0mz_arr\u001b[0m\u001b[0;34m)\u001b[0m\u001b[0;34m\u001b[0m\u001b[0;34m\u001b[0m\u001b[0m\n\u001b[1;32m     32\u001b[0m \u001b[0;34m\u001b[0m\u001b[0m\n\u001b[0;32m---> 33\u001b[0;31m \u001b[0msurf\u001b[0m \u001b[0;34m=\u001b[0m \u001b[0max\u001b[0m\u001b[0;34m.\u001b[0m\u001b[0mplot_surface\u001b[0m\u001b[0;34m(\u001b[0m\u001b[0mX\u001b[0m\u001b[0;34m,\u001b[0m \u001b[0mY\u001b[0m\u001b[0;34m,\u001b[0m \u001b[0mZ\u001b[0m\u001b[0;34m,\u001b[0m \u001b[0mrstride\u001b[0m\u001b[0;34m=\u001b[0m\u001b[0;36m1\u001b[0m\u001b[0;34m,\u001b[0m \u001b[0mcstride\u001b[0m\u001b[0;34m=\u001b[0m\u001b[0;36m1\u001b[0m\u001b[0;34m,\u001b[0m \u001b[0mcmap\u001b[0m\u001b[0;34m=\u001b[0m\u001b[0mcm\u001b[0m\u001b[0;34m.\u001b[0m\u001b[0mjet\u001b[0m\u001b[0;34m,\u001b[0m\u001b[0mlinewidth\u001b[0m\u001b[0;34m=\u001b[0m\u001b[0;36m0\u001b[0m\u001b[0;34m,\u001b[0m \u001b[0mantialiased\u001b[0m\u001b[0;34m=\u001b[0m\u001b[0;32mFalse\u001b[0m\u001b[0;34m)\u001b[0m\u001b[0;34m\u001b[0m\u001b[0;34m\u001b[0m\u001b[0m\n\u001b[0m\u001b[1;32m     34\u001b[0m \u001b[0;34m\u001b[0m\u001b[0m\n\u001b[1;32m     35\u001b[0m \u001b[0;31m# Mostramos el gráfico\u001b[0m\u001b[0;34m\u001b[0m\u001b[0;34m\u001b[0m\u001b[0;34m\u001b[0m\u001b[0m\n",
      "\u001b[0;32m/opt/conda/lib/python3.8/site-packages/mpl_toolkits/mplot3d/axes3d.py\u001b[0m in \u001b[0;36mplot_surface\u001b[0;34m(self, X, Y, Z, norm, vmin, vmax, lightsource, *args, **kwargs)\u001b[0m\n\u001b[1;32m   1495\u001b[0m \u001b[0;34m\u001b[0m\u001b[0m\n\u001b[1;32m   1496\u001b[0m         \u001b[0;32mif\u001b[0m \u001b[0mZ\u001b[0m\u001b[0;34m.\u001b[0m\u001b[0mndim\u001b[0m \u001b[0;34m!=\u001b[0m \u001b[0;36m2\u001b[0m\u001b[0;34m:\u001b[0m\u001b[0;34m\u001b[0m\u001b[0;34m\u001b[0m\u001b[0m\n\u001b[0;32m-> 1497\u001b[0;31m             \u001b[0;32mraise\u001b[0m \u001b[0mValueError\u001b[0m\u001b[0;34m(\u001b[0m\u001b[0;34m\"Argument Z must be 2-dimensional.\"\u001b[0m\u001b[0;34m)\u001b[0m\u001b[0;34m\u001b[0m\u001b[0;34m\u001b[0m\u001b[0m\n\u001b[0m\u001b[1;32m   1498\u001b[0m         \u001b[0;32mif\u001b[0m \u001b[0mnp\u001b[0m\u001b[0;34m.\u001b[0m\u001b[0many\u001b[0m\u001b[0;34m(\u001b[0m\u001b[0mnp\u001b[0m\u001b[0;34m.\u001b[0m\u001b[0misnan\u001b[0m\u001b[0;34m(\u001b[0m\u001b[0mZ\u001b[0m\u001b[0;34m)\u001b[0m\u001b[0;34m)\u001b[0m\u001b[0;34m:\u001b[0m\u001b[0;34m\u001b[0m\u001b[0;34m\u001b[0m\u001b[0m\n\u001b[1;32m   1499\u001b[0m             cbook._warn_external(\n",
      "\u001b[0;31mValueError\u001b[0m: Argument Z must be 2-dimensional."
     ]
    },
    {
     "data": {
      "image/png": "[encoded data removed]",
      "text/plain": [
       "<Figure size 432x288 with 1 Axes>"
      ]
     },
     "metadata": {
      "needs_background": "light"
     },
     "output_type": "display_data"
    }
   ],
   "source": [
    "from mpl_toolkits.mplot3d.axes3d import Axes3D\n",
    "from matplotlib import cm\n",
    "\n",
    "\n",
    "# Creamos la figura\n",
    "fig = plt.figure()\n",
    "\n",
    "# Agrrgamos un plano 3D\n",
    "ax1 = fig.add_subplot(111,projection='3d')\n",
    "\n",
    "#se crean listas para poder pasar a array los valore de x,y,z\n",
    "x_lis=[]\n",
    "y_lis=[]\n",
    "z_lis=[]\n",
    "\n",
    "#En este for los valores se agregan a la lista\n",
    "for i in range(len(y)):\n",
    "    x_lis.append(y[i,0])\n",
    "    y_lis.append(y[i,1])\n",
    "    z_lis.append(y[i,2])\n",
    "\n",
    "#Aquí las listas se vuelven arrays\n",
    "x_arr=np.array(x_lis)\n",
    "y_arr=np.array(y_lis)\n",
    "z_arr=np.array(z_lis)\n",
    "\n",
    "\n",
    "X,Y=np.meshgrid(x_arr,y_arr)\n",
    "\n",
    "Z=(z_arr)\n",
    "\n",
    "surf = ax.plot_surface(X, Y, Z, rstride=1, cstride=1, cmap=cm.jet,linewidth=0, antialiased=False)\n",
    "\n",
    "# Mostramos el gráfico\n",
    "plt.show()"
   ]
  },
  {
   "cell_type": "code",
   "execution_count": null,
   "metadata": {},
   "outputs": [],
   "source": []
  },
  {
   "cell_type": "code",
   "execution_count": null,
   "metadata": {},
   "outputs": [],
   "source": []
  }
 ],
 "metadata": {
  "kernelspec": {
   "display_name": "Python 3",
   "language": "python",
   "name": "python3"
  },
  "language_info": {
   "codemirror_mode": {
    "name": "ipython",
    "version": 3
   },
   "file_extension": ".py",
   "mimetype": "text/x-python",
   "name": "python",
   "nbconvert_exporter": "python",
   "pygments_lexer": "ipython3",
   "version": "3.8.5"
  }
 },
 "nbformat": 4,
 "nbformat_minor": 4
}
