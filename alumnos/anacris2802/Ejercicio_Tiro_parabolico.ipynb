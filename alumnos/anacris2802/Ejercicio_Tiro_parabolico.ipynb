{
 "cells": [
  {
   "cell_type": "markdown",
   "metadata": {},
   "source": [
    "### Ejercicio\n",
    "Resuelva simbólicamente lo siguiente: Se lanza una pelota al aire con una velocidad  𝑣0  a un ángulo  𝜃 . La gravedad es  𝑔 . - ¿Cuál es la altura máxima? - ¿Cuál es la distancia máxima? - ¿Cuál es el tiempo de vuelo? - De una respuesta numérica, cuando  𝑣0=10𝑚𝑠  y  𝜃=𝜋/2 ."
   ]
  },
  {
   "cell_type": "code",
   "execution_count": 35,
   "metadata": {},
   "outputs": [],
   "source": [
    "from sympy.interactive import printing\n",
    "printing.init_printing(use_latex=True)\n",
    "from sympy import *\n",
    "import math\n",
    "vo,theta,g,hmax,d,t=sym.symbols('V0,𝜃,g,h,d,t')\n"
   ]
  },
  {
   "cell_type": "code",
   "execution_count": 36,
   "metadata": {},
   "outputs": [
    {
     "name": "stdout",
     "output_type": "stream",
     "text": [
      "La fórmula de altura máxima es:\n"
     ]
    },
    {
     "data": {
      "image/png": "[encoded data removed]",
      "text/latex": [
       "$\\displaystyle \\frac{V_{0}^{2} \\sin^{2}{\\left(𝜃 \\right)}}{2 g}$"
      ],
      "text/plain": [
       "  2    2   \n",
       "V₀ ⋅sin (𝜃)\n",
       "───────────\n",
       "    2⋅g    "
      ]
     },
     "execution_count": 36,
     "metadata": {},
     "output_type": "execute_result"
    }
   ],
   "source": [
    "print(\"La fórmula de altura máxima es:\")\n",
    "((vo**2)*(sin(theta))**2)/(2*g)"
   ]
  },
  {
   "cell_type": "code",
   "execution_count": 37,
   "metadata": {},
   "outputs": [
    {
     "name": "stdout",
     "output_type": "stream",
     "text": [
      "La fórmula de distancia máxima es:\n"
     ]
    },
    {
     "data": {
      "image/png": "[encoded data removed]",
      "text/latex": [
       "$\\displaystyle \\frac{V_{0}^{2} \\sin{\\left(2 𝜃 \\right)}}{g}$"
      ],
      "text/plain": [
       "  2         \n",
       "V₀ ⋅sin(2⋅𝜃)\n",
       "────────────\n",
       "     g      "
      ]
     },
     "execution_count": 37,
     "metadata": {},
     "output_type": "execute_result"
    }
   ],
   "source": [
    "print(\"La fórmula de distancia máxima es:\")\n",
    "((vo**2)*sin(theta*2))/(g)"
   ]
  },
  {
   "cell_type": "code",
   "execution_count": 38,
   "metadata": {},
   "outputs": [
    {
     "name": "stdout",
     "output_type": "stream",
     "text": [
      "La fórmula de tiempo de vuelo es:\n"
     ]
    },
    {
     "data": {
      "image/png": "[encoded data removed]",
      "text/latex": [
       "$\\displaystyle \\frac{2 V_{0} \\sin{\\left(𝜃 \\right)}}{g}$"
      ],
      "text/plain": [
       "2⋅V₀⋅sin(𝜃)\n",
       "───────────\n",
       "     g     "
      ]
     },
     "execution_count": 38,
     "metadata": {},
     "output_type": "execute_result"
    }
   ],
   "source": [
    "\n",
    "print(\"La fórmula de tiempo de vuelo es:\")\n",
    "((vo*2)*(sin(theta)))/(g)\n"
   ]
  },
  {
   "cell_type": "code",
   "execution_count": 53,
   "metadata": {},
   "outputs": [
    {
     "name": "stdout",
     "output_type": "stream",
     "text": [
      "La altura máxima es:  5.10204081632653\n",
      "La distancia máxima es:  0\n",
      "El tiempo de vuelo es:  2.04081632653061\n"
     ]
    }
   ],
   "source": [
    "vo=10\n",
    "g=9.8\n",
    "theta=((pi)/2)\n",
    "\n",
    "hmax=((vo**2)*((sin(theta))**2)/(2*g))\n",
    "d=((vo**2)*sin(theta*2))/(g)\n",
    "t=((vo*2)*(sin(theta)))/(g)\n",
    "\n",
    "print(\"La altura máxima es: \",hmax)\n",
    "print(\"La distancia máxima es: \",d)\n",
    "print(\"El tiempo de vuelo es: \",t)"
   ]
  },
  {
   "cell_type": "code",
   "execution_count": null,
   "metadata": {},
   "outputs": [],
   "source": []
  },
  {
   "cell_type": "code",
   "execution_count": null,
   "metadata": {},
   "outputs": [],
   "source": []
  }
 ],
 "metadata": {
  "kernelspec": {
   "display_name": "Python 3",
   "language": "python",
   "name": "python3"
  },
  "language_info": {
   "codemirror_mode": {
    "name": "ipython",
    "version": 3
   },
   "file_extension": ".py",
   "mimetype": "text/x-python",
   "name": "python",
   "nbconvert_exporter": "python",
   "pygments_lexer": "ipython3",
   "version": "3.8.5"
  }
 },
 "nbformat": 4,
 "nbformat_minor": 4
}
