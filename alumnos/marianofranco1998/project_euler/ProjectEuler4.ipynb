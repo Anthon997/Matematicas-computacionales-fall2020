{
 "cells": [
  {
   "cell_type": "markdown",
   "metadata": {},
   "source": [
    "# Problema #4"
   ]
  },
  {
   "cell_type": "markdown",
   "metadata": {},
   "source": [
    "A palindromic number reads the same both ways. The largest palindrome made from the product of two 2-digit numbers is 9009 = 91 × 99.\n",
    "\n",
    "Find the largest palindrome made from the product of two 3-digit numbers."
   ]
  },
  {
   "cell_type": "code",
   "execution_count": 2,
   "metadata": {},
   "outputs": [],
   "source": [
    "def palindrome(x):\n",
    "    string1 = str(x)\n",
    "    string2 = ''\n",
    "    for i in string1:\n",
    "        string2 = i + string2\n",
    "        \n",
    "    return (string1 == string2)"
   ]
  },
  {
   "cell_type": "markdown",
   "metadata": {},
   "source": [
    "Experimento/Borrador:"
   ]
  },
  {
   "cell_type": "code",
   "execution_count": 12,
   "metadata": {},
   "outputs": [
    {
     "name": "stdout",
     "output_type": "stream",
     "text": [
      "836*836=698896\n",
      "995*583=580085\n"
     ]
    }
   ],
   "source": [
    "out = False\n",
    "j = 999\n",
    "for i in range(999, 100, -1):\n",
    "        if(palindrome(i*j)):\n",
    "            break\n",
    "        j -= 1\n",
    "        if(palindrome(i*j)):\n",
    "            break\n",
    "      \n",
    "print(str(i) + '*' + str(j) + '=' + str(i*j))\n",
    "    \n",
    "    \n",
    "for i in range(999, 100, -1):\n",
    "    for x in range(999, 100, -1):\n",
    "        if(palindrome(i*x)):\n",
    "            out = True\n",
    "            break\n",
    "    if(out):\n",
    "        break\n",
    "            \n",
    "print(str(i) + '*' + str(x) + '=' + str(i*x))"
   ]
  },
  {
   "cell_type": "markdown",
   "metadata": {},
   "source": [
    "Solución Final:"
   ]
  },
  {
   "cell_type": "code",
   "execution_count": 16,
   "metadata": {},
   "outputs": [
    {
     "name": "stdout",
     "output_type": "stream",
     "text": [
      "906609\n"
     ]
    }
   ],
   "source": [
    "arr = []\n",
    "for i in range (999, 100,-1):\n",
    "    for j in range (999, 100, -1):\n",
    "        if(palindrome(i*j)):\n",
    "            arr.append(i*j)\n",
    "        \n",
    "print(max(arr))"
   ]
  }
 ],
 "metadata": {
  "kernelspec": {
   "display_name": "Python 3",
   "language": "python",
   "name": "python3"
  },
  "language_info": {
   "codemirror_mode": {
    "name": "ipython",
    "version": 3
   },
   "file_extension": ".py",
   "mimetype": "text/x-python",
   "name": "python",
   "nbconvert_exporter": "python",
   "pygments_lexer": "ipython3",
   "version": "3.8.5"
  }
 },
 "nbformat": 4,
 "nbformat_minor": 4
}
