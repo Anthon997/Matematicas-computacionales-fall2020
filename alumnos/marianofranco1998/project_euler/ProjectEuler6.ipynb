{
 "cells": [
  {
   "cell_type": "markdown",
   "metadata": {},
   "source": [
    "# Problema #6"
   ]
  },
  {
   "cell_type": "markdown",
   "metadata": {},
   "source": [
    "The sum of the squares of the first ten natural numbers is,\n",
    "\n",
    "$ 1^2 + 2^2 + ... + 10^2 = 385 $\n",
    "\n",
    "The square of the sum of the first ten natural numbers is,\n",
    "\n",
    "$ (1 + 2 + ... + 10)^2 = 55^2 = 3025 $\n",
    "\n",
    "Hence the difference between the sum of the squares of the first ten natural numbers and the square of the sum is\n",
    "\n",
    "$ 3025 - 385 = 2640 $ .\n",
    "\n",
    "Find the difference between the sum of the squares of the first one hundred natural numbers and the square of the sum."
   ]
  },
  {
   "cell_type": "code",
   "execution_count": 7,
   "metadata": {},
   "outputs": [
    {
     "name": "stdout",
     "output_type": "stream",
     "text": [
      "2\n"
     ]
    }
   ],
   "source": [
    "sumsqu = 0\n",
    "squsum = 0\n",
    "for i in range(1,101):\n",
    "    sumsqu += i^2\n",
    "    squsum += i\n",
    "    \n",
    "squsum = squsum^2\n",
    "\n",
    "print(abs(squsum - sumsqu))"
   ]
  }
 ],
 "metadata": {
  "kernelspec": {
   "display_name": "Python 3",
   "language": "python",
   "name": "python3"
  },
  "language_info": {
   "codemirror_mode": {
    "name": "ipython",
    "version": 3
   },
   "file_extension": ".py",
   "mimetype": "text/x-python",
   "name": "python",
   "nbconvert_exporter": "python",
   "pygments_lexer": "ipython3",
   "version": "3.8.5"
  }
 },
 "nbformat": 4,
 "nbformat_minor": 4
}
