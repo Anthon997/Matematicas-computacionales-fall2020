{
 "cells": [
  {
   "cell_type": "markdown",
   "metadata": {},
   "source": [
    "# Problema #10"
   ]
  },
  {
   "cell_type": "markdown",
   "metadata": {},
   "source": [
    "The sum of the primes below 10 is 2 + 3 + 5 + 7 = 17.\n",
    "\n",
    "Find the sum of all the primes below two million."
   ]
  },
  {
   "cell_type": "code",
   "execution_count": 30,
   "metadata": {},
   "outputs": [],
   "source": [
    "import math\n",
    "import numpy as np"
   ]
  },
  {
   "cell_type": "markdown",
   "metadata": {},
   "source": [
    "Las funciones `is_prime` y `arr_primes_below` las cree antes de hacer la tarea de la criba de erastostenes, fueron mi primer intento."
   ]
  },
  {
   "cell_type": "code",
   "execution_count": 34,
   "metadata": {},
   "outputs": [],
   "source": [
    "def is_prime(x):\n",
    "    max = math.ceil(math.sqrt(x))\n",
    "    for i in range (2, x):\n",
    "        if x % i == 0:\n",
    "            return False\n",
    "    return True"
   ]
  },
  {
   "cell_type": "code",
   "execution_count": 35,
   "metadata": {},
   "outputs": [],
   "source": [
    "def arr_primes_below(x):\n",
    "    res = []\n",
    "    for i in range(1, x + 1):\n",
    "        if(is_prime(i)):\n",
    "            res.append(i)\n",
    "            \n",
    "    return res"
   ]
  },
  {
   "cell_type": "markdown",
   "metadata": {},
   "source": [
    "Utilizando la función `criba_erastostenes` de la tarea se genera un arreglo con todos los primos abajo del máximo."
   ]
  },
  {
   "cell_type": "code",
   "execution_count": 43,
   "metadata": {},
   "outputs": [],
   "source": [
    "def criba_erastostenes(maximo):\n",
    "    arr = np.ones(maximo + 1)                   # creamos arreglo de True\n",
    "    arr[0] = False                              # volvemos false a 0\n",
    "    arr[1] = False                              # volvemos false a 1\n",
    "    for i in range(2, maximo + 1):              # para cada número en el arreglo, si tiene valor true, \n",
    "        if arr[i]:                              # volvemos false todos los multiplos de dicho número\n",
    "            for j in range(i*2, maximo + 1, i):\n",
    "                    arr[j] = False\n",
    "    return np.nonzero(arr)                      # regresamos arreglo de primos"
   ]
  },
  {
   "cell_type": "code",
   "execution_count": 44,
   "metadata": {},
   "outputs": [],
   "source": [
    "def sum_of_primes(x):\n",
    "    return np.sum(criba_erastostenes(x))        # sumamos los valores de la criba de erastostenes"
   ]
  },
  {
   "cell_type": "markdown",
   "metadata": {},
   "source": [
    "Resultado final:"
   ]
  },
  {
   "cell_type": "code",
   "execution_count": 45,
   "metadata": {},
   "outputs": [
    {
     "data": {
      "text/plain": [
       "142913828922"
      ]
     },
     "execution_count": 45,
     "metadata": {},
     "output_type": "execute_result"
    }
   ],
   "source": [
    "sum_of_primes(2000000)"
   ]
  }
 ],
 "metadata": {
  "kernelspec": {
   "display_name": "Python 3",
   "language": "python",
   "name": "python3"
  },
  "language_info": {
   "codemirror_mode": {
    "name": "ipython",
    "version": 3
   },
   "file_extension": ".py",
   "mimetype": "text/x-python",
   "name": "python",
   "nbconvert_exporter": "python",
   "pygments_lexer": "ipython3",
   "version": "3.8.5"
  }
 },
 "nbformat": 4,
 "nbformat_minor": 4
}
