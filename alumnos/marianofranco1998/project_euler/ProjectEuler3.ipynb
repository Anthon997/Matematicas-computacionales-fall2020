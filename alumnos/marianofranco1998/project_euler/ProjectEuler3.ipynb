{
 "cells": [
  {
   "cell_type": "markdown",
   "metadata": {},
   "source": [
    "# Problema #3"
   ]
  },
  {
   "cell_type": "markdown",
   "metadata": {},
   "source": [
    "The prime factors of 13195 are 5, 7, 13 and 29.\n",
    "\n",
    "What is the largest prime factor of the number 600851475143 ?"
   ]
  },
  {
   "cell_type": "code",
   "execution_count": 24,
   "metadata": {},
   "outputs": [],
   "source": [
    "def largest_prime_factor(x):\n",
    "    y = 2               # empezamos dividiendo por 2 (primo)\n",
    "    while x != 1:       # mientras x no llegue a 1, seguimos en el while (cuando x llega a 1, ya encontramos todos \n",
    "                        # los factores de x)\n",
    "        if x % y == 0:\n",
    "            x /= y      # si x es divisible por y, dividimos x por y y asi \"descontamos\" a y como factor de x\n",
    "        else:\n",
    "            y += 1      # si x no es divisible por y, aumentamos y por 1 y continuamos checando factores en el while\n",
    "    return y            # regresamos y, el ultimo factor que eliminaremos, sera primo ya que ya vamos a haber checado\n",
    "                        # todos los numeros abajo de dicho y"
   ]
  },
  {
   "cell_type": "code",
   "execution_count": 25,
   "metadata": {},
   "outputs": [
    {
     "data": {
      "text/plain": [
       "6857"
      ]
     },
     "execution_count": 25,
     "metadata": {},
     "output_type": "execute_result"
    }
   ],
   "source": [
    "largest_prime_factor(600851475143)"
   ]
  }
 ],
 "metadata": {
  "kernelspec": {
   "display_name": "Python 3",
   "language": "python",
   "name": "python3"
  },
  "language_info": {
   "codemirror_mode": {
    "name": "ipython",
    "version": 3
   },
   "file_extension": ".py",
   "mimetype": "text/x-python",
   "name": "python",
   "nbconvert_exporter": "python",
   "pygments_lexer": "ipython3",
   "version": "3.8.5"
  }
 },
 "nbformat": 4,
 "nbformat_minor": 4
}
