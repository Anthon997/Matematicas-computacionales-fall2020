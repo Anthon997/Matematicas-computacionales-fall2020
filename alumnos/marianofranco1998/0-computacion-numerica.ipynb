{
 "cells": [
  {
   "cell_type": "code",
   "execution_count": 1,
   "metadata": {},
   "outputs": [],
   "source": [
    "from sympy import *"
   ]
  },
  {
   "cell_type": "code",
   "execution_count": 2,
   "metadata": {},
   "outputs": [
    {
     "name": "stdout",
     "output_type": "stream",
     "text": [
      "La altura máxima es v_0*sin(theta)/g\n",
      "La distancia recorrida es t*v_0*cos(theta)\n",
      "El tiempo de vuelo es 2*v_0*sin(theta)/g\n",
      "\n",
      "La altura máxima es 1.01937\n",
      "La distancia recorrida es 0\n",
      "El tiempo de vuelo es 2.03874\n"
     ]
    }
   ],
   "source": [
    "v_0 = Symbol(\"v_0\")\n",
    "theta = Symbol(\"theta\")\n",
    "g = Symbol(\"g\")\n",
    "t = Symbol(\"t\")\n",
    "dx = Symbol('dx')\n",
    "dy = Symbol('dy')\n",
    "\n",
    "dx = v_0*cos(theta)\n",
    "dy = v_0*sin(theta) - g*t\n",
    "\n",
    "x = integrate(dx, t)\n",
    "y = integrate(dy, t)\n",
    "\n",
    "soltiemp = solve(y,t)\n",
    "solalt = solve(dy,t)\n",
    "sollen = x.subs(x, soltiemp)\n",
    "\n",
    "print('La altura máxima es ' + str(solalt[0]))\n",
    "print('La distancia recorrida es ' + str(sollen))\n",
    "print('El tiempo de vuelo es ' + str(soltiemp[1]))\n",
    "\n",
    "s1 = solve(y,t)[1].subs({v_0 : 10, theta : pi/2, g : 9.81})\n",
    "s2 = solve(dy,t)[0].subs({v_0 : 10, theta : pi/2, g : 9.81})\n",
    "s3 = x.subs(x, soltiemp).subs({v_0 : 10, theta : pi/2, g : 9.81})\n",
    "\n",
    "print(\"\")\n",
    "print('La altura máxima es %g' % s2)\n",
    "print('La distancia recorrida es %g' % s3)\n",
    "print('El tiempo de vuelo es %g' % s1)"
   ]
  },
  {
   "cell_type": "code",
   "execution_count": null,
   "metadata": {},
   "outputs": [],
   "source": []
  }
 ],
 "metadata": {
  "kernelspec": {
   "display_name": "Python 3",
   "language": "python",
   "name": "python3"
  },
  "language_info": {
   "codemirror_mode": {
    "name": "ipython",
    "version": 3
   },
   "file_extension": ".py",
   "mimetype": "text/x-python",
   "name": "python",
   "nbconvert_exporter": "python",
   "pygments_lexer": "ipython3",
   "version": "3.8.5"
  }
 },
 "nbformat": 4,
 "nbformat_minor": 4
}
