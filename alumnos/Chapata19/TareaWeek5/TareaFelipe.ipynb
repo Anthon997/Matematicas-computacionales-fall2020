{
 "cells": [
  {
   "cell_type": "code",
   "execution_count": 4,
   "metadata": {},
   "outputs": [],
   "source": [
    "from sympy import *\n",
    "import numpy as np\n",
    "import matplotlib.pyplot as plt\n",
    "import scipy.linalg\n",
    "from ipywidgets import interact, fixed, widgets\n",
    "from sympy.interactive import printing\n",
    "printing.init_printing(use_latex=True)"
   ]
  },
  {
   "cell_type": "markdown",
   "metadata": {},
   "source": [
    "## Problema 1\n",
    "La función de costo $\\textbf{J}$ es el error cuadrático promedio en una regresión lineal.\n",
    "\n",
    "$$\\textbf{J}(\\beta_0, \\beta_1) = \\frac{1}{2m}\\sum_{(x^{(i)}, y^{(i)}) \\in X \\times Y} (y^{(i)} - \\hat{y}^{(i)}(x^{(i)}))^2 = \\frac{1}{2m}\\sum_{(x^{(i)}, y^{(i)}) \\in X \\times Y} (y^{(i)} - \\beta_0 - \\beta_1 x^{(i)})^2$$\n",
    "\n",
    "(a) Usando SimPy demostrar que\n",
    "\n",
    "$$\n",
    "\\frac{\\partial}{\\partial \\beta_j} \\textbf{J}(\\beta) = \\frac{1}{m}\\sum_{i=1}^{m}\\left(\\hat{y}(x^{(i)}) - y(x^{(i)})\\right) \\cdot x^{(i)}_j\n",
    "$$\n",
    "Para el caso de $\\beta_0, \\beta_1$ en $J(\\beta_0,\\beta_1)$."
   ]
  },
  {
   "cell_type": "code",
   "execution_count": 5,
   "metadata": {},
   "outputs": [
    {
     "data": {
      "image/png": "[encoded data removed]",
      "text/latex": [
       "$\\displaystyle \\frac{\\sum_{i=1}^{m} \\left(- \\beta_{0} - \\beta_{1} {x}_{i} + {y}_{i}\\right)^{2}}{2 m}$"
      ],
      "text/plain": [
       "  m                          \n",
       " ___                         \n",
       " ╲                           \n",
       "  ╲                         2\n",
       "  ╱   (-β₀ - β₁⋅x[i] + y[i]) \n",
       " ╱                           \n",
       " ‾‾‾                         \n",
       "i = 1                        \n",
       "─────────────────────────────\n",
       "             2⋅m             "
      ]
     },
     "execution_count": 5,
     "metadata": {},
     "output_type": "execute_result"
    }
   ],
   "source": [
    "x = Symbol('x')\n",
    "y = Symbol('y')\n",
    "i = Symbol('i')\n",
    "m = Symbol('m')\n",
    "b0 = Symbol('beta_0')\n",
    "b1 = Symbol('beta_1')\n",
    "\n",
    "j = Function('j')\n",
    "j = 1/(2*m)*Sum((Indexed(y,i) - b0 - b1 * Indexed(x,i))**2, (i, 1, m))\n",
    "j"
   ]
  },
  {
   "cell_type": "code",
   "execution_count": 7,
   "metadata": {},
   "outputs": [
    {
     "data": {
      "image/png": "[encoded data removed]",
      "text/latex": [
       "$\\displaystyle \\frac{\\sum_{i=1}^{m} \\left(\\beta_{0} + \\beta_{1} {x}_{i} - {y}_{i}\\right)}{m}$"
      ],
      "text/plain": [
       "  m                        \n",
       " ___                       \n",
       " ╲                         \n",
       "  ╲                        \n",
       "  ╱   (β₀ + β₁⋅x[i] - y[i])\n",
       " ╱                         \n",
       " ‾‾‾                       \n",
       "i = 1                      \n",
       "───────────────────────────\n",
       "             m             "
      ]
     },
     "execution_count": 7,
     "metadata": {},
     "output_type": "execute_result"
    }
   ],
   "source": [
    "j_b0 = simplify(Derivative(j,b0 ).doit())\n",
    "simplify(j_b0)"
   ]
  },
  {
   "cell_type": "code",
   "execution_count": 8,
   "metadata": {},
   "outputs": [
    {
     "data": {
      "image/png": "[encoded data removed]",
      "text/latex": [
       "$\\displaystyle \\frac{\\sum_{i=1}^{m} \\left(\\beta_{0} + \\beta_{1} {x}_{i} - {y}_{i}\\right) {x}_{i}}{m}$"
      ],
      "text/plain": [
       "  m                             \n",
       " ___                            \n",
       " ╲                              \n",
       "  ╲                             \n",
       "  ╱   (β₀ + β₁⋅x[i] - y[i])⋅x[i]\n",
       " ╱                              \n",
       " ‾‾‾                            \n",
       "i = 1                           \n",
       "────────────────────────────────\n",
       "               m                "
      ]
     },
     "execution_count": 8,
     "metadata": {},
     "output_type": "execute_result"
    }
   ],
   "source": [
    "j_b1 = Derivative(j,b1).doit()\n",
    "simplify(j_b1)"
   ]
  },
  {
   "cell_type": "markdown",
   "metadata": {},
   "source": [
    "## Problema 2\n",
    "Usando el ejemplo de la clase ( i.e. Los archivos edad.dat y altura.dat contienen las mediciones de las estaturas (en metros) de varios niños entre las edad de 2 y 8 años. Cada tupla de altura y edad, constituyen un ejemplo de entrenamiento $(x^{(i)}, y^{(i)})$ de nuestros datos. Hay $m = 50$ datos para entrenar que usaremos para realizar un modelo de regresión lineal. ) :\n",
    "\n",
    "(a) Grafique $\\textbf{J}(\\beta)$ del ejercicio en $3D$ y en una gráfica de contorno."
   ]
  },
  {
   "cell_type": "code",
   "execution_count": null,
   "metadata": {},
   "outputs": [],
   "source": []
  },
  {
   "cell_type": "markdown",
   "metadata": {},
   "source": [
    "(b) Indique con un punto el valor de $\\textbf{J}(\\beta)$ en la última iteración."
   ]
  },
  {
   "cell_type": "markdown",
   "metadata": {},
   "source": [
    "(c) Modifique el widget para mostrar conforme pasan las iteraciones como el valor de $\\textbf{J}(\\beta)$ se acerca al mínimo en la gráfica de contorno."
   ]
  },
  {
   "cell_type": "markdown",
   "metadata": {},
   "source": [
    "(d) Agrega al widget un control para modificar $\\alpha$ (habrá que agregar el entrenamiento del modelo a la función que estás realizando para este widget)"
   ]
  },
  {
   "cell_type": "markdown",
   "metadata": {},
   "source": [
    "## Problema 3\n",
    "(a) Usando los datos de chirps.txt"
   ]
  },
  {
   "cell_type": "code",
   "execution_count": 1,
   "metadata": {},
   "outputs": [
    {
     "name": "stdout",
     "output_type": "stream",
     "text": [
      "#Chirps/Second \tTemperature (º F)\r\n",
      "20.0 \t88.6\r\n",
      "16.0 \t71.6\r\n",
      "19.8 \t93.3\r\n",
      "18.4 \t84.3\r\n",
      "17.1 \t80.6\r\n",
      "15.5 \t75.2\r\n",
      "14.7 \t69.7\r\n",
      "15.7 \t71.6\r\n",
      "15.4 \t69.4\r\n",
      "16.3 \t83.3\r\n",
      "15.0 \t79.6\r\n",
      "17.2 \t82.6\r\n",
      "16.0 \t80.6\r\n",
      "17.0 \t83.5\r\n",
      "14.4 \t76.3\r\n"
     ]
    }
   ],
   "source": [
    "%cat data/chirps.txt"
   ]
  },
  {
   "cell_type": "markdown",
   "metadata": {},
   "source": [
    "Entrenar una regresión lineal. Grafique los datos y el mejor modelo. Explique como llegó a los valores de $\\alpha$. ¿Coinciden con los mostrados en la página web?"
   ]
  },
  {
   "cell_type": "markdown",
   "metadata": {},
   "source": [
    "## Problema 4\n",
    "(a) Usando los datos del cuarteto de Anscombe Calcule la regresión lineal ¿Qué sucede?"
   ]
  },
  {
   "cell_type": "markdown",
   "metadata": {},
   "source": [
    "## Problema 5\n",
    "Use el archivo radioactive_decay.dat"
   ]
  },
  {
   "cell_type": "code",
   "execution_count": 2,
   "metadata": {},
   "outputs": [
    {
     "name": "stdout",
     "output_type": "stream",
     "text": [
      "cat: dat: No such file or directory\r\n",
      "cat: a/radioactive_decay.txt: No such file or directory\r\n"
     ]
    }
   ],
   "source": [
    "%cat dat a/radioactive_decay.txt"
   ]
  },
  {
   "cell_type": "markdown",
   "metadata": {},
   "source": [
    "(a) Grafique los datos ¿Qué forma tienen?"
   ]
  },
  {
   "cell_type": "markdown",
   "metadata": {},
   "source": [
    "(b) ¿Qué transformación se le ocurre para linearizarlos? Explique y grafique de nuevo. Guarde los datos transformados en un archivo llamado transform_radioactive_decay.txt"
   ]
  },
  {
   "cell_type": "markdown",
   "metadata": {},
   "source": [
    "(c) Aplique la regresión lineal a este conjunto de datos transformado, leyendo los datos del archivo recién creado."
   ]
  },
  {
   "cell_type": "markdown",
   "metadata": {},
   "source": [
    "(d) ¿Cuáles son los valores de $\\beta$ que mejor ajustan? ¿Cuáles son el espacio sin transformar? Explique."
   ]
  },
  {
   "cell_type": "code",
   "execution_count": null,
   "metadata": {},
   "outputs": [],
   "source": []
  },
  {
   "cell_type": "markdown",
   "metadata": {},
   "source": [
    "Lo lamento mucho prof jajaja tengo que pasar el examen de análisis. Voy a volver a subir esto mañana ya contestado una vez que termine mi examen. Espero me lo cuente porfiss aunque sea algo jaja :c"
   ]
  }
 ],
 "metadata": {
  "kernelspec": {
   "display_name": "Python 3",
   "language": "python",
   "name": "python3"
  },
  "language_info": {
   "codemirror_mode": {
    "name": "ipython",
    "version": 3
   },
   "file_extension": ".py",
   "mimetype": "text/x-python",
   "name": "python",
   "nbconvert_exporter": "python",
   "pygments_lexer": "ipython3",
   "version": "3.8.5"
  }
 },
 "nbformat": 4,
 "nbformat_minor": 4
}
