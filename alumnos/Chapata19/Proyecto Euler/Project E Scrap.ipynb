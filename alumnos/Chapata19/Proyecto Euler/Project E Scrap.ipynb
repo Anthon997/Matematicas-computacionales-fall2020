{
 "cells": [
  {
   "cell_type": "code",
   "execution_count": 6,
   "metadata": {},
   "outputs": [
    {
     "ename": "SyntaxError",
     "evalue": "invalid syntax (<ipython-input-6-ec95eb5666f6>, line 6)",
     "output_type": "error",
     "traceback": [
      "\u001b[0;36m  File \u001b[0;32m\"<ipython-input-6-ec95eb5666f6>\"\u001b[0;36m, line \u001b[0;32m6\u001b[0m\n\u001b[0;31m    print sum(multiples_of_3_or_5())\u001b[0m\n\u001b[0m          ^\u001b[0m\n\u001b[0;31mSyntaxError\u001b[0m\u001b[0;31m:\u001b[0m invalid syntax\n"
     ]
    }
   ],
   "source": [
    "def multiples_of_3_or_5():\n",
    "    for number in xrange(1000):\n",
    "        if not number % 3 or not number % 5:\n",
    "            yield number\n",
    "\n",
    "print sum(multiples_of_3_or_5())"
   ]
  },
  {
   "cell_type": "code",
   "execution_count": 29,
   "metadata": {
    "scrolled": false
   },
   "outputs": [
    {
     "name": "stdout",
     "output_type": "stream",
     "text": [
      "233168\n"
     ]
    }
   ],
   "source": [
    "\n",
    "\n",
    "sum = 0\n",
    "for i in range(1,1000):\n",
    "    if (i%3 == 0 or i%5 == 0):\n",
    "        sum += i    \n",
    "print(sum)"
   ]
  },
  {
   "cell_type": "code",
   "execution_count": 30,
   "metadata": {},
   "outputs": [
    {
     "name": "stdout",
     "output_type": "stream",
     "text": [
      "0.0\n"
     ]
    }
   ],
   "source": [
    "import math\n",
    "\n",
    "phi = (math.sqrt(5)+1)/2\n",
    "sum = 0\n",
    "\n",
    "def fib(i):\n",
    "    return (phi**i - (-phi)**i)/math.sqrt(5)\n",
    "\n",
    "i = 1\n",
    "while fib(i) < 4000000:\n",
    "    if (i%2 == 0):\n",
    "        sum += fib(i)\n",
    "    i += 1\n",
    "    \n",
    "print(sum)"
   ]
  },
  {
   "cell_type": "code",
   "execution_count": 1,
   "metadata": {},
   "outputs": [
    {
     "name": "stdout",
     "output_type": "stream",
     "text": [
      "4613732\n"
     ]
    }
   ],
   "source": [
    "# Iniciamos con los primeros valores de la serie.\n",
    "# -- según wikipedia --\n",
    "# La sucesión comienza con los números 0 y 1;\n",
    "# a partir de estos, «cada término es la suma de los dos anteriores», es la relación de recurrencia que la define.\n",
    "# -- según wikipedia --\n",
    "f0 = 0\n",
    "f1 = 1\n",
    "\n",
    "f = 0\n",
    "sum = 0\n",
    "while f < 4000000:\n",
    "    f = f0 + f1 # le llamamos f al síguiente término de la suseción\n",
    "    if f%2 == 0: #Solo sumaremos el los términos pares a partir del 3ro puesto que los primeros dos casos no afectan lo que queremos \n",
    "        sum += f\n",
    "    # guardamos los dos últimos terminos para después sacar el siguiente\n",
    "    f0 = f1\n",
    "    f1 = f\n",
    "\n",
    "print(sum)"
   ]
  },
  {
   "cell_type": "code",
   "execution_count": 1,
   "metadata": {},
   "outputs": [
    {
     "name": "stdout",
     "output_type": "stream",
     "text": [
      "6857\n"
     ]
    }
   ],
   "source": [
    "p = 600851475143\n",
    "\n",
    "i = 2\n",
    "\n",
    "while p != 1:\n",
    "    while p%i == 0:\n",
    "        p = p/i\n",
    "    i = i + 1\n",
    "lpf = i - 1\n",
    "print(lpf)"
   ]
  },
  {
   "cell_type": "code",
   "execution_count": 6,
   "metadata": {},
   "outputs": [
    {
     "name": "stdout",
     "output_type": "stream",
     "text": [
      "Populating the interactive namespace from numpy and matplotlib\n"
     ]
    }
   ],
   "source": [
    "%pylab inline\n",
    "import numpy as np"
   ]
  },
  {
   "cell_type": "code",
   "execution_count": 30,
   "metadata": {},
   "outputs": [
    {
     "data": {
      "text/plain": [
       "(array([ 2,  3,  5,  7, 11, 13, 17, 19, 23, 29, 31, 37, 41, 43, 47, 53, 59,\n",
       "        61, 67, 71, 73, 79, 83, 89, 97]),)"
      ]
     },
     "execution_count": 30,
     "metadata": {},
     "output_type": "execute_result"
    }
   ],
   "source": [
    "bool_arr = np.ones((100,), dtype=bool)\n",
    "bool_arr[0] = False\n",
    "bool_arr[1] = False\n",
    "N_max = int(np.sqrt(len(bool_arr)))\n",
    "for j in range(2, N_max):\n",
    "    bool_arr[2*j::j] = False\n",
    "N_max\n",
    "np.nonzero(bool_arr)"
   ]
  },
  {
   "cell_type": "code",
   "execution_count": 112,
   "metadata": {},
   "outputs": [
    {
     "data": {
      "text/plain": [
       "True"
      ]
     },
     "execution_count": 112,
     "metadata": {},
     "output_type": "execute_result"
    }
   ],
   "source": [
    "def correcto(arr):\n",
    "    bool_arr = np.zeros((9,), dtype=bool)\n",
    "    b = True\n",
    "    if (arr.shape == bool_arr.reshape(1,9).shape):\n",
    "        arr = arr.reshape(9,)\n",
    "    elif (arr.shape != bool_arr.shape):\n",
    "        b = False\n",
    "    i = 0\n",
    "    while b and i <= 8:\n",
    "        if 1 <= arr[i] and arr[i] <= 9:\n",
    "            if not bool_arr[arr[i]-1]:\n",
    "                bool_arr[arr[i]-1] = True\n",
    "            else:\n",
    "                b = False\n",
    "        else:\n",
    "            b = False\n",
    "        i += 1\n",
    "        \n",
    "    return b\n",
    "\n",
    "arr = np.arange(9)+1\n",
    "correcto(arr.reshape(1,9))"
   ]
  },
  {
   "cell_type": "code",
   "execution_count": 99,
   "metadata": {},
   "outputs": [
    {
     "name": "stdout",
     "output_type": "stream",
     "text": [
      "[[60 61 62 69 70 71 78 79 80]]\n"
     ]
    }
   ],
   "source": [
    "def descomponer3x3(arr):\n",
    "    des = np.zeros((9,3,3), dtype=int)\n",
    "    if (arr.shape != np.zeros((9,9)).shape):\n",
    "        return False\n",
    "    for i in range(3):\n",
    "        for j in range(3):\n",
    "            des[3*i+j] = arr[3*i:3*(i+1),3*j:3*(j+1)]\n",
    "    return des\n",
    "\n",
    "arr = np.arange(81)\n",
    "print(descomponer3x3(arr.reshape((9,9)))[8].reshape(1,9))\n",
    "#print(arr.reshape((9,9)).reshape(9,3,3))"
   ]
  },
  {
   "cell_type": "code",
   "execution_count": 119,
   "metadata": {},
   "outputs": [
    {
     "data": {
      "text/plain": [
       "False"
      ]
     },
     "execution_count": 119,
     "metadata": {},
     "output_type": "execute_result"
    }
   ],
   "source": [
    "def esSolucion(arr):\n",
    "    b = True\n",
    "    sup = descomponer3x3(arr)\n",
    "    \n",
    "    i = 0\n",
    "    while b and i < 9:\n",
    "        if not correcto(arr[i].reshape(9,)):\n",
    "            b = False\n",
    "        elif not correcto(arr[:,i].reshape(9,)):\n",
    "            b = False\n",
    "        elif not correcto(sup[1].reshape(9,)):\n",
    "            b = False\n",
    "        i += 1\n",
    "    return b\n",
    "\n",
    "\n",
    "    \n",
    "esSolucion(np.arange(81).reshape(9,9))"
   ]
  },
  {
   "cell_type": "code",
   "execution_count": 141,
   "metadata": {},
   "outputs": [
    {
     "name": "stdout",
     "output_type": "stream",
     "text": [
      "Populating the interactive namespace from numpy and matplotlib\n"
     ]
    }
   ],
   "source": [
    "%pylab inline\n",
    "import numpy as np\n",
    "import matplotlib.pyplot as plt"
   ]
  },
  {
   "cell_type": "code",
   "execution_count": null,
   "metadata": {},
   "outputs": [],
   "source": []
  }
 ],
 "metadata": {
  "kernelspec": {
   "display_name": "Python 3",
   "language": "python",
   "name": "python3"
  },
  "language_info": {
   "codemirror_mode": {
    "name": "ipython",
    "version": 3
   },
   "file_extension": ".py",
   "mimetype": "text/x-python",
   "name": "python",
   "nbconvert_exporter": "python",
   "pygments_lexer": "ipython3",
   "version": "3.8.5"
  }
 },
 "nbformat": 4,
 "nbformat_minor": 4
}
