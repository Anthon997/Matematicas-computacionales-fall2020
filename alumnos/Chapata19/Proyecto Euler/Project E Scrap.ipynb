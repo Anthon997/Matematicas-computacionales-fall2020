{
 "cells": [
  {
   "cell_type": "code",
   "execution_count": 6,
   "metadata": {},
   "outputs": [
    {
     "ename": "SyntaxError",
     "evalue": "invalid syntax (<ipython-input-6-ec95eb5666f6>, line 6)",
     "output_type": "error",
     "traceback": [
      "\u001b[0;36m  File \u001b[0;32m\"<ipython-input-6-ec95eb5666f6>\"\u001b[0;36m, line \u001b[0;32m6\u001b[0m\n\u001b[0;31m    print sum(multiples_of_3_or_5())\u001b[0m\n\u001b[0m          ^\u001b[0m\n\u001b[0;31mSyntaxError\u001b[0m\u001b[0;31m:\u001b[0m invalid syntax\n"
     ]
    }
   ],
   "source": [
    "def multiples_of_3_or_5():\n",
    "    for number in xrange(1000):\n",
    "        if not number % 3 or not number % 5:\n",
    "            yield number\n",
    "\n",
    "print sum(multiples_of_3_or_5())"
   ]
  },
  {
   "cell_type": "code",
   "execution_count": 29,
   "metadata": {
    "scrolled": false
   },
   "outputs": [
    {
     "name": "stdout",
     "output_type": "stream",
     "text": [
      "233168\n"
     ]
    }
   ],
   "source": [
    "\n",
    "\n",
    "sum = 0\n",
    "for i in range(1,1000):\n",
    "    if (i%3 == 0 or i%5 == 0):\n",
    "        sum += i    \n",
    "print(sum)"
   ]
  },
  {
   "cell_type": "code",
   "execution_count": 30,
   "metadata": {},
   "outputs": [
    {
     "name": "stdout",
     "output_type": "stream",
     "text": [
      "0.0\n"
     ]
    }
   ],
   "source": [
    "import math\n",
    "\n",
    "phi = (math.sqrt(5)+1)/2\n",
    "sum = 0\n",
    "\n",
    "def fib(i):\n",
    "    return (phi**i - (-phi)**i)/math.sqrt(5)\n",
    "\n",
    "i = 1\n",
    "while fib(i) < 4000000:\n",
    "    if (i%2 == 0):\n",
    "        sum += fib(i)\n",
    "    i += 1\n",
    "    \n",
    "print(sum)"
   ]
  },
  {
   "cell_type": "code",
   "execution_count": 1,
   "metadata": {},
   "outputs": [
    {
     "name": "stdout",
     "output_type": "stream",
     "text": [
      "4613732\n"
     ]
    }
   ],
   "source": [
    "# Iniciamos con los primeros valores de la serie.\n",
    "# -- según wikipedia --\n",
    "# La sucesión comienza con los números 0 y 1;\n",
    "# a partir de estos, «cada término es la suma de los dos anteriores», es la relación de recurrencia que la define.\n",
    "# -- según wikipedia --\n",
    "f0 = 0\n",
    "f1 = 1\n",
    "\n",
    "f = 0\n",
    "sum = 0\n",
    "while f < 4000000:\n",
    "    f = f0 + f1 # le llamamos f al síguiente término de la suseción\n",
    "    if f%2 == 0: #Solo sumaremos el los términos pares a partir del 3ro puesto que los primeros dos casos no afectan lo que queremos \n",
    "        sum += f\n",
    "    # guardamos los dos últimos terminos para después sacar el siguiente\n",
    "    f0 = f1\n",
    "    f1 = f\n",
    "\n",
    "print(sum)"
   ]
  },
  {
   "cell_type": "code",
   "execution_count": 9,
   "metadata": {},
   "outputs": [
    {
     "name": "stdout",
     "output_type": "stream",
     "text": [
      "7919\n"
     ]
    }
   ],
   "source": [
    "p = 600851475143\n",
    "\n",
    "i = 2\n",
    "\n",
    "while p != 1:\n",
    "    while p%i == 0:\n",
    "        p = p/i\n",
    "    i = i + 1\n",
    "lpf = i - 1\n",
    "print(lpf)"
   ]
  }
 ],
 "metadata": {
  "kernelspec": {
   "display_name": "Python 3",
   "language": "python",
   "name": "python3"
  },
  "language_info": {
   "codemirror_mode": {
    "name": "ipython",
    "version": 3
   },
   "file_extension": ".py",
   "mimetype": "text/x-python",
   "name": "python",
   "nbconvert_exporter": "python",
   "pygments_lexer": "ipython3",
   "version": "3.8.5"
  }
 },
 "nbformat": 4,
 "nbformat_minor": 4
}
