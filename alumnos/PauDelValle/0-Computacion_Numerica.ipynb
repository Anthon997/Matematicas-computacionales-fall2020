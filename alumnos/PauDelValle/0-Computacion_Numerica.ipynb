{
 "cells": [
  {
   "cell_type": "code",
   "execution_count": 11,
   "metadata": {},
   "outputs": [],
   "source": [
    "from sympy.interactive import printing\n",
    "printing.init_printing(use_latex=True)\n",
    "from sympy import Symbol\n",
    "from sympy import *"
   ]
  },
  {
   "cell_type": "markdown",
   "metadata": {},
   "source": [
    "**Ejercicio:** Resuelva simbólicamente lo siguiente: Se lanza una pelota al aire con una velocidad $v_0$ a un ángulo $\\theta$. La gravedad es $g$. \n",
    "- ¿Cuál es la altura máxima? \n",
    "- ¿Cuál es la distancia máxima?\n",
    "- ¿Cuál es el tiempo de vuelo?\n",
    "- De una respuesta numérica, cuando $v_0 = 10 \\frac{m}{s}$ y $\\theta=\\pi/2$."
   ]
  },
  {
   "cell_type": "code",
   "execution_count": 17,
   "metadata": {},
   "outputs": [
    {
     "data": {
      "image/png": "[encoded data removed]",
      "text/latex": [
       "$\\displaystyle \\left( \\frac{v^{2} \\sin^{2}{\\left(\\theta \\right)}}{2 g}, \\  \\frac{v^{2} \\sin{\\left(2 \\theta \\right)}}{g}, \\  \\frac{2 v \\sin{\\left(\\theta \\right)}}{g}\\right)$"
      ],
      "text/plain": [
       "⎛ 2    2      2                     ⎞\n",
       "⎜v ⋅sin (θ)  v ⋅sin(2⋅θ)  2⋅v⋅sin(θ)⎟\n",
       "⎜──────────, ───────────, ──────────⎟\n",
       "⎝   2⋅g           g           g     ⎠"
      ]
     },
     "execution_count": 17,
     "metadata": {},
     "output_type": "execute_result"
    }
   ],
   "source": [
    "from sympy import Symbol\n",
    "v = Symbol('v')\n",
    "theta = Symbol('theta')\n",
    "g = Symbol('g')\n",
    "h = ((v**2)*(sin(theta)**2))/(2*g)\n",
    "d = (v**2)*(sin(2*(theta)))/g\n",
    "t = (2*v*sin(theta))/g\n",
    "h, d, t"
   ]
  },
  {
   "cell_type": "code",
   "execution_count": 20,
   "metadata": {},
   "outputs": [
    {
     "data": {
      "image/png": "[encoded data removed]",
      "text/latex": [
       "$\\displaystyle 5.09683995922528$"
      ],
      "text/plain": [
       "5.09683995922528"
      ]
     },
     "execution_count": 20,
     "metadata": {},
     "output_type": "execute_result"
    }
   ],
   "source": [
    "h.subs(v,10).subs(theta,pi/2).subs(g,9.81)"
   ]
  },
  {
   "cell_type": "code",
   "execution_count": 21,
   "metadata": {},
   "outputs": [
    {
     "data": {
      "image/png": "[encoded data removed]",
      "text/latex": [
       "$\\displaystyle 0$"
      ],
      "text/plain": [
       "0"
      ]
     },
     "execution_count": 21,
     "metadata": {},
     "output_type": "execute_result"
    }
   ],
   "source": [
    "d.subs(v,10).subs(theta,pi/2).subs(g,9.81)"
   ]
  },
  {
   "cell_type": "code",
   "execution_count": 22,
   "metadata": {},
   "outputs": [
    {
     "data": {
      "image/png": "[encoded data removed]",
      "text/latex": [
       "$\\displaystyle 2.03873598369011$"
      ],
      "text/plain": [
       "2.03873598369011"
      ]
     },
     "execution_count": 22,
     "metadata": {},
     "output_type": "execute_result"
    }
   ],
   "source": [
    "t.subs(v,10).subs(theta,pi/2).subs(g,9.81)"
   ]
  },
  {
   "cell_type": "code",
   "execution_count": null,
   "metadata": {},
   "outputs": [],
   "source": []
  }
 ],
 "metadata": {
  "kernelspec": {
   "display_name": "Python 3",
   "language": "python",
   "name": "python3"
  },
  "language_info": {
   "codemirror_mode": {
    "name": "ipython",
    "version": 3
   },
   "file_extension": ".py",
   "mimetype": "text/x-python",
   "name": "python",
   "nbconvert_exporter": "python",
   "pygments_lexer": "ipython3",
   "version": "3.8.5"
  }
 },
 "nbformat": 4,
 "nbformat_minor": 4
}
