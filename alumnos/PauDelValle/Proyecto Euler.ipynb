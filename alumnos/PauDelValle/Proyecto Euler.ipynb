{
 "cells": [
  {
   "cell_type": "markdown",
   "metadata": {},
   "source": [
    "**Problema 1**\n",
    "\n",
    "Múltiplos de 3 y 5"
   ]
  },
  {
   "cell_type": "code",
   "execution_count": 13,
   "metadata": {},
   "outputs": [],
   "source": [
    "def sumaMultiplos3y5():\n",
    "    suma = 0 \n",
    "    for i in range(1, 1001): \n",
    "        if i%3 == 0 or i%5 == 0: \n",
    "            suma += i\n",
    "    print(\"La suma de los múltiplos de 3 y 5 comprendidos entre el 1 y el 1000 es igual a: \", suma)"
   ]
  },
  {
   "cell_type": "code",
   "execution_count": 14,
   "metadata": {},
   "outputs": [
    {
     "name": "stdout",
     "output_type": "stream",
     "text": [
      "La suma de los múltiplos de 3 y 5 comprendidos entre el 1 y el 1000 es igual a:  234168\n"
     ]
    }
   ],
   "source": [
    "sumaMultiplos3y5()"
   ]
  },
  {
   "cell_type": "markdown",
   "metadata": {},
   "source": [
    "**Problema 2**\n",
    "\n",
    "Números impares de Fibonacci"
   ]
  },
  {
   "cell_type": "code",
   "execution_count": null,
   "metadata": {},
   "outputs": [],
   "source": [
    "def imparesFibonacci(maximo):\n",
    "    t1, t2 = 0,1\n",
    "    sucesion = []\n",
    "    sumaImpares = 0\n",
    "    while t1 < maximo: \n",
    "        sucesion.append(t1)\n",
    "        t1, t2 = t2, t1+t2\n",
    "    for i in sucesion: \n",
    "        if i%2 != 0:\n",
    "            sumaImpares += i\n",
    "    print(\"La suma de los números impares de la sucesión de Fibonacci con valores menores a\",maximo,\" es:\", sumaImpares)"
   ]
  },
  {
   "cell_type": "code",
   "execution_count": null,
   "metadata": {},
   "outputs": [],
   "source": [
    "maximo = int(input(\"Ingrese el límite máximo de la sucesión: \"))\n",
    "impares = imparesFibonacci(maximo)"
   ]
  },
  {
   "cell_type": "code",
   "execution_count": null,
   "metadata": {},
   "outputs": [],
   "source": []
  }
 ],
 "metadata": {
  "kernelspec": {
   "display_name": "Python 3",
   "language": "python",
   "name": "python3"
  },
  "language_info": {
   "codemirror_mode": {
    "name": "ipython",
    "version": 3
   },
   "file_extension": ".py",
   "mimetype": "text/x-python",
   "name": "python",
   "nbconvert_exporter": "python",
   "pygments_lexer": "ipython3",
   "version": "3.8.5"
  }
 },
 "nbformat": 4,
 "nbformat_minor": 4
}
