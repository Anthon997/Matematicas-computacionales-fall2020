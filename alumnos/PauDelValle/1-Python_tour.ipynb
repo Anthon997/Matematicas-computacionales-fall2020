{
 "cells": [
  {
   "cell_type": "markdown",
   "metadata": {},
   "source": [
    "# Tour de Python "
   ]
  },
  {
   "cell_type": "markdown",
   "metadata": {},
   "source": [
    "## 3 de septiembre"
   ]
  },
  {
   "cell_type": "code",
   "execution_count": 2,
   "metadata": {},
   "outputs": [],
   "source": [
    "str. #Opciones del método: . + Tab"
   ]
  },
  {
   "cell_type": "code",
   "execution_count": 5,
   "metadata": {},
   "outputs": [],
   "source": [
    "str? #Ayuda, para qué sirve"
   ]
  },
  {
   "cell_type": "markdown",
   "metadata": {},
   "source": [
    "**Ejercicio 1:**\n",
    "\n",
    "Usa la ayuda en línea de ipython e investiga como:\n",
    "- Capitalizarla.\n",
    "- Convertirla a minúsculas.\n",
    "- Convertir a mayúsculas.\n",
    "- Eliminar los espacios.\n",
    "\n",
    "de la cadena \"Anita lava la tina\". Aplica las cuatro operaciones una tras otra."
   ]
  },
  {
   "cell_type": "code",
   "execution_count": 108,
   "metadata": {},
   "outputs": [
    {
     "data": {
      "text/plain": [
       "'Anita lava la tina'"
      ]
     },
     "execution_count": 108,
     "metadata": {},
     "output_type": "execute_result"
    }
   ],
   "source": [
    "cadena = \"Anita lava la tina\"\n",
    "cadena"
   ]
  },
  {
   "cell_type": "code",
   "execution_count": 111,
   "metadata": {},
   "outputs": [
    {
     "data": {
      "text/plain": [
       "'Anita lava la tina'"
      ]
     },
     "execution_count": 111,
     "metadata": {},
     "output_type": "execute_result"
    }
   ],
   "source": [
    "str.capitalize(cadena)"
   ]
  },
  {
   "cell_type": "code",
   "execution_count": 112,
   "metadata": {},
   "outputs": [
    {
     "data": {
      "text/plain": [
       "'Anita lava la tina'"
      ]
     },
     "execution_count": 112,
     "metadata": {},
     "output_type": "execute_result"
    }
   ],
   "source": [
    "cadena.capitalize()"
   ]
  },
  {
   "cell_type": "code",
   "execution_count": 113,
   "metadata": {},
   "outputs": [
    {
     "data": {
      "text/plain": [
       "'ANITA LAVA LA TINA'"
      ]
     },
     "execution_count": 113,
     "metadata": {},
     "output_type": "execute_result"
    }
   ],
   "source": [
    "str.upper(cadena)"
   ]
  },
  {
   "cell_type": "code",
   "execution_count": 114,
   "metadata": {},
   "outputs": [
    {
     "data": {
      "text/plain": [
       "'anita lava la tina'"
      ]
     },
     "execution_count": 114,
     "metadata": {},
     "output_type": "execute_result"
    }
   ],
   "source": [
    "str.lower(cadena)"
   ]
  },
  {
   "cell_type": "code",
   "execution_count": 115,
   "metadata": {},
   "outputs": [
    {
     "data": {
      "text/plain": [
       "'Anitalavalatina'"
      ]
     },
     "execution_count": 115,
     "metadata": {},
     "output_type": "execute_result"
    }
   ],
   "source": [
    "str.replace(cadena,\" \",\"\")"
   ]
  },
  {
   "cell_type": "code",
   "execution_count": 116,
   "metadata": {},
   "outputs": [
    {
     "data": {
      "text/plain": [
       "'Anitalavalatina'"
      ]
     },
     "execution_count": 116,
     "metadata": {},
     "output_type": "execute_result"
    }
   ],
   "source": [
    "cadena.replace(\" \",\"\")"
   ]
  },
  {
   "cell_type": "markdown",
   "metadata": {},
   "source": [
    "**Ejercicio 2**\n",
    "\n",
    "Usando los *widgets* que proporciona el notebook, programa una interfaz que indique (imprimiendo) si el número que se introduce es par o impar."
   ]
  },
  {
   "cell_type": "code",
   "execution_count": 38,
   "metadata": {},
   "outputs": [],
   "source": [
    "from ipywidgets import widgets"
   ]
  },
  {
   "cell_type": "code",
   "execution_count": 51,
   "metadata": {},
   "outputs": [],
   "source": [
    "def paroimpar():\n",
    "    x = int(input(\"Ingresa un número: \"))\n",
    "    if x%2 == 0:\n",
    "        print(\"El número introducido es par\")\n",
    "    else: \n",
    "        print(\"El número introducido es impar\")"
   ]
  },
  {
   "cell_type": "code",
   "execution_count": 52,
   "metadata": {},
   "outputs": [
    {
     "name": "stdout",
     "output_type": "stream",
     "text": [
      "Ingresa un número: 6\n",
      "El número introducido es par\n"
     ]
    }
   ],
   "source": [
    "paroimpar()"
   ]
  },
  {
   "cell_type": "code",
   "execution_count": 53,
   "metadata": {},
   "outputs": [
    {
     "name": "stdout",
     "output_type": "stream",
     "text": [
      "Ingresa un número: 596839405\n",
      "El número introducido es impar\n"
     ]
    }
   ],
   "source": [
    "paroimpar()"
   ]
  },
  {
   "cell_type": "markdown",
   "metadata": {},
   "source": [
    "**Ejercicio 3**\n",
    "\n",
    "Calcula el valor de la suma $\\sum^{1000}_{k=0} \\left(\\frac{1}{k}\\right)^2$."
   ]
  },
  {
   "cell_type": "code",
   "execution_count": 55,
   "metadata": {},
   "outputs": [
    {
     "name": "stdout",
     "output_type": "stream",
     "text": [
      "1.6439345666815615\n"
     ]
    }
   ],
   "source": [
    "suma = 0\n",
    "for i in range(1,1001): \n",
    "    suma += (1/i)**2\n",
    "print(suma)"
   ]
  },
  {
   "cell_type": "markdown",
   "metadata": {},
   "source": [
    "**Lista:** [ ] conjunto ordenado de elementos, puedo tener en una sola lista elementos de diferente tipo o incluso una lista dentro de una lista. \n",
    "\n",
    "**List comprehensions:** manipulación de listas para escribirlas \"como conjuntos\"\n",
    "\n",
    "**Diccionarios:** { }, conjunto de llave-valor, no ordenado"
   ]
  },
  {
   "cell_type": "markdown",
   "metadata": {},
   "source": [
    "**Ejercicio 4**\n",
    "\n",
    "Crea una función que devuelva las coordenadas $(x,y,z)$ a partir de las [coordenadas esféricas](http://en.wikipedia.org/wiki/Spherical_coordinate_system) $(r, \\theta, \\phi)$. Guárdala a disco, en el archivo `transformaciones.py`"
   ]
  },
  {
   "cell_type": "code",
   "execution_count": 103,
   "metadata": {},
   "outputs": [
    {
     "name": "stdout",
     "output_type": "stream",
     "text": [
      "Overwriting transformaciones.py\n"
     ]
    }
   ],
   "source": [
    "%%file transformaciones.py\n",
    "from math import sin, cos, pi\n",
    "def coordenadas(r,theta,phi):\n",
    "    \"\"\"\n",
    "    r, theta, phi corresponden a las coordenadas esféricas\n",
    "    \"\"\"\n",
    "    x = r*sin(theta)*cos(phi)\n",
    "    y = r*sin(theta)*sin(phi)\n",
    "    z = r*cos(theta)\n",
    "    return x, y, z"
   ]
  },
  {
   "cell_type": "code",
   "execution_count": 104,
   "metadata": {},
   "outputs": [
    {
     "name": "stdout",
     "output_type": "stream",
     "text": [
      "El valor de la variable x es:  -2.5980762113533156\n",
      "El valor de la variable y es:  1.4999999999999996\n",
      "El valor de la variable z es:  5.196152422706632\n"
     ]
    }
   ],
   "source": [
    "x, y, z = coordenadas(6, pi/6, (pi*5)/6)\n",
    "print(\"El valor de la variable x es: \", x)\n",
    "print(\"El valor de la variable y es: \", y)\n",
    "print(\"El valor de la variable z es: \", z)"
   ]
  },
  {
   "cell_type": "code",
   "execution_count": 105,
   "metadata": {},
   "outputs": [
    {
     "name": "stdout",
     "output_type": "stream",
     "text": [
      "El valor de la variable x es:  1.8371173070873839\n",
      "El valor de la variable y es:  1.8371173070873834\n",
      "El valor de la variable z es:  1.5000000000000004\n"
     ]
    }
   ],
   "source": [
    "x2, y2, z2 = coordenadas(3, pi/3, pi/4)\n",
    "print(\"El valor de la variable x es: \", x2)\n",
    "print(\"El valor de la variable y es: \", y2)\n",
    "print(\"El valor de la variable z es: \", z2)"
   ]
  },
  {
   "cell_type": "markdown",
   "metadata": {},
   "source": [
    "**Ejercicio 5**\n",
    "\n",
    "Usando la función recién creada, usa la librería `interact` para pedir los valores $(r,\\theta,\\phi)$."
   ]
  },
  {
   "cell_type": "code",
   "execution_count": 1,
   "metadata": {},
   "outputs": [],
   "source": [
    "from transformaciones import coordenadas\n",
    "from ipywidgets import interact"
   ]
  },
  {
   "cell_type": "code",
   "execution_count": null,
   "metadata": {},
   "outputs": [],
   "source": [
    "interact(coordenadas,r= input(), theta= input(), phi= input());"
   ]
  },
  {
   "cell_type": "code",
   "execution_count": 54,
   "metadata": {},
   "outputs": [],
   "source": []
  },
  {
   "cell_type": "code",
   "execution_count": null,
   "metadata": {},
   "outputs": [],
   "source": []
  }
 ],
 "metadata": {
  "kernelspec": {
   "display_name": "Python 3",
   "language": "python",
   "name": "python3"
  },
  "language_info": {
   "codemirror_mode": {
    "name": "ipython",
    "version": 3
   },
   "file_extension": ".py",
   "mimetype": "text/x-python",
   "name": "python",
   "nbconvert_exporter": "python",
   "pygments_lexer": "ipython3",
   "version": "3.8.5"
  }
 },
 "nbformat": 4,
 "nbformat_minor": 4
}
