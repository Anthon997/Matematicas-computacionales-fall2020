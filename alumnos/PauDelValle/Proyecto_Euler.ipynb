{
 "cells": [
  {
   "cell_type": "markdown",
   "metadata": {},
   "source": [
    "**Problema 1**\n",
    "\n",
    "Múltiplos de 3 y 5"
   ]
  },
  {
   "cell_type": "code",
   "execution_count": 13,
   "metadata": {},
   "outputs": [],
   "source": [
    "def sumaMultiplos3y5():\n",
    "    suma = 0 \n",
    "    for i in range(1, 1001): #evaluar entre el 1 y el 1000 \n",
    "        if i%3 == 0 or i%5 == 0: #el residuo al dividir entre 3 o 5 debe ser cero, de tal manera que asegura el que sean múltiplos de dichos números\n",
    "            suma += i #evalúa en el siguiente número perteneciente al rango\n",
    "    print(\"La suma de los múltiplos de 3 y 5 comprendidos entre el 1 y el 1000 es igual a: \", suma)"
   ]
  },
  {
   "cell_type": "code",
   "execution_count": 14,
   "metadata": {},
   "outputs": [
    {
     "name": "stdout",
     "output_type": "stream",
     "text": [
      "La suma de los múltiplos de 3 y 5 comprendidos entre el 1 y el 1000 es igual a:  234168\n"
     ]
    }
   ],
   "source": [
    "sumaMultiplos3y5()"
   ]
  },
  {
   "cell_type": "markdown",
   "metadata": {},
   "source": [
    "**Problema 2**\n",
    "\n",
    "Números impares de Fibonacci"
   ]
  },
  {
   "cell_type": "code",
   "execution_count": 1,
   "metadata": {},
   "outputs": [],
   "source": [
    "def imparesFibonacci(maximo):\n",
    "    t1, t2 = 0,1 #primeros dos términos de la sucesión de Fibonacci\n",
    "    sucesion = [] #creo una lista donde estará contenida la sucesión\n",
    "    sumaImpares = 0\n",
    "    while t1 < maximo: #mientras el valor del término en cuestión sea menor que el valor máximo dado por el usuario\n",
    "        sucesion.append(t1) #se añade el término a la lista\n",
    "        t1, t2 = t2, t1+t2 #se reemplazan los términos n y n+1 por n+1 y n+2\n",
    "    for i in sucesion: \n",
    "        if i%2 != 0: #si el residuo al dividir entre dos es distinto a cero implica que el número es impar\n",
    "            sumaImpares += i #si el número es impar entonces se agrega a la suma de los números impares\n",
    "    print(\"La suma de los números impares de la sucesión de Fibonacci con valores menores a\",maximo,\" es:\", sumaImpares)"
   ]
  },
  {
   "cell_type": "code",
   "execution_count": 3,
   "metadata": {},
   "outputs": [
    {
     "name": "stdout",
     "output_type": "stream",
     "text": [
      "La suma de los números impares de la sucesión de Fibonacci con valores menores a 4000000  es: 4613732\n"
     ]
    }
   ],
   "source": [
    "impares= imparesFibonacci(4000000)"
   ]
  },
  {
   "cell_type": "code",
   "execution_count": 2,
   "metadata": {},
   "outputs": [
    {
     "name": "stdout",
     "output_type": "stream",
     "text": [
      "Ingrese el límite máximo de la sucesión: 4000000\n",
      "La suma de los números impares de la sucesión de Fibonacci con valores menores a 4000000  es: 4613732\n"
     ]
    }
   ],
   "source": [
    "maximo = int(input(\"Ingrese el límite máximo de la sucesión: \")) #escribir 4,000,000 para contestar la pregunta del Proyecto Euler\n",
    "impares = imparesFibonacci(maximo)"
   ]
  },
  {
   "cell_type": "markdown",
   "metadata": {},
   "source": [
    "**Problema 3**\n",
    "\n",
    "Largest prime factor"
   ]
  },
  {
   "cell_type": "code",
   "execution_count": 1,
   "metadata": {},
   "outputs": [],
   "source": [
    "import sympy as sym"
   ]
  },
  {
   "cell_type": "code",
   "execution_count": 13,
   "metadata": {},
   "outputs": [],
   "source": [
    "def LargestPrimeFactor(num):\n",
    "    primefactors = []\n",
    "    for i in range(2,num): \n",
    "        if sym.isprime(i):   #verifica que los números entre 2 y el ingresado sean primos\n",
    "            if num % i == 0: #si el número es primo entonces verifica que sea factor del número ingresado\n",
    "                primefactors.append(i) #si el número primo es factor se añade a una lista\n",
    "    return max(primefactors) #se regresa el mayor de los factores primos"
   ]
  },
  {
   "cell_type": "code",
   "execution_count": null,
   "metadata": {},
   "outputs": [],
   "source": [
    "num = 600851475143\n",
    "print(LargestPrimeFactor(num))\n",
    "print(\"El factor primo mayor del número: \", num, \"es: \", LargestPrimeFactor(num))"
   ]
  },
  {
   "cell_type": "markdown",
   "metadata": {},
   "source": [
    "**Problema 10**\n",
    "\n",
    "Summation of primes"
   ]
  },
  {
   "cell_type": "code",
   "execution_count": 2,
   "metadata": {},
   "outputs": [],
   "source": [
    "def SumaPrimos(num):\n",
    "    sumaPrimosMenores = 0\n",
    "    for i in range(2, num):\n",
    "        if sym.isprime(i):\n",
    "            sumaPrimosMenores += i\n",
    "    return sumaPrimosMenores"
   ]
  },
  {
   "cell_type": "code",
   "execution_count": 4,
   "metadata": {},
   "outputs": [
    {
     "name": "stdout",
     "output_type": "stream",
     "text": [
      "La suma de los números primos menores a  2000000 es:  142913828922\n"
     ]
    }
   ],
   "source": [
    "num = 2000000\n",
    "print(\"La suma de los números primos menores a \", num, \"es: \", SumaPrimos(num))"
   ]
  }
 ],
 "metadata": {
  "kernelspec": {
   "display_name": "Python 3",
   "language": "python",
   "name": "python3"
  },
  "language_info": {
   "codemirror_mode": {
    "name": "ipython",
    "version": 3
   },
   "file_extension": ".py",
   "mimetype": "text/x-python",
   "name": "python",
   "nbconvert_exporter": "python",
   "pygments_lexer": "ipython3",
   "version": "3.8.5"
  }
 },
 "nbformat": 4,
 "nbformat_minor": 4
}
