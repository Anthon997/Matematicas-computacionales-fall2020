{
 "cells": [
  {
   "cell_type": "markdown",
   "metadata": {},
   "source": [
    "# Proyecto Euler 1\n",
    "## Múltiplos de 3 y 5"
   ]
  },
  {
   "cell_type": "code",
   "execution_count": 1,
   "metadata": {},
   "outputs": [
    {
     "name": "stdout",
     "output_type": "stream",
     "text": [
      "La suma es igual a:  233168\n"
     ]
    }
   ],
   "source": [
    "#Hacemos una variable que vale 0 que servirá para sumar\n",
    "suma=0\n",
    "#Obtenemos los números que son divisibles entre 3 o 5 y vamos haciendo la suma\n",
    "for i in range(1,1000):\n",
    "    if (i%3==0) or (i%5==0):\n",
    "        suma+=i\n",
    "#Imprimimos la variable\n",
    "print('La suma es igual a: ',suma)\n",
    "        "
   ]
  },
  {
   "cell_type": "code",
   "execution_count": null,
   "metadata": {},
   "outputs": [],
   "source": []
  }
 ],
 "metadata": {
  "kernelspec": {
   "display_name": "Python 3",
   "language": "python",
   "name": "python3"
  },
  "language_info": {
   "codemirror_mode": {
    "name": "ipython",
    "version": 3
   },
   "file_extension": ".py",
   "mimetype": "text/x-python",
   "name": "python",
   "nbconvert_exporter": "python",
   "pygments_lexer": "ipython3",
   "version": "3.8.5"
  }
 },
 "nbformat": 4,
 "nbformat_minor": 4
}
