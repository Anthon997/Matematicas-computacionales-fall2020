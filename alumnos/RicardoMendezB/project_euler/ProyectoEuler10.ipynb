{
 "cells": [
  {
   "cell_type": "markdown",
   "metadata": {},
   "source": [
    "# Proyecto Euler 10\n",
    "\n",
    "## Suma de primos\n",
    "\n",
    "Encuentra la suma de los números primos menores a 2 millones"
   ]
  },
  {
   "cell_type": "code",
   "execution_count": 1,
   "metadata": {},
   "outputs": [],
   "source": [
    "import numpy as np"
   ]
  },
  {
   "cell_type": "code",
   "execution_count": 2,
   "metadata": {},
   "outputs": [],
   "source": [
    "#Se hará uso del ejercicio 2 de la tarea pa usar la criba de Eratóstenes y así obtener los primos menores a 2000000 y sumarlos\n",
    "#Primero se hace un array de True's de tamaño n+1 y las posiciones 0 y 1 se convierten a False pues el 0 y 1 no son primos\n",
    "def sumaPrimos(n):\n",
    "    suma=0\n",
    "    criba=np.ones((n+1,), dtype=bool)\n",
    "    criba[0]=False\n",
    "    criba[1]=False\n",
    "    for x in range(2,n+1): #Si la posición x es True significa que no puede ser dividido por un número menor a x y por lo tanto es primo y se agrega a la suma\n",
    "        if criba[x]==True:\n",
    "            suma=suma+x\n",
    "            for y in range(x**2, n, x): #Como x fue primo se eliminarán todos los multiplos de este que están en la criba. Partimos del cuadrado de x y damos saltos de tamaño x.\n",
    "                criba[y] = False\n",
    "    return suma\n",
    "        "
   ]
  },
  {
   "cell_type": "code",
   "execution_count": 5,
   "metadata": {},
   "outputs": [
    {
     "name": "stdout",
     "output_type": "stream",
     "text": [
      "La suma de los primos menores a 2000000 es:  142915828922\n"
     ]
    }
   ],
   "source": [
    "print('La suma de los primos menores a 2000000 es: ',sumaPrimos(2000000))"
   ]
  },
  {
   "cell_type": "code",
   "execution_count": null,
   "metadata": {},
   "outputs": [],
   "source": []
  }
 ],
 "metadata": {
  "kernelspec": {
   "display_name": "Python 3",
   "language": "python",
   "name": "python3"
  },
  "language_info": {
   "codemirror_mode": {
    "name": "ipython",
    "version": 3
   },
   "file_extension": ".py",
   "mimetype": "text/x-python",
   "name": "python",
   "nbconvert_exporter": "python",
   "pygments_lexer": "ipython3",
   "version": "3.8.5"
  }
 },
 "nbformat": 4,
 "nbformat_minor": 4
}
