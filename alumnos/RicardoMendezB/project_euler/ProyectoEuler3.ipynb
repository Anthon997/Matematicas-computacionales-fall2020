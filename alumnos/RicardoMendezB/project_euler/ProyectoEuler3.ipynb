{
 "cells": [
  {
   "cell_type": "markdown",
   "metadata": {},
   "source": [
    "# Proyecto Euler 3"
   ]
  },
  {
   "cell_type": "markdown",
   "metadata": {},
   "source": [
    "## Factor primo más grande\n",
    "\n",
    "The prime factors of 13195 are 5, 7, 13 and 29.\n",
    "\n",
    "What is the largest prime factor of the number 600851475143 ?"
   ]
  },
  {
   "cell_type": "code",
   "execution_count": 1,
   "metadata": {},
   "outputs": [],
   "source": [
    "#Se hará una función que obtenga el factor más pequeño del número 600851475143. Como este es el más pequeño será primo por Teorema fundamental del álgebra\n",
    "\n",
    "def factorpeque(n):\n",
    "    for x in range(2,n//2 +1): #El rango va desde 2 porque cualquier número positivo se divide entre 1 y el resultado sería 1\n",
    "        if n%x==0:\n",
    "            n=x\n",
    "            break #Frenamos el for porque ya tenemos el factor más pequeño\n",
    "    return n\n",
    "    "
   ]
  },
  {
   "cell_type": "code",
   "execution_count": 2,
   "metadata": {},
   "outputs": [
    {
     "data": {
      "text/plain": [
       "71"
      ]
     },
     "execution_count": 2,
     "metadata": {},
     "output_type": "execute_result"
    }
   ],
   "source": [
    "factorpeque(600851475143)"
   ]
  },
  {
   "cell_type": "code",
   "execution_count": 3,
   "metadata": {},
   "outputs": [],
   "source": [
    "#Se hará una función que divida 600851475143 entre su factor más pequeño varias veces hasta que la división no sea exacta y se guardará el último resultado de la repetición de divisiones. \n",
    "#Después al número del proceso anterior se le obtendrá su factor más pequeño y se dividirá entre este hasta que la división no sea exacta.\n",
    "#Se seguirá el ciclo hasta que el factor más pequeño del número obtenido sea este mismo número. Este será el factor primo más grande de 600851475143 por el TEOREMA FUNDAMENTAL DEL ALGEBRA\n",
    "\n",
    "def PrimoMasGrande(n):\n",
    "    bandera=True\n",
    "    while bandera == True:\n",
    "        fp=factorpeque(n)\n",
    "        if fp<n:\n",
    "            n=n//fp\n",
    "        else:\n",
    "            bandera=False\n",
    "    return n"
   ]
  },
  {
   "cell_type": "code",
   "execution_count": 4,
   "metadata": {},
   "outputs": [
    {
     "name": "stdout",
     "output_type": "stream",
     "text": [
      "El factor primo más grande de 600851475143 es:  6857\n"
     ]
    }
   ],
   "source": [
    "print('El factor primo más grande de 600851475143 es: ', PrimoMasGrande(600851475143))"
   ]
  },
  {
   "cell_type": "code",
   "execution_count": null,
   "metadata": {},
   "outputs": [],
   "source": []
  }
 ],
 "metadata": {
  "kernelspec": {
   "display_name": "Python 3",
   "language": "python",
   "name": "python3"
  },
  "language_info": {
   "codemirror_mode": {
    "name": "ipython",
    "version": 3
   },
   "file_extension": ".py",
   "mimetype": "text/x-python",
   "name": "python",
   "nbconvert_exporter": "python",
   "pygments_lexer": "ipython3",
   "version": "3.8.5"
  }
 },
 "nbformat": 4,
 "nbformat_minor": 4
}
