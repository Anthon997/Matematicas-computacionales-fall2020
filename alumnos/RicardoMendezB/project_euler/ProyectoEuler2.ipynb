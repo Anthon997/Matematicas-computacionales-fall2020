{
 "cells": [
  {
   "cell_type": "markdown",
   "metadata": {},
   "source": [
    "# Proyecto Euler\n",
    "## Números pares de Fibonacci"
   ]
  },
  {
   "cell_type": "code",
   "execution_count": 1,
   "metadata": {},
   "outputs": [
    {
     "name": "stdout",
     "output_type": "stream",
     "text": [
      "4613732\n"
     ]
    }
   ],
   "source": [
    "#Creamos 4 variables, suma=0, x=1, y=2 y z=0\n",
    "suma=0\n",
    "X=1\n",
    "Y=1\n",
    "Z=0\n",
    "while Z<=4000000:\n",
    "    #Obtenemos el siguiente número de Fibonacci\n",
    "    Z=X+Y\n",
    "    #Nos deshacemos del número de dos procesos anteriores y preparamos los número para el siguiente proceso\n",
    "    X=Y\n",
    "    Y=Z\n",
    "    #Si El nuevo número de Fibonacci es par lo agregamos a la suma\n",
    "    if Z%2==0:\n",
    "        suma+=Z\n",
    "        \n",
    "print(suma)\n"
   ]
  },
  {
   "cell_type": "code",
   "execution_count": null,
   "metadata": {},
   "outputs": [],
   "source": []
  }
 ],
 "metadata": {
  "kernelspec": {
   "display_name": "Python 3",
   "language": "python",
   "name": "python3"
  },
  "language_info": {
   "codemirror_mode": {
    "name": "ipython",
    "version": 3
   },
   "file_extension": ".py",
   "mimetype": "text/x-python",
   "name": "python",
   "nbconvert_exporter": "python",
   "pygments_lexer": "ipython3",
   "version": "3.8.5"
  }
 },
 "nbformat": 4,
 "nbformat_minor": 4
}
