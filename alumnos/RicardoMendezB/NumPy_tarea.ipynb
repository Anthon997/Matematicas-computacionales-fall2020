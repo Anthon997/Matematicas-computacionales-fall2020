{
 "cells": [
  {
   "cell_type": "markdown",
   "metadata": {},
   "source": [
    "# **Ejercicios de NumPy**"
   ]
  },
  {
   "cell_type": "code",
   "execution_count": 1,
   "metadata": {},
   "outputs": [
    {
     "name": "stdout",
     "output_type": "stream",
     "text": [
      "Populating the interactive namespace from numpy and matplotlib\n"
     ]
    }
   ],
   "source": [
    "%pylab inline\n",
    "import numpy as np"
   ]
  },
  {
   "cell_type": "markdown",
   "metadata": {},
   "source": [
    "## Pregunta 1\n",
    "Crea los siguientes arreglos con los tipos correctos. \n",
    "- Un arreglo de $5 \\times 5$ cuya diagonal sean $[2.0, 3.0, 4.0, 5.0]$\n",
    "- Un arreglo de $4 \\times 4$ cuyo último renglón sea $[1,2,3,4]$ y el resto sean $0$."
   ]
  },
  {
   "cell_type": "code",
   "execution_count": 2,
   "metadata": {},
   "outputs": [
    {
     "name": "stdout",
     "output_type": "stream",
     "text": [
      "[[1. 2. 3. 4. 5.]\n",
      " [1. 2. 3. 4. 5.]\n",
      " [1. 2. 3. 4. 5.]\n",
      " [1. 2. 3. 4. 5.]\n",
      " [1. 2. 3. 4. 5.]]\n"
     ]
    }
   ],
   "source": [
    "lista=list(range(1,6))\n",
    "ListaSuprema=[]\n",
    "for i in range(5):\n",
    "    ListaSuprema.append(lista)\n",
    "arr1=np.array(ListaSuprema).astype(np.float16)\n",
    "print(arr1)"
   ]
  },
  {
   "cell_type": "code",
   "execution_count": 3,
   "metadata": {},
   "outputs": [
    {
     "name": "stdout",
     "output_type": "stream",
     "text": [
      "[[0 0 0 0]\n",
      " [0 0 0 0]\n",
      " [0 0 0 0]\n",
      " [1 2 3 4]]\n"
     ]
    }
   ],
   "source": [
    "arr2=np.zeros((4,4)).astype(int)\n",
    "arr2[3]=np.arange(1,5).astype(int)\n",
    "print(arr2)"
   ]
  },
  {
   "cell_type": "markdown",
   "metadata": {},
   "source": [
    "## Pregunta 2\n",
    "En este ejercicio realizaremos una [**criba de Eratóstenes**](http://en.wikipedia.org/wiki/Sieve_of_Eratosthenes)\n"
   ]
  },
  {
   "cell_type": "markdown",
   "metadata": {},
   "source": [
    "<div class=\"alert alert-warning\">\n",
    "**Nota**: Ejercicio basado en el presentado en `C4P`.\n",
    "</div>"
   ]
  },
  {
   "cell_type": "markdown",
   "metadata": {},
   "source": [
    "(a) Crea un arreglo de booleanos de **shape** `(100,)`, con todos sus elementos `True`.  El índice representa el número."
   ]
  },
  {
   "cell_type": "code",
   "execution_count": 4,
   "metadata": {},
   "outputs": [
    {
     "name": "stdout",
     "output_type": "stream",
     "text": [
      "[ True  True  True  True  True  True  True  True  True  True  True  True\n",
      "  True  True  True  True  True  True  True  True  True  True  True  True\n",
      "  True  True  True  True  True  True  True  True  True  True  True  True\n",
      "  True  True  True  True  True  True  True  True  True  True  True  True\n",
      "  True  True  True  True  True  True  True  True  True  True  True  True\n",
      "  True  True  True  True  True  True  True  True  True  True  True  True\n",
      "  True  True  True  True  True  True  True  True  True  True  True  True\n",
      "  True  True  True  True  True  True  True  True  True  True  True  True\n",
      "  True  True  True  True]\n"
     ]
    }
   ],
   "source": [
    "bool_arr = np.ones((100,), dtype=bool)\n",
    "print(bool_arr)"
   ]
  },
  {
   "cell_type": "markdown",
   "metadata": {},
   "source": [
    "(b) \"Tacha\" los elementos `0` y `1`."
   ]
  },
  {
   "cell_type": "code",
   "execution_count": 5,
   "metadata": {},
   "outputs": [],
   "source": [
    "bool_arr[0]=False\n",
    "bool_arr[1]=False"
   ]
  },
  {
   "cell_type": "markdown",
   "metadata": {},
   "source": [
    "(c) Para cada entero subsiguiente, tacha sus múltiplos. Una manera de hacerlo es el código que se muestra. Explica que hace el código, sobretodo explica que hace el *slicing*."
   ]
  },
  {
   "cell_type": "code",
   "execution_count": 9,
   "metadata": {},
   "outputs": [],
   "source": [
    "N_max = int(np.sqrt(len(bool_arr)))\n",
    "for j in range(2, N_max):\n",
    "    bool_arr[2*j::j] = False\n",
    "\n",
    "#Este método funciona así:\n",
    "#1. Se obtiene la raíz cuadrada de la longitud del arreglo, ya que alguna potencia mayor a dos de algún número mayor a la raíz obtenida queda fuera del intervalo\n",
    "#2. Se convierten en falso todos los múltiplos de j, para toda j menor a la raíz obtenida en el inciso anterior\n",
    "    #2.1 El slicing funciona así:\n",
    "        #2.1.1 Empieza en el doble de j y termina en el final del array y se dan saltos de tamaño j para eliminar los múltiplos de j"
   ]
  },
  {
   "cell_type": "code",
   "execution_count": 13,
   "metadata": {},
   "outputs": [],
   "source": [
    "#Otra manera de hacerlo es yendo de 2 al final del arreglo y empezando en el cuadrado de j y dando saltos de tamaño j y así se repiten menos procesos\n",
    "bool_ar = np.ones((100,), dtype=bool)\n",
    "N_max = int(np.sqrt(len(bool_ar)))\n",
    "for j in range(2, N_max):\n",
    "    bool_ar[j*j::j] = False\n",
    "#Este método funciona así:\n",
    "#1. Se obtiene la raíz cuadrada de la longitud del arreglo, ya que alguna potencia mayor a dos de algún número mayor a la raíz obtenida queda fuera del intervalo\n",
    "#2. Se convierten en falso el cuadrado j y los múltiplos de j, para toda j menor a la raíz obtenida en el inciso anterior\n",
    "    #2.1 El slicing funciona así:\n",
    "        #2.1.1 Empieza en el cuadrado de j y termina en el final del array y se dan saltos de tamaño j para eliminar los múltiplos de j\n"
   ]
  },
  {
   "cell_type": "markdown",
   "metadata": {},
   "source": [
    "(d) Mira la documentacion de np.nonzero para imprimir todos los números primos."
   ]
  },
  {
   "cell_type": "code",
   "execution_count": 17,
   "metadata": {},
   "outputs": [
    {
     "data": {
      "text/plain": [
       "(array([ 2,  3,  5,  7, 11, 13, 17, 19, 23, 29, 31, 37, 41, 43, 47, 53, 59,\n",
       "        61, 67, 71, 73, 79, 83, 89, 97]),)"
      ]
     },
     "execution_count": 17,
     "metadata": {},
     "output_type": "execute_result"
    }
   ],
   "source": [
    "np.nonzero(bool_arr)"
   ]
  },
  {
   "cell_type": "markdown",
   "metadata": {},
   "source": [
    "(e) Encapsula lo que acabamos de hacer en una función llamada criba_eratostenes, que reciba como argumento maximo el cual representa el tamaño del array. Muestra el resultado para maximo = {10, 100, 200}, usando un for."
   ]
  },
  {
   "cell_type": "code",
   "execution_count": 20,
   "metadata": {},
   "outputs": [],
   "source": [
    "def criba_eratostenes(n):\n",
    "    bool_arr = np.ones((n,), dtype=bool)\n",
    "    bool_arr[0]=False\n",
    "    bool_arr[1]=False\n",
    "    N_max = int(np.sqrt(len(bool_arr)))\n",
    "    for j in range(2, N_max):\n",
    "        bool_arr[2*j::j] = False\n",
    "    print(np.nonzero(bool_arr))"
   ]
  },
  {
   "cell_type": "code",
   "execution_count": 36,
   "metadata": {},
   "outputs": [
    {
     "name": "stdout",
     "output_type": "stream",
     "text": [
      "Los número primos del máximo de (10,100,200) son: \n",
      "(array([  2,   3,   5,   7,  11,  13,  17,  19,  23,  29,  31,  37,  41,\n",
      "        43,  47,  53,  59,  61,  67,  71,  73,  79,  83,  89,  97, 101,\n",
      "       103, 107, 109, 113, 127, 131, 137, 139, 149, 151, 157, 163, 167,\n",
      "       173, 179, 181, 191, 193, 197, 199]),)\n"
     ]
    }
   ],
   "source": [
    "conjunto={10,100,200}\n",
    "print('Los número primos del máximo de (10,100,200) son: ')\n",
    "criba_eratostenes(max(conjunto))\n"
   ]
  },
  {
   "cell_type": "markdown",
   "metadata": {},
   "source": [
    "## Pregunta 3\n",
    "Crea un [cubo rubik](http://en.wikipedia.org/wiki/Rubik%27s_Cube), partiendo de un arreglo de ceros y usando *slicing* dibuja cada una de las caras como si estuviera resuelto (cada color un entero a partir del $1$). Muestra con *indexing* que está resuelto (es decir, imprime las seis caras). ¿Cuántos elementos del arreglo quedaron en $0$?"
   ]
  },
  {
   "cell_type": "code",
   "execution_count": 43,
   "metadata": {},
   "outputs": [
    {
     "name": "stdout",
     "output_type": "stream",
     "text": [
      "[[[1 1 1]\n",
      "  [1 1 1]\n",
      "  [1 1 1]]\n",
      "\n",
      " [[2 2 2]\n",
      "  [2 2 2]\n",
      "  [2 2 2]]\n",
      "\n",
      " [[3 3 3]\n",
      "  [3 3 3]\n",
      "  [3 3 3]]\n",
      "\n",
      " [[4 4 4]\n",
      "  [4 4 4]\n",
      "  [4 4 4]]\n",
      "\n",
      " [[5 5 5]\n",
      "  [5 5 5]\n",
      "  [5 5 5]]\n",
      "\n",
      " [[6 6 6]\n",
      "  [6 6 6]\n",
      "  [6 6 6]]]\n"
     ]
    }
   ],
   "source": [
    "rubik=np.zeros((6,3,3)).astype(int)\n",
    "for i in range (6):\n",
    "    rubik[i]=i+1\n",
    "print(rubik)"
   ]
  },
  {
   "cell_type": "code",
   "execution_count": null,
   "metadata": {},
   "outputs": [],
   "source": []
  }
 ],
 "metadata": {
  "kernelspec": {
   "display_name": "Python 3",
   "language": "python",
   "name": "python3"
  },
  "language_info": {
   "codemirror_mode": {
    "name": "ipython",
    "version": 3
   },
   "file_extension": ".py",
   "mimetype": "text/x-python",
   "name": "python",
   "nbconvert_exporter": "python",
   "pygments_lexer": "ipython3",
   "version": "3.8.5"
  }
 },
 "nbformat": 4,
 "nbformat_minor": 4
}
