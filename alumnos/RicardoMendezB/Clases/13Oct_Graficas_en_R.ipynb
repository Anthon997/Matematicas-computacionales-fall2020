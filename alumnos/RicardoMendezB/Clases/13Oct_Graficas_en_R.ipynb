{
 "cells": [
  {
   "cell_type": "markdown",
   "metadata": {},
   "source": [
    "### Velocidad de la luz\n",
    "Tenemos 5 experimentos con 20 corridas de mediciones de la velocidad de la luz.\n",
    "\n",
    "¿Cómo exponen los resultados?\n",
    "¿Los resultados se ven equivalentes entre los experimentos?"
   ]
  },
  {
   "cell_type": "code",
   "execution_count": 45,
   "metadata": {},
   "outputs": [],
   "source": [
    "library(ggplot2)\n"
   ]
  },
  {
   "cell_type": "code",
   "execution_count": 39,
   "metadata": {},
   "outputs": [
    {
     "name": "stderr",
     "output_type": "stream",
     "text": [
      "Updating HTML index of packages in '.Library'\n",
      "\n",
      "Making 'packages.html' ...\n",
      " done\n",
      "\n"
     ]
    }
   ],
   "source": [
    "install.packages('ggthemes')"
   ]
  },
  {
   "cell_type": "code",
   "execution_count": 19,
   "metadata": {},
   "outputs": [
    {
     "data": {
      "text/html": [
       "<table>\n",
       "<caption>A data.frame: 100 × 3</caption>\n",
       "<thead>\n",
       "\t<tr><th></th><th scope=col>Speed</th><th scope=col>Run</th><th scope=col>Expt</th></tr>\n",
       "\t<tr><th></th><th scope=col>&lt;int&gt;</th><th scope=col>&lt;fct&gt;</th><th scope=col>&lt;fct&gt;</th></tr>\n",
       "</thead>\n",
       "<tbody>\n",
       "\t<tr><th scope=row>1</th><td> 850</td><td>1 </td><td>1</td></tr>\n",
       "\t<tr><th scope=row>2</th><td> 740</td><td>2 </td><td>1</td></tr>\n",
       "\t<tr><th scope=row>3</th><td> 900</td><td>3 </td><td>1</td></tr>\n",
       "\t<tr><th scope=row>4</th><td>1070</td><td>4 </td><td>1</td></tr>\n",
       "\t<tr><th scope=row>5</th><td> 930</td><td>5 </td><td>1</td></tr>\n",
       "\t<tr><th scope=row>6</th><td> 850</td><td>6 </td><td>1</td></tr>\n",
       "\t<tr><th scope=row>7</th><td> 950</td><td>7 </td><td>1</td></tr>\n",
       "\t<tr><th scope=row>8</th><td> 980</td><td>8 </td><td>1</td></tr>\n",
       "\t<tr><th scope=row>9</th><td> 980</td><td>9 </td><td>1</td></tr>\n",
       "\t<tr><th scope=row>10</th><td> 880</td><td>10</td><td>1</td></tr>\n",
       "\t<tr><th scope=row>11</th><td>1000</td><td>11</td><td>1</td></tr>\n",
       "\t<tr><th scope=row>12</th><td> 980</td><td>12</td><td>1</td></tr>\n",
       "\t<tr><th scope=row>13</th><td> 930</td><td>13</td><td>1</td></tr>\n",
       "\t<tr><th scope=row>14</th><td> 650</td><td>14</td><td>1</td></tr>\n",
       "\t<tr><th scope=row>15</th><td> 760</td><td>15</td><td>1</td></tr>\n",
       "\t<tr><th scope=row>16</th><td> 810</td><td>16</td><td>1</td></tr>\n",
       "\t<tr><th scope=row>17</th><td>1000</td><td>17</td><td>1</td></tr>\n",
       "\t<tr><th scope=row>18</th><td>1000</td><td>18</td><td>1</td></tr>\n",
       "\t<tr><th scope=row>19</th><td> 960</td><td>19</td><td>1</td></tr>\n",
       "\t<tr><th scope=row>20</th><td> 960</td><td>20</td><td>1</td></tr>\n",
       "\t<tr><th scope=row>21</th><td> 960</td><td>1 </td><td>2</td></tr>\n",
       "\t<tr><th scope=row>22</th><td> 940</td><td>2 </td><td>2</td></tr>\n",
       "\t<tr><th scope=row>23</th><td> 960</td><td>3 </td><td>2</td></tr>\n",
       "\t<tr><th scope=row>24</th><td> 940</td><td>4 </td><td>2</td></tr>\n",
       "\t<tr><th scope=row>25</th><td> 880</td><td>5 </td><td>2</td></tr>\n",
       "\t<tr><th scope=row>26</th><td> 800</td><td>6 </td><td>2</td></tr>\n",
       "\t<tr><th scope=row>27</th><td> 850</td><td>7 </td><td>2</td></tr>\n",
       "\t<tr><th scope=row>28</th><td> 880</td><td>8 </td><td>2</td></tr>\n",
       "\t<tr><th scope=row>29</th><td> 900</td><td>9 </td><td>2</td></tr>\n",
       "\t<tr><th scope=row>30</th><td> 840</td><td>10</td><td>2</td></tr>\n",
       "\t<tr><th scope=row>⋮</th><td>⋮</td><td>⋮</td><td>⋮</td></tr>\n",
       "\t<tr><th scope=row>71</th><td>910</td><td>11</td><td>4</td></tr>\n",
       "\t<tr><th scope=row>72</th><td>920</td><td>12</td><td>4</td></tr>\n",
       "\t<tr><th scope=row>73</th><td>890</td><td>13</td><td>4</td></tr>\n",
       "\t<tr><th scope=row>74</th><td>860</td><td>14</td><td>4</td></tr>\n",
       "\t<tr><th scope=row>75</th><td>880</td><td>15</td><td>4</td></tr>\n",
       "\t<tr><th scope=row>76</th><td>720</td><td>16</td><td>4</td></tr>\n",
       "\t<tr><th scope=row>77</th><td>840</td><td>17</td><td>4</td></tr>\n",
       "\t<tr><th scope=row>78</th><td>850</td><td>18</td><td>4</td></tr>\n",
       "\t<tr><th scope=row>79</th><td>850</td><td>19</td><td>4</td></tr>\n",
       "\t<tr><th scope=row>80</th><td>780</td><td>20</td><td>4</td></tr>\n",
       "\t<tr><th scope=row>81</th><td>890</td><td>1 </td><td>5</td></tr>\n",
       "\t<tr><th scope=row>82</th><td>840</td><td>2 </td><td>5</td></tr>\n",
       "\t<tr><th scope=row>83</th><td>780</td><td>3 </td><td>5</td></tr>\n",
       "\t<tr><th scope=row>84</th><td>810</td><td>4 </td><td>5</td></tr>\n",
       "\t<tr><th scope=row>85</th><td>760</td><td>5 </td><td>5</td></tr>\n",
       "\t<tr><th scope=row>86</th><td>810</td><td>6 </td><td>5</td></tr>\n",
       "\t<tr><th scope=row>87</th><td>790</td><td>7 </td><td>5</td></tr>\n",
       "\t<tr><th scope=row>88</th><td>810</td><td>8 </td><td>5</td></tr>\n",
       "\t<tr><th scope=row>89</th><td>820</td><td>9 </td><td>5</td></tr>\n",
       "\t<tr><th scope=row>90</th><td>850</td><td>10</td><td>5</td></tr>\n",
       "\t<tr><th scope=row>91</th><td>870</td><td>11</td><td>5</td></tr>\n",
       "\t<tr><th scope=row>92</th><td>870</td><td>12</td><td>5</td></tr>\n",
       "\t<tr><th scope=row>93</th><td>810</td><td>13</td><td>5</td></tr>\n",
       "\t<tr><th scope=row>94</th><td>740</td><td>14</td><td>5</td></tr>\n",
       "\t<tr><th scope=row>95</th><td>810</td><td>15</td><td>5</td></tr>\n",
       "\t<tr><th scope=row>96</th><td>940</td><td>16</td><td>5</td></tr>\n",
       "\t<tr><th scope=row>97</th><td>950</td><td>17</td><td>5</td></tr>\n",
       "\t<tr><th scope=row>98</th><td>800</td><td>18</td><td>5</td></tr>\n",
       "\t<tr><th scope=row>99</th><td>810</td><td>19</td><td>5</td></tr>\n",
       "\t<tr><th scope=row>100</th><td>870</td><td>20</td><td>5</td></tr>\n",
       "</tbody>\n",
       "</table>\n"
      ],
      "text/latex": [
       "A data.frame: 100 × 3\n",
       "\\begin{tabular}{r|lll}\n",
       "  & Speed & Run & Expt\\\\\n",
       "  & <int> & <fct> & <fct>\\\\\n",
       "\\hline\n",
       "\t1 &  850 & 1  & 1\\\\\n",
       "\t2 &  740 & 2  & 1\\\\\n",
       "\t3 &  900 & 3  & 1\\\\\n",
       "\t4 & 1070 & 4  & 1\\\\\n",
       "\t5 &  930 & 5  & 1\\\\\n",
       "\t6 &  850 & 6  & 1\\\\\n",
       "\t7 &  950 & 7  & 1\\\\\n",
       "\t8 &  980 & 8  & 1\\\\\n",
       "\t9 &  980 & 9  & 1\\\\\n",
       "\t10 &  880 & 10 & 1\\\\\n",
       "\t11 & 1000 & 11 & 1\\\\\n",
       "\t12 &  980 & 12 & 1\\\\\n",
       "\t13 &  930 & 13 & 1\\\\\n",
       "\t14 &  650 & 14 & 1\\\\\n",
       "\t15 &  760 & 15 & 1\\\\\n",
       "\t16 &  810 & 16 & 1\\\\\n",
       "\t17 & 1000 & 17 & 1\\\\\n",
       "\t18 & 1000 & 18 & 1\\\\\n",
       "\t19 &  960 & 19 & 1\\\\\n",
       "\t20 &  960 & 20 & 1\\\\\n",
       "\t21 &  960 & 1  & 2\\\\\n",
       "\t22 &  940 & 2  & 2\\\\\n",
       "\t23 &  960 & 3  & 2\\\\\n",
       "\t24 &  940 & 4  & 2\\\\\n",
       "\t25 &  880 & 5  & 2\\\\\n",
       "\t26 &  800 & 6  & 2\\\\\n",
       "\t27 &  850 & 7  & 2\\\\\n",
       "\t28 &  880 & 8  & 2\\\\\n",
       "\t29 &  900 & 9  & 2\\\\\n",
       "\t30 &  840 & 10 & 2\\\\\n",
       "\t⋮ & ⋮ & ⋮ & ⋮\\\\\n",
       "\t71 & 910 & 11 & 4\\\\\n",
       "\t72 & 920 & 12 & 4\\\\\n",
       "\t73 & 890 & 13 & 4\\\\\n",
       "\t74 & 860 & 14 & 4\\\\\n",
       "\t75 & 880 & 15 & 4\\\\\n",
       "\t76 & 720 & 16 & 4\\\\\n",
       "\t77 & 840 & 17 & 4\\\\\n",
       "\t78 & 850 & 18 & 4\\\\\n",
       "\t79 & 850 & 19 & 4\\\\\n",
       "\t80 & 780 & 20 & 4\\\\\n",
       "\t81 & 890 & 1  & 5\\\\\n",
       "\t82 & 840 & 2  & 5\\\\\n",
       "\t83 & 780 & 3  & 5\\\\\n",
       "\t84 & 810 & 4  & 5\\\\\n",
       "\t85 & 760 & 5  & 5\\\\\n",
       "\t86 & 810 & 6  & 5\\\\\n",
       "\t87 & 790 & 7  & 5\\\\\n",
       "\t88 & 810 & 8  & 5\\\\\n",
       "\t89 & 820 & 9  & 5\\\\\n",
       "\t90 & 850 & 10 & 5\\\\\n",
       "\t91 & 870 & 11 & 5\\\\\n",
       "\t92 & 870 & 12 & 5\\\\\n",
       "\t93 & 810 & 13 & 5\\\\\n",
       "\t94 & 740 & 14 & 5\\\\\n",
       "\t95 & 810 & 15 & 5\\\\\n",
       "\t96 & 940 & 16 & 5\\\\\n",
       "\t97 & 950 & 17 & 5\\\\\n",
       "\t98 & 800 & 18 & 5\\\\\n",
       "\t99 & 810 & 19 & 5\\\\\n",
       "\t100 & 870 & 20 & 5\\\\\n",
       "\\end{tabular}\n"
      ],
      "text/markdown": [
       "\n",
       "A data.frame: 100 × 3\n",
       "\n",
       "| <!--/--> | Speed &lt;int&gt; | Run &lt;fct&gt; | Expt &lt;fct&gt; |\n",
       "|---|---|---|---|\n",
       "| 1 |  850 | 1  | 1 |\n",
       "| 2 |  740 | 2  | 1 |\n",
       "| 3 |  900 | 3  | 1 |\n",
       "| 4 | 1070 | 4  | 1 |\n",
       "| 5 |  930 | 5  | 1 |\n",
       "| 6 |  850 | 6  | 1 |\n",
       "| 7 |  950 | 7  | 1 |\n",
       "| 8 |  980 | 8  | 1 |\n",
       "| 9 |  980 | 9  | 1 |\n",
       "| 10 |  880 | 10 | 1 |\n",
       "| 11 | 1000 | 11 | 1 |\n",
       "| 12 |  980 | 12 | 1 |\n",
       "| 13 |  930 | 13 | 1 |\n",
       "| 14 |  650 | 14 | 1 |\n",
       "| 15 |  760 | 15 | 1 |\n",
       "| 16 |  810 | 16 | 1 |\n",
       "| 17 | 1000 | 17 | 1 |\n",
       "| 18 | 1000 | 18 | 1 |\n",
       "| 19 |  960 | 19 | 1 |\n",
       "| 20 |  960 | 20 | 1 |\n",
       "| 21 |  960 | 1  | 2 |\n",
       "| 22 |  940 | 2  | 2 |\n",
       "| 23 |  960 | 3  | 2 |\n",
       "| 24 |  940 | 4  | 2 |\n",
       "| 25 |  880 | 5  | 2 |\n",
       "| 26 |  800 | 6  | 2 |\n",
       "| 27 |  850 | 7  | 2 |\n",
       "| 28 |  880 | 8  | 2 |\n",
       "| 29 |  900 | 9  | 2 |\n",
       "| 30 |  840 | 10 | 2 |\n",
       "| ⋮ | ⋮ | ⋮ | ⋮ |\n",
       "| 71 | 910 | 11 | 4 |\n",
       "| 72 | 920 | 12 | 4 |\n",
       "| 73 | 890 | 13 | 4 |\n",
       "| 74 | 860 | 14 | 4 |\n",
       "| 75 | 880 | 15 | 4 |\n",
       "| 76 | 720 | 16 | 4 |\n",
       "| 77 | 840 | 17 | 4 |\n",
       "| 78 | 850 | 18 | 4 |\n",
       "| 79 | 850 | 19 | 4 |\n",
       "| 80 | 780 | 20 | 4 |\n",
       "| 81 | 890 | 1  | 5 |\n",
       "| 82 | 840 | 2  | 5 |\n",
       "| 83 | 780 | 3  | 5 |\n",
       "| 84 | 810 | 4  | 5 |\n",
       "| 85 | 760 | 5  | 5 |\n",
       "| 86 | 810 | 6  | 5 |\n",
       "| 87 | 790 | 7  | 5 |\n",
       "| 88 | 810 | 8  | 5 |\n",
       "| 89 | 820 | 9  | 5 |\n",
       "| 90 | 850 | 10 | 5 |\n",
       "| 91 | 870 | 11 | 5 |\n",
       "| 92 | 870 | 12 | 5 |\n",
       "| 93 | 810 | 13 | 5 |\n",
       "| 94 | 740 | 14 | 5 |\n",
       "| 95 | 810 | 15 | 5 |\n",
       "| 96 | 940 | 16 | 5 |\n",
       "| 97 | 950 | 17 | 5 |\n",
       "| 98 | 800 | 18 | 5 |\n",
       "| 99 | 810 | 19 | 5 |\n",
       "| 100 | 870 | 20 | 5 |\n",
       "\n"
      ],
      "text/plain": [
       "    Speed Run Expt\n",
       "1    850  1   1   \n",
       "2    740  2   1   \n",
       "3    900  3   1   \n",
       "4   1070  4   1   \n",
       "5    930  5   1   \n",
       "6    850  6   1   \n",
       "7    950  7   1   \n",
       "8    980  8   1   \n",
       "9    980  9   1   \n",
       "10   880  10  1   \n",
       "11  1000  11  1   \n",
       "12   980  12  1   \n",
       "13   930  13  1   \n",
       "14   650  14  1   \n",
       "15   760  15  1   \n",
       "16   810  16  1   \n",
       "17  1000  17  1   \n",
       "18  1000  18  1   \n",
       "19   960  19  1   \n",
       "20   960  20  1   \n",
       "21   960  1   2   \n",
       "22   940  2   2   \n",
       "23   960  3   2   \n",
       "24   940  4   2   \n",
       "25   880  5   2   \n",
       "26   800  6   2   \n",
       "27   850  7   2   \n",
       "28   880  8   2   \n",
       "29   900  9   2   \n",
       "30   840  10  2   \n",
       "⋮   ⋮     ⋮   ⋮   \n",
       "71  910   11  4   \n",
       "72  920   12  4   \n",
       "73  890   13  4   \n",
       "74  860   14  4   \n",
       "75  880   15  4   \n",
       "76  720   16  4   \n",
       "77  840   17  4   \n",
       "78  850   18  4   \n",
       "79  850   19  4   \n",
       "80  780   20  4   \n",
       "81  890   1   5   \n",
       "82  840   2   5   \n",
       "83  780   3   5   \n",
       "84  810   4   5   \n",
       "85  760   5   5   \n",
       "86  810   6   5   \n",
       "87  790   7   5   \n",
       "88  810   8   5   \n",
       "89  820   9   5   \n",
       "90  850   10  5   \n",
       "91  870   11  5   \n",
       "92  870   12  5   \n",
       "93  810   13  5   \n",
       "94  740   14  5   \n",
       "95  810   15  5   \n",
       "96  940   16  5   \n",
       "97  950   17  5   \n",
       "98  800   18  5   \n",
       "99  810   19  5   \n",
       "100 870   20  5   "
      ]
     },
     "metadata": {},
     "output_type": "display_data"
    }
   ],
   "source": [
    "library(MASS)\n",
    "vl <- data.frame(michelson)\n",
    "vl"
   ]
  },
  {
   "cell_type": "code",
   "execution_count": 30,
   "metadata": {},
   "outputs": [
    {
     "data": {
      "image/png": "[encoded data removed]",
      "text/plain": [
       "plot without title"
      ]
     },
     "metadata": {
      "image/png": {
       "height": 420,
       "width": 420
      }
     },
     "output_type": "display_data"
    }
   ],
   "source": [
    "ggplot(vl, aes(Speed, fill=Expt)) +\n",
    "       geom_histogram(binwidth=100) + ylab(\"Run\") +\n",
    "       xlab(\"Speed\") + facet_grid(~Expt) +\n",
    "       theme(legend.position=\"none\")"
   ]
  },
  {
   "cell_type": "markdown",
   "metadata": {},
   "source": [
    "### Pima Indians\n",
    "¿Qué dice este gráfico de barras?"
   ]
  },
  {
   "cell_type": "code",
   "execution_count": 5,
   "metadata": {},
   "outputs": [
    {
     "data": {
      "image/png": "[encoded data removed]",
      "text/plain": [
       "plot without title"
      ]
     },
     "metadata": {
      "image/png": {
       "height": 420,
       "width": 420
      }
     },
     "output_type": "display_data"
    }
   ],
   "source": [
    "ggplot(Pima.tr2, aes(type))+geom_bar()"
   ]
  },
  {
   "cell_type": "code",
   "execution_count": 34,
   "metadata": {},
   "outputs": [],
   "source": [
    "help(Pima.tr2)"
   ]
  },
  {
   "cell_type": "markdown",
   "metadata": {},
   "source": [
    "¿Por qué la parte superior izquierda está vacía?"
   ]
  },
  {
   "cell_type": "code",
   "execution_count": 31,
   "metadata": {},
   "outputs": [
    {
     "data": {
      "image/png": "[encoded data removed]",
      "text/plain": [
       "plot without title"
      ]
     },
     "metadata": {
      "image/png": {
       "height": 420,
       "width": 420
      }
     },
     "output_type": "display_data"
    }
   ],
   "source": [
    "ggplot(Pima.tr2, aes(age,npreg))+geom_point()"
   ]
  },
  {
   "cell_type": "markdown",
   "metadata": {},
   "source": [
    "### Titanic"
   ]
  },
  {
   "cell_type": "code",
   "execution_count": 35,
   "metadata": {},
   "outputs": [
    {
     "data": {
      "text/html": [
       "<table>\n",
       "<caption>A data.frame: 6 × 5</caption>\n",
       "<thead>\n",
       "\t<tr><th></th><th scope=col>Class</th><th scope=col>Sex</th><th scope=col>Age</th><th scope=col>Survived</th><th scope=col>Freq</th></tr>\n",
       "\t<tr><th></th><th scope=col>&lt;fct&gt;</th><th scope=col>&lt;fct&gt;</th><th scope=col>&lt;fct&gt;</th><th scope=col>&lt;fct&gt;</th><th scope=col>&lt;dbl&gt;</th></tr>\n",
       "</thead>\n",
       "<tbody>\n",
       "\t<tr><th scope=row>1</th><td>1st </td><td>Male  </td><td>Child</td><td>No</td><td> 0</td></tr>\n",
       "\t<tr><th scope=row>2</th><td>2nd </td><td>Male  </td><td>Child</td><td>No</td><td> 0</td></tr>\n",
       "\t<tr><th scope=row>3</th><td>3rd </td><td>Male  </td><td>Child</td><td>No</td><td>35</td></tr>\n",
       "\t<tr><th scope=row>4</th><td>Crew</td><td>Male  </td><td>Child</td><td>No</td><td> 0</td></tr>\n",
       "\t<tr><th scope=row>5</th><td>1st </td><td>Female</td><td>Child</td><td>No</td><td> 0</td></tr>\n",
       "\t<tr><th scope=row>6</th><td>2nd </td><td>Female</td><td>Child</td><td>No</td><td> 0</td></tr>\n",
       "</tbody>\n",
       "</table>\n"
      ],
      "text/latex": [
       "A data.frame: 6 × 5\n",
       "\\begin{tabular}{r|lllll}\n",
       "  & Class & Sex & Age & Survived & Freq\\\\\n",
       "  & <fct> & <fct> & <fct> & <fct> & <dbl>\\\\\n",
       "\\hline\n",
       "\t1 & 1st  & Male   & Child & No &  0\\\\\n",
       "\t2 & 2nd  & Male   & Child & No &  0\\\\\n",
       "\t3 & 3rd  & Male   & Child & No & 35\\\\\n",
       "\t4 & Crew & Male   & Child & No &  0\\\\\n",
       "\t5 & 1st  & Female & Child & No &  0\\\\\n",
       "\t6 & 2nd  & Female & Child & No &  0\\\\\n",
       "\\end{tabular}\n"
      ],
      "text/markdown": [
       "\n",
       "A data.frame: 6 × 5\n",
       "\n",
       "| <!--/--> | Class &lt;fct&gt; | Sex &lt;fct&gt; | Age &lt;fct&gt; | Survived &lt;fct&gt; | Freq &lt;dbl&gt; |\n",
       "|---|---|---|---|---|---|\n",
       "| 1 | 1st  | Male   | Child | No |  0 |\n",
       "| 2 | 2nd  | Male   | Child | No |  0 |\n",
       "| 3 | 3rd  | Male   | Child | No | 35 |\n",
       "| 4 | Crew | Male   | Child | No |  0 |\n",
       "| 5 | 1st  | Female | Child | No |  0 |\n",
       "| 6 | 2nd  | Female | Child | No |  0 |\n",
       "\n"
      ],
      "text/plain": [
       "  Class Sex    Age   Survived Freq\n",
       "1 1st   Male   Child No        0  \n",
       "2 2nd   Male   Child No        0  \n",
       "3 3rd   Male   Child No       35  \n",
       "4 Crew  Male   Child No        0  \n",
       "5 1st   Female Child No        0  \n",
       "6 2nd   Female Child No        0  "
      ]
     },
     "metadata": {},
     "output_type": "display_data"
    }
   ],
   "source": [
    "head(data.frame(Titanic))"
   ]
  },
  {
   "cell_type": "markdown",
   "metadata": {},
   "source": [
    "¿Qué se les ocurre para graficar todo?\n",
    "\n",
    "¿Cuántos pasajeros en total viajaban por clase?\n",
    "\n",
    "Exploren una por una las otras variables categóricas del dataset"
   ]
  },
  {
   "cell_type": "code",
   "execution_count": 46,
   "metadata": {},
   "outputs": [],
   "source": [
    "library(dplyr)"
   ]
  },
  {
   "cell_type": "code",
   "execution_count": 47,
   "metadata": {},
   "outputs": [
    {
     "name": "stderr",
     "output_type": "stream",
     "text": [
      "`summarise()` ungrouping output (override with `.groups` argument)\n",
      "\n"
     ]
    },
    {
     "data": {
      "text/html": [
       "<table>\n",
       "<caption>A tibble: 4 × 2</caption>\n",
       "<thead>\n",
       "\t<tr><th scope=col>Class</th><th scope=col>count</th></tr>\n",
       "\t<tr><th scope=col>&lt;fct&gt;</th><th scope=col>&lt;dbl&gt;</th></tr>\n",
       "</thead>\n",
       "<tbody>\n",
       "\t<tr><td>1st </td><td>325</td></tr>\n",
       "\t<tr><td>2nd </td><td>285</td></tr>\n",
       "\t<tr><td>3rd </td><td>706</td></tr>\n",
       "\t<tr><td>Crew</td><td>885</td></tr>\n",
       "</tbody>\n",
       "</table>\n"
      ],
      "text/latex": [
       "A tibble: 4 × 2\n",
       "\\begin{tabular}{ll}\n",
       " Class & count\\\\\n",
       " <fct> & <dbl>\\\\\n",
       "\\hline\n",
       "\t 1st  & 325\\\\\n",
       "\t 2nd  & 285\\\\\n",
       "\t 3rd  & 706\\\\\n",
       "\t Crew & 885\\\\\n",
       "\\end{tabular}\n"
      ],
      "text/markdown": [
       "\n",
       "A tibble: 4 × 2\n",
       "\n",
       "| Class &lt;fct&gt; | count &lt;dbl&gt; |\n",
       "|---|---|\n",
       "| 1st  | 325 |\n",
       "| 2nd  | 285 |\n",
       "| 3rd  | 706 |\n",
       "| Crew | 885 |\n",
       "\n"
      ],
      "text/plain": [
       "  Class count\n",
       "1 1st   325  \n",
       "2 2nd   285  \n",
       "3 3rd   706  \n",
       "4 Crew  885  "
      ]
     },
     "metadata": {},
     "output_type": "display_data"
    }
   ],
   "source": [
    "data.frame(Titanic) %>%\n",
    "group_by(Class) %>%\n",
    "summarise(count=sum(Freq))"
   ]
  },
  {
   "cell_type": "code",
   "execution_count": null,
   "metadata": {},
   "outputs": [],
   "source": []
  }
 ],
 "metadata": {
  "kernelspec": {
   "display_name": "R",
   "language": "R",
   "name": "ir"
  },
  "language_info": {
   "codemirror_mode": "r",
   "file_extension": ".r",
   "mimetype": "text/x-r-source",
   "name": "R",
   "pygments_lexer": "r",
   "version": "3.6.3"
  }
 },
 "nbformat": 4,
 "nbformat_minor": 4
}
