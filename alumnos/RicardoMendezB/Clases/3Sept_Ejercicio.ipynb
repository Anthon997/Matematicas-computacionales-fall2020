{
 "cells": [
  {
   "cell_type": "markdown",
   "metadata": {},
   "source": [
    "**Ejercicio**\n",
    "\n",
    "Crea una función que devuelva las coordenadas $(x,y,z)$ a partir de las [coordenadas esféricas](http://en.wikipedia.org/wiki/Spherical_coordinate_system) $(r, \\theta, \\phi)$. Guárdala a disco, en el archivo `transformaciones.py`"
   ]
  },
  {
   "cell_type": "code",
   "execution_count": 17,
   "metadata": {},
   "outputs": [
    {
     "name": "stdout",
     "output_type": "stream",
     "text": [
      "X es igual a:  3.37500000000000\n",
      "Y es igual a:  3.375*sqrt(3)\n",
      "Z es igual a:  3/2\n"
     ]
    }
   ],
   "source": [
    "from math import*\n",
    "from sympy import *\n",
    "def transf(radio,angulo,azimutal):\n",
    "    z=radio*cos(angulo)\n",
    "    x=((radio)**2-z**2)/(1+tan(float(azimutal))**2)**.5\n",
    "    y=tan(azimutal)*x\n",
    "    print('X es igual a: ', x)\n",
    "    print('Y es igual a: ', y)\n",
    "    print('Z es igual a: ', z)\n",
    "    \n",
    "transf(3,pi/3,pi/3)"
   ]
  },
  {
   "cell_type": "markdown",
   "metadata": {},
   "source": [
    "**Ejercicio**\n",
    "\n",
    "Usando la función recién creada, usa la librería `interact` para pedir los valores $(r,\\theta,\\phi)$."
   ]
  },
  {
   "cell_type": "code",
   "execution_count": 18,
   "metadata": {},
   "outputs": [
    {
     "name": "stdout",
     "output_type": "stream",
     "text": [
      "Inserte el radio: 3\n",
      "Inserte angulo: 1.047\n",
      "Inserte azimutal: 1.047\n"
     ]
    },
    {
     "data": {
      "application/vnd.jupyter.widget-view+json": {
       "model_id": "c17b778e4a8b4bf987e925e89fbed5bc",
       "version_major": 2,
       "version_minor": 0
      },
      "text/plain": [
       "interactive(children=(FloatSlider(value=3.0, description='radio', max=9.0, min=-3.0), FloatSlider(value=1.047,…"
      ]
     },
     "metadata": {},
     "output_type": "display_data"
    }
   ],
   "source": [
    "from ipywidgets import interact, fixed, widgets\n",
    "interact(transf,radio=float(input('Inserte el radio: ')),angulo=float(input('Inserte angulo: ')),azimutal=float(input('Inserte azimutal: ')) );"
   ]
  },
  {
   "cell_type": "code",
   "execution_count": null,
   "metadata": {},
   "outputs": [],
   "source": []
  }
 ],
 "metadata": {
  "kernelspec": {
   "display_name": "Python 3",
   "language": "python",
   "name": "python3"
  },
  "language_info": {
   "codemirror_mode": {
    "name": "ipython",
    "version": 3
   },
   "file_extension": ".py",
   "mimetype": "text/x-python",
   "name": "python",
   "nbconvert_exporter": "python",
   "pygments_lexer": "ipython3",
   "version": "3.8.5"
  }
 },
 "nbformat": 4,
 "nbformat_minor": 4
}
