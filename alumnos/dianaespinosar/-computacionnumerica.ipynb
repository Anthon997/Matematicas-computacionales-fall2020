{
 "cells": [
  {
   "cell_type": "markdown",
   "metadata": {},
   "source": [
    "**Ejercicio:** Resuelva simbólicamente lo siguiente: Se lanza una pelota al aire con una velocidad  𝑣0  a un ángulo  𝜃 . La gravedad es  𝑔 . - ¿Cuál es la altura máxima? - ¿Cuál es la distancia máxima? - ¿Cuál es el tiempo de vuelo? - De una respuesta numérica, cuando  𝑣0=10𝑚𝑠  y  𝜃=𝜋/2 ."
   ]
  },
  {
   "cell_type": "code",
   "execution_count": 92,
   "metadata": {},
   "outputs": [],
   "source": [
    "from sympy.interactive import printing\n",
    "printing.init_printing(use_latex=True)\n",
    "\n",
    "from sympy import Symbol\n",
    "v0 = Symbol('v0')\n",
    "theta = Symbol('𝜃')\n",
    "g = Symbol('g')\n"
   ]
  },
  {
   "cell_type": "code",
   "execution_count": 93,
   "metadata": {},
   "outputs": [
    {
     "data": {
      "image/png": "[encoded data removed]",
      "text/latex": [
       "$\\displaystyle \\frac{v_{0}^{2} \\sin^{2}{\\left(𝜃 \\right)}}{2 g}$"
      ],
      "text/plain": [
       "  2    2   \n",
       "v₀ ⋅sin (𝜃)\n",
       "───────────\n",
       "    2⋅g    "
      ]
     },
     "execution_count": 93,
     "metadata": {},
     "output_type": "execute_result"
    }
   ],
   "source": [
    "h = v0**2 * sin(theta)**2 / (2*g)\n",
    "h"
   ]
  },
  {
   "cell_type": "code",
   "execution_count": 94,
   "metadata": {},
   "outputs": [
    {
     "data": {
      "image/png": "[encoded data removed]",
      "text/latex": [
       "$\\displaystyle \\frac{10 \\sin^{2}{\\left(𝜃 \\right)}}{g}$"
      ],
      "text/plain": [
       "      2   \n",
       "10⋅sin (𝜃)\n",
       "──────────\n",
       "    g     "
      ]
     },
     "execution_count": 94,
     "metadata": {},
     "output_type": "execute_result"
    }
   ],
   "source": [
    "diff(h,v0).subs(v0,10)"
   ]
  },
  {
   "cell_type": "code",
   "execution_count": 95,
   "metadata": {},
   "outputs": [
    {
     "data": {
      "image/png": "[encoded data removed]",
      "text/latex": [
       "$\\displaystyle \\frac{v_{0}^{2} \\sin{\\left(2 𝜃 \\right)}}{g}$"
      ],
      "text/plain": [
       "  2         \n",
       "v₀ ⋅sin(2⋅𝜃)\n",
       "────────────\n",
       "     g      "
      ]
     },
     "execution_count": 95,
     "metadata": {},
     "output_type": "execute_result"
    }
   ],
   "source": [
    "d = v0**2 * sin(2 * theta) / (g)\n",
    "d"
   ]
  },
  {
   "cell_type": "code",
   "execution_count": 96,
   "metadata": {},
   "outputs": [
    {
     "data": {
      "image/png": "[encoded data removed]",
      "text/latex": [
       "$\\displaystyle \\frac{2 v_{0} \\sin{\\left(𝜃 \\right)}}{g}$"
      ],
      "text/plain": [
       "2⋅v₀⋅sin(𝜃)\n",
       "───────────\n",
       "     g     "
      ]
     },
     "execution_count": 96,
     "metadata": {},
     "output_type": "execute_result"
    }
   ],
   "source": [
    "t = 2 * v0 * sin(theta) / g\n",
    "t"
   ]
  },
  {
   "cell_type": "code",
   "execution_count": 97,
   "metadata": {},
   "outputs": [
    {
     "data": {
      "image/png": "[encoded data removed]",
      "text/latex": [
       "$\\displaystyle 5.09683995922528$"
      ],
      "text/plain": [
       "5.09683995922528"
      ]
     },
     "execution_count": 97,
     "metadata": {},
     "output_type": "execute_result"
    }
   ],
   "source": [
    "h.subs(v0,10).subs(theta,pi/2).subs(g , 9.81)"
   ]
  },
  {
   "cell_type": "code",
   "execution_count": 98,
   "metadata": {},
   "outputs": [
    {
     "data": {
      "image/png": "[encoded data removed]",
      "text/latex": [
       "$\\displaystyle 0$"
      ],
      "text/plain": [
       "0"
      ]
     },
     "execution_count": 98,
     "metadata": {},
     "output_type": "execute_result"
    }
   ],
   "source": [
    "d.subs(v0,10).subs(theta,pi/2).subs(g , 9.81)"
   ]
  },
  {
   "cell_type": "code",
   "execution_count": 99,
   "metadata": {},
   "outputs": [
    {
     "data": {
      "image/png": "[encoded data removed]",
      "text/latex": [
       "$\\displaystyle 2.03873598369011$"
      ],
      "text/plain": [
       "2.03873598369011"
      ]
     },
     "execution_count": 99,
     "metadata": {},
     "output_type": "execute_result"
    }
   ],
   "source": [
    "t.subs(v0,10).subs(theta,pi/2).subs(g , 9.81)"
   ]
  },
  {
   "cell_type": "code",
   "execution_count": null,
   "metadata": {},
   "outputs": [],
   "source": []
  },
  {
   "cell_type": "code",
   "execution_count": null,
   "metadata": {},
   "outputs": [],
   "source": []
  }
 ],
 "metadata": {
  "kernelspec": {
   "display_name": "Python 3",
   "language": "python",
   "name": "python3"
  },
  "language_info": {
   "codemirror_mode": {
    "name": "ipython",
    "version": 3
   },
   "file_extension": ".py",
   "mimetype": "text/x-python",
   "name": "python",
   "nbconvert_exporter": "python",
   "pygments_lexer": "ipython3",
   "version": "3.8.5"
  }
 },
 "nbformat": 4,
 "nbformat_minor": 4
}
