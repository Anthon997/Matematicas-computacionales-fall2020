{
 "cells": [
  {
   "cell_type": "code",
   "execution_count": 2,
   "metadata": {},
   "outputs": [
    {
     "name": "stdout",
     "output_type": "stream",
     "text": [
      "Populating the interactive namespace from numpy and matplotlib\n"
     ]
    }
   ],
   "source": [
    "%pylab inline\n",
    "import numpy as np\n",
    "import matplotlib.pyplot as plt\n",
    "\n",
    "from ipywidgets import interact, fixed, widgets"
   ]
  },
  {
   "cell_type": "code",
   "execution_count": 18,
   "metadata": {},
   "outputs": [],
   "source": [
    "x = 0\n",
    "y = 0\n",
    "\n",
    "class Regresion:\n",
    "    def __init__(self,X,Y):\n",
    "        self.x = X\n",
    "        self.y = Y\n",
    "        self.n = len(X)\n",
    "        print(self.x)\n",
    "    def lineal(self):\n",
    "        Pxy = 0\n",
    "        Sx =0\n",
    "        Sy = 0 \n",
    "        Sx_2 =0\n",
    "        beta_0 = 0\n",
    "        beta_1 = 0\n",
    "        for i in range(self.n):\n",
    "            Sx += self.x[i]\n",
    "            Sy += self.y[i]\n",
    "            Sx_2 += self.x[i] * self.x[i]\n",
    "            Pxy += self.x[i] * self.y[i]\n",
    "            i +=1\n",
    "        beta_1 =(self.n*Pxy-Sx*Sy)/(self.n*Sx_2-Sx*Sx)\n",
    "        beta_0 =(Sy-beta_1*Sx)/self.n\n",
    "        return beta_0,beta_1\n",
    "        "
   ]
  },
  {
   "cell_type": "code",
   "execution_count": 19,
   "metadata": {},
   "outputs": [],
   "source": [
    "lec = np.loadtxt('chirps.txt')\n",
    "X = np.zeros(len(lec))\n",
    "Y = np.zeros(len(lec))\n",
    "i = 0\n",
    "for l in lec:\n",
    "    X[i] = lec[i,0]\n",
    "    Y[i] = lec[i,1]\n",
    "    i = i + 1"
   ]
  },
  {
   "cell_type": "code",
   "execution_count": 20,
   "metadata": {},
   "outputs": [
    {
     "name": "stdout",
     "output_type": "stream",
     "text": [
      "[20.  16.  19.8 18.4 17.1 15.5 14.7 15.7 15.4 16.3 15.  17.2 16.  17.\n",
      " 14.4]\n"
     ]
    },
    {
     "data": {
      "text/plain": [
       "[<matplotlib.lines.Line2D at 0x7f8da8bc3760>]"
      ]
     },
     "execution_count": 20,
     "metadata": {},
     "output_type": "execute_result"
    },
    {
     "data": {
      "image/png": "[encoded data removed]",
      "text/plain": [
       "<Figure size 432x288 with 1 Axes>"
      ]
     },
     "metadata": {
      "needs_background": "light"
     },
     "output_type": "display_data"
    }
   ],
   "source": [
    "plt.scatter(X,Y, label=\"data\")\n",
    "plt.xlabel('Chirps/Second')\n",
    "plt.ylabel('Temperature (º F)')\n",
    "r = Regresion(X,Y)\n",
    "a,b = r.lineal()\n",
    "plt.plot([14, 20], [a+14*b,a+20*b ], color='blue', linewidth=2.5, linestyle=\"-\")"
   ]
  },
  {
   "cell_type": "code",
   "execution_count": null,
   "metadata": {},
   "outputs": [],
   "source": []
  }
 ],
 "metadata": {
  "kernelspec": {
   "display_name": "Python 3",
   "language": "python",
   "name": "python3"
  },
  "language_info": {
   "codemirror_mode": {
    "name": "ipython",
    "version": 3
   },
   "file_extension": ".py",
   "mimetype": "text/x-python",
   "name": "python",
   "nbconvert_exporter": "python",
   "pygments_lexer": "ipython3",
   "version": "3.8.5"
  }
 },
 "nbformat": 4,
 "nbformat_minor": 4
}
