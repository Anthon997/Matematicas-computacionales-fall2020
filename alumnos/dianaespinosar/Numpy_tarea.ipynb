{
 "cells": [
  {
   "cell_type": "markdown",
   "metadata": {},
   "source": [
    "# Ejercicios de NumPy"
   ]
  },
  {
   "cell_type": "code",
   "execution_count": 1,
   "metadata": {},
   "outputs": [
    {
     "name": "stdout",
     "output_type": "stream",
     "text": [
      "Populating the interactive namespace from numpy and matplotlib\n"
     ]
    }
   ],
   "source": [
    "%pylab inline\n",
    "import numpy as np"
   ]
  },
  {
   "cell_type": "markdown",
   "metadata": {},
   "source": [
    "## Pregunta 1"
   ]
  },
  {
   "cell_type": "markdown",
   "metadata": {},
   "source": [
    "Crea los siguientes arreglos con los tipos correctos. "
   ]
  },
  {
   "cell_type": "markdown",
   "metadata": {},
   "source": [
    "Un arreglo de  5×5  cuya diagonal sean  [2.0,3.0,4.0,5.0] \n",
    "Un arreglo de  4×4  cuyo último renglón sea  [1,2,3,4]  y el resto sean  0 ."
   ]
  },
  {
   "cell_type": "code",
   "execution_count": 28,
   "metadata": {},
   "outputs": [
    {
     "data": {
      "text/plain": [
       "array([[1., 0., 0., 0., 0.],\n",
       "       [0., 2., 0., 0., 0.],\n",
       "       [0., 0., 3., 0., 0.],\n",
       "       [0., 0., 0., 4., 0.],\n",
       "       [0., 0., 0., 0., 5.]])"
      ]
     },
     "execution_count": 28,
     "metadata": {},
     "output_type": "execute_result"
    }
   ],
   "source": [
    "arr1 = np.zeros((5,5))\n",
    "for i in range (1,6):\n",
    "    arr1[i-1,i-1] = i\n",
    "    \n",
    "arr1"
   ]
  },
  {
   "cell_type": "code",
   "execution_count": 31,
   "metadata": {},
   "outputs": [
    {
     "data": {
      "text/plain": [
       "array([[0, 0, 0, 0],\n",
       "       [0, 0, 0, 0],\n",
       "       [0, 0, 0, 0],\n",
       "       [1, 2, 3, 4]])"
      ]
     },
     "execution_count": 31,
     "metadata": {},
     "output_type": "execute_result"
    }
   ],
   "source": [
    "arr2 = np.arange(16).reshape(4,4)\n",
    "arr2[0] = np.array([0,0,0,0])\n",
    "arr2[1] = np.array([0,0,0,0])\n",
    "arr2[2] = np.array([0,0,0,0])\n",
    "arr2[3] = (np.arange(4) + 1)\n",
    "arr2"
   ]
  },
  {
   "cell_type": "markdown",
   "metadata": {},
   "source": [
    "## Pregunta 2"
   ]
  },
  {
   "cell_type": "markdown",
   "metadata": {},
   "source": [
    "En este ejercicio realizaremos una [**criba de Eratóstenes**](http://en.wikipedia.org/wiki/Sieve_of_Eratosthenes)"
   ]
  },
  {
   "cell_type": "markdown",
   "metadata": {},
   "source": [
    "(a) Crea un arreglo de booleanos de shape (100,), con todos sus elementos True. El índice representa el número."
   ]
  },
  {
   "cell_type": "code",
   "execution_count": 86,
   "metadata": {},
   "outputs": [],
   "source": [
    "bool_arr = np.ones((100,), dtype=bool)"
   ]
  },
  {
   "cell_type": "markdown",
   "metadata": {},
   "source": [
    "(b) \"Tacha\" los elementos 0 y 1."
   ]
  },
  {
   "cell_type": "code",
   "execution_count": 51,
   "metadata": {},
   "outputs": [],
   "source": [
    "bool_arr[0] = False "
   ]
  },
  {
   "cell_type": "code",
   "execution_count": 52,
   "metadata": {},
   "outputs": [],
   "source": [
    "bool_arr[1] = False "
   ]
  },
  {
   "cell_type": "code",
   "execution_count": 87,
   "metadata": {},
   "outputs": [
    {
     "data": {
      "text/plain": [
       "array([ True,  True,  True,  True,  True,  True,  True,  True,  True,\n",
       "        True,  True,  True,  True,  True,  True])"
      ]
     },
     "execution_count": 87,
     "metadata": {},
     "output_type": "execute_result"
    }
   ],
   "source": []
  },
  {
   "cell_type": "markdown",
   "metadata": {},
   "source": [
    "(c) Para cada entero subsiguiente, tacha sus múltiplos. Una manera de hacerlo es el código que se muestra. Explica que hace el código, sobretodo explica que hace el slicing."
   ]
  },
  {
   "cell_type": "code",
   "execution_count": 85,
   "metadata": {},
   "outputs": [],
   "source": [
    "N_max = int(np.sqrt(len(bool_arr)))\n",
    "for j in range(2, N_max):\n",
    "    bool_arr[2*j::j] = False\n",
    "    "
   ]
  },
  {
   "cell_type": "markdown",
   "metadata": {},
   "source": [
    "N_max es igual al piso de la raíz del máximo número. \n",
    "el for lo que hace es mover la j de 2 a N_max esto porque si un número divide a otro que es menor al máximo número, a la fuerza uno de sus divisores es menor a la raíz del máximo número (N_max, si pq = n*n entonces si p < q sabemos que p < n).\n",
    "Lo que hace bool_arr[2*j::j] es que agarra un subarreglo (que comparte memoria con bool_arr) que empieza con la posición 2*j (que corresponde al número 2*j ya que inicia en 0) y va tomando luejo las posiciones siguientes con diferencia j  hasta acabar el arreglo. Esto es acaba agarrando todas las posiciones que son múltiplo de j menores al máximo número y sin contar a j y cada uno se vuelve False. Esto para hacer referencia a que como es múltiplo de j no es primo. "
   ]
  },
  {
   "cell_type": "code",
   "execution_count": 54,
   "metadata": {},
   "outputs": [
    {
     "data": {
      "text/plain": [
       "array([False, False,  True,  True, False,  True, False,  True, False,\n",
       "       False, False,  True, False,  True, False, False, False,  True,\n",
       "       False,  True, False, False, False,  True, False, False, False,\n",
       "       False, False,  True, False,  True, False, False, False, False,\n",
       "       False,  True, False, False, False,  True, False,  True, False,\n",
       "       False, False,  True, False, False, False, False, False,  True,\n",
       "       False, False, False, False, False,  True, False,  True, False,\n",
       "       False, False, False, False,  True, False, False, False,  True,\n",
       "       False,  True, False, False, False, False, False,  True, False,\n",
       "       False, False,  True, False, False, False, False, False,  True,\n",
       "       False, False, False, False, False, False, False,  True, False,\n",
       "       False])"
      ]
     },
     "execution_count": 54,
     "metadata": {},
     "output_type": "execute_result"
    }
   ],
   "source": [
    "bool_arr"
   ]
  },
  {
   "cell_type": "markdown",
   "metadata": {},
   "source": [
    " Mira la documentacion de np.nonzero para imprimir todos los números primos."
   ]
  },
  {
   "cell_type": "code",
   "execution_count": 55,
   "metadata": {},
   "outputs": [],
   "source": [
    "np.nonzero?"
   ]
  },
  {
   "cell_type": "code",
   "execution_count": 56,
   "metadata": {},
   "outputs": [
    {
     "data": {
      "text/plain": [
       "(array([ 2,  3,  5,  7, 11, 13, 17, 19, 23, 29, 31, 37, 41, 43, 47, 53, 59,\n",
       "        61, 67, 71, 73, 79, 83, 89, 97]),)"
      ]
     },
     "execution_count": 56,
     "metadata": {},
     "output_type": "execute_result"
    }
   ],
   "source": [
    "np.nonzero(bool_arr)"
   ]
  },
  {
   "cell_type": "markdown",
   "metadata": {},
   "source": [
    "Encapsula lo que acabamos de hacer en una función llamada criba_eratostenes, que reciba como argumento maximo el cual representa el tamaño del array. Muestra el resultado para maximo = {10, 100, 200}, usando un for."
   ]
  },
  {
   "cell_type": "code",
   "execution_count": 68,
   "metadata": {},
   "outputs": [],
   "source": [
    "def criba_eratostenes(x):\n",
    "    bool_arr = np.ones((x,), dtype=bool)\n",
    "    bool_arr[0] = False \n",
    "    bool_arr[1] = False \n",
    "    N_max = int(np.sqrt(len(bool_arr)))\n",
    "    for j in range(2, N_max + 1):\n",
    "        bool_arr[2*j::j] = False\n",
    "    \n",
    "    return np.nonzero(bool_arr)"
   ]
  },
  {
   "cell_type": "code",
   "execution_count": 82,
   "metadata": {},
   "outputs": [
    {
     "data": {
      "text/plain": [
       "(array([  2,   3,   5,   7,  11,  13,  17,  19,  23,  29,  31,  37,  41,\n",
       "         43,  47,  53,  59,  61,  67,  71,  73,  79,  83,  89,  97, 101,\n",
       "        103, 107, 109, 113, 127, 131, 137, 139, 149, 151, 157, 163, 167,\n",
       "        173, 179, 181, 191, 193, 197, 199]),)"
      ]
     },
     "execution_count": 82,
     "metadata": {},
     "output_type": "execute_result"
    }
   ],
   "source": [
    "ej = {10, 100, 200}\n",
    "ej\n",
    "max = 0\n",
    "maxA = np.ones((1,), dtype=bool)\n",
    "for e in ej:\n",
    "    if len(criba_eratostenes(e)) > max:\n",
    "        max = len(criba_eratostenes(e))\n",
    "        maxA = criba_eratostenes(e)\n",
    "        \n",
    "maxA ##Regresa el arreglo que contiene la mayor cantidad de primos entre el arreglo de primos de 10, 100 y 200. "
   ]
  },
  {
   "cell_type": "markdown",
   "metadata": {},
   "source": [
    "## Pregunta 3"
   ]
  },
  {
   "cell_type": "markdown",
   "metadata": {},
   "source": [
    "Crea un cubo rubik, partiendo de un arreglo de ceros y usando slicing dibuja cada una de las caras como si estuviera resuelto (cada color un entero a partir del  1 ). Muestra con indexing que está resuelto (es decir, imprime las seis caras). ¿Cuántos elementos del arreglo quedaron en  0 ?"
   ]
  },
  {
   "cell_type": "code",
   "execution_count": 101,
   "metadata": {},
   "outputs": [],
   "source": [
    "cubo = np.zeros((6,3,3))"
   ]
  },
  {
   "cell_type": "raw",
   "metadata": {},
   "source": [
    "cubo"
   ]
  },
  {
   "cell_type": "code",
   "execution_count": 100,
   "metadata": {},
   "outputs": [
    {
     "data": {
      "text/plain": [
       "array([[[1., 1., 1.],\n",
       "        [1., 1., 1.],\n",
       "        [1., 1., 1.]],\n",
       "\n",
       "       [[2., 2., 2.],\n",
       "        [2., 2., 2.],\n",
       "        [2., 2., 2.]],\n",
       "\n",
       "       [[3., 3., 3.],\n",
       "        [3., 3., 3.],\n",
       "        [3., 3., 3.]],\n",
       "\n",
       "       [[4., 4., 4.],\n",
       "        [4., 4., 4.],\n",
       "        [4., 4., 4.]],\n",
       "\n",
       "       [[5., 5., 5.],\n",
       "        [5., 5., 5.],\n",
       "        [5., 5., 5.]],\n",
       "\n",
       "       [[6., 6., 6.],\n",
       "        [6., 6., 6.],\n",
       "        [6., 6., 6.]]])"
      ]
     },
     "execution_count": 100,
     "metadata": {},
     "output_type": "execute_result"
    }
   ],
   "source": [
    "for i in range (6):\n",
    "    cubo[i] = i + 1\n",
    "cubo"
   ]
  },
  {
   "cell_type": "markdown",
   "metadata": {},
   "source": [
    "## Pregunta 4"
   ]
  },
  {
   "cell_type": "markdown",
   "metadata": {},
   "source": [
    "El **Sudoku** es un pasatiempo que consiste en un arreglo  $9 \\times 9$ de celdas, con dígitos del 1 al 9, de tal manera que no se repiten valores en cada columna, cada renglón y en cada subarreglo de $3\\times 3$."
   ]
  },
  {
   "cell_type": "markdown",
   "metadata": {},
   "source": [
    "(a) Crea una función llamada `correcto` que reciba un `array` $1d$ de tamaño 9 e indique si está completo o no (i.e. incluye los números del 1 al 9."
   ]
  },
  {
   "cell_type": "code",
   "execution_count": 132,
   "metadata": {},
   "outputs": [
    {
     "data": {
      "text/plain": [
       "False"
      ]
     },
     "execution_count": 132,
     "metadata": {},
     "output_type": "execute_result"
    }
   ],
   "source": [
    "def correcto(x):\n",
    "    bool_arr = np.zeros((9,), dtype=bool)\n",
    "    for i in range (9):\n",
    "        if x[i] <= 10 and x[i] >= 1:\n",
    "            if bool_arr[x[i]-1] == False:\n",
    "                bool_arr[x[i]-1] = True\n",
    "            else:\n",
    "                return False\n",
    "        else:\n",
    "            return False\n",
    "    return True"
   ]
  },
  {
   "cell_type": "markdown",
   "metadata": {},
   "source": [
    "(b) Crea una función llamada `descomponer3x3` que reciba un `array` de enteros de $9\\times 9$ y lo separe en sus 9 subarreglos $3\\times3$."
   ]
  },
  {
   "cell_type": "code",
   "execution_count": 193,
   "metadata": {},
   "outputs": [],
   "source": [
    "def descomponer3x3(x):\n",
    "    c1 = x[:3,:3]\n",
    "    c2 = x[:3,3:6]\n",
    "    c3 = x[:3,6:]\n",
    "    c4 = x[3:6,:3]\n",
    "    c5 = x[3:6,3:6]\n",
    "    c6 = x[3:6,6:]\n",
    "    c7 = x[6:,:3]\n",
    "    c8 = x[6:,3:6]\n",
    "    c9 = x[6:,6:]\n",
    "    return c1,c2,c3,c4,c5,c6,c7,c8,c9"
   ]
  },
  {
   "cell_type": "markdown",
   "metadata": {},
   "source": [
    "(c) Crea la función `esSolucion` que recibe un `array` de $9\\times 9$ y devuelve si es o no solución del sudoku."
   ]
  },
  {
   "cell_type": "code",
   "execution_count": 161,
   "metadata": {},
   "outputs": [],
   "source": [
    "def esSolucion(x):\n",
    "    for i in range(9):\n",
    "        if correcto(x[i]) == False:\n",
    "            return False\n",
    "        if correcto(x[:,i]) == False:\n",
    "            return False\n",
    "        c1,c2,c3,c4,c5,c6,c7,c8,c9 = descomponer3x3(x)\n",
    "        if correcto(c1.reshape(9)) == False:\n",
    "            return False\n",
    "        if correcto(c1.reshape(9)) == False:\n",
    "            return False\n",
    "        if correcto(c2.reshape(9)) == False:\n",
    "            return False\n",
    "        if correcto(c3.reshape(9)) == False:\n",
    "            return False\n",
    "        if correcto(c4.reshape(9)) == False:\n",
    "            return False\n",
    "        if correcto(c5.reshape(9)) == False:\n",
    "            return False\n",
    "        if correcto(c6.reshape(9)) == False:\n",
    "            return False\n",
    "        if correcto(c7.reshape(9)) == False:\n",
    "            return False\n",
    "        if correcto(c8.reshape(9)) == False:\n",
    "            return False\n",
    "        if correcto(c9.reshape(9)) == False:\n",
    "            return False\n",
    "    return True"
   ]
  },
  {
   "cell_type": "code",
   "execution_count": 162,
   "metadata": {},
   "outputs": [],
   "source": [
    "sud = np.arange(1,82).reshape(9,9)\n",
    "sud[0,0] = 5\n",
    "sud[0,1] = 3\n",
    "sud[0,2] = 4\n",
    "sud[0,3] = 6\n",
    "sud[0,4] = 7\n",
    "sud[0,5] = 8\n",
    "sud[0,6] = 9\n",
    "sud[0,7] = 1\n",
    "sud[0,8] = 2\n",
    "sud[1,0] = 6\n",
    "sud[1,1] = 7\n",
    "sud[1,2] = 2\n",
    "sud[1,3] = 1\n",
    "sud[1,4] = 9\n",
    "sud[1,5] = 5\n",
    "sud[1,6] = 3\n",
    "sud[1,7] = 4\n",
    "sud[1,8] = 8\n",
    "sud[2,0] = 1\n",
    "sud[2,1] = 9\n",
    "sud[2,2] = 8\n",
    "sud[2,3] = 3\n",
    "sud[2,4] = 4\n",
    "sud[2,5] = 2\n",
    "sud[2,6] = 5\n",
    "sud[2,7] = 6\n",
    "sud[2,8] = 7\n",
    "sud[3,0] = 8\n",
    "sud[3,1] = 5\n",
    "sud[3,2] = 9\n",
    "sud[3,3] = 7\n",
    "sud[3,4] = 6\n",
    "sud[3,5] = 1\n",
    "sud[3,6] = 4\n",
    "sud[3,7] = 2\n",
    "sud[3,8] = 3\n",
    "sud[4,0] = 4\n",
    "sud[4,1] = 2\n",
    "sud[4,2] = 6\n",
    "sud[4,3] = 8\n",
    "sud[4,4] = 5\n",
    "sud[4,5] = 3\n",
    "sud[4,6] = 7\n",
    "sud[4,7] = 9\n",
    "sud[4,8] = 1\n",
    "sud[5,0] = 7\n",
    "sud[5,1] = 1\n",
    "sud[5,2] = 3\n",
    "sud[5,3] = 9\n",
    "sud[5,4] = 2\n",
    "sud[5,5] = 4\n",
    "sud[5,6] = 8\n",
    "sud[5,7] = 5\n",
    "sud[5,8] = 6\n",
    "sud[6,0] = 9\n",
    "sud[6,1] = 6\n",
    "sud[6,2] = 1\n",
    "sud[6,3] = 5\n",
    "sud[6,4] = 3\n",
    "sud[6,5] = 7\n",
    "sud[6,6] = 2\n",
    "sud[6,7] = 8\n",
    "sud[6,8] = 4\n",
    "sud[7,0] = 2\n",
    "sud[7,1] = 8\n",
    "sud[7,2] = 7\n",
    "sud[7,3] = 4\n",
    "sud[7,4] = 1\n",
    "sud[7,5] = 9\n",
    "sud[7,6] = 6\n",
    "sud[7,7] = 3\n",
    "sud[7,8] = 5\n",
    "sud[8,0] = 3\n",
    "sud[8,1] = 4\n",
    "sud[8,2] = 5\n",
    "sud[8,3] = 2\n",
    "sud[8,4] = 8\n",
    "sud[8,5] = 6\n",
    "sud[8,6] = 1\n",
    "sud[8,7] = 7\n",
    "sud[8,8] = 9"
   ]
  },
  {
   "cell_type": "code",
   "execution_count": 192,
   "metadata": {},
   "outputs": [
    {
     "data": {
      "text/plain": [
       "array([[5, 3, 4, 6, 7, 8, 9, 1, 2],\n",
       "       [6, 7, 2, 1, 9, 5, 3, 4, 8],\n",
       "       [1, 9, 8, 3, 4, 2, 5, 6, 7],\n",
       "       [8, 5, 9, 7, 6, 1, 4, 2, 3],\n",
       "       [4, 2, 6, 8, 5, 3, 7, 9, 1],\n",
       "       [7, 1, 3, 9, 2, 4, 8, 5, 6],\n",
       "       [9, 6, 1, 5, 3, 7, 2, 8, 4],\n",
       "       [2, 8, 7, 4, 1, 9, 6, 3, 5],\n",
       "       [3, 4, 5, 2, 8, 6, 1, 7, 9]])"
      ]
     },
     "execution_count": 192,
     "metadata": {},
     "output_type": "execute_result"
    }
   ],
   "source": [
    "sud"
   ]
  },
  {
   "cell_type": "code",
   "execution_count": 164,
   "metadata": {},
   "outputs": [
    {
     "data": {
      "text/plain": [
       "True"
      ]
     },
     "execution_count": 164,
     "metadata": {},
     "output_type": "execute_result"
    }
   ],
   "source": [
    "esSolucion(sud)"
   ]
  },
  {
   "cell_type": "markdown",
   "metadata": {},
   "source": [
    "## Pregunta 5"
   ]
  },
  {
   "cell_type": "markdown",
   "metadata": {},
   "source": [
    "Utiliza el archivo `sunspots.txt` (localizado en la carpeta `data`), el cual contiene el número de manchas solares por cada mes desde enero de 1749. La primera columna es el mes, el segundo el número de manchas."
   ]
  },
  {
   "cell_type": "markdown",
   "metadata": {},
   "source": [
    "(a) Escribe el código que lea el archivo y haga una gráfica de las manchas en función del tiempo. Formatea el eje $x$ para que se muestren cada 25 años empezando en $1750$. "
   ]
  },
  {
   "cell_type": "code",
   "execution_count": null,
   "metadata": {},
   "outputs": [],
   "source": []
  },
  {
   "cell_type": "code",
   "execution_count": null,
   "metadata": {},
   "outputs": [],
   "source": []
  }
 ],
 "metadata": {
  "kernelspec": {
   "display_name": "Python 3",
   "language": "python",
   "name": "python3"
  },
  "language_info": {
   "codemirror_mode": {
    "name": "ipython",
    "version": 3
   },
   "file_extension": ".py",
   "mimetype": "text/x-python",
   "name": "python",
   "nbconvert_exporter": "python",
   "pygments_lexer": "ipython3",
   "version": "3.8.5"
  }
 },
 "nbformat": 4,
 "nbformat_minor": 4
}
