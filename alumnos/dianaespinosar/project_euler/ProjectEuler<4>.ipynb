{
 "cells": [
  {
   "cell_type": "markdown",
   "metadata": {},
   "source": [
    "The sum of the primes below 10 is 2 + 3 + 5 + 7 = 17.\n",
    "\n",
    "Find the sum of all the primes below two million."
   ]
  },
  {
   "cell_type": "code",
   "execution_count": 6,
   "metadata": {},
   "outputs": [],
   "source": [
    "def isPrime(n) :\n",
    "    if (n <= 1) :\n",
    "        return False\n",
    "    if (n <= 3) :\n",
    "        return True\n",
    "    if (n % 2 == 0) :\n",
    "        return False\n",
    "    i = 3\n",
    "    while(i * i <= n) :\n",
    "        if (n % i == 0) :\n",
    "            return False\n",
    "        i = i + 2\n",
    "    return True"
   ]
  },
  {
   "cell_type": "code",
   "execution_count": 16,
   "metadata": {},
   "outputs": [],
   "source": [
    "def sumPrime(x):\n",
    "    sum = 0;\n",
    "    if(x >= 2):\n",
    "         sum = sum + 2\n",
    "    i = 3\n",
    "    while (i <= x):\n",
    "        if(isPrime(i)):\n",
    "                sum = sum + i\n",
    "        i = i + 2\n",
    "    return sum"
   ]
  },
  {
   "cell_type": "code",
   "execution_count": 17,
   "metadata": {},
   "outputs": [
    {
     "data": {
      "text/plain": [
       "142913828922"
      ]
     },
     "execution_count": 17,
     "metadata": {},
     "output_type": "execute_result"
    }
   ],
   "source": [
    "sumPrime(2000000)"
   ]
  },
  {
   "cell_type": "code",
   "execution_count": null,
   "metadata": {},
   "outputs": [],
   "source": []
  }
 ],
 "metadata": {
  "kernelspec": {
   "display_name": "Python 3",
   "language": "python",
   "name": "python3"
  },
  "language_info": {
   "codemirror_mode": {
    "name": "ipython",
    "version": 3
   },
   "file_extension": ".py",
   "mimetype": "text/x-python",
   "name": "python",
   "nbconvert_exporter": "python",
   "pygments_lexer": "ipython3",
   "version": "3.8.5"
  }
 },
 "nbformat": 4,
 "nbformat_minor": 4
}
