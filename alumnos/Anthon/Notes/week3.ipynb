{
 "cells": [
  {
   "cell_type": "code",
   "execution_count": 1,
   "metadata": {},
   "outputs": [
    {
     "data": {
      "text/plain": [
       "[-2147483648.0, 2147483648.0]"
      ]
     },
     "execution_count": 1,
     "metadata": {},
     "output_type": "execute_result"
    }
   ],
   "source": [
    "[-2**32/2, 2**32/2]\n"
   ]
  },
  {
   "cell_type": "code",
   "execution_count": 2,
   "metadata": {},
   "outputs": [
    {
     "data": {
      "text/plain": [
       "9223372036854775807"
      ]
     },
     "execution_count": 2,
     "metadata": {},
     "output_type": "execute_result"
    }
   ],
   "source": [
    "import sys\n",
    "sys.maxsize\n"
   ]
  },
  {
   "cell_type": "markdown",
   "metadata": {},
   "source": [
    "#**Ejercicio** ¿Cuál es el número flotante más grande y más pequeño que se puede representar? "
   ]
  },
  {
   "cell_type": "code",
   "execution_count": 41,
   "metadata": {},
   "outputs": [
    {
     "name": "stdout",
     "output_type": "stream",
     "text": [
      "x\n"
     ]
    }
   ],
   "source": [
    "from sympy import Symbol\n",
    "x = Symbol('x')\n",
    "print(x)"
   ]
  },
  {
   "cell_type": "code",
   "execution_count": 30,
   "metadata": {},
   "outputs": [],
   "source": [
    "from sympy import *\n",
    "dsolve?"
   ]
  },
  {
   "cell_type": "code",
   "execution_count": 44,
   "metadata": {},
   "outputs": [
    {
     "data": {
      "text/latex": [
       "$\\displaystyle x$"
      ],
      "text/plain": [
       "x"
      ]
     },
     "execution_count": 44,
     "metadata": {},
     "output_type": "execute_result"
    }
   ],
   "source": [
    "x"
   ]
  },
  {
   "cell_type": "code",
   "execution_count": 17,
   "metadata": {},
   "outputs": [],
   "source": [
    "y = Function('y')\n",
    "x = Symbol('x')\n",
    "y_ = Derivative(y(x), x)"
   ]
  },
  {
   "cell_type": "code",
   "execution_count": 18,
   "metadata": {},
   "outputs": [
    {
     "data": {
      "text/latex": [
       "$\\displaystyle 3 y^{2}{\\left(x \\right)} + 10 y{\\left(x \\right)} + \\frac{d}{d x} y{\\left(x \\right)}$"
      ],
      "text/plain": [
       "3*y(x)**2 + 10*y(x) + Derivative(y(x), x)"
      ]
     },
     "execution_count": 18,
     "metadata": {},
     "output_type": "execute_result"
    }
   ],
   "source": [
    "ode = y_ + 10*y(x) + 3*y(x)**2\n",
    "ode"
   ]
  },
  {
   "cell_type": "code",
   "execution_count": 19,
   "metadata": {},
   "outputs": [
    {
     "data": {
      "text/latex": [
       "$\\displaystyle y{\\left(x \\right)} = - \\frac{10 C_{1}}{3 \\left(C_{1} - e^{10 x}\\right)}$"
      ],
      "text/plain": [
       "Eq(y(x), -10*C1/(3*(C1 - exp(10*x))))"
      ]
     },
     "execution_count": 19,
     "metadata": {},
     "output_type": "execute_result"
    }
   ],
   "source": [
    "\n",
    "\n",
    "sol = dsolve(ode, y(x))\n",
    "sol\n",
    "\n"
   ]
  },
  {
   "cell_type": "code",
   "execution_count": 21,
   "metadata": {},
   "outputs": [
    {
     "data": {
      "text/plain": [
       "sympy.core.relational.Equality"
      ]
     },
     "execution_count": 21,
     "metadata": {},
     "output_type": "execute_result"
    }
   ],
   "source": [
    "type(sol)"
   ]
  },
  {
   "cell_type": "markdown",
   "metadata": {},
   "source": [
    "\n",
    "**Ejercicio:** Resuelva simbólicamente lo siguiente: Se lanza una pelota al aire con una velocidad $v_0$ a un ángulo $\\theta$. La gravedad es $g$. - ¿Cuál es la altura máxima? - ¿Cuál es la distancia máxima? - ¿Cuál es el tiempo de vuelo? - De una respuesta numérica, cuando $v_0 = 10 \\frac{m}{s}$ y $\\theta=\\pi/2$.\n",
    "\n"
   ]
  },
  {
   "cell_type": "code",
   "execution_count": 28,
   "metadata": {},
   "outputs": [
    {
     "name": "stdout",
     "output_type": "stream",
     "text": [
      "\n",
      "La altura máxima  alcanzada por el proyectil es: 5.096839959216307\n",
      "La distancia máxima es:  2.7049844988305094e-05\n",
      "El tiempo de vuelo = 2.0387359836883174\n"
     ]
    }
   ],
   "source": [
    "import numpy as np\n",
    "from math import *\n",
    "v0 = 10\n",
    "u = 3.14159/2\n",
    "g=9.81 \n",
    "ym=(v0**2)*(np.sin(u)*sin(u))/(2*g)\n",
    "xm=(v0**2)*(np.sin(2*u))/(g)\n",
    "tm=(v0*sin(u))/(g)\n",
    "tv=2*(tm)\n",
    "print (\"La altura máxima  alcanzada por el proyectil es:\",ym)\n",
    "print (\"La distancia máxima es: \",xm)\n",
    "print (\"El tiempo de vuelo =\",tv,)\n",
    "\n",
    "\n"
   ]
  }
 ],
 "metadata": {
  "kernelspec": {
   "display_name": "Python 3",
   "language": "python",
   "name": "python3"
  },
  "language_info": {
   "codemirror_mode": {
    "name": "ipython",
    "version": 3
   },
   "file_extension": ".py",
   "mimetype": "text/x-python",
   "name": "python",
   "nbconvert_exporter": "python",
   "pygments_lexer": "ipython3",
   "version": "3.8.5"
  }
 },
 "nbformat": 4,
 "nbformat_minor": 4
}
