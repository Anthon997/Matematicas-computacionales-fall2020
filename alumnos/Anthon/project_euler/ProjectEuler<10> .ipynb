{
 "cells": [
  {
   "cell_type": "markdown",
   "metadata": {},
   "source": [
    "\n",
    "\n",
    "The sum of the primes below 10 is 2 + 3 + 5 + 7 = 17.\n",
    "\n",
    "Find the sum of all the primes below two million.\n"
   ]
  },
  {
   "cell_type": "code",
   "execution_count": 5,
   "metadata": {},
   "outputs": [
    {
     "name": "stdout",
     "output_type": "stream",
     "text": [
      "Populating the interactive namespace from numpy and matplotlib\n"
     ]
    }
   ],
   "source": [
    "%pylab inline\n",
    "import numpy as np"
   ]
  },
  {
   "cell_type": "code",
   "execution_count": 27,
   "metadata": {},
   "outputs": [
    {
     "name": "stdout",
     "output_type": "stream",
     "text": [
      "dame un numero:1000\n",
      "la suma de los primos: 76127\n"
     ]
    }
   ],
   "source": [
    "## es muy lento\n",
    "num =int(input(\"dame un numero:\"))\n",
    "prime = []\n",
    "def sumaprimos(num):\n",
    "    for k in range(2, num):\n",
    "        for i in range(2, k):\n",
    "            if k%i != 0:\n",
    "                continue\n",
    "            else:\n",
    "                break \n",
    "        else:\n",
    "            prime.append(k)\n",
    "\n",
    "sumaprimos(num)\n",
    "print(\"la suma de los primos:\",sum(prime))"
   ]
  },
  {
   "cell_type": "code",
   "execution_count": 36,
   "metadata": {},
   "outputs": [
    {
     "name": "stdout",
     "output_type": "stream",
     "text": [
      "dame un numero:2000000\n",
      "142913828922\n"
     ]
    }
   ],
   "source": [
    "num =int(input(\"dame un numero:\"))\n",
    "def suma_primos(num):\n",
    "    bool_arr = np.ones((num, ), dtype=bool)\n",
    "    bool_arr[: 2] = False\n",
    "    \n",
    "    N_max = int(np.sqrt(len(bool_arr)))\n",
    "    \n",
    "    for j in range(2, N_max):\n",
    "        bool_arr[2*j::j] = False\n",
    "    print((sum(np.nonzero(bool_arr))))\n",
    "suma_primos(num)       "
   ]
  }
 ],
 "metadata": {
  "kernelspec": {
   "display_name": "Python 3",
   "language": "python",
   "name": "python3"
  },
  "language_info": {
   "codemirror_mode": {
    "name": "ipython",
    "version": 3
   },
   "file_extension": ".py",
   "mimetype": "text/x-python",
   "name": "python",
   "nbconvert_exporter": "python",
   "pygments_lexer": "ipython3",
   "version": "3.8.5"
  }
 },
 "nbformat": 4,
 "nbformat_minor": 4
}
