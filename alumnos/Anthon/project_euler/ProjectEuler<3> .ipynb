{
 "cells": [
  {
   "cell_type": "markdown",
   "metadata": {},
   "source": [
    "Largest prime factor\n",
    "\n",
    "Problem 3\n",
    "\n",
    "The prime factors of 13195 are 5, 7, 13 and 29.\n",
    "\n",
    "What is the largest prime factor of the number 600851475143 ?\n"
   ]
  },
  {
   "cell_type": "code",
   "execution_count": 13,
   "metadata": {},
   "outputs": [
    {
     "name": "stdout",
     "output_type": "stream",
     "text": [
      "dame un numero:600851475143\n",
      "[71, 839, 1471, 6857] el factor primo más grande es: 6857\n"
     ]
    }
   ],
   "source": [
    "num =int(input(\"dame un numero:\"))\n",
    "prime = []\n",
    "def factores(num):\n",
    "    factor = 2    \n",
    "    while factor <= num:\n",
    "        if (num % factor == 0):\n",
    "            prime.append(factor)\n",
    "            num /= factor\n",
    "        else:\n",
    "            factor += 1\n",
    "    return \n",
    "\n",
    "factores(num)\n",
    "largest_factor = max(prime)\n",
    "print(prime,\"el factor primo más grande es:\",largest_factor)"
   ]
  }
 ],
 "metadata": {
  "kernelspec": {
   "display_name": "Python 3",
   "language": "python",
   "name": "python3"
  }
 },
 "nbformat": 4,
 "nbformat_minor": 4
}
