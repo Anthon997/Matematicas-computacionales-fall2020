{
 "cells": [
  {
   "cell_type": "markdown",
   "metadata": {},
   "source": [
    "# Tareas"
   ]
  },
  {
   "cell_type": "markdown",
   "metadata": {},
   "source": [
    "<div class=\"alert alert-warning\">\n",
    "Fecha límite de entrega: 6 de octubre, 2020 23:59\n",
    "</div>"
   ]
  },
  {
   "cell_type": "markdown",
   "metadata": {},
   "source": [
    "## Problema 1"
   ]
  },
  {
   "cell_type": "markdown",
   "metadata": {},
   "source": [
    "**(a)** Usando **SimPy** demostrar que \n",
    "\n",
    "$$\n",
    "\\frac{\\partial}{\\partial \\beta_j} \\textbf{J}(\\beta) = \\frac{1}{m}\\sum_{i=1}^{m}\\left(\\hat{y}(x^{(i)}) - y(x^{(i)})\\right) \\cdot x^{(i)}_j\n",
    "$$"
   ]
  },
  {
   "cell_type": "code",
   "execution_count": 1,
   "metadata": {},
   "outputs": [
    {
     "data": {
      "text/latex": [
       "$\\displaystyle J{\\left(\\beta_{0},\\beta_{1} \\right)} = \\frac{\\sum_{i=1}^{m} \\left(- \\beta_{0} - \\beta_{1} {x}_{i} + {y}_{i}\\right)^{2}}{2 m}$"
      ],
      "text/plain": [
       "Eq(J(beta0, beta1), Sum((-beta0 - beta1*x[i] + y[i])**2, (i, 1, m))/(2*m))"
      ]
     },
     "execution_count": 1,
     "metadata": {},
     "output_type": "execute_result"
    }
   ],
   "source": [
    "from sympy import *\n",
    "J = Function(\"J\")\n",
    "b0 = Symbol(\"beta0\")\n",
    "b1 = Symbol(\"beta1\")\n",
    "b = Symbol(\"beta\")\n",
    "bj = Symbol(\"beta_j\")\n",
    "m = Symbol (\"m\")\n",
    "n = Symbol (\"n\")\n",
    "y = Symbol (\"y\")\n",
    "i = Symbol (\"i\")\n",
    "j = Symbol (\"j\")\n",
    "x = Symbol (\"x\")\n",
    "\n",
    "\n",
    "suma = Sum((Indexed(y,i)-b0-b1*Indexed(x,i))**2,(i,1,m))\n",
    "\n",
    "Costo= Eq(J(b0,b1), 1/(2*m)*suma)\n",
    "\n",
    "Costo"
   ]
  },
  {
   "cell_type": "code",
   "execution_count": 2,
   "metadata": {},
   "outputs": [
    {
     "data": {
      "text/latex": [
       "$\\displaystyle \\frac{\\partial}{\\partial \\beta_{0}} J{\\left(\\beta_{0},\\beta_{1} \\right)} = \\frac{\\sum_{i=1}^{m} \\left(\\beta_{0} + \\beta_{1} {x}_{i} - {y}_{i}\\right)}{m}$"
      ],
      "text/plain": [
       "Eq(Derivative(J(beta0, beta1), beta0), Sum(beta0 + beta1*x[i] - y[i], (i, 1, m))/m)"
      ]
     },
     "execution_count": 2,
     "metadata": {},
     "output_type": "execute_result"
    }
   ],
   "source": [
    "Parcial1 = Eq(Derivative(Costo.lhs,b0),Derivative(Costo.rhs,b0)).doit()\n",
    "simplify(Parcial1)"
   ]
  },
  {
   "cell_type": "code",
   "execution_count": 3,
   "metadata": {},
   "outputs": [
    {
     "data": {
      "text/latex": [
       "$\\displaystyle \\frac{\\partial}{\\partial \\beta_{1}} J{\\left(\\beta_{0},\\beta_{1} \\right)} = \\frac{\\sum_{i=1}^{m} \\left(\\beta_{0} + \\beta_{1} {x}_{i} - {y}_{i}\\right) {x}_{i}}{m}$"
      ],
      "text/plain": [
       "Eq(Derivative(J(beta0, beta1), beta1), Sum((beta0 + beta1*x[i] - y[i])*x[i], (i, 1, m))/m)"
      ]
     },
     "execution_count": 3,
     "metadata": {},
     "output_type": "execute_result"
    }
   ],
   "source": [
    "Parcial2 = Eq(Derivative(Costo.lhs,b1),Derivative(Costo.rhs,b1)).doit()\n",
    "simplify(Parcial2)"
   ]
  },
  {
   "cell_type": "markdown",
   "metadata": {},
   "source": [
    "#### En general"
   ]
  },
  {
   "cell_type": "code",
   "execution_count": 4,
   "metadata": {},
   "outputs": [],
   "source": [
    "subsuma = Sum(Indexed(b,j)*Indexed(x,j),(j,0,n))\n",
    "sumag = Sum((Indexed(y,i)-subsuma)**2,(i,1,m))\n",
    "\n",
    "Costog = Eq(J(b),1/(2*m)*sumag)"
   ]
  },
  {
   "cell_type": "code",
   "execution_count": 5,
   "metadata": {},
   "outputs": [
    {
     "data": {
      "text/latex": [
       "$\\displaystyle \\sum_{j=0}^{n} {\\beta}_{j} {x}_{j}$"
      ],
      "text/plain": [
       "Sum(beta[j]*x[j], (j, 0, n))"
      ]
     },
     "execution_count": 5,
     "metadata": {},
     "output_type": "execute_result"
    }
   ],
   "source": [
    "subsuma"
   ]
  },
  {
   "cell_type": "code",
   "execution_count": 6,
   "metadata": {},
   "outputs": [
    {
     "data": {
      "text/latex": [
       "$\\displaystyle \\sum_{i=1}^{m} \\left({y}_{i} - \\sum_{j=0}^{n} {\\beta}_{j} {x}_{j}\\right)^{2}$"
      ],
      "text/plain": [
       "Sum((y[i] - Sum(beta[j]*x[j], (j, 0, n)))**2, (i, 1, m))"
      ]
     },
     "execution_count": 6,
     "metadata": {},
     "output_type": "execute_result"
    }
   ],
   "source": [
    "sumag"
   ]
  },
  {
   "cell_type": "code",
   "execution_count": 7,
   "metadata": {},
   "outputs": [
    {
     "data": {
      "text/latex": [
       "$\\displaystyle J{\\left(\\beta \\right)} = \\frac{\\sum_{i=1}^{m} \\left({y}_{i} - \\sum_{j=0}^{n} {\\beta}_{j} {x}_{j}\\right)^{2}}{2 m}$"
      ],
      "text/plain": [
       "Eq(J(beta), Sum((y[i] - Sum(beta[j]*x[j], (j, 0, n)))**2, (i, 1, m))/(2*m))"
      ]
     },
     "execution_count": 7,
     "metadata": {},
     "output_type": "execute_result"
    }
   ],
   "source": [
    "Costog"
   ]
  },
  {
   "cell_type": "code",
   "execution_count": 8,
   "metadata": {},
   "outputs": [
    {
     "data": {
      "text/latex": [
       "$\\displaystyle \\text{True}$"
      ],
      "text/plain": [
       "True"
      ]
     },
     "execution_count": 8,
     "metadata": {},
     "output_type": "execute_result"
    }
   ],
   "source": [
    "Parcialj = Eq(Derivative(Costog.lhs,b0),Derivative(Costog.rhs,b0)).doit()\n",
    "simplify(Parcialj)"
   ]
  },
  {
   "cell_type": "code",
   "execution_count": 9,
   "metadata": {},
   "outputs": [
    {
     "data": {
      "text/latex": [
       "$\\displaystyle \\frac{d}{d \\beta_{j}} J{\\left(\\beta \\right)}$"
      ],
      "text/plain": [
       "Derivative(J(beta), beta_j)"
      ]
     },
     "execution_count": 9,
     "metadata": {},
     "output_type": "execute_result"
    }
   ],
   "source": [
    "Derivative(Costog.lhs,bj)"
   ]
  },
  {
   "cell_type": "code",
   "execution_count": 10,
   "metadata": {},
   "outputs": [
    {
     "data": {
      "text/latex": [
       "$\\displaystyle \\frac{\\partial}{\\partial \\beta_{j}} \\frac{\\sum_{i=1}^{m} \\left({y}_{i} - \\sum_{j=0}^{n} {\\beta}_{j} {x}_{j}\\right)^{2}}{2 m}$"
      ],
      "text/plain": [
       "Derivative(Sum((y[i] - Sum(beta[j]*x[j], (j, 0, n)))**2, (i, 1, m))/(2*m), beta_j)"
      ]
     },
     "execution_count": 10,
     "metadata": {},
     "output_type": "execute_result"
    }
   ],
   "source": [
    "Derivative(Costog.rhs,bj)"
   ]
  },
  {
   "cell_type": "markdown",
   "metadata": {},
   "source": [
    "## Problema 2"
   ]
  },
  {
   "cell_type": "markdown",
   "metadata": {},
   "source": [
    "**(a)** Grafique $\\textbf{J}(\\beta)$ del ejercicio en $3D$ y en una gráfica de contorno. "
   ]
  },
  {
   "cell_type": "code",
   "execution_count": 11,
   "metadata": {},
   "outputs": [
    {
     "name": "stdout",
     "output_type": "stream",
     "text": [
      "Populating the interactive namespace from numpy and matplotlib\n"
     ]
    },
    {
     "name": "stderr",
     "output_type": "stream",
     "text": [
      "/opt/conda/lib/python3.8/site-packages/IPython/core/magics/pylab.py:159: UserWarning: pylab import has clobbered these variables: ['sin', 'trunc', 'multinomial', 'add', 'solve', 'sqrt', 'pi', 'reshape', 'seterr', 'diff', 'Polygon', 'test', 'prod', 'source', 'poly', 'sign', 'cos', 'power', 'array', 'invert', 'interactive', 'deprecated', 'cosh', 'log', 'sinh', 'Line2D', 'maximum', 'tanh', 'ones', 'take', 'roots', 'exp', 'trace', 'cbrt', 'floor', 'partition', 'plotting', 'Circle', 'transpose', 're', 'gamma', 'fft', 'minimum', 'conjugate', 'ifft', 'zeros', 'det', 'vectorize', 'binomial', 'eye', 'var', 'tan', 'sinc', 'Number', 'lcm', 'diag', 'product', 'plot', 'nan', 'flatten', 'gcd', 'beta', 'mod']\n",
      "`%matplotlib` prevents importing * from pylab and numpy\n",
      "  warn(\"pylab import has clobbered these variables: %s\"  % clobbered +\n"
     ]
    }
   ],
   "source": [
    "%pylab inline \n",
    "import numpy as np\n",
    "import matplotlib.pyplot as plt"
   ]
  },
  {
   "cell_type": "code",
   "execution_count": null,
   "metadata": {},
   "outputs": [],
   "source": [
    "X = np.linspace(1,1000,100)\n",
    "Y = np.linspace(1,1000,100)\n",
    "\n",
    "expr = Costo.rhs.subs([(m,10)])\n",
    "func=lambdify([b0,b1],Costo.rhs) \n",
    "\n",
    "expr\n"
   ]
  },
  {
   "cell_type": "markdown",
   "metadata": {},
   "source": [
    "**(b)** Indique con un punto el valor de $\\textbf{J}(\\beta)$ en la última iteración.\n",
    "\n",
    "**(c)** Modifique el _widget_ para mostrar conforme pasan las iteraciones como el valor de $\\textbf{J}(\\beta)$ se acerca al mínimo en la gráfica de contorno.\n",
    "\n",
    "**(d)** Agrega al _widget_ un control para modificar $\\alpha$ (habrá que agregar el entrenamiento del modelo a la función que estás realizando para este _widget_)"
   ]
  },
  {
   "cell_type": "code",
   "execution_count": null,
   "metadata": {},
   "outputs": [],
   "source": []
  },
  {
   "cell_type": "markdown",
   "metadata": {},
   "source": [
    "## Problema 3"
   ]
  },
  {
   "cell_type": "markdown",
   "metadata": {},
   "source": [
    "**(a)**  Usando los datos de `chirps.txt`"
   ]
  },
  {
   "cell_type": "code",
   "execution_count": 12,
   "metadata": {},
   "outputs": [
    {
     "name": "stdout",
     "output_type": "stream",
     "text": [
      "#Chirps/Second \tTemperature (º F)\r\n",
      "20.0 \t88.6\r\n",
      "16.0 \t71.6\r\n",
      "19.8 \t93.3\r\n",
      "18.4 \t84.3\r\n",
      "17.1 \t80.6\r\n",
      "15.5 \t75.2\r\n",
      "14.7 \t69.7\r\n",
      "15.7 \t71.6\r\n",
      "15.4 \t69.4\r\n",
      "16.3 \t83.3\r\n",
      "15.0 \t79.6\r\n",
      "17.2 \t82.6\r\n",
      "16.0 \t80.6\r\n",
      "17.0 \t83.5\r\n",
      "14.4 \t76.3\r\n"
     ]
    }
   ],
   "source": [
    "%cat data/chirps.txt"
   ]
  },
  {
   "cell_type": "code",
   "execution_count": 13,
   "metadata": {},
   "outputs": [
    {
     "data": {
      "text/plain": [
       "Text(0, 0.5, 'Second')"
      ]
     },
     "execution_count": 13,
     "metadata": {},
     "output_type": "execute_result"
    },
    {
     "data": {
      "image/png": "[encoded data removed]",
      "text/plain": [
       "<Figure size 432x288 with 1 Axes>"
      ]
     },
     "metadata": {
      "needs_background": "light"
     },
     "output_type": "display_data"
    }
   ],
   "source": [
    "datos = np.loadtxt('data/chirps.txt', dtype=\"float\", delimiter=\"\\t\", skiprows=1)\n",
    "X = datos[:,0]\n",
    "Y = datos[:,1]\n",
    "plt.scatter(X,Y)\n",
    "plt.xlabel('Chirps')\n",
    "plt.ylabel('Second')"
   ]
  },
  {
   "cell_type": "code",
   "execution_count": 80,
   "metadata": {},
   "outputs": [],
   "source": [
    "class RegresionLineal:\n",
    "    def __init__(self, alpha=0.3, max_iters=100, tols=0.001):\n",
    "        \"\"\"\n",
    "        Parámetros.\n",
    "        ---------------\n",
    "        alpha = Learning rate\n",
    "        max_iters = Número máximo de iteraciones\n",
    "        tols = definición de convergencia, que tanto nos estamos acercando\n",
    "        \"\"\"\n",
    "        self.alpha = alpha\n",
    "        self.max_iters = max_iters\n",
    "        self.tols = tols\n",
    "        self.breaking_iteration = None\n",
    "        self.historia = {'costo':[], 'beta':[]}  # Con fines de graficación\n",
    "        \n",
    "    def gradientDescent(self, x, y):\n",
    "        \"\"\"\n",
    "        Parámetros:\n",
    "        ---------------\n",
    "        x = vector de entrenamiento de features\n",
    "        y = vector de entrenamiento de variable a predecir (target)\n",
    "        \"\"\"    \n",
    "        \n",
    "        # ajustamos el vector de features\n",
    "        unos = np.ones((x.shape[0], 1))\n",
    "        Xt = x.reshape(x.shape[0], 1)\n",
    "        Xt = np.concatenate((unos, Xt), axis=1)\n",
    "        \n",
    "        i = 0\n",
    "        prep_J = 0\n",
    "        m, n = Xt.shape\n",
    "        self.beta = np.zeros(n) \n",
    "        \n",
    "        while i < self.max_iters:     \n",
    "            # Actualizamos beta (con la formula de betaj)\n",
    "            self.beta = self.beta - self.alpha * self.gradiente(Xt, y)\n",
    "            \n",
    "            J = self.costo(Xt, y)\n",
    "            \n",
    "            #En el if estamos checando la convergencia\n",
    "            if abs(J - prep_J) <= self.tols:\n",
    "                print('La función convergió con beta: %s en la iteración %i' % ( str(self.beta), i ))\n",
    "                self.breaking_iteration = i\n",
    "                break\n",
    "            else:\n",
    "                prep_J = J\n",
    "            \n",
    "            self.historia['costo'].append(J)\n",
    "            self.historia['beta'].append(self.beta)                \n",
    "            i += 1\n",
    "    \n",
    "    def hipotesis(self, x):\n",
    "        #Producto punto\n",
    "        return np.dot(x, self.beta)\n",
    "    \n",
    "    def costo(self, x, y):\n",
    "        #La diferencia\n",
    "        m = x.shape[0]\n",
    "        error = self.hipotesis(x) - y\n",
    "        return np.dot(error.T, error) / (2 * m) \n",
    "    \n",
    "    def gradiente(self, x, y):\n",
    "        m = x.shape[0]\n",
    "        error = self.hipotesis(x) - y        \n",
    "        return np.dot(x.T, error) / m\n",
    "    "
   ]
  },
  {
   "cell_type": "code",
   "execution_count": 115,
   "metadata": {},
   "outputs": [
    {
     "name": "stderr",
     "output_type": "stream",
     "text": [
      "<ipython-input-80-018ad3860c6c>:41: RuntimeWarning: invalid value encountered in double_scalars\n",
      "  if abs(J - prep_J) <= self.tols:\n",
      "<ipython-input-80-018ad3860c6c>:36: RuntimeWarning: invalid value encountered in subtract\n",
      "  self.beta = self.beta - self.alpha * self.gradiente(Xt, y)\n"
     ]
    }
   ],
   "source": [
    "r = RegresionLineal(alpha=0.03, max_iters=10000, tols=1)\n",
    "r.gradientDescent(X, Y)"
   ]
  },
  {
   "cell_type": "markdown",
   "metadata": {},
   "source": [
    "Entrenar una regresión lineal. Grafique los datos y el mejor modelo. Explique como llegó a los valores de $\\alpha$. ¿Coinciden con los mostrados en la página web?"
   ]
  },
  {
   "cell_type": "markdown",
   "metadata": {},
   "source": [
    "\n",
    "**NOTA**: Datos obtenidos de [aquí](http://mathbits.com/MathBits/TISection/Statistics2/linearREAL.htm)\n"
   ]
  },
  {
   "cell_type": "markdown",
   "metadata": {},
   "source": [
    "## Problema 4"
   ]
  },
  {
   "cell_type": "markdown",
   "metadata": {},
   "source": [
    "**(a)** Usando los datos del [cuarteto de Anscombe](http://en.wikipedia.org/wiki/Anscombe%27s_quartet) Calcule la regresión lineal ¿Qué sucede?"
   ]
  },
  {
   "cell_type": "markdown",
   "metadata": {},
   "source": [
    "## Problema 5"
   ]
  },
  {
   "cell_type": "markdown",
   "metadata": {},
   "source": [
    "Use el archivo `radioactive_decay.dat`"
   ]
  },
  {
   "cell_type": "code",
   "execution_count": 32,
   "metadata": {},
   "outputs": [
    {
     "name": "stdout",
     "output_type": "stream",
     "text": [
      "#time   N_(remaining)\r\n",
      "0.0\t10.48\r\n",
      "1.0\t7.54\r\n",
      "2.0\t5.49\r\n",
      "3.0\t4.02\r\n",
      "4.0\t2.74\r\n",
      "5.0\t2.02\r\n",
      "6.0\t1.50\r\n",
      "7.0\t1.09\r\n",
      "8.0\t0.68\r\n",
      "9.0\t0.57\r\n",
      "10.0\t0.37\r\n",
      "11.0\t0.31\r\n",
      "12.0\t0.19\r\n",
      "13.0\t0.15\r\n",
      "14.0\t0.13\r\n",
      "15.0\t0.11\r\n"
     ]
    }
   ],
   "source": [
    "%cat data/radioactive_decay.txt"
   ]
  },
  {
   "cell_type": "markdown",
   "metadata": {},
   "source": [
    "**(a)** Grafique los datos ¿Qué forma tienen?"
   ]
  },
  {
   "cell_type": "code",
   "execution_count": 25,
   "metadata": {},
   "outputs": [
    {
     "data": {
      "text/plain": [
       "Text(0, 0.5, 'Remaining')"
      ]
     },
     "execution_count": 25,
     "metadata": {},
     "output_type": "execute_result"
    },
    {
     "data": {
      "image/png": "[encoded data removed]",
      "text/plain": [
       "<Figure size 432x288 with 1 Axes>"
      ]
     },
     "metadata": {
      "needs_background": "light"
     },
     "output_type": "display_data"
    }
   ],
   "source": [
    "datos2 = np.loadtxt('data/radioactive_decay.txt', dtype=\"float\", delimiter=\"\\t\", skiprows=1)\n",
    "time = datos2[:,0]\n",
    "N = datos2[:,1]\n",
    "plt.scatter(time,N)\n",
    "plt.xlabel('Time')\n",
    "plt.ylabel('Remaining')"
   ]
  },
  {
   "cell_type": "markdown",
   "metadata": {},
   "source": [
    "**(b)** ¿Qué transformación se le ocurre para linearizarlos? Explique y grafique de nuevo. Guarde los datos transformados en un archivo llamado `transform_radioactive_decay.txt`"
   ]
  },
  {
   "cell_type": "code",
   "execution_count": 32,
   "metadata": {},
   "outputs": [
    {
     "data": {
      "text/plain": [
       "<matplotlib.collections.PathCollection at 0x7f318c7ed070>"
      ]
     },
     "execution_count": 32,
     "metadata": {},
     "output_type": "execute_result"
    },
    {
     "data": {
      "image/png": "[encoded data removed]",
      "text/plain": [
       "<Figure size 432x288 with 1 Axes>"
      ]
     },
     "metadata": {
      "needs_background": "light"
     },
     "output_type": "display_data"
    }
   ],
   "source": [
    "#Es similar a un modelo exponencial, así que aplicamos log\n",
    "N2 = np.log(N)\n",
    "plt.scatter(time, N2)"
   ]
  },
  {
   "cell_type": "code",
   "execution_count": 62,
   "metadata": {},
   "outputs": [
    {
     "data": {
      "text/plain": [
       "array([[ 0.        ,  2.34946868],\n",
       "       [ 1.        ,  2.02022218],\n",
       "       [ 2.        ,  1.70292826],\n",
       "       [ 3.        ,  1.3912819 ],\n",
       "       [ 4.        ,  1.00795792],\n",
       "       [ 5.        ,  0.70309751],\n",
       "       [ 6.        ,  0.40546511],\n",
       "       [ 7.        ,  0.0861777 ],\n",
       "       [ 8.        , -0.38566248],\n",
       "       [ 9.        , -0.56211892],\n",
       "       [10.        , -0.99425227],\n",
       "       [11.        , -1.17118298],\n",
       "       [12.        , -1.66073121],\n",
       "       [13.        , -1.89711998],\n",
       "       [14.        , -2.04022083],\n",
       "       [15.        , -2.20727491]])"
      ]
     },
     "execution_count": 62,
     "metadata": {},
     "output_type": "execute_result"
    }
   ],
   "source": [
    "data = np.append(time, N2)\n",
    "\n",
    "data = data.reshape(int(len(data)/2),2, order=\"F\")\n",
    "\n",
    "np.savetxt(\"transform_radioactive_decay.txt\",data, delimiter=\"\\t\")\n",
    "data"
   ]
  },
  {
   "cell_type": "code",
   "execution_count": 63,
   "metadata": {},
   "outputs": [
    {
     "name": "stdout",
     "output_type": "stream",
     "text": [
      "0.000000000000000000e+00\t2.349468678892896012e+00\r\n",
      "1.000000000000000000e+00\t2.020222182019864920e+00\r\n",
      "2.000000000000000000e+00\t1.702928255521439338e+00\r\n",
      "3.000000000000000000e+00\t1.391281902630929546e+00\r\n",
      "4.000000000000000000e+00\t1.007957920399978891e+00\r\n",
      "5.000000000000000000e+00\t7.030975114131133852e-01\r\n",
      "6.000000000000000000e+00\t4.054651081081643849e-01\r\n",
      "7.000000000000000000e+00\t8.617769624105241222e-02\r\n",
      "8.000000000000000000e+00\t-3.856624808119846204e-01\r\n",
      "9.000000000000000000e+00\t-5.621189181535413137e-01\r\n",
      "1.000000000000000000e+01\t-9.942522733438668991e-01\r\n",
      "1.100000000000000000e+01\t-1.171182981502945086e+00\r\n",
      "1.200000000000000000e+01\t-1.660731206821650874e+00\r\n",
      "1.300000000000000000e+01\t-1.897119984885881294e+00\r\n",
      "1.400000000000000000e+01\t-2.040220828526554619e+00\r\n",
      "1.500000000000000000e+01\t-2.207274913189720689e+00\r\n"
     ]
    }
   ],
   "source": [
    "%cat transform_radioactive_decay.txt"
   ]
  },
  {
   "cell_type": "markdown",
   "metadata": {},
   "source": [
    "**(c)** Aplique la regresión lineal a este conjunto de datos transformado, leyendo los datos del archivo recién creado."
   ]
  },
  {
   "cell_type": "code",
   "execution_count": 68,
   "metadata": {},
   "outputs": [
    {
     "data": {
      "text/plain": [
       "Text(0, 0.5, 'Remaining')"
      ]
     },
     "execution_count": 68,
     "metadata": {},
     "output_type": "execute_result"
    },
    {
     "data": {
      "image/png": "[encoded data removed]",
      "text/plain": [
       "<Figure size 432x288 with 1 Axes>"
      ]
     },
     "metadata": {
      "needs_background": "light"
     },
     "output_type": "display_data"
    }
   ],
   "source": [
    "datos3 = np.loadtxt('transform_radioactive_decay.txt', dtype=\"float\", delimiter=\"\\t\", skiprows=0)\n",
    "time2 = datos3[:,0]\n",
    "N2 = datos3[:,1]\n",
    "plt.scatter(time2,N2)\n",
    "plt.xlabel('Time')\n",
    "plt.ylabel('Remaining')"
   ]
  },
  {
   "cell_type": "code",
   "execution_count": 114,
   "metadata": {},
   "outputs": [
    {
     "name": "stderr",
     "output_type": "stream",
     "text": [
      "<ipython-input-80-018ad3860c6c>:41: RuntimeWarning: invalid value encountered in double_scalars\n",
      "  if abs(J - prep_J) <= self.tols:\n"
     ]
    }
   ],
   "source": [
    "radio = RegresionLineal(alpha=0.3, max_iters=1000, tols=0.1)\n",
    "radio.gradientDescent(time2,N2)"
   ]
  },
  {
   "cell_type": "code",
   "execution_count": null,
   "metadata": {},
   "outputs": [],
   "source": []
  },
  {
   "cell_type": "markdown",
   "metadata": {},
   "source": [
    "**(d)** ¿Cuáles son los valores de $\\beta$ que mejor ajustan? ¿Cuáles son el espacio sin transformar? Explique."
   ]
  }
 ],
 "metadata": {
  "kernelspec": {
   "display_name": "Python 3",
   "language": "python",
   "name": "python3"
  },
  "language_info": {
   "codemirror_mode": {
    "name": "ipython",
    "version": 3
   },
   "file_extension": ".py",
   "mimetype": "text/x-python",
   "name": "python",
   "nbconvert_exporter": "python",
   "pygments_lexer": "ipython3",
   "version": "3.8.5"
  }
 },
 "nbformat": 4,
 "nbformat_minor": 1
}
