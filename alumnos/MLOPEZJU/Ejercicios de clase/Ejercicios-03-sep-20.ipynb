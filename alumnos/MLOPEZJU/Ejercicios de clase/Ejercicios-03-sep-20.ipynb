{
 "cells": [
  {
   "cell_type": "markdown",
   "metadata": {},
   "source": [
    "# Tarea 1\n",
    "\n",
    "## María Fernanda López Juárez\n",
    "\n",
    "### Instrucciones: terminar los ejercicios de clase"
   ]
  },
  {
   "cell_type": "markdown",
   "metadata": {},
   "source": [
    "### Ejericio 1\n",
    "\n",
    "\n",
    "Responde:\n",
    "    \n",
    "    1- ¿Cómo puedo agregar elementos a un diccionario?\n",
    "    \n",
    "    2- ¿Cómo puedo eliminar elementos de un diccionario?\n",
    "    \n",
    "    3- ¿Cómo cambia el método pop respecto a las listas?\n",
    "    \n",
    "    4- ¿Cómo puedo iterar un diccionario?"
   ]
  },
  {
   "cell_type": "code",
   "execution_count": 2,
   "metadata": {},
   "outputs": [
    {
     "data": {
      "text/plain": [
       "{'nombre1': 'Edgar', 'ApellidoP': 'Loza', 'Edad': 22, 'EstadoCivil': 'Soltero'}"
      ]
     },
     "execution_count": 2,
     "metadata": {},
     "output_type": "execute_result"
    }
   ],
   "source": [
    "# 1.- Para agregar elementos a un diccionario la sintaxis es nombredeldicc[clave]=valor\n",
    "\n",
    "datos = {'nombre1':'Edgar', 'ApellidoP':'Loza', 'Edad':22}\n",
    "\n",
    "datos['EstadoCivil'] = 'Soltero'\n",
    "datos"
   ]
  },
  {
   "cell_type": "code",
   "execution_count": 13,
   "metadata": {},
   "outputs": [
    {
     "name": "stdout",
     "output_type": "stream",
     "text": [
      "Diccionario con dato erróneo: {'nombre1': 'Edgar', 'ApellidoP': 'Loza', 'Edad': 22, 'EstadoCivil': 'Soltero', 'Sexo': 'Mujer'}\n",
      "\n",
      "\n",
      "Diccionario quitándole el dato erróneo {'nombre1': 'Edgar', 'ApellidoP': 'Loza', 'Edad': 22, 'EstadoCivil': 'Soltero'}\n",
      "\n",
      "\n",
      "======POP=======\n",
      "\n",
      "\n",
      "Diccionario con dato erróneo: {'nombre1': 'Edgar', 'ApellidoP': 'Loza', 'Edad': 22, 'EstadoCivil': 'Soltero', 'Sexo': 'Mujer'}\n",
      "\n",
      "\n",
      "Diccionario quitándole el dato erróneo {'nombre1': 'Edgar', 'ApellidoP': 'Loza', 'Edad': 22, 'EstadoCivil': 'Soltero'}\n",
      "\n",
      "\n",
      "======POPITEM=======\n",
      "\n",
      "\n",
      "Diccionario con otro dato: {'nombre1': 'Edgar', 'ApellidoP': 'Loza', 'Edad': 22, 'EstadoCivil': 'Soltero', 'Hobbie': 'Correr'}\n",
      "\n",
      "\n",
      "Diccionario quitándole el dato agregado {'nombre1': 'Edgar', 'ApellidoP': 'Loza', 'Edad': 22, 'EstadoCivil': 'Soltero'}\n"
     ]
    }
   ],
   "source": [
    "#2.- Para eliminar todos los datos de una clave utilizamos del <nombredic>[clave]\n",
    "\n",
    "#Supongamos que agregamos un dato erroneo\n",
    "datos['Sexo']='Mujer'\n",
    "print(\"Diccionario con dato erróneo:\",datos)\n",
    "\n",
    "#Vamos a borrarlo\n",
    "del datos['Sexo']\n",
    "print(\"\\n\\nDiccionario quitándole el dato erróneo\",datos)\n",
    "\n",
    "#También puede hacerse con el método pop. La sintaxis es nombdic(clave). Recordemos que el método pop imprime lo que elimina en valores\n",
    "\n",
    "print(\"\\n\\n======POP=======\\n\\n\")\n",
    "datos['Sexo']='Mujer'\n",
    "print(\"Diccionario con dato erróneo:\",datos)\n",
    "\n",
    "\n",
    "datos.pop('Sexo')\n",
    "print(\"\\n\\nDiccionario quitándole el dato erróneo\",datos)\n",
    "\n",
    "#Finalmente, el método popitem elimina la última clave y sus valores. Igual que pop, devuelve los valores que elimina\n",
    "\n",
    "print(\"\\n\\n======POPITEM=======\\n\\n\")\n",
    "datos['Hobbie']='Correr'\n",
    "print(\"Diccionario con otro dato:\",datos)\n",
    "\n",
    "\n",
    "datos.popitem()\n",
    "print(\"\\n\\nDiccionario quitándole el dato agregado\",datos)"
   ]
  },
  {
   "cell_type": "code",
   "execution_count": 15,
   "metadata": {},
   "outputs": [
    {
     "name": "stdout",
     "output_type": "stream",
     "text": [
      "La diferencia con las listas es que, en el caso de diccionarios, es necesario espeficar la clave a eliminar mientras que con listas simplemente elimina el último valor\n"
     ]
    }
   ],
   "source": [
    "#3.- \n",
    "\n",
    "print(\"La diferencia con las listas es que, en el caso de diccionarios, es necesario espeficar la clave a eliminar mientras que con listas simplemente elimina el último valor\")"
   ]
  },
  {
   "cell_type": "code",
   "execution_count": 19,
   "metadata": {},
   "outputs": [
    {
     "name": "stdout",
     "output_type": "stream",
     "text": [
      "dict_items([('nombre1', 'Edgar'), ('ApellidoP', 'Loza'), ('Edad', 22), ('EstadoCivil', 'Soltero')]) \n",
      "\n",
      "\n",
      "('nombre1', 'Edgar')\n",
      "('ApellidoP', 'Loza')\n",
      "('Edad', 22)\n",
      "('EstadoCivil', 'Soltero')\n",
      "\n",
      "\n",
      " <class 'dict_items'>\n"
     ]
    }
   ],
   "source": [
    "#4.- La manera más sencilla es con el método items. Lo que hace es hacer una variable del tipo \"dict_items\" en la que hay una lista de tuplas\n",
    "# con el formato (clave, elementos). A través de eso, accedemos a cada tupla con un for y así lo iteramos.\n",
    "\n",
    "elementos = datos.items()   #Creando la variable que tiene los elementos\n",
    "print(elementos,\"\\n\\n\")   #Verificando su contenido \n",
    "for e in elementos:\n",
    "    print(e)                      #Iterando cada tupla e imprimiendo \n",
    "    \n",
    "print(\"\\n\\n\",type(elementos))     #Verificando el tipo de dato de la variable"
   ]
  },
  {
   "cell_type": "markdown",
   "metadata": {},
   "source": [
    "### Ejericio 2\n",
    "\n",
    "Crea una funcion que devuelva las coordenadas (x,y,z) a partir de las coordenadas esféricas (r, theta, phi). Guárdla a disco en el archivo transformaciones.py\n",
    "\n",
    "\n",
    "\n",
    "\n",
    "\n",
    "#### Notas:\n",
    "\n",
    "x = r*cos(theta)*sen(phi); y = r*sen(theta)*sen(phi); z = r*cos(phi)\n",
    "\n",
    "\n",
    "Si consideramos que el usuario ingresa los valores de fracciones para trabjar en radianes"
   ]
  },
  {
   "cell_type": "code",
   "execution_count": 34,
   "metadata": {},
   "outputs": [],
   "source": [
    "%magic"
   ]
  },
  {
   "cell_type": "code",
   "execution_count": 35,
   "metadata": {},
   "outputs": [],
   "source": [
    "import math\n",
    "from math import cos, sin"
   ]
  },
  {
   "cell_type": "code",
   "execution_count": 36,
   "metadata": {},
   "outputs": [
    {
     "name": "stdout",
     "output_type": "stream",
     "text": [
      "Writing transformaciones.py\n"
     ]
    }
   ],
   "source": [
    "%%file transformaciones.py\n",
    "\n",
    "def esfericas(r,o,p):\n",
    "    pi = math.pi\n",
    "    theta = o*pi\n",
    "    phi = p*pi\n",
    "\n",
    "    x = r*cos(theta)*sin(phi)\n",
    "    y = r*sin(theta)*sin(phi)\n",
    "    z = r*cos(phi)\n",
    "    \n",
    "    return (x,y,z)"
   ]
  },
  {
   "cell_type": "code",
   "execution_count": 37,
   "metadata": {},
   "outputs": [
    {
     "name": "stdout",
     "output_type": "stream",
     "text": [
      "\r\n",
      "def esfericas(r,o,p):\r\n",
      "    pi = math.pi\r\n",
      "    theta = o*pi\r\n",
      "    phi = p*pi\r\n",
      "\r\n",
      "    x = r*cos(theta)*sin(phi)\r\n",
      "    y = r*sin(theta)*sin(phi)\r\n",
      "    z = r*cos(phi)\r\n",
      "    \r\n",
      "    return (x,y,z)\r\n"
     ]
    }
   ],
   "source": [
    "!cat transformaciones.py"
   ]
  },
  {
   "cell_type": "code",
   "execution_count": 38,
   "metadata": {},
   "outputs": [
    {
     "data": {
      "text/plain": [
       "(1.0606601717798214, 1.8371173070873834, 2.121320343559643)"
      ]
     },
     "execution_count": 38,
     "metadata": {},
     "output_type": "execute_result"
    }
   ],
   "source": [
    "esfericas(3,1/3,1/4)"
   ]
  },
  {
   "cell_type": "markdown",
   "metadata": {},
   "source": [
    "## Ejercicio / Tarea\n",
    "\n",
    "Usando la funcion recién creada, usa la libreria interact para pedir los valores (r, theta, phi)"
   ]
  },
  {
   "cell_type": "code",
   "execution_count": 39,
   "metadata": {},
   "outputs": [],
   "source": [
    "from ipywidgets import interact, fixed, widgets"
   ]
  },
  {
   "cell_type": "code",
   "execution_count": 51,
   "metadata": {},
   "outputs": [
    {
     "data": {
      "application/vnd.jupyter.widget-view+json": {
       "model_id": "ddeb22104ad44f59bd6361e386309344",
       "version_major": 2,
       "version_minor": 0
      },
      "text/plain": [
       "interactive(children=(IntSlider(value=10, description='r', max=30, min=-10), FloatSlider(value=1.0, descriptio…"
      ]
     },
     "metadata": {},
     "output_type": "display_data"
    }
   ],
   "source": [
    "interact(esfericas, r=10, o=1.00, p=1.00);"
   ]
  }
 ],
 "metadata": {
  "kernelspec": {
   "display_name": "Python 3",
   "language": "python",
   "name": "python3"
  },
  "language_info": {
   "codemirror_mode": {
    "name": "ipython",
    "version": 3
   },
   "file_extension": ".py",
   "mimetype": "text/x-python",
   "name": "python",
   "nbconvert_exporter": "python",
   "pygments_lexer": "ipython3",
   "version": "3.8.5"
  }
 },
 "nbformat": 4,
 "nbformat_minor": 4
}
