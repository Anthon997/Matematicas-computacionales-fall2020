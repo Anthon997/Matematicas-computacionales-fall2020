{
 "cells": [
  {
   "cell_type": "markdown",
   "metadata": {},
   "source": [
    "# Tour de Python\n",
    "\n",
    "### María Fernanda López Juárez\n",
    "\n",
    "#### 01/Septiembre/2020"
   ]
  },
  {
   "cell_type": "markdown",
   "metadata": {},
   "source": [
    "## Teclado en python "
   ]
  },
  {
   "cell_type": "code",
   "execution_count": 1,
   "metadata": {},
   "outputs": [],
   "source": [
    "# Practicanding los enters \n",
    "\n",
    "# Shift + Enter ----> Ejecuta la celda actual y se mueva a la siguiente (Si no hay siguiente la agrega)\n",
    "# Ctr + Enter ------> Ejecuta la celda actual y se queda en ella \n",
    "# Alt + Enter ------> Ejecuta la celda actual e inserta una debajo "
   ]
  },
  {
   "cell_type": "code",
   "execution_count": 2,
   "metadata": {},
   "outputs": [
    {
     "name": "stdout",
     "output_type": "stream",
     "text": [
      "Hola, ¿cómo estás?\n"
     ]
    }
   ],
   "source": [
    "print(\"Hola, ¿cómo estás?\")   #Imprimiendo texto"
   ]
  },
  {
   "cell_type": "code",
   "execution_count": 3,
   "metadata": {},
   "outputs": [],
   "source": [
    "#Para obtener ayuda nomás poner ?\n",
    "\n",
    "? #Sí funcionó xd"
   ]
  },
  {
   "cell_type": "markdown",
   "metadata": {},
   "source": [
    "## Salida enriquecida\n",
    "\n",
    "\n",
    "Nos sirve para poner varias cosas dentro de Jupyter Notebook:imagenes, videos, audios, html, javascript, latex."
   ]
  },
  {
   "cell_type": "code",
   "execution_count": null,
   "metadata": {},
   "outputs": [],
   "source": []
  }
 ],
 "metadata": {
  "kernelspec": {
   "display_name": "Python 3",
   "language": "python",
   "name": "python3"
  },
  "language_info": {
   "codemirror_mode": {
    "name": "ipython",
    "version": 3
   },
   "file_extension": ".py",
   "mimetype": "text/x-python",
   "name": "python",
   "nbconvert_exporter": "python",
   "pygments_lexer": "ipython3",
   "version": "3.8.5"
  }
 },
 "nbformat": 4,
 "nbformat_minor": 4
}
