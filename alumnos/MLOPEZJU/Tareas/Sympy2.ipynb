{
 "cells": [
  {
   "cell_type": "markdown",
   "metadata": {},
   "source": [
    "# Tareas"
   ]
  },
  {
   "cell_type": "markdown",
   "metadata": {},
   "source": [
    "<div class=\"alert alert-warning\">\n",
    "Fecha límite de entrega: 9 de octubre, 2020 23:59\n",
    "</div>"
   ]
  },
  {
   "cell_type": "markdown",
   "metadata": {},
   "source": [
    "## Problema 1"
   ]
  },
  {
   "cell_type": "markdown",
   "metadata": {},
   "source": [
    "**(a)** Usando **SimPy** demostrar que \n",
    "\n",
    "$$\n",
    "\\frac{\\partial}{\\partial \\beta_j} \\textbf{J}(\\beta) = \\frac{1}{m}\\sum_{i=1}^{m}\\left(\\hat{y}(x^{(i)}) - y(x^{(i)})\\right) \\cdot x^{(i)}_j\n",
    "$$\n",
    "Para el caso de $\\beta_0, \\beta_1$ en $J(\\beta_0,\\beta_1)$."
   ]
  },
  {
   "cell_type": "code",
   "execution_count": 1,
   "metadata": {},
   "outputs": [],
   "source": [
    "from sympy.interactive import printing\n",
    "printing.init_printing(use_latex=True)\n",
    "\n",
    "from sympy import Symbol\n",
    "from sympy import *\n",
    "import sympy as sym"
   ]
  },
  {
   "cell_type": "code",
   "execution_count": 28,
   "metadata": {},
   "outputs": [],
   "source": [
    "x = IndexedBase('x')\n",
    "b = IndexedBase('beta')\n",
    "i = symbols('i')\n",
    "j = Symbol('j')\n",
    "n = Symbol('n')\n",
    "Yo = IndexedBase('y')\n",
    "xo = Symbol('x_1')\n",
    "xy=Symbol('XxY')"
   ]
  },
  {
   "cell_type": "code",
   "execution_count": 5,
   "metadata": {},
   "outputs": [
    {
     "data": {
      "image/png": "[encoded data removed]",
      "text/latex": [
       "$\\displaystyle \\sum_{j=0}^{n} {\\beta}_{j} {x}_{j}$"
      ],
      "text/plain": [
       "  n               \n",
       " ___              \n",
       " ╲                \n",
       "  ╲               \n",
       "  ╱   beta[j]⋅x[j]\n",
       " ╱                \n",
       " ‾‾‾              \n",
       "j = 0             "
      ]
     },
     "execution_count": 5,
     "metadata": {},
     "output_type": "execute_result"
    }
   ],
   "source": [
    "yg = summation(b[j]*x[j],[j,0,n])\n",
    "yg"
   ]
  },
  {
   "cell_type": "code",
   "execution_count": 11,
   "metadata": {},
   "outputs": [
    {
     "data": {
      "image/png": "[encoded data removed]",
      "text/latex": [
       "$\\displaystyle \\frac{\\sum_{i=0}^{XxY} \\left(- {x}_{i} \\sum_{j=0}^{n} {\\beta}_{j} {x}_{j} + {y}_{i}\\right)^{2}}{2 n}$"
      ],
      "text/plain": [
       "  XxY                                      \n",
       "_______                                    \n",
       "╲                                          \n",
       " ╲                                         \n",
       "  ╲                                       2\n",
       "   ╲    ⎛         n                      ⎞ \n",
       "    ╲   ⎜        ___                     ⎟ \n",
       "     ╲  ⎜        ╲                       ⎟ \n",
       "     ╱  ⎜         ╲                      ⎟ \n",
       "    ╱   ⎜- x[i]⋅  ╱   beta[j]⋅x[j] + y[i]⎟ \n",
       "   ╱    ⎜        ╱                       ⎟ \n",
       "  ╱     ⎜        ‾‾‾                     ⎟ \n",
       " ╱      ⎝       j = 0                    ⎠ \n",
       "╱                                          \n",
       "‾‾‾‾‾‾‾                                    \n",
       " i = 0                                     \n",
       "───────────────────────────────────────────\n",
       "                    2⋅n                    "
      ]
     },
     "execution_count": 11,
     "metadata": {},
     "output_type": "execute_result"
    }
   ],
   "source": [
    "j = (1/(2*n))*summation((Yo[i]-(yg*x[i]))**2,[i,0,xy])\n",
    "\n",
    "j"
   ]
  },
  {
   "cell_type": "code",
   "execution_count": 19,
   "metadata": {},
   "outputs": [
    {
     "data": {
      "image/png": "[encoded data removed]",
      "text/latex": [
       "$\\displaystyle J{\\left(\\beta \\right)} = \\frac{\\sum_{i=0}^{XxY} \\left(- {x}_{i} \\sum_{j=0}^{n} {\\beta}_{j} {x}_{j} + {y}_{i}\\right)^{2}}{2 n}$"
      ],
      "text/plain": [
       "         XxY                                      \n",
       "       _______                                    \n",
       "       ╲                                          \n",
       "        ╲                                         \n",
       "         ╲                                       2\n",
       "          ╲    ⎛         n                      ⎞ \n",
       "           ╲   ⎜        ___                     ⎟ \n",
       "            ╲  ⎜        ╲                       ⎟ \n",
       "            ╱  ⎜         ╲                      ⎟ \n",
       "           ╱   ⎜- x[i]⋅  ╱   beta[j]⋅x[j] + y[i]⎟ \n",
       "          ╱    ⎜        ╱                       ⎟ \n",
       "         ╱     ⎜        ‾‾‾                     ⎟ \n",
       "        ╱      ⎝       j = 0                    ⎠ \n",
       "       ╱                                          \n",
       "       ‾‾‾‾‾‾‾                                    \n",
       "        i = 0                                     \n",
       "J(β) = ───────────────────────────────────────────\n",
       "                           2⋅n                    "
      ]
     },
     "execution_count": 19,
     "metadata": {},
     "output_type": "execute_result"
    }
   ],
   "source": [
    "J = Function('J')\n",
    "bv = Symbol('beta')\n",
    "\n",
    "J1=Eq(J(bv),j)\n",
    "J1"
   ]
  },
  {
   "cell_type": "code",
   "execution_count": 41,
   "metadata": {},
   "outputs": [
    {
     "data": {
      "image/png": "[encoded data removed]",
      "text/latex": [
       "$\\displaystyle J{\\left(\\beta_{0},\\beta_{1} \\right)} = \\frac{\\sum_{i=0}^{XxY} \\left(- \\beta_{0} - \\beta_{1} {x}_{i} + {y}_{i}\\right)^{2}}{2 n}$"
      ],
      "text/plain": [
       "             XxY                         \n",
       "             ___                         \n",
       "             ╲                           \n",
       "              ╲                         2\n",
       "              ╱   (-β₀ - β₁⋅x[i] + y[i]) \n",
       "             ╱                           \n",
       "             ‾‾‾                         \n",
       "            i = 0                        \n",
       "J(β₀, β₁) = ─────────────────────────────\n",
       "                         2⋅n             "
      ]
     },
     "execution_count": 41,
     "metadata": {},
     "output_type": "execute_result"
    }
   ],
   "source": [
    "b0 = Symbol('beta_0')\n",
    "b1 = Symbol('beta_1')\n",
    "\n",
    "j3 = (1/(2*n))*summation((Yo[i]-b0-(b1*x[i]))**2,[i,0,xy])\n",
    "\n",
    "J2 = Eq(J(b0,b1),j3)\n",
    "J2"
   ]
  },
  {
   "cell_type": "code",
   "execution_count": 42,
   "metadata": {},
   "outputs": [
    {
     "data": {
      "image/png": "[encoded data removed]",
      "text/latex": [
       "$\\displaystyle \\frac{\\partial}{\\partial \\beta_{0}} J{\\left(\\beta_{0},\\beta_{1} \\right)} = \\frac{\\sum_{i=0}^{XxY} \\left(\\beta_{0} + \\beta_{1} {x}_{i} - {y}_{i}\\right)}{n}$"
      ],
      "text/plain": [
       "                  XxY                       \n",
       "                  ___                       \n",
       "                  ╲                         \n",
       "                   ╲                        \n",
       "                   ╱   (β₀ + β₁⋅x[i] - y[i])\n",
       "                  ╱                         \n",
       "                  ‾‾‾                       \n",
       " ∂               i = 0                      \n",
       "───(J(β₀, β₁)) = ───────────────────────────\n",
       "∂β₀                           n             "
      ]
     },
     "execution_count": 42,
     "metadata": {},
     "output_type": "execute_result"
    }
   ],
   "source": [
    "Eq(diff(J(b0,b1),b0),simplify(diff(j3,b0)))"
   ]
  },
  {
   "cell_type": "code",
   "execution_count": 45,
   "metadata": {},
   "outputs": [
    {
     "data": {
      "image/png": "[encoded data removed]",
      "text/latex": [
       "$\\displaystyle \\frac{\\partial}{\\partial \\beta_{1}} J{\\left(\\beta_{0},\\beta_{1} \\right)} = \\frac{\\sum_{i=0}^{XxY} \\left(\\beta_{0} + \\beta_{1} {x}_{i} - {y}_{i}\\right) {x}_{i}}{n}$"
      ],
      "text/plain": [
       "                  XxY                            \n",
       "                  ___                            \n",
       "                  ╲                              \n",
       "                   ╲                             \n",
       "                   ╱   (β₀ + β₁⋅x[i] - y[i])⋅x[i]\n",
       "                  ╱                              \n",
       "                  ‾‾‾                            \n",
       " ∂               i = 0                           \n",
       "───(J(β₀, β₁)) = ────────────────────────────────\n",
       "∂β₁                             n                "
      ]
     },
     "execution_count": 45,
     "metadata": {},
     "output_type": "execute_result"
    }
   ],
   "source": [
    "Eq(diff(J(b0,b1),b1),simplify(diff(j3,b1)))"
   ]
  },
  {
   "cell_type": "markdown",
   "metadata": {},
   "source": [
    "## Problema 2"
   ]
  },
  {
   "cell_type": "markdown",
   "metadata": {},
   "source": [
    "Usando el ejemplo de la clase ( i.e. Los archivos `edad.dat` y `altura.dat` contienen las mediciones de las estaturas (en metros) de varios niños entre las edad de 2 y 8 años. Cada _tupla_ de altura y edad, constituyen un ejemplo de entrenamiento $(x^{(i)}, y^{(i)})$ de nuestros datos. Hay $m = 50$ datos para entrenar que usaremos para realizar un modelo de regresión lineal. ) :"
   ]
  },
  {
   "cell_type": "markdown",
   "metadata": {},
   "source": [
    "**(a)** Grafique $\\textbf{J}(\\beta)$ del ejercicio en $3D$ y en una gráfica de contorno. \n",
    "\n",
    "**(b)** Indique con un punto el valor de $\\textbf{J}(\\beta)$ en la última iteración.\n",
    "\n",
    "**(c)** Modifique el _widget_ para mostrar conforme pasan las iteraciones como el valor de $\\textbf{J}(\\beta)$ se acerca al mínimo en la gráfica de contorno.\n",
    "\n",
    "**(d)** Agrega al _widget_ un control para modificar $\\alpha$ (habrá que agregar el entrenamiento del modelo a la función que estás realizando para este _widget_)"
   ]
  },
  {
   "cell_type": "markdown",
   "metadata": {},
   "source": [
    "## Problema 3"
   ]
  },
  {
   "cell_type": "markdown",
   "metadata": {},
   "source": [
    "**(a)**  Usando los datos de `chirps.txt`"
   ]
  },
  {
   "cell_type": "code",
   "execution_count": 4,
   "metadata": {},
   "outputs": [
    {
     "name": "stdout",
     "output_type": "stream",
     "text": [
      "#Chirps/Second \tTemperature (º F)\r\n",
      "20.0 \t88.6\r\n",
      "16.0 \t71.6\r\n",
      "19.8 \t93.3\r\n",
      "18.4 \t84.3\r\n",
      "17.1 \t80.6\r\n",
      "15.5 \t75.2\r\n",
      "14.7 \t69.7\r\n",
      "15.7 \t71.6\r\n",
      "15.4 \t69.4\r\n",
      "16.3 \t83.3\r\n",
      "15.0 \t79.6\r\n",
      "17.2 \t82.6\r\n",
      "16.0 \t80.6\r\n",
      "17.0 \t83.5\r\n",
      "14.4 \t76.3\r\n"
     ]
    }
   ],
   "source": [
    "%cat data/chirps.txt"
   ]
  },
  {
   "cell_type": "markdown",
   "metadata": {},
   "source": [
    "Entrenar una regresión lineal. Grafique los datos y el mejor modelo. Explique como llegó a los valores de $\\alpha$. ¿Coinciden con los mostrados en la página web?"
   ]
  },
  {
   "cell_type": "markdown",
   "metadata": {},
   "source": [
    "\n",
    "**NOTA**: Datos obtenidos de [aquí](http://mathbits.com/MathBits/TISection/Statistics2/linearREAL.htm)\n"
   ]
  },
  {
   "cell_type": "markdown",
   "metadata": {},
   "source": [
    "## Problema 4"
   ]
  },
  {
   "cell_type": "markdown",
   "metadata": {},
   "source": [
    "**(a)** Usando los datos del [cuarteto de Anscombe](http://en.wikipedia.org/wiki/Anscombe%27s_quartet) Calcule la regresión lineal ¿Qué sucede?"
   ]
  },
  {
   "cell_type": "markdown",
   "metadata": {},
   "source": [
    "## Problema 5"
   ]
  },
  {
   "cell_type": "markdown",
   "metadata": {},
   "source": [
    "Use el archivo `radioactive_decay.dat`"
   ]
  },
  {
   "cell_type": "code",
   "execution_count": 5,
   "metadata": {},
   "outputs": [
    {
     "name": "stdout",
     "output_type": "stream",
     "text": [
      "#time   N_(remaining)\r\n",
      "0.0\t10.48\r\n",
      "1.0\t7.54\r\n",
      "2.0\t5.49\r\n",
      "3.0\t4.02\r\n",
      "4.0\t2.74\r\n",
      "5.0\t2.02\r\n",
      "6.0\t1.50\r\n",
      "7.0\t1.09\r\n",
      "8.0\t0.68\r\n",
      "9.0\t0.57\r\n",
      "10.0\t0.37\r\n",
      "11.0\t0.31\r\n",
      "12.0\t0.19\r\n",
      "13.0\t0.15\r\n",
      "14.0\t0.13\r\n",
      "15.0\t0.11\r\n"
     ]
    }
   ],
   "source": [
    "%cat dat a/radioactive_decay.txt"
   ]
  },
  {
   "cell_type": "markdown",
   "metadata": {},
   "source": [
    "**(a)** Grafique los datos ¿Qué forma tienen?"
   ]
  },
  {
   "cell_type": "markdown",
   "metadata": {},
   "source": [
    "**(b)** ¿Qué transformación se le ocurre para linearizarlos? Explique y grafique de nuevo. Guarde los datos transformados en un archivo llamado `transform_radioactive_decay.txt`"
   ]
  },
  {
   "cell_type": "markdown",
   "metadata": {},
   "source": [
    "**(c)** Aplique la regresión lineal a este conjunto de datos transformado, leyendo los datos del archivo recién creado."
   ]
  },
  {
   "cell_type": "markdown",
   "metadata": {},
   "source": [
    "**(d)** ¿Cuáles son los valores de $\\beta$ que mejor ajustan? ¿Cuáles son el espacio sin transformar? Explique."
   ]
  }
 ],
 "metadata": {
  "kernelspec": {
   "display_name": "Python 3",
   "language": "python",
   "name": "python3"
  },
  "language_info": {
   "codemirror_mode": {
    "name": "ipython",
    "version": 3
   },
   "file_extension": ".py",
   "mimetype": "text/x-python",
   "name": "python",
   "nbconvert_exporter": "python",
   "pygments_lexer": "ipython3",
   "version": "3.8.5"
  }
 },
 "nbformat": 4,
 "nbformat_minor": 1
}
