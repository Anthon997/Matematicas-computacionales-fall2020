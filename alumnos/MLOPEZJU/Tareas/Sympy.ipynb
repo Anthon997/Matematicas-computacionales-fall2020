{
 "cells": [
  {
   "cell_type": "markdown",
   "metadata": {},
   "source": [
    "# Tareas"
   ]
  },
  {
   "cell_type": "markdown",
   "metadata": {},
   "source": [
    "<div class=\"alert alert-warning\">\n",
    "Fecha límite de entrega: 6 de octubre, 2020 23:59\n",
    "</div>"
   ]
  },
  {
   "cell_type": "markdown",
   "metadata": {},
   "source": [
    "## Problema 1"
   ]
  },
  {
   "cell_type": "markdown",
   "metadata": {},
   "source": [
    "**(a)** Usando **SimPy** demostrar que \n",
    "\n",
    "$$\n",
    "\\frac{\\partial}{\\partial \\beta_j} \\textbf{J}(\\beta) = \\frac{1}{m}\\sum_{i=1}^{m}\\left(\\hat{y}(x^{(i)}) - y(x^{(i)})\\right) \\cdot x^{(i)}_j\n",
    "$$"
   ]
  },
  {
   "cell_type": "code",
   "execution_count": 2,
   "metadata": {},
   "outputs": [],
   "source": [
    "from sympy.interactive import printing\n",
    "printing.init_printing(use_latex=True)\n",
    "\n",
    "from sympy import Symbol\n",
    "from sympy import *\n",
    "import sympy as sym"
   ]
  },
  {
   "cell_type": "code",
   "execution_count": 3,
   "metadata": {},
   "outputs": [
    {
     "data": {
      "image/png": "[encoded data removed]",
      "text/latex": [
       "$\\displaystyle \\sum_{i=0}^{n} {\\beta}_{i} {x}_{i}$"
      ],
      "text/plain": [
       "  n               \n",
       " ___              \n",
       " ╲                \n",
       "  ╲               \n",
       "  ╱   beta[i]⋅x[i]\n",
       " ╱                \n",
       " ‾‾‾              \n",
       "i = 0             "
      ]
     },
     "execution_count": 3,
     "metadata": {},
     "output_type": "execute_result"
    }
   ],
   "source": [
    "x = IndexedBase('x')\n",
    "b = IndexedBase('beta')\n",
    "i = symbols('i')\n",
    "j = Symbol('j')\n",
    "n = Symbol('n')\n",
    "y = summation(b[i]*x[i],[i,0,n])\n",
    "\n",
    "y"
   ]
  },
  {
   "cell_type": "code",
   "execution_count": 4,
   "metadata": {},
   "outputs": [
    {
     "data": {
      "image/png": "[encoded data removed]",
      "text/latex": [
       "$\\displaystyle \\frac{\\sum_{i=0}^{XxY} \\left(- {x}_{i} {y_{1}}_{i} + {y}_{i}\\right)^{2}}{2 n}$"
      ],
      "text/plain": [
       " XxY                       \n",
       " ___                       \n",
       " ╲                         \n",
       "  ╲                       2\n",
       "  ╱   (-x[i]⋅y1[i] + y[i]) \n",
       " ╱                         \n",
       " ‾‾‾                       \n",
       "i = 0                      \n",
       "───────────────────────────\n",
       "            2⋅n            "
      ]
     },
     "execution_count": 4,
     "metadata": {},
     "output_type": "execute_result"
    }
   ],
   "source": [
    "yo = IndexedBase('y1')\n",
    "Yo = IndexedBase('y')\n",
    "xy=Symbol('XxY')\n",
    "\n",
    "j = (1/(2*n))*summation((Yo[i]-(yo[i]*x[i]))**2,[i,0,xy])\n",
    "\n",
    "j"
   ]
  },
  {
   "cell_type": "code",
   "execution_count": 8,
   "metadata": {},
   "outputs": [
    {
     "data": {
      "image/png": "[encoded data removed]",
      "text/latex": [
       "$\\displaystyle \\frac{\\sum_{i=0}^{XxY} \\left(- {x}_{i} \\sum_{i=0}^{n} {\\beta}_{i} {x}_{i} + {y}_{i}\\right)}{2 n}$"
      ],
      "text/plain": [
       " XxY                                     \n",
       "______                                   \n",
       "╲                                        \n",
       " ╲     ⎛         n                      ⎞\n",
       "  ╲    ⎜        ___                     ⎟\n",
       "   ╲   ⎜        ╲                       ⎟\n",
       "    ╲  ⎜         ╲                      ⎟\n",
       "    ╱  ⎜- x[i]⋅  ╱   beta[i]⋅x[i] + y[i]⎟\n",
       "   ╱   ⎜        ╱                       ⎟\n",
       "  ╱    ⎜        ‾‾‾                     ⎟\n",
       " ╱     ⎝       i = 0                    ⎠\n",
       "╱                                        \n",
       "‾‾‾‾‾‾                                   \n",
       "i = 0                                    \n",
       "─────────────────────────────────────────\n",
       "                   2⋅n                   "
      ]
     },
     "execution_count": 8,
     "metadata": {},
     "output_type": "execute_result"
    }
   ],
   "source": [
    "j2 =(1/(2*n))*summation(Yo[i]-(y*x[i]),[i,0,xy])\n",
    "j2"
   ]
  },
  {
   "cell_type": "code",
   "execution_count": 15,
   "metadata": {},
   "outputs": [
    {
     "data": {
      "image/png": "[encoded data removed]",
      "text/latex": [
       "$\\displaystyle \\frac{\\sum_{i=0}^{XxY} - {x}_{i} \\sum_{i=0}^{n} 0}{2 n}$"
      ],
      "text/plain": [
       " XxY                \n",
       "______              \n",
       "╲                   \n",
       " ╲             n    \n",
       "  ╲           ___   \n",
       "   ╲          ╲     \n",
       "    ╲          ╲    \n",
       "    ╱  -x[i]⋅  ╱   0\n",
       "   ╱          ╱     \n",
       "  ╱           ‾‾‾   \n",
       " ╱           i = 0  \n",
       "╱                   \n",
       "‾‾‾‾‾‾              \n",
       "i = 0               \n",
       "────────────────────\n",
       "        2⋅n         "
      ]
     },
     "execution_count": 15,
     "metadata": {},
     "output_type": "execute_result"
    }
   ],
   "source": [
    "bj = Symbol('beta')\n",
    "diff(j2, bj)"
   ]
  },
  {
   "cell_type": "markdown",
   "metadata": {},
   "source": [
    "## Problema 2"
   ]
  },
  {
   "cell_type": "markdown",
   "metadata": {},
   "source": [
    "**(a)** Grafique $\\textbf{J}(\\beta)$ del ejercicio en $3D$ y en una gráfica de contorno. \n",
    "\n",
    "**(b)** Indique con un punto el valor de $\\textbf{J}(\\beta)$ en la última iteración.\n",
    "\n",
    "**(c)** Modifique el _widget_ para mostrar conforme pasan las iteraciones como el valor de $\\textbf{J}(\\beta)$ se acerca al mínimo en la gráfica de contorno.\n",
    "\n",
    "**(d)** Agrega al _widget_ un control para modificar $\\alpha$ (habrá que agregar el entrenamiento del modelo a la función que estás realizando para este _widget_)"
   ]
  },
  {
   "cell_type": "code",
   "execution_count": null,
   "metadata": {},
   "outputs": [],
   "source": []
  },
  {
   "cell_type": "markdown",
   "metadata": {},
   "source": [
    "## Problema 3"
   ]
  },
  {
   "cell_type": "markdown",
   "metadata": {},
   "source": [
    "**(a)**  Usando los datos de `chirps.txt`"
   ]
  },
  {
   "cell_type": "code",
   "execution_count": 16,
   "metadata": {},
   "outputs": [
    {
     "name": "stdout",
     "output_type": "stream",
     "text": [
      "#Chirps/Second \tTemperature (º F)\r\n",
      "20.0 \t88.6\r\n",
      "16.0 \t71.6\r\n",
      "19.8 \t93.3\r\n",
      "18.4 \t84.3\r\n",
      "17.1 \t80.6\r\n",
      "15.5 \t75.2\r\n",
      "14.7 \t69.7\r\n",
      "15.7 \t71.6\r\n",
      "15.4 \t69.4\r\n",
      "16.3 \t83.3\r\n",
      "15.0 \t79.6\r\n",
      "17.2 \t82.6\r\n",
      "16.0 \t80.6\r\n",
      "17.0 \t83.5\r\n",
      "14.4 \t76.3\r\n"
     ]
    }
   ],
   "source": [
    "%cat data/chirps.txt"
   ]
  },
  {
   "cell_type": "markdown",
   "metadata": {},
   "source": [
    "Entrenar una regresión lineal. Grafique los datos y el mejor modelo. Explique como llegó a los valores de $\\alpha$. ¿Coinciden con los mostrados en la página web?"
   ]
  },
  {
   "cell_type": "code",
   "execution_count": 18,
   "metadata": {},
   "outputs": [],
   "source": [
    "import matplotlib.pyplot as plt\n",
    "import numpy as np\n",
    "\n",
    "\n",
    "X = list(np.loadtxt('data/chirps.txt', usecols=[0]))\n",
    "Y = list(np.loadtxt('data/chirps.txt', usecols=[1]))\n",
    "\n",
    "\n",
    "\n",
    "class RegresionLineal:\n",
    "    def __init__(self, alpha=0.3, max_iters=100, tols=0.001):\n",
    "        \"\"\"\n",
    "        Parámetros.\n",
    "        ---------------\n",
    "        alpha = Learning rate\n",
    "        max_iters = Número máximo de iteraciones\n",
    "        tols = definición de convergencia\n",
    "        \"\"\"\n",
    "        self.alpha = alpha\n",
    "        self.max_iters = max_iters\n",
    "        self.tols = tols\n",
    "        self.breaking_iteration = None\n",
    "        self.historia = {'costo':[], 'beta':[]}  # Con fines de graficación\n",
    "        \n",
    "    def gradientDescent(self, x, y):\n",
    "        \"\"\"\n",
    "        Parámetros:\n",
    "        ---------------\n",
    "        x = vector de entrenamiento de features\n",
    "        y = vector de entrenamiento de variable a predecir (target)\n",
    "        \"\"\"    \n",
    "        \n",
    "        # ajustamos el vector de features\n",
    "        unos = np.ones((x.shape[0], 1))\n",
    "        Xt = x.reshape(x.shape[0], 1)\n",
    "        Xt = np.concatenate((unos, Xt), axis=1)\n",
    "        \n",
    "        i = 0\n",
    "        prep_J = 0\n",
    "        m, n = Xt.shape\n",
    "        self.beta = np.zeros(n) \n",
    "        \n",
    "        while i < self.max_iters:     \n",
    "            # Actualizamos beta\n",
    "            self.beta = self.beta - self.alpha * self.gradiente(Xt, y)\n",
    "            \n",
    "            J = self.costo(Xt, y)\n",
    "            \n",
    "            if abs(J - prep_J) <= self.tols:\n",
    "                print('La función convergió con beta: %s en la iteración %i' % ( str(self.beta), i ))\n",
    "                self.breaking_iteration = i\n",
    "                break\n",
    "            else:\n",
    "                prep_J = J\n",
    "            \n",
    "            self.historia['costo'].append(J)\n",
    "            self.historia['beta'].append(self.beta)                \n",
    "            i += 1\n",
    "    \n",
    "    def hipotesis(self, x):\n",
    "        return np.dot(x, self.beta)\n",
    "    \n",
    "    def costo(self, x, y):\n",
    "        m = x.shape[0]\n",
    "        error = self.hipotesis(x) - y\n",
    "        return np.dot(error.T, error) / (2 * m) \n",
    "    \n",
    "    def gradiente(self, x, y):\n",
    "        m = x.shape[0]\n",
    "        error = self.hipotesis(x) - y        \n",
    "        return np.dot(x.T, error) / m    "
   ]
  },
  {
   "cell_type": "code",
   "execution_count": 20,
   "metadata": {},
   "outputs": [
    {
     "data": {
      "text/plain": [
       "Text(0, 0.5, 'Temp')"
      ]
     },
     "execution_count": 20,
     "metadata": {},
     "output_type": "execute_result"
    },
    {
     "data": {
      "image/png": "[encoded data removed]",
      "text/plain": [
       "<Figure size 432x288 with 1 Axes>"
      ]
     },
     "metadata": {
      "needs_background": "light"
     },
     "output_type": "display_data"
    }
   ],
   "source": [
    "plt.scatter(X,Y, label=\"data\")\n",
    "plt.xlabel('Chirps')\n",
    "plt.ylabel('Temp')"
   ]
  },
  {
   "cell_type": "code",
   "execution_count": null,
   "metadata": {},
   "outputs": [],
   "source": []
  },
  {
   "cell_type": "markdown",
   "metadata": {},
   "source": [
    "\n",
    "**NOTA**: Datos obtenidos de [aquí](http://mathbits.com/MathBits/TISection/Statistics2/linearREAL.htm)\n"
   ]
  },
  {
   "cell_type": "markdown",
   "metadata": {},
   "source": [
    "## Problema 4"
   ]
  },
  {
   "cell_type": "markdown",
   "metadata": {},
   "source": [
    "**(a)** Usando los datos del [cuarteto de Anscombe](http://en.wikipedia.org/wiki/Anscombe%27s_quartet) Calcule la regresión lineal ¿Qué sucede?"
   ]
  },
  {
   "cell_type": "markdown",
   "metadata": {},
   "source": [
    "## Problema 5"
   ]
  },
  {
   "cell_type": "markdown",
   "metadata": {},
   "source": [
    "Use el archivo `radioactive_decay.dat`"
   ]
  },
  {
   "cell_type": "code",
   "execution_count": 5,
   "metadata": {},
   "outputs": [
    {
     "name": "stdout",
     "output_type": "stream",
     "text": [
      "#time   N_(remaining)\r\n",
      "0.0\t10.48\r\n",
      "1.0\t7.54\r\n",
      "2.0\t5.49\r\n",
      "3.0\t4.02\r\n",
      "4.0\t2.74\r\n",
      "5.0\t2.02\r\n",
      "6.0\t1.50\r\n",
      "7.0\t1.09\r\n",
      "8.0\t0.68\r\n",
      "9.0\t0.57\r\n",
      "10.0\t0.37\r\n",
      "11.0\t0.31\r\n",
      "12.0\t0.19\r\n",
      "13.0\t0.15\r\n",
      "14.0\t0.13\r\n",
      "15.0\t0.11\r\n"
     ]
    }
   ],
   "source": [
    "%cat data/radioactive_decay.txt"
   ]
  },
  {
   "cell_type": "markdown",
   "metadata": {},
   "source": [
    "**(a)** Grafique los datos ¿Qué forma tienen?"
   ]
  },
  {
   "cell_type": "markdown",
   "metadata": {},
   "source": [
    "**(b)** ¿Qué transformación se le ocurre para linearizarlos? Explique y grafique de nuevo. Guarde los datos transformados en un archivo llamado `transform_radioactive_decay.txt`"
   ]
  },
  {
   "cell_type": "markdown",
   "metadata": {},
   "source": [
    "**(c)** Aplique la regresión lineal a este conjunto de datos transformado, leyendo los datos del archivo recién creado."
   ]
  },
  {
   "cell_type": "markdown",
   "metadata": {},
   "source": [
    "**(d)** ¿Cuáles son los valores de $\\beta$ que mejor ajustan? ¿Cuáles son el espacio sin transformar? Explique."
   ]
  }
 ],
 "metadata": {
  "kernelspec": {
   "display_name": "Python 3",
   "language": "python",
   "name": "python3"
  },
  "language_info": {
   "codemirror_mode": {
    "name": "ipython",
    "version": 3
   },
   "file_extension": ".py",
   "mimetype": "text/x-python",
   "name": "python",
   "nbconvert_exporter": "python",
   "pygments_lexer": "ipython3",
   "version": "3.8.5"
  }
 },
 "nbformat": 4,
 "nbformat_minor": 1
}
