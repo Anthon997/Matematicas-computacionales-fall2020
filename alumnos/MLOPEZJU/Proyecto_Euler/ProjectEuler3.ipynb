{
 "cells": [
  {
   "cell_type": "markdown",
   "metadata": {},
   "source": [
    "# El factor primo más grande\n",
    "\n",
    "## María Fernanda López Juárez\n",
    "\n",
    "### 22- Septiembre- 2020\n",
    "\n",
    "##### Descripción del problema:\n",
    "\n",
    "Los factores primos de 13195 son 5, 7, 13 y 29.\n",
    "\n",
    "¿Cuál es factor primo más grande del número 600851475143?"
   ]
  },
  {
   "cell_type": "code",
   "execution_count": 1,
   "metadata": {},
   "outputs": [],
   "source": [
    "#Vamos a definir una función que nos de una lista de factores primos en un rango de numeros\n",
    "\n",
    "def listaprim(num):\n",
    "    primos = [2]   #Declaramos una lista que empieza en 2 para iniciar el rango en 2 y que no haya division entre cero\n",
    "\n",
    "    for i in range (2,num+1):  #Un rango de lista que incluya al numero que queremos, por si es primo \n",
    "        for j in range(2,num+1): #El mismo rango\n",
    "            if i == j:  #Si i = j siempre va a ser divisor y no tiene caso tampoco dividir entre numeros más grandes\n",
    "                break   #Lo sacamos del bucle de j \n",
    "            elif i%j == 0:  #Si hay un numero antes de llegar al igual que lo divida exactamente, descartamos esa i y seguimos con otra\n",
    "                break\n",
    "            else: \n",
    "                continue  #Si no lo rompe antes de que sean iguales serán primos \n",
    "        if i==j:   #Si no pusieramos esta condición se agregarían todos los i, así solo tomamos a los que ningun numero anterior lo dividio\n",
    "            if i in primos:\n",
    "                continue   #Con esto queremos evitar la repetición de numeros en la lista \n",
    "            else:\n",
    "                primos.append(i)   #Si no está y cumple las condiciones es primo, entonces lo agregamos\n",
    "    return primos"
   ]
  },
  {
   "cell_type": "code",
   "execution_count": 2,
   "metadata": {},
   "outputs": [],
   "source": [
    "#Esta función va a sacar los factores primos de un numero y obtendrá el mayor de ellos\n",
    "\n",
    "def factores(x):\n",
    "    factores = []   #La lista de factores está vacía\n",
    "    num = int(x**(1/2))   # El mayor numero primo es menor que la raíz del numero que estamos buscando\n",
    "    lista = listaprim(num)   # Generamos la lista de numeros primos antes de la raíz de dicho numero para buscar factores\n",
    "    for i in lista:\n",
    "        if x%i == 0:    #Si algun numero en la lista de primos lo divide, entonces es factor\n",
    "            factores.append(i)   #Si es factor lo agregamos a la lista de factores\n",
    "    m = max(factores)   #Con esto obtenemos el maximo factor de la lista\n",
    "    return m"
   ]
  },
  {
   "cell_type": "code",
   "execution_count": 3,
   "metadata": {},
   "outputs": [
    {
     "data": {
      "text/plain": [
       "29"
      ]
     },
     "execution_count": 3,
     "metadata": {},
     "output_type": "execute_result"
    }
   ],
   "source": [
    "factores(13195)  #Probando la función para ver que está bien"
   ]
  },
  {
   "cell_type": "code",
   "execution_count": 4,
   "metadata": {},
   "outputs": [
    {
     "ename": "KeyboardInterrupt",
     "evalue": "",
     "output_type": "error",
     "traceback": [
      "\u001b[0;31m---------------------------------------------------------------------------\u001b[0m",
      "\u001b[0;31mKeyboardInterrupt\u001b[0m                         Traceback (most recent call last)",
      "\u001b[0;32m<ipython-input-4-33289a14176c>\u001b[0m in \u001b[0;36m<module>\u001b[0;34m\u001b[0m\n\u001b[0;32m----> 1\u001b[0;31m \u001b[0mma\u001b[0m\u001b[0;34m=\u001b[0m\u001b[0mfactores\u001b[0m\u001b[0;34m(\u001b[0m\u001b[0;36m600851475143\u001b[0m\u001b[0;34m)\u001b[0m\u001b[0;34m\u001b[0m\u001b[0;34m\u001b[0m\u001b[0m\n\u001b[0m\u001b[1;32m      2\u001b[0m \u001b[0mprint\u001b[0m\u001b[0;34m(\u001b[0m\u001b[0;34m\"El maximo factor primo de 600851475143 es: \"\u001b[0m\u001b[0;34m,\u001b[0m \u001b[0mma\u001b[0m\u001b[0;34m)\u001b[0m\u001b[0;34m\u001b[0m\u001b[0;34m\u001b[0m\u001b[0m\n",
      "\u001b[0;32m<ipython-input-2-0cacaa1f6994>\u001b[0m in \u001b[0;36mfactores\u001b[0;34m(x)\u001b[0m\n\u001b[1;32m      4\u001b[0m     \u001b[0mfactores\u001b[0m \u001b[0;34m=\u001b[0m \u001b[0;34m[\u001b[0m\u001b[0;34m]\u001b[0m   \u001b[0;31m#La lista de factores está vacía\u001b[0m\u001b[0;34m\u001b[0m\u001b[0;34m\u001b[0m\u001b[0m\n\u001b[1;32m      5\u001b[0m     \u001b[0mnum\u001b[0m \u001b[0;34m=\u001b[0m \u001b[0mint\u001b[0m\u001b[0;34m(\u001b[0m\u001b[0mx\u001b[0m\u001b[0;34m**\u001b[0m\u001b[0;34m(\u001b[0m\u001b[0;36m1\u001b[0m\u001b[0;34m/\u001b[0m\u001b[0;36m2\u001b[0m\u001b[0;34m)\u001b[0m\u001b[0;34m)\u001b[0m   \u001b[0;31m# El mayor numero primo es menor que la raíz del numero que estamos buscando\u001b[0m\u001b[0;34m\u001b[0m\u001b[0;34m\u001b[0m\u001b[0m\n\u001b[0;32m----> 6\u001b[0;31m     \u001b[0mlista\u001b[0m \u001b[0;34m=\u001b[0m \u001b[0mlistaprim\u001b[0m\u001b[0;34m(\u001b[0m\u001b[0mnum\u001b[0m\u001b[0;34m)\u001b[0m   \u001b[0;31m# Generamos la lista de numeros primos antes de la raíz de dicho numero para buscar factores\u001b[0m\u001b[0;34m\u001b[0m\u001b[0;34m\u001b[0m\u001b[0m\n\u001b[0m\u001b[1;32m      7\u001b[0m     \u001b[0;32mfor\u001b[0m \u001b[0mi\u001b[0m \u001b[0;32min\u001b[0m \u001b[0mlista\u001b[0m\u001b[0;34m:\u001b[0m\u001b[0;34m\u001b[0m\u001b[0;34m\u001b[0m\u001b[0m\n\u001b[1;32m      8\u001b[0m         \u001b[0;32mif\u001b[0m \u001b[0mx\u001b[0m\u001b[0;34m%\u001b[0m\u001b[0mi\u001b[0m \u001b[0;34m==\u001b[0m \u001b[0;36m0\u001b[0m\u001b[0;34m:\u001b[0m    \u001b[0;31m#Si algun numero en la lista de primos lo divide, entonces es factor\u001b[0m\u001b[0;34m\u001b[0m\u001b[0;34m\u001b[0m\u001b[0m\n",
      "\u001b[0;32m<ipython-input-1-b9ea43b440cd>\u001b[0m in \u001b[0;36mlistaprim\u001b[0;34m(num)\u001b[0m\n\u001b[1;32m      8\u001b[0m             \u001b[0;32mif\u001b[0m \u001b[0mi\u001b[0m \u001b[0;34m==\u001b[0m \u001b[0mj\u001b[0m\u001b[0;34m:\u001b[0m  \u001b[0;31m#Si i = j siempre va a ser divisor y no tiene caso tampoco dividir entre numeros más grandes\u001b[0m\u001b[0;34m\u001b[0m\u001b[0;34m\u001b[0m\u001b[0m\n\u001b[1;32m      9\u001b[0m                 \u001b[0;32mbreak\u001b[0m   \u001b[0;31m#Lo sacamos del bucle de j\u001b[0m\u001b[0;34m\u001b[0m\u001b[0;34m\u001b[0m\u001b[0m\n\u001b[0;32m---> 10\u001b[0;31m             \u001b[0;32melif\u001b[0m \u001b[0mi\u001b[0m\u001b[0;34m%\u001b[0m\u001b[0mj\u001b[0m \u001b[0;34m==\u001b[0m \u001b[0;36m0\u001b[0m\u001b[0;34m:\u001b[0m  \u001b[0;31m#Si hay un numero antes de llegar al igual que lo divida exactamente, descartamos esa i y seguimos con otra\u001b[0m\u001b[0;34m\u001b[0m\u001b[0;34m\u001b[0m\u001b[0m\n\u001b[0m\u001b[1;32m     11\u001b[0m                 \u001b[0;32mbreak\u001b[0m\u001b[0;34m\u001b[0m\u001b[0;34m\u001b[0m\u001b[0m\n\u001b[1;32m     12\u001b[0m             \u001b[0;32melse\u001b[0m\u001b[0;34m:\u001b[0m\u001b[0;34m\u001b[0m\u001b[0;34m\u001b[0m\u001b[0m\n",
      "\u001b[0;31mKeyboardInterrupt\u001b[0m: "
     ]
    }
   ],
   "source": [
    "ma=factores(600851475143)\n",
    "print(\"El maximo factor primo de 600851475143 es: \", ma)"
   ]
  },
  {
   "cell_type": "code",
   "execution_count": null,
   "metadata": {},
   "outputs": [],
   "source": []
  }
 ],
 "metadata": {
  "kernelspec": {
   "display_name": "Python 3",
   "language": "python",
   "name": "python3"
  },
  "language_info": {
   "codemirror_mode": {
    "name": "ipython",
    "version": 3
   },
   "file_extension": ".py",
   "mimetype": "text/x-python",
   "name": "python",
   "nbconvert_exporter": "python",
   "pygments_lexer": "ipython3",
   "version": "3.8.5"
  }
 },
 "nbformat": 4,
 "nbformat_minor": 4
}
