{
 "cells": [
  {
   "cell_type": "markdown",
   "metadata": {},
   "source": [
    "# El factor primo más grande\n",
    "\n",
    "## María Fernanda López Juárez\n",
    "\n",
    "### 22- Septiembre- 2020\n",
    "\n",
    "##### Descripción del problema:\n",
    "\n",
    "Los factores primos de 13195 son 5, 7, 13 y 29.\n",
    "\n",
    "¿Cuál es factor primo más grande del número 600851475143?\n",
    "\n",
    "\n",
    "\n",
    "\n",
    "Apoyo que utilice para esta tarea: http://progpython.blogspot.com/2012/01/calculando-factores-primos-con-sympy.html"
   ]
  },
  {
   "cell_type": "code",
   "execution_count": 6,
   "metadata": {},
   "outputs": [],
   "source": [
    "from sympy.ntheory import primefactors as pf"
   ]
  },
  {
   "cell_type": "code",
   "execution_count": 7,
   "metadata": {},
   "outputs": [],
   "source": [
    "#Esta función va a sacar los factores primos de un numero y obtendrá el mayor de ellos\n",
    "\n",
    "def maxfact(x):\n",
    "    lista = pf(x)    #Definimos una lista con los factores primos del numero\n",
    "    maximo = max(lista)  #Obtenemos el mayor numero de esa lista\n",
    "    return maximo\n",
    "    "
   ]
  },
  {
   "cell_type": "code",
   "execution_count": 9,
   "metadata": {},
   "outputs": [
    {
     "data": {
      "text/plain": [
       "29"
      ]
     },
     "execution_count": 9,
     "metadata": {},
     "output_type": "execute_result"
    }
   ],
   "source": [
    "maxfact(13195)  #Probando la función para ver que está bien"
   ]
  },
  {
   "cell_type": "code",
   "execution_count": 10,
   "metadata": {},
   "outputs": [
    {
     "name": "stdout",
     "output_type": "stream",
     "text": [
      "El maximo factor primo de 600851475143 es:  6857\n"
     ]
    }
   ],
   "source": [
    "ma=maxfact(600851475143)\n",
    "print(\"El maximo factor primo de 600851475143 es: \", ma)"
   ]
  },
  {
   "cell_type": "code",
   "execution_count": null,
   "metadata": {},
   "outputs": [],
   "source": []
  }
 ],
 "metadata": {
  "kernelspec": {
   "display_name": "Python 3",
   "language": "python",
   "name": "python3"
  },
  "language_info": {
   "codemirror_mode": {
    "name": "ipython",
    "version": 3
   },
   "file_extension": ".py",
   "mimetype": "text/x-python",
   "name": "python",
   "nbconvert_exporter": "python",
   "pygments_lexer": "ipython3",
   "version": "3.8.5"
  }
 },
 "nbformat": 4,
 "nbformat_minor": 4
}
