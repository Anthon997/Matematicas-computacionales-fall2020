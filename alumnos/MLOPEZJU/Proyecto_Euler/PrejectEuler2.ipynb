{
 "cells": [
  {
   "cell_type": "markdown",
   "metadata": {},
   "source": [
    "# Even Fibonacci numbers\n",
    "\n",
    "## María Fernanda López Juárez\n",
    "\n",
    "### 03-Septiembre-2020\n",
    "\n",
    "\n",
    "\n",
    "##### Descripción del problema:\n",
    "\n",
    "\n",
    "Cada nuevo término de la secuencia de Fibonacci se genera sumando los dos términos anteriores. Al comenzar con 1 y 2, los primeros 10 términos serán:\n",
    "\n",
    "1, 1, 2, 3, 5, 8, 13, 21, 34, 55, 89, ...\n",
    "\n",
    "Al considerar los términos en la secuencia de Fibonacci cuyos valores no exceden los cuatro millones, encuentre la suma de los términos pares"
   ]
  },
  {
   "cell_type": "code",
   "execution_count": 5,
   "metadata": {},
   "outputs": [
    {
     "name": "stdout",
     "output_type": "stream",
     "text": [
      "[1, 1, 2, 3, 5, 8, 13, 21, 34, 55, 89]\n"
     ]
    }
   ],
   "source": [
    "#Probando como generar la sucesión de Fibonacci\n",
    "\n",
    "ej = [1,1,0]  #Lista con los primeros dos términos definidos y un cero para operar con él\n",
    "for i in range(2,11):\n",
    "    ej[i]=ej[i-1]+ej[i-2]    #A la ultima posición de la lista (siempre cero) le asignas la suma de los dos numeros anteriores\n",
    "    ej.append(0)    #Agregas un cero para seguir operando\n",
    "ej.pop()   #Quitas el cero que se agrega de más\n",
    "print(ej)"
   ]
  },
  {
   "cell_type": "code",
   "execution_count": 9,
   "metadata": {},
   "outputs": [
    {
     "name": "stdout",
     "output_type": "stream",
     "text": [
      "[1, 1, 2, 3, 5, 8, 13, 21, 34, 55, 89, 144, 233, 377, 610, 987, 1597, 2584, 4181, 6765, 10946, 17711, 28657, 46368, 75025, 121393, 196418, 317811, 514229, 832040, 1346269, 2178309, 3524578]\n"
     ]
    }
   ],
   "source": [
    "#Generando la sucesión de fibonacci que nos interesa\n",
    "\n",
    "fib = [1,1,0]\n",
    "i = 2   #Inicializas un contador en dos para operar desde el ultimo cero\n",
    "while True:   #While que se repite hasta que lo rompes\n",
    "    fib[i]=fib[i-1]+fib[i-2]    #A la ultima posición de la lista (siempre cero) le asignas la suma de los dos numeros anteriores\n",
    "    if fib[i]<4000000:  #Si el último número es menor que 4,000,000\n",
    "        fib.append(0)    #Le agrega el cero para operar \n",
    "        i+=1   #Aumenta el contador en uno para avanzar en la lista\n",
    "    else:    #Si no es menor que 4,000,000\n",
    "        fib.pop()   #Quita justamente el valor mayor o igual a 4,000,000\n",
    "        break  #Rompe el ciclo\n",
    "print(fib)  #Imprimimos para comprobar"
   ]
  },
  {
   "cell_type": "code",
   "execution_count": 10,
   "metadata": {},
   "outputs": [
    {
     "name": "stdout",
     "output_type": "stream",
     "text": [
      "La suma de los numeros pares de la sucesión de fibonacci menores a 4,000,000 es: 4613732\n"
     ]
    }
   ],
   "source": [
    "pares = [x for x in fib if x%2==0]  #Lista con los pares de la sucesión de fibonacci de interés\n",
    "\n",
    "suma = 0    #Inicializas en cero para que no haga cosas extrañas\n",
    "for i in pares:\n",
    "    suma += i   #Aquí estamos haciendo la suma\n",
    "print(\"La suma de los numeros pares de la sucesión de fibonacci menores a 4,000,000 es:\", suma)"
   ]
  },
  {
   "cell_type": "code",
   "execution_count": null,
   "metadata": {},
   "outputs": [],
   "source": []
  }
 ],
 "metadata": {
  "kernelspec": {
   "display_name": "Python 3",
   "language": "python",
   "name": "python3"
  },
  "language_info": {
   "codemirror_mode": {
    "name": "ipython",
    "version": 3
   },
   "file_extension": ".py",
   "mimetype": "text/x-python",
   "name": "python",
   "nbconvert_exporter": "python",
   "pygments_lexer": "ipython3",
   "version": "3.8.5"
  }
 },
 "nbformat": 4,
 "nbformat_minor": 4
}
