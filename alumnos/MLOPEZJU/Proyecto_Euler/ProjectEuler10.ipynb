{
 "cells": [
  {
   "cell_type": "markdown",
   "metadata": {},
   "source": [
    "# Suma de primos\n",
    "\n",
    "## María Fernanda López Juárez\n",
    "\n",
    "### 29- Septiembre- 2020\n",
    "\n",
    "##### Descripción del problema:\n",
    "\n",
    "La suma de numeros primos menores a 10 es 17\n",
    "\n",
    "¿Cuál es la suma de los primos menores a dos millones?\n",
    "\n",
    "\n",
    "\n",
    "Apoyo para esta tarea: documentación de Sympy Number Theory en https://docs.sympy.org/latest/modules/ntheory.html"
   ]
  },
  {
   "cell_type": "code",
   "execution_count": 8,
   "metadata": {},
   "outputs": [],
   "source": [
    "from sympy import sieve"
   ]
  },
  {
   "cell_type": "code",
   "execution_count": 12,
   "metadata": {},
   "outputs": [],
   "source": [
    "def suma(n):\n",
    "    l1 = [i for i in sieve.primerange(2,n)]  #Definimos una lista con los numeros primos que están en un rango\n",
    "    suma = 0    #Inicializamos una varible en cero\n",
    "    for i in l1:\n",
    "        suma += i  #Esto va sumando cada numero en la lista y lo almacena en una varible\n",
    "    return suma"
   ]
  },
  {
   "cell_type": "code",
   "execution_count": 14,
   "metadata": {},
   "outputs": [
    {
     "data": {
      "text/plain": [
       "17"
      ]
     },
     "execution_count": 14,
     "metadata": {},
     "output_type": "execute_result"
    }
   ],
   "source": [
    "suma(10)"
   ]
  },
  {
   "cell_type": "code",
   "execution_count": 15,
   "metadata": {},
   "outputs": [
    {
     "data": {
      "text/plain": [
       "142913828922"
      ]
     },
     "execution_count": 15,
     "metadata": {},
     "output_type": "execute_result"
    }
   ],
   "source": [
    "suma(2000000)"
   ]
  },
  {
   "cell_type": "code",
   "execution_count": null,
   "metadata": {},
   "outputs": [],
   "source": []
  },
  {
   "cell_type": "code",
   "execution_count": null,
   "metadata": {},
   "outputs": [],
   "source": []
  }
 ],
 "metadata": {
  "kernelspec": {
   "display_name": "Python 3",
   "language": "python",
   "name": "python3"
  },
  "language_info": {
   "codemirror_mode": {
    "name": "ipython",
    "version": 3
   },
   "file_extension": ".py",
   "mimetype": "text/x-python",
   "name": "python",
   "nbconvert_exporter": "python",
   "pygments_lexer": "ipython3",
   "version": "3.8.5"
  }
 },
 "nbformat": 4,
 "nbformat_minor": 4
}
