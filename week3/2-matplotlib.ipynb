{
 "cells": [
  {
   "cell_type": "markdown",
   "metadata": {},
   "source": [
    "# Matplotlib"
   ]
  },
  {
   "cell_type": "markdown",
   "metadata": {},
   "source": [
    "Es un paquete de graficación en 2D (aunque tiene capacidades _muy básicas_, 3D)"
   ]
  },
  {
   "cell_type": "markdown",
   "metadata": {},
   "source": [
    "<div class=\"alert alert-warning\">\n",
    "**NOTA** El material está basado en las notas de **SciPy**\n",
    "</div>"
   ]
  },
  {
   "cell_type": "code",
   "execution_count": null,
   "metadata": {},
   "outputs": [],
   "source": [
    "\n",
    "import numpy as np\n",
    "import matplotlib.pyplot as plt"
   ]
  },
  {
   "cell_type": "markdown",
   "metadata": {},
   "source": [
    "## Básico"
   ]
  },
  {
   "cell_type": "code",
   "execution_count": null,
   "metadata": {},
   "outputs": [],
   "source": [
    "X = np.linspace(-np.pi, np.pi, 256, endpoint=True)\n",
    "C, S = np.cos(X), np.sin(X)"
   ]
  },
  {
   "cell_type": "code",
   "execution_count": null,
   "metadata": {},
   "outputs": [],
   "source": [
    "plt.plot(X,C);\n",
    "plt.plot(X,S);"
   ]
  },
  {
   "cell_type": "code",
   "execution_count": null,
   "metadata": {},
   "outputs": [],
   "source": [
    "# Crea una figura de 8x6 pulgadas, con 80 puntos por pulgada (dots per inch = dpi)\n",
    "plt.figure(figsize=(8, 6), dpi=80)\n",
    "\n",
    "# Crea un subplot en una malla de 1x1.\n",
    "plt.subplot(1, 1, 1)\n",
    "\n",
    "# Dibuja el coseno en azul, con una línea contínua.\n",
    "plt.plot(X, C, color=\"blue\", linewidth=1.0, linestyle=\"-\")\n",
    "\n",
    "# Dibuja el seno en verde, con una línea contínua, con un ancho de 1 píxel.\n",
    "plt.plot(X, S, color=\"green\", linewidth=1.0, linestyle=\"-\")\n",
    "\n",
    "# Los límites de x\n",
    "plt.xlim(-4.0, 4.0)\n",
    "\n",
    "# Marcas ('ticks') del eje x\n",
    "plt.xticks(np.linspace(-4, 4, 9, endpoint=True))\n",
    "\n",
    "# Lo mismo para y, límites primero\n",
    "plt.ylim(-1.0, 1.0)\n",
    "\n",
    "# ticks\n",
    "plt.yticks(np.linspace(-1, 1, 5, endpoint=True))\n",
    "\n",
    "# Para guardar usando menor resolucion (menos dpi)\n",
    "# savefig(\"exercice_2.png\", dpi=72)\n",
    "\n",
    "# Para mostrar en pantalla (si no hubiésemos usado el %pylab inline)\n",
    "#plt.show()"
   ]
  },
  {
   "cell_type": "code",
   "execution_count": null,
   "metadata": {},
   "outputs": [],
   "source": [
    "plt.figure(figsize=(10, 6), dpi=80)\n",
    "plt.plot(X, C, color=\"blue\", linewidth=2.5, linestyle=\"-\")\n",
    "plt.plot(X, S, color=\"red\",  linewidth=2.5, linestyle=\"-\")"
   ]
  },
  {
   "cell_type": "markdown",
   "metadata": {},
   "source": [
    "## Leyenda"
   ]
  },
  {
   "cell_type": "code",
   "execution_count": null,
   "metadata": {},
   "outputs": [],
   "source": [
    "# Crea una figura de 8x6 pulgadas, con 80 puntos por pulgada (dots per inch = dpi)\n",
    "plt.figure(figsize=(8, 6), dpi=80)\n",
    "\n",
    "# Crea un subplot en una malla de 1x1.\n",
    "plt.subplot(1, 1, 1)\n",
    "\n",
    "plt.plot(X, C, color=\"blue\", linewidth=2.5, linestyle=\"-\", label=\"cosine\")\n",
    "plt.plot(X, S, color=\"red\",  linewidth=2.5, linestyle=\"-\", label=\"sine\")\n",
    "\n",
    "plt.legend(loc='best')"
   ]
  },
  {
   "cell_type": "code",
   "execution_count": null,
   "metadata": {},
   "outputs": [],
   "source": [
    "# Crea una figura de 8x6 pulgadas, con 80 puntos por pulgada (dots per inch = dpi)\n",
    "plt.figure(figsize=(8, 6), dpi=80)\n",
    "\n",
    "# Crea un subplot en una malla de 1x1.\n",
    "plt.subplot(1, 1, 1)\n",
    "\n",
    "t = 2 * np.pi / 3\n",
    "plt.plot(X, C, color=\"blue\", linewidth=2.5, linestyle=\"-\", label=\"cosine\")\n",
    "plt.plot(X, S, color=\"red\",  linewidth=2.5, linestyle=\"-\", label=\"sine\")\n",
    "\n",
    "plt.legend(loc='upper left')\n",
    "plt.plot([t, t], [0, np.cos(t)], color='blue', linewidth=2.5, linestyle=\"--\")\n",
    "plt.scatter([t, ], [np.cos(t), ], 50, color='blue')\n",
    "\n",
    "plt.annotate(r'$sin(\\frac{2\\pi}{3})=\\frac{\\sqrt{3}}{2}$',\n",
    "            xy=(t, np.sin(t)), xycoords='data',\n",
    "            xytext=(+10, +30), textcoords='offset points', fontsize=16,\n",
    "            arrowprops=dict(arrowstyle=\"->\", connectionstyle=\"arc3,rad=.2\"))\n",
    "\n",
    "plt.plot([t, t],[0, np.sin(t)], color='red', linewidth=2.5, linestyle=\"--\")\n",
    "plt.scatter([t, ],[np.sin(t), ], 50, color='red')\n",
    "\n",
    "plt.annotate(r'$cos(\\frac{2\\pi}{3})=-\\frac{1}{2}$',\n",
    "            xy=(t, np.cos(t)), xycoords='data',\n",
    "            xytext=(-90, -50), textcoords='offset points', fontsize=16,\n",
    "            arrowprops=dict(arrowstyle=\"->\", connectionstyle=\"arc3,rad=.2\"))"
   ]
  },
  {
   "cell_type": "markdown",
   "metadata": {},
   "source": [
    "## Ajustando detalles"
   ]
  },
  {
   "cell_type": "code",
   "execution_count": null,
   "metadata": {},
   "outputs": [],
   "source": [
    "plt.figure(figsize=(10, 6), dpi=80)\n",
    "#-----Changed line style to \"--\"\n",
    "plt.plot(X, C, color=\"blue\", linewidth=2.5, linestyle=\"--\")\n",
    "#-----\n",
    "plt.plot(X, S, color=\"red\",  linewidth=2.5, linestyle=\"-\")\n",
    "plt.xlim(X.min() * 1.1, X.max() * 1.1)\n",
    "plt.ylim(C.min() * 1.1, C.max() * 1.1)\n",
    "\n",
    "ax = plt.gca()  # gca stands for 'get current axis'\n",
    "ax.spines['right'].set_color('none')\n",
    "ax.spines['top'].set_color('none')\n",
    "ax.xaxis.set_ticks_position('bottom')\n",
    "ax.spines['bottom'].set_position(('data',0))\n",
    "ax.yaxis.set_ticks_position('left')\n",
    "ax.spines['left'].set_position(('data',0))\n",
    "\n",
    "plt.xticks([-np.pi, -np.pi/2, 0, np.pi/2, np.pi],\n",
    "          [r'$-\\pi$', r'$-\\pi/2$', r'$0$', r'$+\\pi/2$', r'$+\\pi$'])\n",
    "\n",
    "plt.yticks([-1, 0, +1],\n",
    "          [r'$-1$', r'$0$', r'$+1$'])\n",
    "\n",
    "#-----Changed line style to \"--\"\n",
    "plt.plot(X, X, color=\"blue\", linewidth=2.5, linestyle=\"--\", label=\"cosine\")\n",
    "#-----\n",
    "plt.plot(X, S, color=\"red\",  linewidth=2.5, linestyle=\"-\", label=\"sine\")\n",
    "plt.legend(loc='upper left', fontsize=20)\n",
    "\n",
    "t = 2 * np.pi / 3\n",
    "plt.plot([t, t], [0, np.cos(t)], color='blue', linewidth=2.5, linestyle=\"--\")\n",
    "plt.scatter([t, ], [np.cos(t), ], 50, color='blue')\n",
    "\n",
    "plt.annotate(r'$sin(\\frac{2\\pi}{3})=\\frac{\\sqrt{3}}{2}$',\n",
    "            xy=(t, np.sin(t)), xycoords='data',\n",
    "            xytext=(+10, +30), textcoords='offset points', fontsize=20,\n",
    "            arrowprops=dict(arrowstyle=\"->\", connectionstyle=\"arc3,rad=.2\"))\n",
    "\n",
    "plt.plot([t, t],[0, np.sin(t)], color='red', linewidth=2.5, linestyle=\"--\")\n",
    "plt.scatter([t, ],[np.sin(t), ], 50, color='red')\n",
    "\n",
    "plt.annotate(r'$cos(\\frac{2\\pi}{3})=-\\frac{1}{2}$',\n",
    "            xy=(t, np.cos(t)), xycoords='data',\n",
    "            xytext=(-90, -50), textcoords='offset points', fontsize=20,\n",
    "            arrowprops=dict(arrowstyle=\"->\", connectionstyle=\"arc3,rad=.2\"))\n",
    "\n",
    "#-----Start new code\n",
    "for label in ax.get_xticklabels() + ax.get_yticklabels():\n",
    "    label.set_fontsize(20)\n",
    "    label.set_bbox(dict(facecolor='white', edgecolor='None', alpha=0.65))\n",
    "#-----End new code\n",
    "\n",
    "plt.show()"
   ]
  },
  {
   "cell_type": "markdown",
   "metadata": {},
   "source": [
    "## Xkcd..."
   ]
  },
  {
   "cell_type": "code",
   "execution_count": null,
   "metadata": {},
   "outputs": [],
   "source": [
    "plt.figure(figsize=(10, 6), dpi=80)\n",
    "\n",
    "#-----Start new code\n",
    "plt.xkcd()\n",
    "#-----End new code\n",
    "\n",
    "plt.plot(X, C, color=\"blue\", linewidth=2.5, linestyle=\"--\")\n",
    "plt.plot(X, S, color=\"red\",  linewidth=2.5, linestyle=\"-\")\n",
    "plt.xlim(X.min() * 1.1, X.max() * 1.1)\n",
    "plt.ylim(C.min() * 1.1, C.max() * 1.1)\n",
    "\n",
    "ax = plt.gca()  # gca stands for 'get current axis'\n",
    "ax.spines['right'].set_color('none')\n",
    "ax.spines['top'].set_color('none')\n",
    "ax.xaxis.set_ticks_position('bottom')\n",
    "ax.spines['bottom'].set_position(('data',0))\n",
    "ax.yaxis.set_ticks_position('left')\n",
    "ax.spines['left'].set_position(('data',0))\n",
    "\n",
    "plt.xticks([-np.pi, -np.pi/2, 0, np.pi/2, np.pi],\n",
    "          [r'$-\\pi$', r'$-\\pi/2$', r'$0$', r'$+\\pi/2$', r'$+\\pi$'])\n",
    "\n",
    "plt.yticks([-1, 0, +1],\n",
    "          [r'$-1$', r'$0$', r'$+1$'])\n",
    "\n",
    "plt.plot(X, C, color=\"blue\", linewidth=2.5, linestyle=\"--\", label=\"cosine\")\n",
    "plt.plot(X, S, color=\"red\",  linewidth=2.5, linestyle=\"-\", label=\"sine\")\n",
    "plt.legend(loc='upper left', fontsize=20)\n",
    "\n",
    "t = 2 * np.pi / 3\n",
    "plt.plot([t, t], [0, np.cos(t)], color='blue', linewidth=2.5, linestyle=\"--\")\n",
    "plt.scatter([t, ], [np.cos(t), ], 50, color='blue')\n",
    "\n",
    "plt.annotate(r'$sin(\\frac{2\\pi}{3})=\\frac{\\sqrt{3}}{2}$',\n",
    "            xy=(t, np.sin(t)), xycoords='data',\n",
    "            xytext=(+10, +30), textcoords='offset points', fontsize=20,\n",
    "            arrowprops=dict(arrowstyle=\"->\", connectionstyle=\"arc3,rad=.2\"))\n",
    "\n",
    "plt.plot([t, t],[0, np.sin(t)], color='red', linewidth=2.5, linestyle=\"--\")\n",
    "plt.scatter([t, ],[np.sin(t), ], 50, color='red')\n",
    "\n",
    "plt.annotate(r'$cos(\\frac{2\\pi}{3})=-\\frac{1}{2}$',\n",
    "            xy=(t, np.cos(t)), xycoords='data',\n",
    "            xytext=(-90, -50), textcoords='offset points', fontsize=20,\n",
    "            arrowprops=dict(arrowstyle=\"->\", connectionstyle=\"arc3,rad=.2\"))\n",
    "\n",
    "for label in ax.get_xticklabels() + ax.get_yticklabels():\n",
    "    label.set_fontsize(20)\n",
    "    label.set_bbox(dict(facecolor='white', edgecolor='None', alpha=0.65))\n",
    "\n",
    "plt.show()"
   ]
  },
  {
   "cell_type": "code",
   "execution_count": null,
   "metadata": {},
   "outputs": [],
   "source": [
    "# Make some data to plot\n",
    "x = np.linspace(0, 2*np.pi)\n",
    "y1 = np.sin(x)\n",
    "y2 = np.cos(x)\n",
    "\n",
    "# First, create an empty figure with 1 subplot\n",
    "fig, ax1 = plt.subplots(1, 1)\n",
    "\n",
    "# Add title and labels\n",
    "ax1.set_title('My Plot',fontsize=20)\n",
    "ax1.set_xlabel('x',fontsize=20)\n",
    "ax1.set_ylabel('y',fontsize=20)\n",
    "\n",
    "# Change axis limits\n",
    "ax1.set_xlim([0,2])\n",
    "ax1.set_ylim([-1, 2])\n",
    "\n",
    "# Add the lines, changing their color, style, and marker\n",
    "ax1.plot(x, y1, 'k--o', label='sin') # Black line, dashed, with 'o' markers\n",
    "ax1.plot(x, y2, 'r-^', label='cos') # Red line, solid, with triangle-up markers\n",
    "\n",
    "# Adjust tick marks and get rid of 'box'\n",
    "ax1.tick_params(direction='out', top=False, right=False) # Turn ticks out\n",
    "ax1.spines['top'].set_visible(False) # Get rid of top axis line\n",
    "ax1.spines['right'].set_visible(False) #  Get rid of bottom axis line\n",
    "\n",
    "# Add subplot letter\n",
    "ax1.annotate('(a)', (0.01, 0.96), size=12, xycoords='figure fraction')\n",
    "\n",
    "# Add legend\n",
    "ax1.legend()\n",
    "\n",
    "# Finally, save the figure as a png file\n",
    "fig.savefig('myfig-formatted.png')"
   ]
  },
  {
   "cell_type": "markdown",
   "metadata": {},
   "source": [
    "## Reiniciar"
   ]
  },
  {
   "cell_type": "code",
   "execution_count": null,
   "metadata": {},
   "outputs": [],
   "source": [
    "plt.rcdefaults()\n",
    "%pylab inline"
   ]
  },
  {
   "cell_type": "markdown",
   "metadata": {},
   "source": [
    "<div class=\"alert alert-info\">\n",
    "**Ejercicio** Ejecuta el código de la última gráfica ¿Qué sucede?\n",
    "</div>"
   ]
  },
  {
   "cell_type": "markdown",
   "metadata": {},
   "source": [
    "## Subplots"
   ]
  },
  {
   "cell_type": "code",
   "execution_count": null,
   "metadata": {},
   "outputs": [],
   "source": [
    "x = np.linspace(0., 5.)\n",
    "y = np.exp(-x)\n",
    "\n",
    "# Una figura con cuatro subgráficas\n",
    "fig, ax = plt.subplots(2,2, figsize=(10,6))\n",
    "\n",
    "# Dibuja cada eje con diferentes escalas\n",
    "ax[0,0].plot(x,y) # Normal\n",
    "ax[0,1].loglog(x,y) #Log en x, Log en y\n",
    "ax[1,0].semilogx(x,y) # Sólo log en x\n",
    "ax[1,1].semilogy(x,y); # Sólo log en y"
   ]
  },
  {
   "cell_type": "code",
   "execution_count": null,
   "metadata": {},
   "outputs": [],
   "source": []
  },
  {
   "cell_type": "markdown",
   "metadata": {},
   "source": [
    "<div class=\"alert alert-info\">\n",
    "**Ejercicio** Crea una figura, en la que muestres en un arreglo de $2 \\times 2$  los _subplots_ de $x \\cos x$, $x^2 \\cos x$, $x^3 \\cos x$ y $x^4 \\cos x$.\n",
    "<br/>\n",
    "**Ejercicio** Repite las instrucciones pero ahora dibujalas todas en una misma gráfica, utilizando diferentes colores. \n",
    "<br/>\n",
    "**NOTA**: En ambas usa calidad profesional\n",
    "</div>"
   ]
  },
  {
   "cell_type": "markdown",
   "metadata": {},
   "source": [
    "## Otros tipos de gráficas"
   ]
  },
  {
   "cell_type": "markdown",
   "metadata": {},
   "source": [
    "### Scatterplot"
   ]
  },
  {
   "cell_type": "code",
   "execution_count": null,
   "metadata": {},
   "outputs": [],
   "source": [
    "# Inventamos datos al azar\n",
    "x = np.arange(0, 100)\n",
    "y = np.random.rand(100)  \n",
    "plt.scatter(x,y);"
   ]
  },
  {
   "cell_type": "markdown",
   "metadata": {},
   "source": [
    "## Histograma"
   ]
  },
  {
   "cell_type": "code",
   "execution_count": null,
   "metadata": {},
   "outputs": [],
   "source": [
    "mu, sigma = 100, 15\n",
    "x = mu + sigma * np.random.randn(10000)\n",
    "\n",
    "# Histograma de los datos\n",
    "n, bins, patches = plt.hist(x, 50, density=True, facecolor='g', alpha=0.75)\n",
    "\n",
    "plt.xlabel('Smarts',fontsize=20)\n",
    "plt.ylabel('Probability',fontsize=20)\n",
    "plt.title('Histogram of IQ',fontsize=20)\n",
    "\n",
    "# Texto en la posición pedida\n",
    "plt.text(45, .027, r'$\\mu=100,\\ \\sigma=15$', fontsize=20)\n",
    "plt.axis([40, 160, 0, 0.03])\n",
    "plt.xticks(fontsize=20)\n",
    "plt.yticks(fontsize=20)\n",
    "plt.grid();"
   ]
  },
  {
   "cell_type": "markdown",
   "metadata": {},
   "source": [
    "## Imágenes y matrices"
   ]
  },
  {
   "cell_type": "code",
   "execution_count": null,
   "metadata": {},
   "outputs": [],
   "source": [
    "# Una imagen y un arreglo al azar\n",
    "#from scipy import misc\n",
    "import scipy.misc\n",
    "img1 = scipy.misc.face()\n",
    "img2 = np.random.rand(128, 128) \n",
    "\n",
    "# Realizamos la figura\n",
    "fig, ax = plt.subplots(1, 2)\n",
    "ax[0].imshow(img1)\n",
    "ax[1].imshow(img2)\n",
    "\n",
    "ax[0].set_axis_off()  # Quitamos los ejes de la primera figura (es una imagen)"
   ]
  },
  {
   "cell_type": "markdown",
   "metadata": {},
   "source": [
    "## Graficar en 3D (Básico)"
   ]
  },
  {
   "cell_type": "code",
   "execution_count": null,
   "metadata": {},
   "outputs": [],
   "source": [
    "from mpl_toolkits.mplot3d import Axes3D"
   ]
  },
  {
   "cell_type": "code",
   "execution_count": null,
   "metadata": {},
   "outputs": [],
   "source": [
    "from mpl_toolkits.mplot3d.axes3d import Axes3D\n",
    "from matplotlib import cm\n",
    "\n",
    "fig = plt.figure()\n",
    "ax = fig.add_subplot(1, 1, 1, projection='3d')\n",
    "X = np.arange(-5, 5, 0.25)\n",
    "Y = np.arange(-5, 5, 0.25)\n",
    "\n",
    "X, Y = np.meshgrid(X, Y)\n",
    "R = np.sqrt(X**2 + Y**2)\n",
    "Z = np.sin(R)\n",
    "surf = ax.plot_surface(X, Y, Z, rstride=1, cstride=1, cmap=cm.jet,\n",
    "        linewidth=0, antialiased=False)\n",
    "ax.set_zlim3d(-1.01, 1.01);"
   ]
  },
  {
   "cell_type": "markdown",
   "metadata": {},
   "source": [
    "#### Un ejemplo de Electrostática:"
   ]
  },
  {
   "cell_type": "markdown",
   "metadata": {},
   "source": [
    "Podemos utilizar gráficos 3D para visualizar el potencial electrico de un grupo de cargas. El caso particular del dipolo eléctrico es simplemente la suma del postencial de dos cargas separadas por una distancia. Considera un par de cargas puntuales $\\pm q$ localizadas en $x = 0$ y $y = \\pm d$.\n",
    "\n",
    "El potencial será entonces:\n",
    "\n",
    "$$\n",
    "V(x,y) = V_1 + V_2 = \\frac{k(q)}{\\sqrt{x^2+(y-d)^2}} + \\frac{k(-q)}{\\sqrt{x^2+(y+d)^2}}\n",
    "$$\n",
    "\n",
    "Donde $k = 1/4\\pi\\epsilon_0$.  Para ver el potencial, da los valores como  $k$=1, $q$=1, and $d$=1. \n",
    "\n",
    "Primero, haremos el grafico de la función  $V(x,y)$.  Las funciones 2D son más complicadas que las funciones 1D. Se necesita un arreglo de bidimensional para $(x,y)$ de puntos para cubrir el plano. La función `meshgrid` crea los arreglos  $x$ y $y$. "
   ]
  },
  {
   "cell_type": "code",
   "execution_count": null,
   "metadata": {},
   "outputs": [],
   "source": [
    "from mpl_toolkits.mplot3d import Axes3D\n",
    "\n",
    "# Hacemos una malla x-y entre -2<x<2 and -2<y<2 en steps de 0.06\n",
    "dx = 0.06\n",
    "dy = 0.06\n",
    "x = np.arange(-2, 2, dx)\n",
    "y = np.arange(-2, 2, dy)\n",
    "x, y = np.meshgrid(x, y)\n",
    "\n",
    "# La fucnión V(x,y)\n",
    "k = 1; q = 1; d = 1\n",
    "V=(k*q/(x**2+(y-d)**2)**(1/2.)) - (k*q/(x**2+(y+d)**2)**(1/2.))\n",
    "\n",
    "# Para usar los gráficos 3D en matplotlib, debemos crear una instancia de la clase Axes3D. \n",
    "fig = plt.figure(figsize=(15, 10), dpi=80)\n",
    "\n",
    "# Usemos el método gca (\"get current axis\") en la figura para obtener la proyección 3D\n",
    "ax = fig.gca(projection='3d')\n",
    "p = ax.plot_surface(x, y, V, rstride=1, cstride=1, linewidth=0,cmap=cm.coolwarm)\n",
    "\n",
    "#¿Qué significan los argumentos?\n",
    "#help(Axes3D.plot surface). \n",
    "cb = fig.colorbar(p, shrink=0.5)\n",
    "\n",
    "plt.xlabel(\"x\")\n",
    "plt.ylabel(\"y\")\n",
    "\n",
    "plt.savefig(\"Dipole.png\")"
   ]
  },
  {
   "cell_type": "code",
   "execution_count": null,
   "metadata": {},
   "outputs": [],
   "source": [
    "X.shape"
   ]
  },
  {
   "cell_type": "markdown",
   "metadata": {},
   "source": [
    "## Gráficas de contorno"
   ]
  },
  {
   "cell_type": "code",
   "execution_count": null,
   "metadata": {},
   "outputs": [],
   "source": [
    "# Representa gráficos 3D pero en contornos...\n",
    "levels = np.arange(-8, 8,0.1 )\n",
    "plt.contour(x,y,V,levels ,linewidths=4,cmap=cm.coolwarm);"
   ]
  },
  {
   "cell_type": "code",
   "execution_count": null,
   "metadata": {},
   "outputs": [],
   "source": []
  }
 ],
 "metadata": {
  "kernelspec": {
   "display_name": "Python 3",
   "language": "python",
   "name": "python3"
  },
  "language_info": {
   "codemirror_mode": {
    "name": "ipython",
    "version": 3
   },
   "file_extension": ".py",
   "mimetype": "text/x-python",
   "name": "python",
   "nbconvert_exporter": "python",
   "pygments_lexer": "ipython3",
   "version": "3.7.6"
  }
 },
 "nbformat": 4,
 "nbformat_minor": 1
}
