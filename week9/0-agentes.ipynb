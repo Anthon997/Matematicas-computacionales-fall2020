{
 "cells": [
  {
   "cell_type": "code",
   "execution_count": 1,
   "metadata": {},
   "outputs": [],
   "source": [
    "import random\n",
    "import numpy as np\n",
    "import matplotlib.pyplot as plt\n",
    "from matplotlib import animation, rc\n",
    "from IPython.display import HTML"
   ]
  },
  {
   "cell_type": "code",
   "execution_count": 2,
   "metadata": {},
   "outputs": [],
   "source": [
    "random.seed(10)"
   ]
  },
  {
   "cell_type": "markdown",
   "metadata": {},
   "source": [
    "# Modelado basado en Agentes"
   ]
  },
  {
   "cell_type": "markdown",
   "metadata": {},
   "source": [
    "El [modelado basado en agentes (ABM)](http://en.wikipedia.org/wiki/Agent-based_model) surge en la década de los 70s. Se caracteriza por la aparición de un _ente_, llamado **agente** que cumple con las siguientes características:\n",
    "\n",
    "- Los agentes modelan comportamiento inteligente, usualmente mediante un conjunto simple de reglas.\n",
    "\n",
    "- Los agentes están localizados en el espacio (_Mundo_) e interactúan con otros agentes (sus _vecinos_) localmente.\n",
    "\n",
    "- Debido a esto, los agentes tienen información imperfecta y local.\n",
    "\n",
    "- Elemento azarosos en los agentes o en el mundo."
   ]
  },
  {
   "cell_type": "markdown",
   "metadata": {},
   "source": [
    "Las características mencionadas los hace ideales para:\n",
    "\n",
    "- Estudiar la dinámica de sistemas que no están en equilibrio.\n",
    "\n",
    "- Entender la aparición de **macrocomportamiento** a partir de _motivos individuales_."
   ]
  },
  {
   "cell_type": "code",
   "execution_count": 3,
   "metadata": {},
   "outputs": [],
   "source": [
    "class Agente:\n",
    "    \"\"\" Agente general \"\"\"\n",
    "    def __init__(self, tipo, locacion=np.array([0,0])):\n",
    "        self.tipo = tipo\n",
    "        self.locacion = locacion\n",
    "        self.siguiente_accion = None\n",
    "\n",
    "    def distancia(self, otro):\n",
    "        \"Calcula la distancia euclídea entre este agente y otro.\"\n",
    "        return np.linalg.norm(self.locacion - otro.locacion)  # Otra manera es usar np.sqrt(np.sum((a-b)**2))\n",
    "    \n",
    "    def vecinos(self, agentes):\n",
    "        pass\n",
    "    \n",
    "    def actuar(self, agentes):\n",
    "        self.locacion =  self.siguiente_accion\n",
    "        \n",
    "    def decidir(self, agentes):\n",
    "        self.siguiente_accion = np.array([random.uniform(0, 1), random.uniform(0, 1)]) # Toma una nueva posición al azar\n",
    "    \n",
    "    def actualizar(self, agentes):\n",
    "        self.decidir(agentes)\n",
    "        self.actuar(agentes)"
   ]
  },
  {
   "cell_type": "code",
   "execution_count": 4,
   "metadata": {},
   "outputs": [],
   "source": [
    "class Mundo:\n",
    "    def __init__(self, agentes, ancho=8, alto=8, steps = 10):\n",
    "        self.agentes = agentes\n",
    "        self.ancho = ancho\n",
    "        self.alto = alto\n",
    "        self.steps = steps\n",
    "        self.init_anim()\n",
    "        \n",
    "        print (\"Creado el mundo\")\n",
    "        \n",
    "    def init_anim(self):\n",
    "        self.fig = plt.figure(figsize=(self.ancho, self.alto))\n",
    "        self.ax = plt.axes(xlim=(0, 1), ylim=(0, 1))\n",
    "        plot_args = {'markersize' : 8, 'alpha' : 0.6}\n",
    "        self.puntos, = self.ax.plot([], [], 'o', **plot_args)\n",
    "       \n",
    "       \n",
    "    def dibujar(self, step):\n",
    "        x_values_0, y_values_0 = [], []\n",
    "        for agente in self.agentes:\n",
    "            x, y = agente.locacion\n",
    "            x_values_0.append(x)\n",
    "            y_values_0.append(y)\n",
    "\n",
    "        self.puntos.set_data(x_values_0, y_values_0)\n",
    "        \n",
    "        self.ax.set_title('Paso {}'.format(step))\n",
    "        \n",
    "        return self.puntos,\n",
    "       \n",
    "    def actualizar(self, step):   \n",
    "        self.dibujar(step) # Dibuja el mundo\n",
    "        \n",
    "        for agente in self.agentes:\n",
    "            agente.actualizar(self.agentes)\n",
    "    \n",
    "    def clean_screen(self):\n",
    "        self.puntos.set_data([], [])\n",
    "        return self.puntos,\n",
    "          \n",
    "    def simular(self):\n",
    "        anim = animation.FuncAnimation(self.fig, self.actualizar, init_func=self.clean_screen, frames=self.steps, interval=1000, blit=False)\n",
    "        return anim\n"
   ]
  },
  {
   "cell_type": "code",
   "execution_count": 5,
   "metadata": {},
   "outputs": [
    {
     "name": "stdout",
     "output_type": "stream",
     "text": [
      "Creado el mundo\n"
     ]
    },
    {
     "data": {
      "image/png": "[encoded data removed]",
      "text/plain": [
       "<Figure size 576x576 with 1 Axes>"
      ]
     },
     "metadata": {
      "needs_background": "light"
     },
     "output_type": "display_data"
    }
   ],
   "source": [
    "num_agentes = 10\n",
    "\n",
    "agentes_simples = [Agente(tipo=0) for i in range(num_agentes)]\n",
    "\n",
    "\n",
    "sin_chiste = Mundo(agentes = agentes_simples, steps = 10)\n",
    "\n",
    "\n",
    "simulacion = sin_chiste.simular()"
   ]
  },
  {
   "cell_type": "code",
   "execution_count": 6,
   "metadata": {},
   "outputs": [
    {
     "data": {
      "text/html": [
       "<video width=\"576\" height=\"576\" controls autoplay loop>\n",
       "  <source type=\"video/mp4\" src=\"data:video/mp4;base64,AAAAIGZ0eXBNNFYgAAACAE00ViBpc29taXNvMmF2YzEAAAAIZnJlZQAAOAttZGF0AAACoAYF//+c\n",
       "3EXpvebZSLeWLNgg2SPu73gyNjQgLSBjb3JlIDE1MiAtIEguMjY0L01QRUctNCBBVkMgY29kZWMg\n",
       "LSBDb3B5bGVmdCAyMDAzLTIwMTcgLSBodHRwOi8vd3d3LnZpZGVvbGFuLm9yZy94MjY0Lmh0bWwg\n",
       "LSBvcHRpb25zOiBjYWJhYz0xIHJlZj0zIGRlYmxvY2s9MTowOjAgYW5hbHlzZT0weDM6MHgxMTMg\n",
       "bWU9aGV4IHN1Ym1lPTcgcHN5PTEgcHN5X3JkPTEuMDA6MC4wMCBtaXhlZF9yZWY9MSBtZV9yYW5n\n",
       "ZT0xNiBjaHJvbWFfbWU9MSB0cmVsbGlzPTEgOHg4ZGN0PTEgY3FtPTAgZGVhZHpvbmU9MjEsMTEg\n",
       "ZmFzdF9wc2tpcD0xIGNocm9tYV9xcF9vZmZzZXQ9LTIgdGhyZWFkcz0xOCBsb29rYWhlYWRfdGhy\n",
       "ZWFkcz0zIHNsaWNlZF90aHJlYWRzPTAgbnI9MCBkZWNpbWF0ZT0xIGludGVybGFjZWQ9MCBibHVy\n",
       "YXlfY29tcGF0PTAgY29uc3RyYWluZWRfaW50cmE9MCBiZnJhbWVzPTMgYl9weXJhbWlkPTIgYl9h\n",
       "ZGFwdD0xIGJfYmlhcz0wIGRpcmVjdD0xIHdlaWdodGI9MSBvcGVuX2dvcD0wIHdlaWdodHA9MiBr\n",
       "ZXlpbnQ9MjUwIGtleWludF9taW49MSBzY2VuZWN1dD00MCBpbnRyYV9yZWZyZXNoPTAgcmNfbG9v\n",
       "a2FoZWFkPTQwIHJjPWNyZiBtYnRyZWU9MSBjcmY9MjMuMCBxY29tcD0wLjYwIHFwbWluPTAgcXBt\n",
       "YXg9NjkgcXBzdGVwPTQgaXBfcmF0aW89MS40MCBhcT0xOjEuMDAAgAAACsZliIQAF//+99S3zLLt\n",
       "U2+2C6j3op4mX0N1JQGblsTtOoAAAAMAAAMABBemSeywS24gSzAAAD1gBAnmTyCZeYb8QA3MhKXZ\n",
       "ZLk8vCjzLRuvP0if4xybal05dn8tVsyszRhxcPS/sOE2VhBzITKflWiS9aSZZo7HpyUITTLBdJg5\n",
       "V82bOhDGrPyO98Ay0+zDG9ojshgXr5sfbkqr4BdiOKPKf9JY8H9N3FUZ3yhZDa1wdBv4bhQ5d5Bo\n",
       "wqRGx64EzaF6EsjZfqUGze8RVy8TkR8w6xRrfNNaQjZvhGJkDUJIlqKhLwtMaybD3Bu/bIwycRLj\n",
       "rKO3eMJLSQVbyU44X4b8rTzcmEdK7G+SI077pbLB3HbFxAOq5jRz/l+6RB/WDtwpgp2mO9rPsIMr\n",
       "1nX6m+36Cbr5Dx181vtWeqbKTFDZ/ogL/SX6anQPMLg7qSDyeqcSV17TkFwuBBT/nDiZ0RxciHU4\n",
       "U80fc4xHlfEYZJ6t4PqUD8pqWfC7f9/1eJUlFj8j/FbKmD4ZNcOB0ZsE4p8QHQVHOtRU/9xcaobl\n",
       "mLfNKmrFR588GNxx1NTVcBfzYFdxtEdb81i9kRPJqokkyp3Thjx2NiDs7Z81i5M9uPkQ0aYQATgk\n",
       "9HdIHCe2nDQCMkd2Pt2CC0kEAoLDw5/BQ/PXDC/5KJ9+tXeqHbAvKOWc1sWxdI8oJDHJ5l2Uen5H\n",
       "28zWDRyX8zzXPoyviI5QlAHAxbpvmyM7pn1+G4uMRbepIlmUNCL2/T6qfPK9RGejy29gAAgOsPrI\n",
       "VdVRDR0w75Asx7mw5+LlixvpAqs3UFjbEb3J8L9MBw91BtjMbdpew0VK46rTJamwaumjbkb01LOZ\n",
       "Kb9AN+xQgsgAIQzEsp85cbSbvn+UEfzj5wcvzPaIy1chAU59WDMol/XlSYFCVqFHUssaYt2AZN+d\n",
       "LugjTB5uyajN0RgUWzoncie50qnbiqfzXAz7++jgh9wWzeF8Krnc0sq+HoeACvUULIjOPfd3uUvJ\n",
       "sDel81T4KAAALZR6gFbZ9H2vvxHK78wQC8QQU5ftB0hltBFswqcKUIMb/70LeFbRrjmLCBgBb/OW\n",
       "bvDmev9s8VS2CVcDye5h5pWwTL8c4jCqm9lKNIYiaPGNbKc4SJLfD8T3pnJuSd4NWtm3lcLTwYUW\n",
       "mQ3nnmPJVWxGGq7MhBIkOJLjNJATfFjov/L4EVes5C0ZOVDbbuEJg7HChgduaHQJkU18ZllrArCK\n",
       "Y/gAyjr9YBQUoc4jkAQ8BIFxCEgf2sgJiJxKwtQrzA5Yp4Ry4R1mrITiJN7OhrnU+nVvc/5M0WAA\n",
       "AoDNnoEt3rlNIKUwAAADAH+GWD+M/50Go+JQrdg8pK3NN8uQBU52vRwsOrmz879ZmcyhkhU0pybP\n",
       "68VssU8S+D4jLJx6gfv4GkSchtjQbHqSn8Km4m9n88TgOYgaiMjlsNee/TLH8OoY6aBADDqSXj5P\n",
       "WdoA/vjtIjzdCodYHA3N9J9yUguSvDL+RN0/UcpJRA7VrT3xgbnouOrgz0vbfXCWS6voVu1UXIgD\n",
       "tOOe+h4lUl9a2dhgwmhZ13jLcOVNZ9/ptQgCPgAAAwA44ArwO8ogu6ZMMRHOfIOn6FeyucP29vl/\n",
       "g+/ifgpDYjQeRUW8M1oanXGsFMfeAYTma+Td3iI1Yl/zS0U2xqEj/llLjjHXUEcL2N3uUEAGKLto\n",
       "8DKsLWo3MEkSKnCYtAydAuwmR9pHP05agEjeCx3F3GpasNCnBcGoc1GCGNck7fc6htcenjvyjkCs\n",
       "LD8pzHtTY4KBUY7ok7HfiUNk8edcktfGA2f3TB2m5Ud2zWkzqvPIHFUDuAEadG+XSIKzeqMAAAMA\n",
       "AATHvRhfnlHJbHCkh9dPGhO4SzOJpiHJm86Jfb4Q+o417dy+TEIvMbiDozUjHwjsH9PHemfAJlpz\n",
       "bg+usy8k5fnFeCUujZ20Zyr3kAyHxxBDNQlQ18ZH/g1G0vrZpz9fb4nYQDkEizRUw9zmMQXbloQP\n",
       "z7jj+Zd11POUfG3s4Xqc1NlFOAs0xiqrm2J3d6lJqcXhVf381lIDDxsdIBRC3XkgUX5mKJ9ajO7H\n",
       "QTrNKNjtt+DamFimJIreqNl9b4d+jlhpHdPlfnBL/cLfI1KOpbzl/fk3FHdYc9yDoBaIDseDEgcS\n",
       "QyRYfc1UelmQpT0RcWNNtB3yyI2Yem+8XXi7/eaptIPDdRkkXNg+f3Lcfqzj8vZP896Rt1D1AFTO\n",
       "KDpluY6v/Bt4ouVVGDsX/ss3PoJYFOx3XI4OqOyd5mFTqZmIxyHkbWrVohHtC07MTuzn6KdcSbnx\n",
       "612ZlhdF3zkH//A91boLB8lRShH4PmWrevi3IQ5ErK7Ct9/+zUpKa6nnoYDeWw+dqXiodbDIz72G\n",
       "jA9BEUzFyduKxe2Y8OCaQen8hh+da9BFNb8YBhNPnsvb5xOrVEO3pwrXvDMMv/TzcsMVfXqGh7eS\n",
       "c/NyohCyc1qU8vo9gMDvZflz+jB9cRn4aLYrcr+GVXnkpRU7HNP0LXy51WflieZBwOiRHhBAIdX/\n",
       "g278sNDEi5xi2FgwoHtRjWjQRttB52Z5P4nV0He2oNl4Wgv7EdxSYiFAzrOphnp2f++Tm3HkYUOD\n",
       "pquellvBJQu9eQJLSWC9UB4QIxNkTrKiBqq8bj6CXFygXT8N5PE85Gl3kOf1XvYahXRS50Rk38jn\n",
       "ebYkl9r7Ows4M+QEfQcxN7ysbUOLrGhSSuMFSDeIUqQoCgKXizWr6xKC7lmNsIeKAaMlWFf74bdW\n",
       "+MP0ABXUslS8x0tf7DCVssP153LMgDfm5L6ekEyMk/RajB4Pjcvc5Ikdwj404y0/Aq8Opyf5AVAp\n",
       "6R67AHGeyaxTPc16U0AXkPr1YNgJLiBBfoS0sxSvItOnlfI/Kwzjk5pZbrd2EyalxCLcLzijdnlY\n",
       "VTkrmjntWqawlsNhGGngeaI3n+YwWHwBYs7RgyerURATEog/8RkJ3ffp9kCUsH90bBUTbOFAeVAv\n",
       "yH1bdF63Oijq4WNid+ZcL68a8nJhpWite5fYQAR/1Br0LfX9LZrYDz10d5OurL7O3I1JNM+vhiO5\n",
       "I+rjQ1UlltoWeyEMGvxXylPRVmejlB6w5SbOZa+wQewnGRb5JKu4UtfE+3+9FBJK9p0q98pTkKGi\n",
       "C22obWlCeXkI2Fx/oLxBOBKwSgRACA4RoMaBXitMxUp1oF1qABQKZ5PadopjYxnP0wpsEQqJ1wUf\n",
       "o/Vrsto8Kcm18P3FR/L1s8+vcsYxn9Uo7akSvYpdm+T/+M82QW2pXjkJOL4BiZfqE8YCeUWOTpJK\n",
       "vTUqLZZwGAyGnj02iGRRiF08q6PF1BO66dON6ntbcUD4+57urY+d0sxZjtmywjDa2faIO4Q7hOK0\n",
       "gxwvhuYp/OGU0oNUSnfDp2FDpHb0e0/wz10ToBOrNDJs8jmrfNbNtOV+4EwqBYNMiTQuetDk4uAh\n",
       "ein8SjsgC65R2ZSLdAOEQWT7pRCxVOFPshx+mwqcdYN/7dRu9OVRF3y2akinQjJMnpN2KHRwPSa9\n",
       "yRyq9X9S9iBfsJSMdL0Dt5+l6+YV/FxvXXGLKuGv/IT1h9YsVxZw5/3xbjHqL0ek1+owlBtJAJJj\n",
       "RgRbIYesom+c13ifFyF9nAd0E1WMme2f+hByyoU+vSpY2tVa7rtNJBzuTDO4GFNhVjplk5Y57y4i\n",
       "AIgAAAMAAGzBAAAFAEGaJGxBX/7WpVAAnCWDISknagATmxtAH/5/zn6dRafw+0og6wvOWWaJDSfy\n",
       "BsQWsTuPv1asbbgU/QTPRT9USSJm1AUIVHkrR7QFy92GlyYe8e2hHTzzD/w6aN68z3tucRIR8zEb\n",
       "lPpcGovOCTsXbUGta12WsnZIFjKaGdwMq/GDX//Fu3ThH7ZrSE8cfFTAdJlAdVQr6AKe7zXI7GtB\n",
       "wWuj7nsSNttWrSoKDAVxAp/6pHWqQiGLycpQtTn+0w7MQIu7iEVWjyk0n3rBMvL47MpQfG6uI4zX\n",
       "PS3iuaWigzUoVBydvbVIFxxUDSKtYDNbDKle0ftSyVczl0DNwRfwEs5ep3a0Ky1ZnGwqEcjXOyqn\n",
       "zZ5++8/c8+moLJ+B0fbaCSbNiXgO/glDS3iHRj6YDGYwp0n4Rvcjy92Zba3CXuh4EmevIYB0gaDR\n",
       "VxxkSBkalPAthEvj9qJc4+bTQkc42B25LwDmUWbV8MJDGvdNxnWwSv2xtoYAfekfe/mNzvWvYjnz\n",
       "HCk3YDVZgovrKB3bJGi6l1+IHMVyDtmGXCfQKIOPQLJFnt6Qjq7RDF47pcYo6C4AxSzDlzt4XC1K\n",
       "lYGryqfeKm7TVmTx8FzkcwAQuprNzqApEsTzji6iLAVPnkJavT2NRpv6Gy7SID/37RTKemoUZHL2\n",
       "cPlmRr1F0r1tTdpxfRB+6l6ZFETn2oSwk2swZFpfMheN71KlxTWI41H4gUgnEB7y5OgmT8ak7Yr/\n",
       "pwgs4gYp4Zdx7+anQXSev86hxo65ZfFnkfVKqi3KGfDD+gdkc+lSHcD7pGTTgD9ZiDaJBiAaoXGE\n",
       "CO3dYivpiNB7TqXF3RzToLjoOQz3cYCT1sFnxTGeFBAeSAP+XClXKSsCKEARewqWAeUK94XBdcA3\n",
       "lNhdHwZyeXImxzTc6tznP2XjXtS6qPb07f4s93MwHP920zg95VVHAnQ7K5vuZgl4FKs4SGUz8l83\n",
       "EdH80epj2z9MUdUrW4IFeBcuZOPqmBozXP9Zd96KCQEYWQywxHyf/3WHadtnKUuOt/eLrwE+685T\n",
       "UkxpyTGC9GscCReSV07IP99T8r+0B+7+46ZE3Ttbm/plOvme6coqnlT21fapcU/14rmDNM3oIZLg\n",
       "u5s0Qbjsrp4kGAuEQe85Keab+eGyE/43sioKwCuWExyDqoB08VJKM/bvKTy+KhCA90kDhnSV7r6v\n",
       "OzjDxoqdRmKYgpXpJg4DQpY+BRyW6QyPEYwm7j703kDZYgBa2vtuDCx8M7Lxh8IMW4NA3SUaBymF\n",
       "57kf/dLWlv7p98NeRsLHTyTvt8KY9+b91MdZJhSBbjm9SCKjh+dCDXVofL8pN5NXWUzkhOA86mJ+\n",
       "MTPNwJKVZcdNClJya+5GwC/0ZnvOaxeO+qLmWPFUR075rzpuUtWlIg/RUYoEwSxug9SBg4N6O2ne\n",
       "slT3+/N05qOvtDp5jCKbHH5TOCkeUr4rq+re8jnlKy6wHdXSc7YXdlf53ZgohFazwX2BI98u0pn2\n",
       "UersU0S55FpyuejNaQ6uAqad4eLdEoPc/BbCCaDaAEXUCNOKsQwrC/ifoosM38tNRkuydyx3gV6H\n",
       "U5VYPiHs/xsK0RMtWwXD2l32LmP8CRjhPLbKN8bpBLu4YftDtqyUiYbliX5lpy8NnThj71zeWH/g\n",
       "SDe9yPMC0h3vMx645toYFMhDekYXqhTjfqw9LkImOQC56tEOFr5gAAAEXkGeQniC3wAAQ2q+ABtW\n",
       "+4lL3/SLZsKr6ga0089Ya4Cmo3hoOiOFYWIyfIT1wSfGTS8p8c7bMoO10rr3r3BEI5wVJ7WWiypD\n",
       "6c2PyjuTg7biE+YbX9Ls7Md5c6cscPxUsANfwp7cnYvDun/4H5yiXuu9+xzMY90rUTeEYHIE06rZ\n",
       "CtUL03vtT58zjPOfJEc1kXhCryscJ4AL1WmmgDkcrh3PlllB/DDxy8N9vC1R57z+o1STmO1QTVx0\n",
       "oPeGaGMqiTwPdfY/f4Iqh7xkreRLRFg6VH0pBSPHIbpwOpU16kmq+ZJV0Ne7g4pTx7awJNYLQlXi\n",
       "H3dOYEvxthhow8n054GQt0gDSmjZMv8hEjYra2limgYCTKzwOuL5QVcRAu0TUaWodnvsUmyoaYYz\n",
       "n13zY4yPLVqxxPoAcbr+qicex2JFpqTWkdAOLGZ/5lus2Ye6g7Z0UgcZaE15c8CusZlEiYyz4DgH\n",
       "Fgc1/uQXaw3LPMjTAUgdZV38p0/vJ/3awN+XXyXHUq1NGapMOqHYUUrl0CAcdrj7C+Dvg9yImOdB\n",
       "fqo/AFTJ9xshHntxzgGgZw/0WwL++jzwdzQcNm4X2KsyKHzxV2w4bchewpKRCsRcWP7kDCfvs2fR\n",
       "2UQ4+1bNYZsCNHSk+mt1z0w9iKMxSUAyL+iCC8piuhv5fORbgwNDVDuHleXFcIw4ATLt+laOyLaR\n",
       "1E+pXJpRm+9n+M6Tlvx3C2/t5cYL9OjvEJ7XsE1GA03+cu1AnVTMwDzY+5Vm/sHuga+pWvhfX0fy\n",
       "u+SWT1ZZUj363M0hzTYXeisrab6S9nFQWdDV7igOlVl7v3M/vlqRngddRkao4wKUs/p1uo739hCn\n",
       "pPpz9faevL5qZEd5JMh7W90HNIuVnceZd036Ht4dWtbH/391u66YSU+rfwLpR2WnnZPd9uQ0t+Td\n",
       "jQYwdbZAsJ6xyWKtU61AQgFdLj/yehs1+9j14CNqLNSYaGxbBZWX2cB2ifB0T1znxaokyCX6yD7z\n",
       "Dq7uOGHM4gLbRr6GIG5vi/+7rmm54c926n+n+E4PHKrYjSffhr/duSRsAFk+CsAkL9Yvdks+vp7h\n",
       "P6WL5ri3W4uxHTsIb6oKtuMXd83ELPA54SGcr26AVBAzJErhYWKezJMMsfO+0xMIuoOEb45x2Qab\n",
       "XLf0h2aBB9A+a9+oGVMgNRHeG05AFQwkFqOVmLvDNRrjDTQnyB8kZnj5/5TrsWCd4F/ei0GiKbKt\n",
       "eU0mLnAe0FqMVdsVgcaIxKNBqYVNaAcDVq6XSJHquzd23Q4d8DkIY748MB1hz+W0SedBFjCzy1y9\n",
       "0/Y3yzmYCeQCK9Cl4tyUAvazkQiSqH2ilJIXQ4tGFyZsP3ILYsQyd5BBriGdLYWPUE9mztXB/gUz\n",
       "Wk2uurB4vc0pNqptLi6+6I1ADysf6JWxl7LiS3Ih4hUSX+wpwWEG7TBYG8czwmmG1jGUROvYYUzK\n",
       "cd91RPGOmflR99Mx893oNL1GDH6RAAAEtQGeYXRBXwAAaDD7auoKtQAIdY0vn8/ziH+0vHC1pen0\n",
       "A3KUp1pOCs8hD+VfshotSepoMf1bD+tNe3ltAhPE8V5eTMsCnAvDtw2F3Yv0eKK7EABbqU45IzM7\n",
       "zhzG1GKl4YtIQ8FO7+3G+vS+cNMYafrz1xBHiHB0/ssKf0lOkgcwX8Q5u8DRcqaldGP1R+sojihg\n",
       "qErZ1QOWC20g0iFRdCyQptxwOSdF1oLPNQmVTaPJt3/O3a9ICb/1UtDZGDPwLhDG3waoo4gqSUAW\n",
       "AgkDkuI4+i2dFLRH0PhdEVa1g5qtmnUTLOcN87vXpDDA3qsFC4IIMK1aaZTFyviR8dRLpVivFvOz\n",
       "Qnon2Ar2f26OprlfAC/ytdg46oVttyYdhodDNRB+A0W8hkKjX1r16SCveAp3u0ivyuRMIE8IVaUs\n",
       "rTjw+WziDqxoSkPa6Qp6zoFCexeW9xSTL4bxwcXexp29jTGIGKtTZlPtO9FbsUODvqIDcC+nkpZP\n",
       "7C4TLna+Vgex+pRBzk3ceAkaL7CGTYDKoYXjMGDJD+9lZHQTI4vXuntZc+In/HitJ/WUhtssahVl\n",
       "Ww6lP6tM75xPbxAyfZ8HwnZxiIPFEuK6D+cKWIbs0Vzn1+eIHeo2EC7WcEMAsfsBhQbuoWHDU6wk\n",
       "MnyI2TGF93VXO8m48YoU6SOJMOMKkLOrkFkxF6o69fjuWpA/Fwy9ftNI4quuH8Vc2anHMgdS1fo3\n",
       "25ztaaSZv/Mq9+KSe9ffQ3ZqA3El6eD4si4sS7VTRY2ZRUFsFKTAEGzn6CWMOy1CS2eP5rFTQlAm\n",
       "kXJlApA724UIyrTDqEqJd4bU5ObdvXeiKrwBIuc7mpN9phmODVGI1pWxccJlDkEDxKCIutBqqT1W\n",
       "8xc+bP1VJCVr5VpAMDzb0tTKphRaSluVEXlV3hulXvrrx184MOcmVqOtcNHjK+ZDXbiivvQEf48b\n",
       "bij01vPhTVGT71Jo1IbL8bOjyUwoH1jKL7JjCIcQKJiOmwYNFUPlHxpFaQT1RwVi2/ZeA1XTHth+\n",
       "mbJ0qiLU2r7x9ZR7ofptkgDiAuyMyXKhn0So7gLECRtdnJarRb+8CSrgYJiQOAdmNcCCQs0oWbAs\n",
       "bhu+l2k8ytoOA99Wc4vWZvrV4wcOpFh8IotPDdgbzBCTWVrKS1j5im0f9BV9iQwh7t6gjkvrY+Iy\n",
       "LkxIlWSxZ+CP897+5aftrnHVgtJcay495Z3ppdEEa1N1n0C/dhaOvvfpJOok0jP8txkHkUe5yAba\n",
       "FfRDeo8Db9bIlrD3lyX9JJQ2GP8UCPdTWNF8/R01pybBwJRy7jJIcxnP03VBwKoPUQgQZaLSBWkH\n",
       "YmCLslufC/2IToBIjz2N2hLKjbjKrEkdzUKz8qZY3m0sr9McfYDIv7QUk0r5vGCNZ0DOsawjgF/M\n",
       "4SGICSBcl3WsSiBg2dkr9mIgL/F5J7WQaT1+SgNSfWXNtLAOvccYwHQqJAfTXES9ZofBwEv+fJ39\n",
       "WAopShRTDBg62Dl/Qw1bZeGKztiBh7//78KyBPXYD1BDIV4snWaTL6XSAJf8FPNUef34eBQnDaxL\n",
       "6t11ZPHGr85Ih/+iDk43CTXygbYyPatznMw+0xyxFC0gAAAE6wGeY2pBXwAAaC9YdBijtWROAA6+\n",
       "SLy3/wz7GlW53o3CsFPdmqDFIED0nqNHA2yGvj5wEbPfELBTD8Ir/LvKqUY7oONAA+ymoaFDHpdI\n",
       "v+RB18cfR+E/5y1l/jQQ/QV/Rwawka4fNS0wfzTHxz+G7hk6rrk04rTtnQtHlx27Py+frpD3RuQC\n",
       "mhsoYo+PQ0OQ9RRJ3oTgVHc3uU3AEkZvBC/CaHTax7dLzzfdbeutzPbrepx0K1fN9LqI7sXFXHb0\n",
       "eGhNT9TA/A4MnBqR2sK+9rKCWsKlmaMhBDq4RaAUsbdnHcemzsyVDdLIa1ULEdtrzBvGijiYqfsc\n",
       "ZozU6UC2DsR11kfc33q+ZWMHJtfI+FhRiF3wU7ejLtkt6wZsZxwwo3JNtl0AKw8BRzx6j0hoRzma\n",
       "nuiyDsijBT0968QqzFq6JyOto36i/AzpstnKsh6vq93/HpfVrFVYkIyqy2GHGE0aRdbkOGRGffOv\n",
       "VWcq4MoxgfR75LUbBIuOUrNsyuD738VCOPXl9KeJY5f56qXMQiDqQqJagZjR9tPKjtTj+Erum+Fk\n",
       "4Ky4HSKS7yWONAsHec+VxaDRlNbrsu8Fo7v9XNo9qwhROCQSpZXsdn4DzNqe8erjxLvENeudpjxd\n",
       "mkHmJkcgE1M3C0GgiCxdDk7ci2lO+RAILadV/ICT+4mL8kSM8O6/8jieePJerCvgPFjnaq2GbTwm\n",
       "SezIstvhcb5BogxjaLnuDMlcKG4UapsrYLtvojnoWWJt6j+nt7n9vRx5IKLUGAmww1rwWmknapXo\n",
       "Lus3wpA3mPZnXGS5oEgfTH4f5qE9v+tPpd/8DsNpt7ik9aAtSuV4fnc/dxmll0lvYCrws2ev5q+8\n",
       "0c8Gm6orkwzxGe42SXb9ShSUrPX1R+0sa5nSmvZfL2JpwY40tVv4MdFhDYHelOSPS3CU31M3LqKV\n",
       "SfPhgYezicjn0iCl6P/681bt6DqLK8TJoCYq+c09VUg/LMnyYFMFHmvRG5YC2f9amUmDhWqSIxKS\n",
       "CozLG7wx8VNgeFPTCMcwxy01MHmDo6o+p8yjWgF5AWmYhgP4/qykpIYiIcjYpE0C8CHhje9Niguk\n",
       "klLXKVb5x/87yVppMiiDuqR4bxXdyME0kO9STLSioJaTXvTobrT6PH8CAsDkB0TmhJ1D6qwaFyMg\n",
       "SHhtAvW7WDhphwSYoRyCsmmO8SANfuTVoT/pFRTOQzAEtw8+R59yj5ulsazbim5K6wKvo/fO3KW2\n",
       "NSLGAUayKMKJ4LP/wtZkAs5ve4ROuGdgUdbkn0MWQFnPWZ/hvkUKu2dmvh9jWHoJE5QTeeIR389+\n",
       "5GVyc/n5T/0B/Uzqq13V1BE9K16YbGyKoahyw64/AZ1jLgNyfCWu93RVYwdj/BgHX/JbOPiZL4qD\n",
       "TAjr/AkHqzS+8XBymC39Ppv8C2oHQ+N/brEIkLC4dH+UOSY8Jb4WR/yyhZbXbpwxqCrDeOwi0GUE\n",
       "7Kdi0rT97qCpGGMV0N+MkNRZDiGD7goWqgoPm2w0ccIhYWjouCcyKsNNC2adXXua/S6Av5bw2FJE\n",
       "E3VxEY6P/qDh4sa3KwnKcSVA3itboDTaJS/PVD3BuRVhPdpn5OmVg0UmHgWHnCWhEmMq/wf5luO4\n",
       "mS27aW8/zHD+iRg59C1GkT6xnRU1dSmLTxT5y0tZ5sx4xVp5QrCEuondAAAExEGaZkmoQWiZTBTw\n",
       "X//+2qZYAJwoUIKbjlWIAAvdJip/v+COhTAcafXmSprT70+qZWXIHtSzLzLgdScxJVFhy70yDGCA\n",
       "oC+FhuLXY9jpNFkwgisUK3RX/iBtSi4VVcRtaeMq1j9X6Mb0QlSq0+TFUACDMIk27hQBFWpka2PJ\n",
       "jEjN8yxuMlOH1pbBIahxiv6J4XAb9XOqrH1jEVd5CvZhtI/7m2nwWbkOU8NbSjgvbfqYStR1qFXa\n",
       "w5WgYJ4oL0k44gL6TzIo8f9DBxJXNhFzI8K3A6AuAXp7y0vaqMf53WAzgg6JQcd0EczQkKs/4DKS\n",
       "Vmcz8QS+SHQf4oMhRhHYAR6RjtR3Kzen+6Cn9DRFsBRC6QSnI0gqW+lbxK20sYOcynZW5qbP1q9L\n",
       "p1ZS1tQaAUcVsrZJNlegAlneVp8inLGmpq+oJ4EQpkGb8LP6FoKcP8nlfZzRZlkklFIDeKBn9AK5\n",
       "2EE9ZioZqOdhPO6ACFCWsw7iNGBf68lxGInRYH87lKPrxyHEVLA/AdMcS8VFGKNBrBTc7c9wffAf\n",
       "LGlUTyRACtAvv+HBCN0ZZdE0l9xOVPN16oWzsVZ+3Re3P+0NA0x0qNjqD1a9QMflruPFuRIu0l0F\n",
       "6G3rHZDHyV/unYQrIRwze2GuZa3ucIYesfqBZZl+fzCWdf4wfDO6f/n1M+K6MlXDzKPqrAyPMA1a\n",
       "O2ZchsxJkLH49kL2gaJ6q3wSmLUmbjARJZUx7dsRvexTRcJ9I6DFmNGdD6UjrX6rRhLtcv6KnEoC\n",
       "ni+DpsW0piXlUmmlw1oOvYTS103OeFcn4SdgKxTcvg7tUeH8RF0JTRQ1T92X/xUPHiHMnA710dGv\n",
       "Di/dtqePkWFiZfaOFNyA17XYriodxjMXFETPKC1e/9Db1ZjC6B4OcJydu5rC1fKsC9Ywrp/oeNHO\n",
       "qBknUKaZ5MID5aPQ4gPxYe0b4k6GlkquiTPCc6DmDGeIJ5Kl7Qg8cVYTNpKKUHLBX2BECfZQs23H\n",
       "1GSCv8JR0JzPKHowe/TcPVB//Vr0Z2j+KUjjCle54ElmMM76kmzDychTTXKG6BpS6yXrA72HX3lk\n",
       "utQY7G9WeBHz61RAR2UmcdV16ExEOyXlPTkdSTN4JOideXeMtzXNXb8cCayV7yIHPpU8jhXccpqp\n",
       "bVqL9b1l4rl9kTRWNWrkTjm1gEExqDa0VvsUweHcFxCz9Hkily81SxQUKSAInf6D+RXvVMgEy3nx\n",
       "LhIDUk7wmkCnQQ4u2kGLfZZ+HNaiD4c3Nq5rGvYhaO6vSGvLLGfzN2aiEP5Sq6IkBFY4Z1g9gQRU\n",
       "J+vw9DCjdhVfJPSa8fJKXt/rRbx7qHOh5u/ndZRIpR1beLzUNmfOf8fKzaA03n3XqwwtV7eihcnK\n",
       "1u3C+Ta88eV5KH3YPmIilGNgGXu+SSMhwTfEbjLlRA9IsxNgvQytqRrG6jufZuyl3dMBfyyLt7lz\n",
       "fvKrQd1l6YeZH3uQnN9dfwSBxq5dL0zKxiZ+s4L/wiSm7xo1ohQaC3Z5bY5pllvnFp+pvUuom24T\n",
       "u6I0b8CR1wVEZoXeldeURa/ZnwHuuzTL2n9+IMXJ0cILwjNG2VTFEc02DyrmgpyoawCeZqOgb7lY\n",
       "SrDZlun74fqAYoZlAAAEagGehWpBXwAAaX2QAX2ptnx3c1AoHluGRuAgEOO1pLB/58BNxza3Pyqd\n",
       "NMwo8d6VaQXyF3l70JAJ+Je6ynYsZy0HDgvPx9zIb2UtrnXhj91o5haVsvRCXFoQmVp2lDm/xANi\n",
       "TlcIUb9dAnQBSI4SME/xO1YWX6AfKD6tE+PbXxFn5/jVOA9Kd4IBEyiZKJjlXq+E+2tmCnrjAIDo\n",
       "r1MRgkRBa01TK2ICR5/xVpA4NmEfk0LPG5tMwSr8Ioe+/RVKgcdbu9I49FYpEXnoSWUMYSEaGU/X\n",
       "aGBPzIBPf7YZ/ZYvPvy/3a58hIe/nTdYAvX4Ix9rjeF8ivAPt4ZvjQZj+0PvILQ7y+Q0Ws+NEWbf\n",
       "mEenpacc9j9iwEzoe0o0QldGq15LOG5bxgTqls53euXXh7oKhPx/bycCkiDpAa4MIxRLvrZE+eid\n",
       "IYha0URCCB3duQz6TnhsG0GFGu6iPkkVldde/zWMxHSy1BTDyWLZayxmHx0vIU5MQL0RM0rPbwml\n",
       "0fTUCXP4CdQI/KLfJcg1giancJUqk/3/9VhfbLlUb+srYB3pm1V2PAF7gwmVur8PvKuAAEvlPwb2\n",
       "+REjYTqsXHGqnXkt1af+MLAr/koMCtSq3xxVOM3JXPhhQjyWFEdgqN1DhglRmF8VViTKvZsNN0Fx\n",
       "h10ky4mndlaN0BWzE/VUaov5UohydtqOzQqtnHEkSM8rixwE4fM0d9OIiIlmJu5WkC0IAr1dO1LW\n",
       "1Xs068crIU1Czs//qm/bpuqZMdurB8dcxoNSt8SRsnthOHV2Tq6PQpHTj66zaAXoGKa1wUfZABMj\n",
       "szlsB+VL23uaL7ZQ68oezKnQO5f4dZsybMBMoUWScej8x5Bjlz+aE2Wu2WQf62ActvUkBWWH4TJY\n",
       "Lm7DUBGRww31rMdbGvKOOYIbIHP4llF+czI2jZBJN/R1tpBiW1+xOOKK/oOrQTZmCVV68G624CVX\n",
       "5IBNnMojDF3qAkEfedrIYelN6uyteOW6eJdiGDkrUfkAJDPel70ciO0G+7VvMY3sfaygF0/VMWNq\n",
       "gpeWlpg0LEnLRcSjkHQvKprqmQ991W4bghnWo/x3GBIFrq4h/GJ2xCncMXPMqqHikgOxNSQR+YCx\n",
       "+QB3QlVLMsr7lvs6ypkX51Qu7zf21APVJOTun6rf+v/FyC1eMhJwG2o2HSQ+WT4bVLsyl9fT7MpN\n",
       "a3jW/lfnB7sRjXCBf4GXacb5L1c1z6yj+2DRhTt3Tqy+YqWqwimENluh0nP8Z5b51j7Dkh5O2Nts\n",
       "JyEqxpBGzzhfjsZlGAAnX9O72wnk1XaZiz/CdXpQknXx8Y495RHxOzPM9efw20A1OEsqCUu2KEea\n",
       "lg+oI9XxQmUoCom6ofb4FA43rd8/YEUWJ8OwmrhIu0d1uS0YwHP6x7/EfNDI0n1o6Dl7z7ii7fF1\n",
       "cXRq2MKWbynL31LwqbvNEgUWvikbquMO/lGnl2YcwLEk6ZkofPrglcEA+o/fUy+CRfpXx6qbbhKO\n",
       "BykOikWVAAAE7UGaiUnhClJlMCCv//7WpVAAnCQopq28lGyJAMAHLyReStv9ZWCH2JPCcXzRMEkA\n",
       "0adi4CazQxHl9i36CLZ1YcTyTRDVDlz3U+6++wj9aXy/twNvp1xIH/p1RQjgsxQtSQ7Ks4Hx6NLe\n",
       "WVeIWWyvb4LP+uDd8TgHo9pJ9ADoE/iWBhM44NbMT0Vkanq3iebu/3OOjjFF8Gs//LHbq83S2/PV\n",
       "IHeSiffR4uvrfkHSYVjQkORQYe7R3YWoyWWFaTppMPT75bin8QyLwR90DzUiwsMP330xUL9nqJJ1\n",
       "kcdGo3rE7FNRZNxNAbBWJk35TKxrxjloKLqPhXSVIs7A4UKPTRYdTjTBB/9MpXQ53jfop4rICefd\n",
       "R0CFaxhz2cD3+ISCgRXENxaaMSMyxZnkWAKJSjl522SV5G16yDShcD2IsykZltypN+doNbl4kaac\n",
       "FsxkKGDcRytX7CLgICxb3xnxETxaegg9XRNYP2iYtFeawaqFq0fH/h2OLyEcG/EsqJzaz+ZxzGx0\n",
       "xMvCMF3ZcIb6Pd39rn8A7fV7ImG7KBEcivIs1kR55Rl50FCplK6/urYbOZ6USEUSC7a2gXEgh7N0\n",
       "hNvoUaczsLCt7bUAUkEGpUd4VEG8Y43vkgre/WNowhkyHKo5wqpO5xFqqTiNTSIBITKyhEWqvS5b\n",
       "vbA3REVlyFedKWXRwqx/iaYDH/HKugQS6YJ46Xc8Fiq2dmDchI3tAbR7jiMx+CAPqUpquu3dnul4\n",
       "wxyxUXT0B+dvbfPCS/4BSapo4jUx9opUw904VFEum6OBfkXTWpL56ehAK+aAuR+P0AgwUr3djk23\n",
       "LViDUf4Zqi8F0MPn9YgOUwZDZg7VZNCOsa20S4c23ayhSpOT8+/nSQEdiygN92fpd8o3QLfWxTBQ\n",
       "gkIWgA+jABz4j62sbVmN4zj/f3DTGA+tT6WqmGn1J+SOEkbceuHyzeRMn2cF5lVSMbpgi6fyMlR8\n",
       "vGqp3p4neSwqLGk+cj7Ahqivdt+ksLUfK6YoLhC2ljKFgzH3EAB1jtJZJBEbsCPKQ5iuFNrFwx3q\n",
       "iTWf/E86xbduCTlXYAn0bhXre4oZRjfMvhMaYbBrnylhxJW3SigmH4Hs8q9ciRCdvT8b7iUBu5oU\n",
       "dn/RFRn79v6XbirPj4HVVrVZ0jO0rISnZQN+yeYAKmLt0AW9H3kCxVSILpEqyk7Xu5erpzejU65h\n",
       "PkunTJmAqFb9RYTP6opdd7AWIKuheiklv95mg3M/+atTJu2RXTb6JyeirRI8pTL2TjiKCBJb6yv7\n",
       "wfj2XARMti4RU5uvbVMym8RVIDkQh5F2/0VjAaobFaENzKWKXt8GJwkfF6Vcva9HzUrOTHOk8nS8\n",
       "lGKXN7muko5jTd3ZEkM87esOGBTMMg5DbyS2TX/+kGIdc1KjsIRtJnrGuwvOqvb8aUxs0LV2Omlj\n",
       "eexnNAv9+4ZbA4luM9EEIImaflQMr43xFFqY0YnBKWTejgV9fwSj8utos6z+SBkKAA5f/iyN0kaz\n",
       "b0jH0oNWi5hrMgkpwTqbQoZgsE9P/3dmwfn63pTa5tYwku8vU+1EgAQ6DFKTJJ3quukc0uLXivky\n",
       "LdqTeBfZw41xYWH/0rYYmiVl9O+x23UWIqi/G2J+bvaqKdlDzv/nxB+z6ck015uh2MXzO8MnZxJK\n",
       "6SskIev1xm72aOvjNEh4BTUAAASaQZ6nRTRMFf8AAGgu+v1IBj7Pd7Q2gAQ5Kq3Wv/wUqPtmu+0i\n",
       "12MjULGVosmsfkCBCwyuAF8MIGN2yvf9z7+KDiX37VyfT/obYZPPFXsFyai4Bmubr6UhMuLyBE8t\n",
       "tvKILZGwvkwMw8g/d+IwywLI64UqzgJXHU2rbqW7qKou/BSoeY0E9e2PbSwkxC6eQraHZREdwn4n\n",
       "0F+JZSzY5E+PYs9f/ylWiMHWrWv6djs1ghMphCAeZPADZ5gRkXUJ7k+Ukks39oDPXU5RxClfflLC\n",
       "BHCZz7XqjapfpmKJRxBlolbU4lcwGN4/ayzCmHIhDlQi5EQyCufcTCun1M5E3P5gFyhElpQ0DSfe\n",
       "3WRqzGvrw6Welhf6le/aCVD56AFEa5SxELWavpi0D+CpDOh7IUSDRxp+B2SDhpB0liLh7HHAhcOm\n",
       "dzhSIjIA2+vQdaml/2dLE4f6z6zwMEPNluqF1g6i3SKIgRSwZiNmCO1GxC6qUSIF7YOxoINkGX4+\n",
       "qyj9rwh/bS6WUMlo79c7iq/Gzyltr++9I9b0q2NobAxIuzu8O82SdxjBR4PNNZrGQ1pliVcjHgzU\n",
       "NooYpI8JUbN3Y3IUz1KFZaw40v/HuqKq1k+DkRHGExtTf7X1iH6SU+tBrMMXJq/i8NnBFDIhOLVx\n",
       "9CHRCTXYZHoX5diV+vP8VUtdEV1rmE59uGVOOmrkIT7HKnV046Epu4e4FeR4kvqOThyVPiPQ1+y7\n",
       "QyxrQx+GFBLwKVZwkMpZJL5uI6P5o9THtn6Yo6pWtwQK8C5cycfooQCfcSj7SrA3fAWhlpxYuM2Y\n",
       "1um+xnKWE3qi0qFU5TqCn2mFrOAFAXhQEK+Aef1Pg0dVhhvQpQYXWfOtDVg7J/A5OJfQ5bWRRf/4\n",
       "cf4Nb0LICUvu4kxKkkTO9cJGawoBRGf+FfjJdcQuWTCJtvAKUmRILkwUsaGOhw2dx9Ry29VEqfDM\n",
       "Z9ygewDUH/zCPHP7lpBTBhdtZhPRj66cw85/TjE7QsK3NqHk2PLtc2kiikQnEUSIRNJi1C8bxVF5\n",
       "cLulRQRzvz3g/YNw9EJiskH5Qw+6yB/fdEDCid9L8TAvURqjs61Z4JgP/uswO8bLxzkXfJPhNtTZ\n",
       "zLqVahzraQkseBlYZi7ljE78Xu2vwETLYyAL+DwknUi4JG2CwQdSiFtYw5oH0sQWPb3nSAPp1VTg\n",
       "1uECADK8SdTzdbe66BPQ4ApOY+pcaTIXpEdNi6Fn08pIit5b4vBDpuuBMcek2b8SOwjv4jMLHfSd\n",
       "lduPNG4kEJS8akWeOu1DmYdkWLd7PfxIzsG08MdMWputV+bhUhPjBZz4BffsVt3c8S2NgpWwENWr\n",
       "mm76zMTUY/CU5NBvo0xxIG2Q0IUH692HkcfpNZKfj1Yeu7qV7yVSKKAY4IGh3ryc6RSJqkCThu09\n",
       "YnOh/YzdgO1YGOHub5MDQJ9KuO7fbFi4tAPiHz0oylxHSwwz86WakNhNU+J97ENDnhVCI1J9YSas\n",
       "Ng6bFPP9FcqYqmBapRxUFYz9UR8DRZLdr8w6lqJD28/C4UGu2mFH/tgDe5gX0HuTvdQVDrNj2Boh\n",
       "DegAAAS+AZ7IakFfAABoL+v2fbuHvZbYADsXCKu4WF1f3gC3wqMvw4j9lQ7lYRsJSzl8q1z4NETo\n",
       "eYPUy2ya2eXRc4HB2FXNzQTQxcj0vOJXB7aRjARkKSdR9nKOWloF/yHwUnH2PhJkx1cJgAAYtyBH\n",
       "T0YdcJxMHIrC9FuJyMcHX1aZdGD9tgvovIu0UtmqSejHymytkGIRcUsPqGVy9bIWAwAad7uJO/2l\n",
       "QNcCfwuOKQAU5NrTFkHrs/VfypLvJDvlfvjgMVCpIvcKcIu28OR90AY9f43dBvaf8tsyY9SSFvXY\n",
       "tNUdETOoIMb9sB9YnS2i+y/MrHUhp8YzEsP+l3teS582hyiJ7zcESKW9s/hzWYWZmkIpbkfMUwm2\n",
       "6VhcyXGc4+NsSMik3rfygBemS8yncFL6H2MJ6MpSn7fk4qH61Ar70FF5PKxQxYsWrUGOlNC4HQIa\n",
       "yBypTEHka0gVpVilHdewKJ1RBnJetzBMOTm9Sh2Q+eHxt3jc2C0Scy0ngMWsZF3D9OlJmjDFnX/1\n",
       "8WBUYrzRDjfSyRJAnUWj5mqebAoF5o1xU2BfIoVKCd7iJe+dFYRFHovVj6xWYUn4Xfdu7gO2sHA3\n",
       "Hu1KDvKwXZsH/HVqmUtyGFwiZp1CRdRFZyy43IQnga9TVeraADeBKiLcAFECq7L9kpLBT1qouX3K\n",
       "p68fqLmMdDC1ASRmpCfApj0YBNqVwXKt5S0vr5LZW4wP3a7BBqqPlkNUYe2u2ksgEdW+w9XLl1aR\n",
       "B/gUpyPlNIP46pIDhy5uSfuZnztfE00w/lLOzjTZufp8BDJRLMALf0vLUgmNQEpUZ6WlGFFd0t00\n",
       "KP51Sm+6RDYDF74lxPiZHbepq1ErAt9Ce5OBZDA5VediPZ3yKXqpD869TTxC6RsNSAgNtvGVwy2Z\n",
       "AmGhQuFYS1qh3GI4FfjAoOEAwIAggT5k/cNRQ7Kg3+DccPBF8L8wu1w889EXnefKdVgrqkRt4QEP\n",
       "LfOEtQIBgPYMHz2ZEggbjDpL4XPH/rcnePSYa8lqh79YJiuHxG+w3TTRa3TOYmzqKI4sE/5lS76v\n",
       "WU3U5ZFck4AuH5h1oEXHvT/7efCTkCqLUwqf5dzJSNAa7qrff/qHdJfEdmBOWkq0s6M7xXHPb8gS\n",
       "CP+xhk5gTg3Z7vL/Ht0jBZxM0xLC2l72sOdTciIhMe/Cvr+H4IgpQj4Q3gqzEN7qf1O5yeZeVUYQ\n",
       "EkhXzpUeg3xeA9LWBEH+tpfuEpORlooOTdRKgfmBsSBNIXqoNPdja/ZemmCHxqQiwHwAlNZOQIxp\n",
       "ZhWqOY9mPFWXcRPeGDtV8q111tHnai8RKZ/AO2CmlINw8lu8Uwarcycl/Zp/5fEzgOVdbMpyvr2J\n",
       "64WPbOpGjdLaFKxbUL4vzZzZssxIrLyaQ9YaPh7goqHRDRzuX3sR0ECs+LLW/ScZ6HmvEsHOv7vz\n",
       "klV6oCY2jaraV4WoJCLq5MUlvpW9SKdEQiUW/jTwo/jEszSdRxdnaFQSawi02mKgQw3VBAWn9cQd\n",
       "NkhK0Pp34zOUjhjNhTHYfp2N4wcBIXOunKtoHnPqkL4XRpoRH9HoPMCwSXX2XKhkYkoOx3/V3fdh\n",
       "hxDGdc26qgXQkQPBxzVGiXSKJpawAsoAAAOjbW9vdgAAAGxtdmhkAAAAAAAAAAAAAAAAAAAD6AAA\n",
       "JxAAAQAAAQAAAAAAAAAAAAAAAAEAAAAAAAAAAAAAAAAAAAABAAAAAAAAAAAAAAAAAABAAAAAAAAA\n",
       "AAAAAAAAAAAAAAAAAAAAAAAAAAAAAAAAAgAAAs10cmFrAAAAXHRraGQAAAADAAAAAAAAAAAAAAAB\n",
       "AAAAAAAAJxAAAAAAAAAAAAAAAAAAAAAAAAEAAAAAAAAAAAAAAAAAAAABAAAAAAAAAAAAAAAAAABA\n",
       "AAAAAkAAAAJAAAAAAAAkZWR0cwAAABxlbHN0AAAAAAAAAAEAACcQAACAAAABAAAAAAJFbWRpYQAA\n",
       "ACBtZGhkAAAAAAAAAAAAAAAAAABAAAACgABVxAAAAAAALWhkbHIAAAAAAAAAAHZpZGUAAAAAAAAA\n",
       "AAAAAABWaWRlb0hhbmRsZXIAAAAB8G1pbmYAAAAUdm1oZAAAAAEAAAAAAAAAAAAAACRkaW5mAAAA\n",
       "HGRyZWYAAAAAAAAAAQAAAAx1cmwgAAAAAQAAAbBzdGJsAAAAuHN0c2QAAAAAAAAAAQAAAKhhdmMx\n",
       "AAAAAAAAAAEAAAAAAAAAAAAAAAAAAAAAAkACQABIAAAASAAAAAAAAAABAAAAAAAAAAAAAAAAAAAA\n",
       "AAAAAAAAAAAAAAAAAAAAAAAAGP//AAAANmF2Y0MBZAAW/+EAGWdkABas2UCQEmhAAAADAEAAAAMA\n",
       "g8WLZYABAAZo6+PLIsD9+PgAAAAAHHV1aWRraEDyXyRPxbo5pRvPAyPzAAAAAAAAABhzdHRzAAAA\n",
       "AAAAAAEAAAAKAABAAAAAABRzdHNzAAAAAAAAAAEAAAABAAAAWGN0dHMAAAAAAAAACQAAAAEAAIAA\n",
       "AAAAAQABQAAAAAABAACAAAAAAAEAAAAAAAAAAQAAQAAAAAABAADAAAAAAAEAAEAAAAAAAQABAAAA\n",
       "AAACAABAAAAAABxzdHNjAAAAAAAAAAEAAAABAAAACgAAAAEAAAA8c3RzegAAAAAAAAAAAAAACgAA\n",
       "DW4AAAUEAAAEYgAABLkAAATvAAAEyAAABG4AAATxAAAEngAABMIAAAAUc3RjbwAAAAAAAAABAAAA\n",
       "MAAAAGJ1ZHRhAAAAWm1ldGEAAAAAAAAAIWhkbHIAAAAAAAAAAG1kaXJhcHBsAAAAAAAAAAAAAAAA\n",
       "LWlsc3QAAAAlqXRvbwAAAB1kYXRhAAAAAQAAAABMYXZmNTguNDUuMTAw\n",
       "\">\n",
       "  Your browser does not support the video tag.\n",
       "</video>"
      ],
      "text/plain": [
       "<IPython.core.display.HTML object>"
      ]
     },
     "execution_count": 6,
     "metadata": {},
     "output_type": "execute_result"
    }
   ],
   "source": [
    "HTML(simulacion.to_html5_video())"
   ]
  },
  {
   "cell_type": "markdown",
   "metadata": {},
   "source": [
    "<div class=\"alert alert-info\">\n",
    "    \n",
    "**Ejercicio** Crea una clase que herede de `Agente` de tal manera que sea un _borracho_, i.e. que se mueva siguiendo una **caminata aleatoria**. Luego ejecuta la simulación con 10 borrachos.\n",
    "\n",
    "</div>"
   ]
  },
  {
   "cell_type": "code",
   "execution_count": 7,
   "metadata": {},
   "outputs": [],
   "source": [
    "class Borracho(Agente):\n",
    "    \n",
    "    def __init__(self, delta=0.1):\n",
    "        Agente.__init__(self, tipo=\"borracho\")\n",
    "        self.delta = delta # Tamaño de paso en x y y\n",
    "        self.posibles_direcciones = (0,1) #  (quieto, avanzar uno)\n",
    "        \n",
    "    def actuar(self, agentes):\n",
    "        self.locacion = self.locacion + self.siguiente_accion*self.delta # moverme\n",
    "        \n",
    "        if (self.locacion >= np.ones(2)-0.01).all():\n",
    "            self.locacion = np.ones(2)-0.01 # Si llegamos al límite superior derecho nos detenemos    \n",
    "        \n",
    "    def decision(self, agentes):\n",
    "        self.siguiente_accion = np.array([random.choice(self.posibles_direcciones), random.choice(self.posibles_direcciones)]) \n",
    "        # Elegir una direccion entre quedarme quieto o moverme hacia adelante\n",
    "        \n",
    "    def actualizar(self, agentes):\n",
    "        self.decision(agentes)\n",
    "        self.actuar(agentes)"
   ]
  },
  {
   "cell_type": "code",
   "execution_count": null,
   "metadata": {},
   "outputs": [],
   "source": [
    "num_borrachos = 10\n",
    "\n",
    "borrachos = [Borracho(delta=0.01) for i in range(num_borrachos)]\n",
    "\n",
    "\n",
    "condesa = Mundo(agentes = borrachos, steps = 250)\n",
    "\n",
    "\n",
    "simulacion = condesa.simular()"
   ]
  },
  {
   "cell_type": "code",
   "execution_count": null,
   "metadata": {},
   "outputs": [],
   "source": [
    "HTML(simulacion.to_html5_video())"
   ]
  },
  {
   "cell_type": "markdown",
   "metadata": {},
   "source": [
    "## Ejemplo: Modelo de segregación racial de Thomas Schelling"
   ]
  },
  {
   "cell_type": "markdown",
   "metadata": {},
   "source": [
    "En 1971, **Thomas Schelling** publicó [_Dynamic Models of Segregation_](http://www.stat.berkeley.edu/~aldous/157/Papers/Schelling_Seg_Models.pdf) en el cual se proponía un modelo muy simple de segregación racial."
   ]
  },
  {
   "cell_type": "markdown",
   "metadata": {},
   "source": [
    "En el modelo de Schelling, el mundo es una rejilla rectangular y cada celda representa una casa. La casa pueden estar ocupadas por dos tipos de \"agentes\", etiquetados como _rojo_ y _azul_, en números aproximadamente iguales. Cerca del 10% de las casas están vacías."
   ]
  },
  {
   "cell_type": "markdown",
   "metadata": {},
   "source": [
    "Para cada instante $t$, un agente puede estar **contento** o **infeliz**, dependiendo de los otros agentes de la vecindad, la vecindad está compuesta por las 8 celdas adyacentes al agente en cuestión. "
   ]
  },
  {
   "cell_type": "markdown",
   "metadata": {},
   "source": [
    "La simulación procede como sigue: Se elige un agente al azar y se verifica su estado para ver si está feliz, si lo está, nada pasa, si no, el agente decide cambiarse a una celda desocupada al azar y se muda."
   ]
  },
  {
   "cell_type": "markdown",
   "metadata": {},
   "source": [
    "Rapidamente un patrón va a aparecer."
   ]
  },
  {
   "cell_type": "markdown",
   "metadata": {},
   "source": [
    "<div class=\"alert alert-info\">\n",
    "**Ejercicio:** ¿Te imaginas que patrón va a aparecer?\n",
    "</div>"
   ]
  },
  {
   "cell_type": "markdown",
   "metadata": {},
   "source": [
    "La implementación que sigue es una versión simplificada del modelo de segregación de Schelling."
   ]
  },
  {
   "cell_type": "code",
   "execution_count": null,
   "metadata": {},
   "outputs": [],
   "source": [
    "class AgenteSchelling(Agente):\n",
    "    \n",
    "    def __init__(self, tipo, homofilia=5, vecinos=7):\n",
    "        Agente.__init__(self, tipo)\n",
    "        self.homofilia = homofilia\n",
    "        self.vecinos = vecinos # Quienes son mis vecinos\n",
    "        self.feliz = False\n",
    "        self.locacion = np.array([random.uniform(0, 1), random.uniform(0, 1)]) # Posición al azar inicial\n",
    "        \n",
    "    def actuar(self, agentes):\n",
    "        self.locacion = np.array([random.uniform(0, 1), random.uniform(0, 1)]) # Brinco a una nueva posición\n",
    "        \n",
    "    def decision(self, agentes):\n",
    "        \"\"\"Verdadero si un número suficiente de vecinos cercanos es del mismo tipo.\"\"\"\n",
    "        distancias = []\n",
    "        # Distancias es una lista de pares (distancia, agente)\n",
    "        for agente in agentes:\n",
    "            if self != agente:\n",
    "                distancia = self.distancia(agente)\n",
    "                distancias.append((distancia, agente))\n",
    "        # Ordenamos del más cercano al más lejano \n",
    "        distancias.sort()\n",
    "        vecinos = [agente for dist, agente in distancias[:self.vecinos]]\n",
    "        # Contamos cuantos vecinos son del mismo tipo \n",
    "        num_mismo_tipo = sum(self.tipo == agente.tipo for agente in vecinos)\n",
    "        \n",
    "        self.feliz = (num_mismo_tipo >= self.homofilia)\n",
    "        \n",
    "        return self.feliz\n",
    "\n",
    "    def actualizar(self, agentes):\n",
    "        \"\"\"Si no está feliz, escoge una posición nueva al azar, sólo se detiene cuando está feliz.\"\"\"\n",
    "        self.decision(agentes)\n",
    "        if not self.feliz:\n",
    "            self.actuar(agentes) # No estaba feliz en la ultima ronda\n",
    "            \n",
    "\n",
    "            "
   ]
  },
  {
   "cell_type": "code",
   "execution_count": null,
   "metadata": {},
   "outputs": [],
   "source": [
    "class MundoSchelling(Mundo):\n",
    "\n",
    "    def init_anim(self):\n",
    "        self.fig = plt.figure(figsize=(self.ancho, self.alto))\n",
    "        self.ax = plt.axes(xlim=(0, 1), ylim=(0, 1))\n",
    "        self.ax.set_axis_bgcolor('azure')\n",
    "        plot_args = {'markersize' : 8, 'alpha' : 0.6}\n",
    "        self.puntos_0, = self.ax.plot([], [], 'o', markerfacecolor='orange', **plot_args)\n",
    "        self.puntos_1, = self.ax.plot([], [], 'o', markerfacecolor='green', **plot_args)\n",
    "    \n",
    "    def clean_screen(self):\n",
    "        self.puntos_0.set_data([], [])\n",
    "        self.puntos_1.set_data([], [])\n",
    "        return \n",
    "    \n",
    "    def dibujar(self,step):\n",
    "   \n",
    "        x_values_0, y_values_0 = [], []\n",
    "        x_values_1, y_values_1 = [], []\n",
    "    \n",
    "        for agente in self.agentes:\n",
    "            x, y = agente.locacion\n",
    "            if agente.tipo == 0:\n",
    "                x_values_0.append(x)\n",
    "                y_values_0.append(y)\n",
    "            else:\n",
    "                x_values_1.append(x)\n",
    "                y_values_1.append(y)\n",
    "\n",
    "                \n",
    "        self.puntos_0.set_data(x_values_0, y_values_0)\n",
    "        self.puntos_1.set_data(x_values_1, y_values_1)\n",
    "        \n",
    "        self.ax.set_title('Paso {}'.format(step))\n",
    "\n",
    "        return "
   ]
  },
  {
   "cell_type": "code",
   "execution_count": null,
   "metadata": {},
   "outputs": [],
   "source": [
    "num_tipo_0 = 200\n",
    "num_tipo_1 = 200\n",
    "\n",
    "agentes = [AgenteSchelling(tipo=0) for i in range(num_tipo_0)]\n",
    "agentes.extend(AgenteSchelling(tipo=1) for i in range(num_tipo_1))\n",
    "\n",
    "\n",
    "schelling_world = MundoSchelling(agentes = agentes, steps = 30)\n",
    "\n",
    "simu_schelling = schelling_world.simular()"
   ]
  },
  {
   "cell_type": "code",
   "execution_count": null,
   "metadata": {},
   "outputs": [],
   "source": [
    "HTML(simu_schelling.to_html5_video())"
   ]
  },
  {
   "cell_type": "markdown",
   "metadata": {},
   "source": [
    "El modelo de Schelling fué uno de los primeros modelos basados en agentes. Desde entonces, el modelado basado en agentes es una herramienta importante en las ciencias sociales y en algunas ciencias naturales."
   ]
  },
  {
   "cell_type": "markdown",
   "metadata": {},
   "source": [
    "<div class=\"alert alert-info\">\n",
    "**Ejercicio** Modifica el código de `MundoSchelling` para que cuentes el número de agentes que se mueven en cada paso.\n",
    "</div>"
   ]
  },
  {
   "cell_type": "markdown",
   "metadata": {},
   "source": [
    "<div class=\"alert alert-info\">\n",
    "**Ejercicio** Modifica el código de `MundoSchelling` para agregar un método llamado `estadistica` que muestre en una gráfica el número de agentes que se mueven en función de los `steps`.\n",
    "</div>"
   ]
  },
  {
   "cell_type": "markdown",
   "metadata": {},
   "source": [
    "<div class=\"alert alert-info\">\n",
    "**Ejercicio** ¿Cómo modelas que se vuelvan más tolerantes? ¿Qué esperas que pase? ¿Qué pasa si los agentes se vuelven más tolerantes con el método `estadistica`?\n",
    "</div>"
   ]
  },
  {
   "cell_type": "markdown",
   "metadata": {},
   "source": [
    "<div class=\"alert alert-info\">\n",
    "**Ejercicio** ¿Cómo modelas que el agente sólo esté feliz en ambientes mixtos, i.e. si se vuelve infeliz si muchos vecinos son como él? \n",
    "</div>"
   ]
  },
  {
   "cell_type": "code",
   "execution_count": null,
   "metadata": {},
   "outputs": [],
   "source": []
  }
 ],
 "metadata": {
  "kernelspec": {
   "display_name": "Python 3",
   "language": "python",
   "name": "python3"
  },
  "language_info": {
   "codemirror_mode": {
    "name": "ipython",
    "version": 3
   },
   "file_extension": ".py",
   "mimetype": "text/x-python",
   "name": "python",
   "nbconvert_exporter": "python",
   "pygments_lexer": "ipython3",
   "version": "3.7.6"
  }
 },
 "nbformat": 4,
 "nbformat_minor": 1
}
